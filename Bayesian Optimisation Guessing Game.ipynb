{
 "cells": [
  {
   "cell_type": "markdown",
   "metadata": {},
   "source": [
    "# Bayesian Optimisation Xmas\n",
    "This notebook implements a xmas-themed guessing game to try and find the maximum of a black-box function.\n",
    "It is part of this [repository](https://github.com/JohnReid/BayesOptJournalClub)."
   ]
  },
  {
   "cell_type": "code",
   "execution_count": 67,
   "metadata": {},
   "outputs": [],
   "source": [
    "from dataclasses import astuple\n",
    "import ipywidgets as widgets\n",
    "from IPython.display import display\n",
    "import numpy as np\n",
    "from scipy.interpolate import interp1d\n",
    "import pandas as pd\n",
    "import altair as alt\n",
    "import tensorflow as tf\n",
    "\n",
    "# For Gaussian processes\n",
    "import gpflow\n",
    "from gpflow.utilities import print_summary, set_trainable\n",
    "\n",
    "# For Bayesian optimisation\n",
    "import trieste\n",
    "from trieste.bayesian_optimizer import OptimizationResult\n",
    "from trieste.utils.objectives import mk_observer\n",
    "from trieste.acquisition.rule import OBJECTIVE, EfficientGlobalOptimization\n",
    "from trieste.acquisition import NegativeLowerConfidenceBound, ExpectedImprovement\n",
    "\n",
    "# Supporting code in the repository\n",
    "import blackbox as bb\n",
    "from importlib import reload\n",
    "reload(bb);"
   ]
  },
  {
   "cell_type": "markdown",
   "metadata": {},
   "source": [
    "## Santa's snowy scenario\n",
    "It is Xmas Eve and Santa has to deliver his presents to all the children around the world.\n",
    "Unfortunately it has been a really cold winter and some houses are completely blanketed by snow.\n",
    "\n",
    "Santa does have a shovel and could dig down to the chimney of each house to deliver his presents if only he knew where the chimneys were.\n",
    "Santa does know that the chimney is the highest point in the skyline of each house.\n",
    "\n",
    "Fortunately Rudolph can help.\n",
    "He can measure the depth of the snow at any point with his antlers but unfortunately this takes some time and the measurements are noisy.\n",
    "Furthermore Rudolph demands a boiled sweet (his favourite treat) every time he measures the snow depth and Santa only has so many sweets.\n",
    "\n",
    "Santa has one night to deliver his presents, how can he find the chimneys in time?\n",
    "\n",
    "### Skyline\n",
    "Let's see what a typical house's skyline looks like.\n",
    "`x` represents the location and `depth` measures the depth below the snowline."
   ]
  },
  {
   "cell_type": "code",
   "execution_count": 88,
   "metadata": {},
   "outputs": [
    {
     "data": {
      "text/html": [
       "\n",
       "<div id=\"altair-viz-9ae77b90a83144028c2a3b78c62fb471\"></div>\n",
       "<script type=\"text/javascript\">\n",
       "  (function(spec, embedOpt){\n",
       "    let outputDiv = document.currentScript.previousElementSibling;\n",
       "    if (outputDiv.id !== \"altair-viz-9ae77b90a83144028c2a3b78c62fb471\") {\n",
       "      outputDiv = document.getElementById(\"altair-viz-9ae77b90a83144028c2a3b78c62fb471\");\n",
       "    }\n",
       "    const paths = {\n",
       "      \"vega\": \"https://cdn.jsdelivr.net/npm//vega@5?noext\",\n",
       "      \"vega-lib\": \"https://cdn.jsdelivr.net/npm//vega-lib?noext\",\n",
       "      \"vega-lite\": \"https://cdn.jsdelivr.net/npm//vega-lite@4.8.1?noext\",\n",
       "      \"vega-embed\": \"https://cdn.jsdelivr.net/npm//vega-embed@6?noext\",\n",
       "    };\n",
       "\n",
       "    function loadScript(lib) {\n",
       "      return new Promise(function(resolve, reject) {\n",
       "        var s = document.createElement('script');\n",
       "        s.src = paths[lib];\n",
       "        s.async = true;\n",
       "        s.onload = () => resolve(paths[lib]);\n",
       "        s.onerror = () => reject(`Error loading script: ${paths[lib]}`);\n",
       "        document.getElementsByTagName(\"head\")[0].appendChild(s);\n",
       "      });\n",
       "    }\n",
       "\n",
       "    function showError(err) {\n",
       "      outputDiv.innerHTML = `<div class=\"error\" style=\"color:red;\">${err}</div>`;\n",
       "      throw err;\n",
       "    }\n",
       "\n",
       "    function displayChart(vegaEmbed) {\n",
       "      vegaEmbed(outputDiv, spec, embedOpt)\n",
       "        .catch(err => showError(`Javascript Error: ${err.message}<br>This usually means there's a typo in your chart specification. See the javascript console for the full traceback.`));\n",
       "    }\n",
       "\n",
       "    if(typeof define === \"function\" && define.amd) {\n",
       "      requirejs.config({paths});\n",
       "      require([\"vega-embed\"], displayChart, err => showError(`Error loading script: ${err.message}`));\n",
       "    } else if (typeof vegaEmbed === \"function\") {\n",
       "      displayChart(vegaEmbed);\n",
       "    } else {\n",
       "      loadScript(\"vega\")\n",
       "        .then(() => loadScript(\"vega-lite\"))\n",
       "        .then(() => loadScript(\"vega-embed\"))\n",
       "        .catch(showError)\n",
       "        .then(() => displayChart(vegaEmbed));\n",
       "    }\n",
       "  })({\"config\": {\"view\": {\"continuousWidth\": 400, \"continuousHeight\": 300}}, \"data\": {\"name\": \"data-68d2ae97b5c9bd92c8a06095fbb0581c\"}, \"mark\": \"line\", \"encoding\": {\"x\": {\"type\": \"quantitative\", \"field\": \"x\"}, \"y\": {\"type\": \"quantitative\", \"field\": \"depth\"}}, \"height\": 300, \"width\": 800, \"$schema\": \"https://vega.github.io/schema/vega-lite/v4.8.1.json\", \"datasets\": {\"data-68d2ae97b5c9bd92c8a06095fbb0581c\": [{\"x\": -1.0, \"depth\": -0.5890729795590219}, {\"x\": -0.9797979797979798, \"depth\": -0.586970934727369}, {\"x\": -0.9595959595959596, \"depth\": -0.5848746184550662}, {\"x\": -0.9393939393939394, \"depth\": -0.5827767082059581}, {\"x\": -0.9191919191919192, \"depth\": -0.5806731831081657}, {\"x\": -0.898989898989899, \"depth\": -0.5785642788428274}, {\"x\": -0.8787878787878788, \"depth\": -0.5764392791284583}, {\"x\": -0.8585858585858586, \"depth\": -0.5742974021047251}, {\"x\": -0.8383838383838383, \"depth\": -0.5721317542695807}, {\"x\": -0.8181818181818181, \"depth\": -0.5699406485716352}, {\"x\": -0.797979797979798, \"depth\": -0.567698512232407}, {\"x\": -0.7777777777777778, \"depth\": -0.5654063921913306}, {\"x\": -0.7575757575757576, \"depth\": -0.16304825017312852}, {\"x\": -0.7373737373737373, \"depth\": -0.1606481606333492}, {\"x\": -0.7171717171717171, \"depth\": -0.1582140734477957}, {\"x\": -0.696969696969697, \"depth\": -0.15573435590091678}, {\"x\": -0.6767676767676767, \"depth\": -0.1531909360448529}, {\"x\": -0.6565656565656566, \"depth\": -0.15059214583395852}, {\"x\": -0.6363636363636364, \"depth\": -0.14794453511909267}, {\"x\": -0.6161616161616161, \"depth\": -0.14525454050616093}, {\"x\": -0.5959595959595959, \"depth\": -0.1425309554247549}, {\"x\": -0.5757575757575757, \"depth\": -0.139777323007513}, {\"x\": -0.5555555555555556, \"depth\": -0.13698073633110153}, {\"x\": -0.5353535353535352, \"depth\": -0.13411815534280946}, {\"x\": -0.5151515151515151, \"depth\": -0.1311764783284748}, {\"x\": -0.4949494949494949, \"depth\": -0.12815172503664818}, {\"x\": -0.4747474747474747, \"depth\": -0.1250410685836607}, {\"x\": -0.4545454545454545, \"depth\": -0.12185483191119517}, {\"x\": -0.43434343434343425, \"depth\": -0.1186001345105534}, {\"x\": -0.41414141414141414, \"depth\": -0.1152730425021995}, {\"x\": -0.3939393939393939, \"depth\": -0.11187084300360728}, {\"x\": -0.3737373737373737, \"depth\": -0.10839340529310015}, {\"x\": -0.3535353535353535, \"depth\": -0.10483699089241694}, {\"x\": -0.33333333333333326, \"depth\": -0.03122208174877139}, {\"x\": -0.31313131313131304, \"depth\": -0.027553805086367067}, {\"x\": -0.2929292929292928, \"depth\": -0.02383966769442125}, {\"x\": -0.2727272727272727, \"depth\": -0.020083688333223382}, {\"x\": -0.2525252525252525, \"depth\": -0.016281729011490498}, {\"x\": -0.23232323232323226, \"depth\": -0.0824522767020126}, {\"x\": -0.21212121212121204, \"depth\": -0.07860395098310602}, {\"x\": -0.19191919191919182, \"depth\": -0.07473801835250238}, {\"x\": -0.1717171717171716, \"depth\": -0.07083504475857594}, {\"x\": -0.1515151515151515, \"depth\": -0.06689847684159278}, {\"x\": -0.13131313131313127, \"depth\": -0.06292512545020723}, {\"x\": -0.11111111111111105, \"depth\": -0.0589055286351845}, {\"x\": -0.09090909090909083, \"depth\": -0.054854839191001536}, {\"x\": -0.07070707070707061, \"depth\": -0.05078371892819944}, {\"x\": -0.050505050505050386, \"depth\": -0.0467057584139996}, {\"x\": -0.030303030303030276, \"depth\": -0.042622841577314}, {\"x\": -0.010101010101010055, \"depth\": -0.438543140112865}, {\"x\": 0.010101010101010166, \"depth\": -0.43446509158955937}, {\"x\": 0.030303030303030498, \"depth\": -0.4303872456111588}, {\"x\": 0.05050505050505061, \"depth\": -0.42631592584581934}, {\"x\": 0.07070707070707072, \"depth\": -0.42224105170866677}, {\"x\": 0.09090909090909105, \"depth\": -0.41812358916316694}, {\"x\": 0.11111111111111116, \"depth\": -0.4139399883851378}, {\"x\": 0.1313131313131315, \"depth\": -0.40969947144091723}, {\"x\": 0.1515151515151516, \"depth\": -0.4054053632004948}, {\"x\": 0.1717171717171717, \"depth\": -0.401047716649398}, {\"x\": 0.19191919191919204, \"depth\": -0.3966387383079162}, {\"x\": 0.21212121212121215, \"depth\": -0.39220247092414784}, {\"x\": 0.2323232323232325, \"depth\": -0.3877620883892432}, {\"x\": 0.2525252525252526, \"depth\": -0.38332078349502674}, {\"x\": 0.27272727272727293, \"depth\": -0.37888302956172804}, {\"x\": 0.29292929292929304, \"depth\": -0.3744468523132778}, {\"x\": 0.31313131313131315, \"depth\": -0.3699906961545887}, {\"x\": 0.3333333333333335, \"depth\": -0.3654973713657108}, {\"x\": 0.3535353535353536, \"depth\": -0.36097752967601404}, {\"x\": 0.3737373737373739, \"depth\": -0.35642720004350203}, {\"x\": 0.39393939393939403, \"depth\": -0.3518610129526907}, {\"x\": 0.41414141414141437, \"depth\": -0.34728434438006395}, {\"x\": 0.4343434343434345, \"depth\": -0.34269010379961373}, {\"x\": 0.4545454545454546, \"depth\": -0.33808427789104223}, {\"x\": 0.4747474747474749, \"depth\": -0.33349719087798224}, {\"x\": 0.49494949494949503, \"depth\": -0.3289252293248066}, {\"x\": 0.5151515151515154, \"depth\": -0.32435424649517186}, {\"x\": 0.5353535353535355, \"depth\": -0.3197831126683166}, {\"x\": 0.5555555555555556, \"depth\": -0.3152075190518122}, {\"x\": 0.5757575757575759, \"depth\": -0.31065430821574913}, {\"x\": 0.595959595959596, \"depth\": -0.3061505659421011}, {\"x\": 0.6161616161616164, \"depth\": -0.30171133770237857}, {\"x\": 0.6363636363636365, \"depth\": -0.2973315325945214}, {\"x\": 0.6565656565656568, \"depth\": -0.293028687519141}, {\"x\": 0.6767676767676769, \"depth\": -0.288814986753563}, {\"x\": 0.696969696969697, \"depth\": -0.2846933101071436}, {\"x\": 0.7171717171717173, \"depth\": -0.2806543309128944}, {\"x\": 0.7373737373737375, \"depth\": -0.27670854521853494}, {\"x\": 0.7575757575757578, \"depth\": -0.2728413561654275}, {\"x\": 0.7777777777777779, \"depth\": -0.2690586433300013}, {\"x\": 0.7979797979797982, \"depth\": -0.26536871238754633}, {\"x\": 0.8181818181818183, \"depth\": -0.2617751992946833}, {\"x\": 0.8383838383838385, \"depth\": -0.2582752189548734}, {\"x\": 0.8585858585858588, \"depth\": -0.25486073835186507}, {\"x\": 0.8787878787878789, \"depth\": -0.2515267513287269}, {\"x\": 0.8989898989898992, \"depth\": -0.24827290110396016}, {\"x\": 0.9191919191919193, \"depth\": -0.24508942295746938}, {\"x\": 0.9393939393939394, \"depth\": -0.24198877912612082}, {\"x\": 0.9595959595959598, \"depth\": -0.2389829446719871}, {\"x\": 0.9797979797979799, \"depth\": -0.2360765445138573}, {\"x\": 1.0, \"depth\": -0.2332944521852125}]}}, {\"mode\": \"vega-lite\"});\n",
       "</script>"
      ],
      "text/plain": [
       "alt.Chart(...)"
      ]
     },
     "execution_count": 88,
     "metadata": {},
     "output_type": "execute_result"
    }
   ],
   "source": [
    "x, depth = bb.random_submerged_skyline(100)\n",
    "house = pd.DataFrame(dict(x=x, depth=depth))\n",
    "house_chart = (\n",
    "    alt.Chart(house)\n",
    "    .mark_line()\n",
    "    .encode(x='x', y='depth'))\n",
    "house_chart.properties(width=800, height=300)"
   ]
  },
  {
   "cell_type": "markdown",
   "metadata": {},
   "source": [
    "### Grid-search strategy\n",
    "One strategy to find the chimney is to lay down a grid and ask Rudolph to measure the height at each grid point.\n",
    "\n",
    "Let's fix the standard deviation of the Rudolph's measurement error and choose a number of grid points:"
   ]
  },
  {
   "cell_type": "code",
   "execution_count": 89,
   "metadata": {},
   "outputs": [
    {
     "data": {
      "application/vnd.jupyter.widget-view+json": {
       "model_id": "875a6c8be9de4822a2f89fa42860a75a",
       "version_major": 2,
       "version_minor": 0
      },
      "text/plain": [
       "FloatSlider(value=0.04, description='error sd:', max=0.1, min=0.02, step=0.01)"
      ]
     },
     "metadata": {},
     "output_type": "display_data"
    },
    {
     "data": {
      "application/vnd.jupyter.widget-view+json": {
       "model_id": "a6c1c11027744dafbc4396d31d9d3902",
       "version_major": 2,
       "version_minor": 0
      },
      "text/plain": [
       "IntSlider(value=20, description='grid size:', min=3)"
      ]
     },
     "metadata": {},
     "output_type": "display_data"
    }
   ],
   "source": [
    "error_sd = widgets.FloatSlider(\n",
    "    value=.04,\n",
    "    min=0.02,\n",
    "    max=.1,\n",
    "    step=0.01,\n",
    "    description='error sd:',\n",
    "    readout_format='.2f',\n",
    ")\n",
    "npoints = widgets.IntSlider(\n",
    "    value=20,\n",
    "    min=3,\n",
    "    max=100,\n",
    "    step=1,\n",
    "    description='grid size:',\n",
    "    readout_format='d'\n",
    ")\n",
    "display(error_sd)\n",
    "display(npoints)"
   ]
  },
  {
   "cell_type": "markdown",
   "metadata": {},
   "source": [
    "Rudolph makes his measurements."
   ]
  },
  {
   "cell_type": "code",
   "execution_count": 90,
   "metadata": {},
   "outputs": [
    {
     "data": {
      "text/html": [
       "\n",
       "<div id=\"altair-viz-b3398f84c67a43078f7ecdd128376c4a\"></div>\n",
       "<script type=\"text/javascript\">\n",
       "  (function(spec, embedOpt){\n",
       "    let outputDiv = document.currentScript.previousElementSibling;\n",
       "    if (outputDiv.id !== \"altair-viz-b3398f84c67a43078f7ecdd128376c4a\") {\n",
       "      outputDiv = document.getElementById(\"altair-viz-b3398f84c67a43078f7ecdd128376c4a\");\n",
       "    }\n",
       "    const paths = {\n",
       "      \"vega\": \"https://cdn.jsdelivr.net/npm//vega@5?noext\",\n",
       "      \"vega-lib\": \"https://cdn.jsdelivr.net/npm//vega-lib?noext\",\n",
       "      \"vega-lite\": \"https://cdn.jsdelivr.net/npm//vega-lite@4.8.1?noext\",\n",
       "      \"vega-embed\": \"https://cdn.jsdelivr.net/npm//vega-embed@6?noext\",\n",
       "    };\n",
       "\n",
       "    function loadScript(lib) {\n",
       "      return new Promise(function(resolve, reject) {\n",
       "        var s = document.createElement('script');\n",
       "        s.src = paths[lib];\n",
       "        s.async = true;\n",
       "        s.onload = () => resolve(paths[lib]);\n",
       "        s.onerror = () => reject(`Error loading script: ${paths[lib]}`);\n",
       "        document.getElementsByTagName(\"head\")[0].appendChild(s);\n",
       "      });\n",
       "    }\n",
       "\n",
       "    function showError(err) {\n",
       "      outputDiv.innerHTML = `<div class=\"error\" style=\"color:red;\">${err}</div>`;\n",
       "      throw err;\n",
       "    }\n",
       "\n",
       "    function displayChart(vegaEmbed) {\n",
       "      vegaEmbed(outputDiv, spec, embedOpt)\n",
       "        .catch(err => showError(`Javascript Error: ${err.message}<br>This usually means there's a typo in your chart specification. See the javascript console for the full traceback.`));\n",
       "    }\n",
       "\n",
       "    if(typeof define === \"function\" && define.amd) {\n",
       "      requirejs.config({paths});\n",
       "      require([\"vega-embed\"], displayChart, err => showError(`Error loading script: ${err.message}`));\n",
       "    } else if (typeof vegaEmbed === \"function\") {\n",
       "      displayChart(vegaEmbed);\n",
       "    } else {\n",
       "      loadScript(\"vega\")\n",
       "        .then(() => loadScript(\"vega-lite\"))\n",
       "        .then(() => loadScript(\"vega-embed\"))\n",
       "        .catch(showError)\n",
       "        .then(() => displayChart(vegaEmbed));\n",
       "    }\n",
       "  })({\"config\": {\"view\": {\"continuousWidth\": 400, \"continuousHeight\": 300}}, \"layer\": [{\"data\": {\"name\": \"data-b37ee31c0d47c059dc9c797ad347a714\"}, \"mark\": {\"type\": \"point\", \"color\": \"red\"}, \"encoding\": {\"x\": {\"type\": \"quantitative\", \"field\": \"x\"}, \"y\": {\"type\": \"quantitative\", \"field\": \"y\"}}}, {\"data\": {\"name\": \"data-68d2ae97b5c9bd92c8a06095fbb0581c\"}, \"mark\": \"line\", \"encoding\": {\"x\": {\"type\": \"quantitative\", \"field\": \"x\"}, \"y\": {\"type\": \"quantitative\", \"field\": \"depth\"}}}], \"height\": 300, \"width\": 800, \"$schema\": \"https://vega.github.io/schema/vega-lite/v4.8.1.json\", \"datasets\": {\"data-b37ee31c0d47c059dc9c797ad347a714\": [{\"x\": -1.0, \"f\": -0.5890729795590219, \"y\": -0.5190629350479458}, {\"x\": -0.8947368421052632, \"f\": -0.5781169104819075, \"y\": -0.6181821824540141}, {\"x\": -0.7894736842105263, \"f\": -0.5667334090572169, \"y\": -0.6004080248120526}, {\"x\": -0.6842105263157895, \"f\": -0.15412798546550802, \"y\": -0.16454275584904823}, {\"x\": -0.5789473684210527, \"f\": -0.14021210707339332, \"y\": -0.17320152885120763}, {\"x\": -0.4736842105263158, \"f\": -0.12487337191668885, \"y\": -0.1749546160733451}, {\"x\": -0.368421052631579, \"f\": -0.10745750676660458, \"y\": -0.14834064458306478}, {\"x\": -0.26315789473684215, \"f\": -0.018282760233455188, \"y\": -0.025084000614320867}, {\"x\": -0.1578947368421053, \"f\": -0.06814160355221906, \"y\": -0.007616365403842258}, {\"x\": -0.052631578947368474, \"f\": -0.047135017415494355, \"y\": -0.01634807541384613}, {\"x\": 0.05263157894736836, \"f\": -0.4258869917261191, \"y\": -0.33532818548942733}, {\"x\": 0.1578947368421053, \"f\": -0.4040292642896221, \"y\": -0.4388216676162081}, {\"x\": 0.26315789473684204, \"f\": -0.38098512353013275, \"y\": -0.37405796841938876}, {\"x\": 0.36842105263157876, \"f\": -0.3576246552099526, \"y\": -0.3473500476946823}, {\"x\": 0.4736842105263157, \"f\": -0.3337386165102486, \"y\": -0.31343155313843174}, {\"x\": 0.5789473684210527, \"f\": -0.30994319101464685, \"y\": -0.2810704435860283}, {\"x\": 0.6842105263157894, \"f\": -0.2872964743048822, \"y\": -0.35646299144486693}, {\"x\": 0.7894736842105261, \"f\": -0.2669223675212117, \"y\": -0.20788331197732715}, {\"x\": 0.894736842105263, \"f\": -0.2489579222039111, \"y\": -0.24948754800097375}, {\"x\": 1.0, \"f\": -0.2332944521852125, \"y\": -0.25318271821888444}], \"data-68d2ae97b5c9bd92c8a06095fbb0581c\": [{\"x\": -1.0, \"depth\": -0.5890729795590219}, {\"x\": -0.9797979797979798, \"depth\": -0.586970934727369}, {\"x\": -0.9595959595959596, \"depth\": -0.5848746184550662}, {\"x\": -0.9393939393939394, \"depth\": -0.5827767082059581}, {\"x\": -0.9191919191919192, \"depth\": -0.5806731831081657}, {\"x\": -0.898989898989899, \"depth\": -0.5785642788428274}, {\"x\": -0.8787878787878788, \"depth\": -0.5764392791284583}, {\"x\": -0.8585858585858586, \"depth\": -0.5742974021047251}, {\"x\": -0.8383838383838383, \"depth\": -0.5721317542695807}, {\"x\": -0.8181818181818181, \"depth\": -0.5699406485716352}, {\"x\": -0.797979797979798, \"depth\": -0.567698512232407}, {\"x\": -0.7777777777777778, \"depth\": -0.5654063921913306}, {\"x\": -0.7575757575757576, \"depth\": -0.16304825017312852}, {\"x\": -0.7373737373737373, \"depth\": -0.1606481606333492}, {\"x\": -0.7171717171717171, \"depth\": -0.1582140734477957}, {\"x\": -0.696969696969697, \"depth\": -0.15573435590091678}, {\"x\": -0.6767676767676767, \"depth\": -0.1531909360448529}, {\"x\": -0.6565656565656566, \"depth\": -0.15059214583395852}, {\"x\": -0.6363636363636364, \"depth\": -0.14794453511909267}, {\"x\": -0.6161616161616161, \"depth\": -0.14525454050616093}, {\"x\": -0.5959595959595959, \"depth\": -0.1425309554247549}, {\"x\": -0.5757575757575757, \"depth\": -0.139777323007513}, {\"x\": -0.5555555555555556, \"depth\": -0.13698073633110153}, {\"x\": -0.5353535353535352, \"depth\": -0.13411815534280946}, {\"x\": -0.5151515151515151, \"depth\": -0.1311764783284748}, {\"x\": -0.4949494949494949, \"depth\": -0.12815172503664818}, {\"x\": -0.4747474747474747, \"depth\": -0.1250410685836607}, {\"x\": -0.4545454545454545, \"depth\": -0.12185483191119517}, {\"x\": -0.43434343434343425, \"depth\": -0.1186001345105534}, {\"x\": -0.41414141414141414, \"depth\": -0.1152730425021995}, {\"x\": -0.3939393939393939, \"depth\": -0.11187084300360728}, {\"x\": -0.3737373737373737, \"depth\": -0.10839340529310015}, {\"x\": -0.3535353535353535, \"depth\": -0.10483699089241694}, {\"x\": -0.33333333333333326, \"depth\": -0.03122208174877139}, {\"x\": -0.31313131313131304, \"depth\": -0.027553805086367067}, {\"x\": -0.2929292929292928, \"depth\": -0.02383966769442125}, {\"x\": -0.2727272727272727, \"depth\": -0.020083688333223382}, {\"x\": -0.2525252525252525, \"depth\": -0.016281729011490498}, {\"x\": -0.23232323232323226, \"depth\": -0.0824522767020126}, {\"x\": -0.21212121212121204, \"depth\": -0.07860395098310602}, {\"x\": -0.19191919191919182, \"depth\": -0.07473801835250238}, {\"x\": -0.1717171717171716, \"depth\": -0.07083504475857594}, {\"x\": -0.1515151515151515, \"depth\": -0.06689847684159278}, {\"x\": -0.13131313131313127, \"depth\": -0.06292512545020723}, {\"x\": -0.11111111111111105, \"depth\": -0.0589055286351845}, {\"x\": -0.09090909090909083, \"depth\": -0.054854839191001536}, {\"x\": -0.07070707070707061, \"depth\": -0.05078371892819944}, {\"x\": -0.050505050505050386, \"depth\": -0.0467057584139996}, {\"x\": -0.030303030303030276, \"depth\": -0.042622841577314}, {\"x\": -0.010101010101010055, \"depth\": -0.438543140112865}, {\"x\": 0.010101010101010166, \"depth\": -0.43446509158955937}, {\"x\": 0.030303030303030498, \"depth\": -0.4303872456111588}, {\"x\": 0.05050505050505061, \"depth\": -0.42631592584581934}, {\"x\": 0.07070707070707072, \"depth\": -0.42224105170866677}, {\"x\": 0.09090909090909105, \"depth\": -0.41812358916316694}, {\"x\": 0.11111111111111116, \"depth\": -0.4139399883851378}, {\"x\": 0.1313131313131315, \"depth\": -0.40969947144091723}, {\"x\": 0.1515151515151516, \"depth\": -0.4054053632004948}, {\"x\": 0.1717171717171717, \"depth\": -0.401047716649398}, {\"x\": 0.19191919191919204, \"depth\": -0.3966387383079162}, {\"x\": 0.21212121212121215, \"depth\": -0.39220247092414784}, {\"x\": 0.2323232323232325, \"depth\": -0.3877620883892432}, {\"x\": 0.2525252525252526, \"depth\": -0.38332078349502674}, {\"x\": 0.27272727272727293, \"depth\": -0.37888302956172804}, {\"x\": 0.29292929292929304, \"depth\": -0.3744468523132778}, {\"x\": 0.31313131313131315, \"depth\": -0.3699906961545887}, {\"x\": 0.3333333333333335, \"depth\": -0.3654973713657108}, {\"x\": 0.3535353535353536, \"depth\": -0.36097752967601404}, {\"x\": 0.3737373737373739, \"depth\": -0.35642720004350203}, {\"x\": 0.39393939393939403, \"depth\": -0.3518610129526907}, {\"x\": 0.41414141414141437, \"depth\": -0.34728434438006395}, {\"x\": 0.4343434343434345, \"depth\": -0.34269010379961373}, {\"x\": 0.4545454545454546, \"depth\": -0.33808427789104223}, {\"x\": 0.4747474747474749, \"depth\": -0.33349719087798224}, {\"x\": 0.49494949494949503, \"depth\": -0.3289252293248066}, {\"x\": 0.5151515151515154, \"depth\": -0.32435424649517186}, {\"x\": 0.5353535353535355, \"depth\": -0.3197831126683166}, {\"x\": 0.5555555555555556, \"depth\": -0.3152075190518122}, {\"x\": 0.5757575757575759, \"depth\": -0.31065430821574913}, {\"x\": 0.595959595959596, \"depth\": -0.3061505659421011}, {\"x\": 0.6161616161616164, \"depth\": -0.30171133770237857}, {\"x\": 0.6363636363636365, \"depth\": -0.2973315325945214}, {\"x\": 0.6565656565656568, \"depth\": -0.293028687519141}, {\"x\": 0.6767676767676769, \"depth\": -0.288814986753563}, {\"x\": 0.696969696969697, \"depth\": -0.2846933101071436}, {\"x\": 0.7171717171717173, \"depth\": -0.2806543309128944}, {\"x\": 0.7373737373737375, \"depth\": -0.27670854521853494}, {\"x\": 0.7575757575757578, \"depth\": -0.2728413561654275}, {\"x\": 0.7777777777777779, \"depth\": -0.2690586433300013}, {\"x\": 0.7979797979797982, \"depth\": -0.26536871238754633}, {\"x\": 0.8181818181818183, \"depth\": -0.2617751992946833}, {\"x\": 0.8383838383838385, \"depth\": -0.2582752189548734}, {\"x\": 0.8585858585858588, \"depth\": -0.25486073835186507}, {\"x\": 0.8787878787878789, \"depth\": -0.2515267513287269}, {\"x\": 0.8989898989898992, \"depth\": -0.24827290110396016}, {\"x\": 0.9191919191919193, \"depth\": -0.24508942295746938}, {\"x\": 0.9393939393939394, \"depth\": -0.24198877912612082}, {\"x\": 0.9595959595959598, \"depth\": -0.2389829446719871}, {\"x\": 0.9797979797979799, \"depth\": -0.2360765445138573}, {\"x\": 1.0, \"depth\": -0.2332944521852125}]}}, {\"mode\": \"vega-lite\"});\n",
       "</script>"
      ],
      "text/plain": [
       "alt.LayerChart(...)"
      ]
     },
     "execution_count": 90,
     "metadata": {},
     "output_type": "execute_result"
    }
   ],
   "source": [
    "measurements = pd.DataFrame(dict(x=np.linspace(house['x'].min(), house['x'].max(), npoints.value)))\n",
    "f = interp1d(house['x'], house['depth'])\n",
    "measurements['f'] = f(measurements['x'])\n",
    "measurements['y'] = measurements['f'] + bb.rng.normal(0, error_sd.value, size=npoints.value)\n",
    "measurements_chart = (\n",
    "    alt.Chart(measurements)\n",
    "    .mark_point(color='red')\n",
    "    .encode(x='x', y='y'))\n",
    "(measurements_chart + house_chart).properties(width=800, height=300)"
   ]
  },
  {
   "cell_type": "markdown",
   "metadata": {},
   "source": [
    "We can see that there are many wasted measurements in locations where we are reasonably sure the maximum is not located.\n",
    "In addition it is still difficult to be sure where the chimney is.\n",
    "\n",
    "How can we do better?\n",
    "\n",
    "## Bayesian optimisation\n",
    "This is where Bayesian optimisation (BO) comes in.\n",
    "Bayesian optimisation is going to do better than grid (or random) search by choosing where to measure the depth of snow in some sort of *optimal* way.\n",
    "\n",
    "Bayesian optimisation requires:\n",
    "- a *prior on the underlying function* to be optimised (some understanding of houses' skylines and their depths)\n",
    "- a *prior on the measurement error* (some understanding of how good Rudolph is at measuring depth)\n",
    "\n",
    "Using some underlying theory, Bayesian optimisation then iterates around the following loop:\n",
    "- *choose the next measurement location* so as to minimise the total number of measurements required (the acquisition function)\n",
    "- ask the black-box function for a *noisy measurement* at that location\n",
    "- *update its model* of the underlying function and measurement error (computes a posterior given prior and data)\n",
    "\n",
    "Some stopping criterion is used to avoid iterating indefinitely.\n",
    "Bayesian optimisation returns the posterior for the underlying function to use as you see fit.\n",
    "In particular you may wish to obtain a posterior over the location of the maximum of the function.\n",
    "\n",
    "## Optimisation guessing game\n",
    "However, before we try Bayesian optimisation, we will try to optimise a black-box function ourselves.\n",
    "Your task will be to find the maximum of the underlying function using as few function evaluations as possible.\n",
    "\n",
    "Unfortunately we do not have a suitable Bayesian model for house skylines so we will use a Gaussian process prior on functions instead.\n",
    "Some typical functions are shown below to give you an idea what the underlying function might look like."
   ]
  },
  {
   "cell_type": "code",
   "execution_count": 91,
   "metadata": {},
   "outputs": [
    {
     "data": {
      "text/html": [
       "\n",
       "<div id=\"altair-viz-af4b16bf6bf445ad8f6b028934d213d9\"></div>\n",
       "<script type=\"text/javascript\">\n",
       "  (function(spec, embedOpt){\n",
       "    let outputDiv = document.currentScript.previousElementSibling;\n",
       "    if (outputDiv.id !== \"altair-viz-af4b16bf6bf445ad8f6b028934d213d9\") {\n",
       "      outputDiv = document.getElementById(\"altair-viz-af4b16bf6bf445ad8f6b028934d213d9\");\n",
       "    }\n",
       "    const paths = {\n",
       "      \"vega\": \"https://cdn.jsdelivr.net/npm//vega@5?noext\",\n",
       "      \"vega-lib\": \"https://cdn.jsdelivr.net/npm//vega-lib?noext\",\n",
       "      \"vega-lite\": \"https://cdn.jsdelivr.net/npm//vega-lite@4.8.1?noext\",\n",
       "      \"vega-embed\": \"https://cdn.jsdelivr.net/npm//vega-embed@6?noext\",\n",
       "    };\n",
       "\n",
       "    function loadScript(lib) {\n",
       "      return new Promise(function(resolve, reject) {\n",
       "        var s = document.createElement('script');\n",
       "        s.src = paths[lib];\n",
       "        s.async = true;\n",
       "        s.onload = () => resolve(paths[lib]);\n",
       "        s.onerror = () => reject(`Error loading script: ${paths[lib]}`);\n",
       "        document.getElementsByTagName(\"head\")[0].appendChild(s);\n",
       "      });\n",
       "    }\n",
       "\n",
       "    function showError(err) {\n",
       "      outputDiv.innerHTML = `<div class=\"error\" style=\"color:red;\">${err}</div>`;\n",
       "      throw err;\n",
       "    }\n",
       "\n",
       "    function displayChart(vegaEmbed) {\n",
       "      vegaEmbed(outputDiv, spec, embedOpt)\n",
       "        .catch(err => showError(`Javascript Error: ${err.message}<br>This usually means there's a typo in your chart specification. See the javascript console for the full traceback.`));\n",
       "    }\n",
       "\n",
       "    if(typeof define === \"function\" && define.amd) {\n",
       "      requirejs.config({paths});\n",
       "      require([\"vega-embed\"], displayChart, err => showError(`Error loading script: ${err.message}`));\n",
       "    } else if (typeof vegaEmbed === \"function\") {\n",
       "      displayChart(vegaEmbed);\n",
       "    } else {\n",
       "      loadScript(\"vega\")\n",
       "        .then(() => loadScript(\"vega-lite\"))\n",
       "        .then(() => loadScript(\"vega-embed\"))\n",
       "        .catch(showError)\n",
       "        .then(() => displayChart(vegaEmbed));\n",
       "    }\n",
       "  })({\"config\": {\"view\": {\"continuousWidth\": 400, \"continuousHeight\": 300}}, \"data\": {\"name\": \"data-5360b57196cb54f87c142bd95d2fdd2c\"}, \"mark\": \"line\", \"encoding\": {\"color\": {\"type\": \"nominal\", \"field\": \"sample\"}, \"x\": {\"type\": \"quantitative\", \"field\": \"x\"}, \"y\": {\"type\": \"quantitative\", \"field\": \"f\"}}, \"height\": 300, \"width\": 800, \"$schema\": \"https://vega.github.io/schema/vega-lite/v4.8.1.json\", \"datasets\": {\"data-5360b57196cb54f87c142bd95d2fdd2c\": [{\"x\": -1.0, \"f\": -0.17310555261070631, \"sample\": 0}, {\"x\": -0.9797979797979798, \"f\": -0.2502302642810089, \"sample\": 0}, {\"x\": -0.9595959595959596, \"f\": -0.3132743120654202, \"sample\": 0}, {\"x\": -0.9393939393939394, \"f\": -0.36469275113682054, \"sample\": 0}, {\"x\": -0.9191919191919192, \"f\": -0.3983190743031641, \"sample\": 0}, {\"x\": -0.898989898989899, \"f\": -0.4125386762499416, \"sample\": 0}, {\"x\": -0.8787878787878788, \"f\": -0.4138256355046037, \"sample\": 0}, {\"x\": -0.8585858585858586, \"f\": -0.40266081816701865, \"sample\": 0}, {\"x\": -0.8383838383838383, \"f\": -0.37667251793472806, \"sample\": 0}, {\"x\": -0.8181818181818181, \"f\": -0.3384243982529992, \"sample\": 0}, {\"x\": -0.797979797979798, \"f\": -0.29355884221666145, \"sample\": 0}, {\"x\": -0.7777777777777778, \"f\": -0.24596061546045445, \"sample\": 0}, {\"x\": -0.7575757575757576, \"f\": -0.18925894819975378, \"sample\": 0}, {\"x\": -0.7373737373737373, \"f\": -0.1312182488301873, \"sample\": 0}, {\"x\": -0.7171717171717171, \"f\": -0.0817373912873909, \"sample\": 0}, {\"x\": -0.696969696969697, \"f\": -0.05251101099881803, \"sample\": 0}, {\"x\": -0.6767676767676767, \"f\": -0.05165124098798366, \"sample\": 0}, {\"x\": -0.6565656565656566, \"f\": -0.07046088602716517, \"sample\": 0}, {\"x\": -0.6363636363636364, \"f\": -0.10252039641856535, \"sample\": 0}, {\"x\": -0.6161616161616161, \"f\": -0.14870679392871503, \"sample\": 0}, {\"x\": -0.5959595959595959, \"f\": -0.20452985862332174, \"sample\": 0}, {\"x\": -0.5757575757575757, \"f\": -0.26336522116736, \"sample\": 0}, {\"x\": -0.5555555555555556, \"f\": -0.3302319160317171, \"sample\": 0}, {\"x\": -0.5353535353535352, \"f\": -0.39917447882655493, \"sample\": 0}, {\"x\": -0.5151515151515151, \"f\": -0.46224906392182874, \"sample\": 0}, {\"x\": -0.4949494949494949, \"f\": -0.524848847846709, \"sample\": 0}, {\"x\": -0.4747474747474747, \"f\": -0.5823161256992414, \"sample\": 0}, {\"x\": -0.4545454545454545, \"f\": -0.6321511064036066, \"sample\": 0}, {\"x\": -0.43434343434343425, \"f\": -0.6658523336008181, \"sample\": 0}, {\"x\": -0.41414141414141414, \"f\": -0.685315245431888, \"sample\": 0}, {\"x\": -0.3939393939393939, \"f\": -0.6960843235852573, \"sample\": 0}, {\"x\": -0.3737373737373737, \"f\": -0.7015030091220977, \"sample\": 0}, {\"x\": -0.3535353535353535, \"f\": -0.7056914482329748, \"sample\": 0}, {\"x\": -0.33333333333333326, \"f\": -0.7128274520922224, \"sample\": 0}, {\"x\": -0.31313131313131304, \"f\": -0.7256301132628568, \"sample\": 0}, {\"x\": -0.2929292929292928, \"f\": -0.7410046830995803, \"sample\": 0}, {\"x\": -0.2727272727272727, \"f\": -0.7541578154691327, \"sample\": 0}, {\"x\": -0.2525252525252525, \"f\": -0.7603591287625805, \"sample\": 0}, {\"x\": -0.23232323232323226, \"f\": -0.7621988002719347, \"sample\": 0}, {\"x\": -0.21212121212121204, \"f\": -0.7614797548795897, \"sample\": 0}, {\"x\": -0.19191919191919182, \"f\": -0.7637186591758979, \"sample\": 0}, {\"x\": -0.1717171717171716, \"f\": -0.7794218233230151, \"sample\": 0}, {\"x\": -0.1515151515151515, \"f\": -0.8012739843345619, \"sample\": 0}, {\"x\": -0.13131313131313127, \"f\": -0.8209575105140837, \"sample\": 0}, {\"x\": -0.11111111111111105, \"f\": -0.8401282344354842, \"sample\": 0}, {\"x\": -0.09090909090909083, \"f\": -0.8501096506689126, \"sample\": 0}, {\"x\": -0.07070707070707061, \"f\": -0.855248071918517, \"sample\": 0}, {\"x\": -0.050505050505050386, \"f\": -0.8669675117528941, \"sample\": 0}, {\"x\": -0.030303030303030276, \"f\": -0.8960661736171586, \"sample\": 0}, {\"x\": -0.010101010101010055, \"f\": -0.9488634451697696, \"sample\": 0}, {\"x\": 0.010101010101010166, \"f\": -1.0201674591551464, \"sample\": 0}, {\"x\": 0.030303030303030498, \"f\": -1.0992342472100476, \"sample\": 0}, {\"x\": 0.05050505050505061, \"f\": -1.180125960522261, \"sample\": 0}, {\"x\": 0.07070707070707072, \"f\": -1.2575715431023264, \"sample\": 0}, {\"x\": 0.09090909090909105, \"f\": -1.3302670156235838, \"sample\": 0}, {\"x\": 0.11111111111111116, \"f\": -1.3935506167940581, \"sample\": 0}, {\"x\": 0.1313131313131315, \"f\": -1.4398141896555223, \"sample\": 0}, {\"x\": 0.1515151515151516, \"f\": -1.4756295164678443, \"sample\": 0}, {\"x\": 0.1717171717171717, \"f\": -1.49494087692039, \"sample\": 0}, {\"x\": 0.19191919191919204, \"f\": -1.5090958894646855, \"sample\": 0}, {\"x\": 0.21212121212121215, \"f\": -1.5231845877073102, \"sample\": 0}, {\"x\": 0.2323232323232325, \"f\": -1.523665689062991, \"sample\": 0}, {\"x\": 0.2525252525252526, \"f\": -1.5066138222249295, \"sample\": 0}, {\"x\": 0.27272727272727293, \"f\": -1.4710085455128696, \"sample\": 0}, {\"x\": 0.29292929292929304, \"f\": -1.4137202463373038, \"sample\": 0}, {\"x\": 0.31313131313131315, \"f\": -1.3441945118718104, \"sample\": 0}, {\"x\": 0.3333333333333335, \"f\": -1.2756116145582244, \"sample\": 0}, {\"x\": 0.3535353535353536, \"f\": -1.2186810998778137, \"sample\": 0}, {\"x\": 0.3737373737373739, \"f\": -1.173855446040664, \"sample\": 0}, {\"x\": 0.39393939393939403, \"f\": -1.1475400198465773, \"sample\": 0}, {\"x\": 0.41414141414141437, \"f\": -1.1367123470434206, \"sample\": 0}, {\"x\": 0.4343434343434345, \"f\": -1.1425904708852004, \"sample\": 0}, {\"x\": 0.4545454545454546, \"f\": -1.167311524865747, \"sample\": 0}, {\"x\": 0.4747474747474749, \"f\": -1.2136211371460803, \"sample\": 0}, {\"x\": 0.49494949494949503, \"f\": -1.2763784273529182, \"sample\": 0}, {\"x\": 0.5151515151515154, \"f\": -1.3448490225932674, \"sample\": 0}, {\"x\": 0.5353535353535355, \"f\": -1.4225550768595683, \"sample\": 0}, {\"x\": 0.5555555555555556, \"f\": -1.5034313599578135, \"sample\": 0}, {\"x\": 0.5757575757575759, \"f\": -1.5784811889629402, \"sample\": 0}, {\"x\": 0.595959595959596, \"f\": -1.6484169911806008, \"sample\": 0}, {\"x\": 0.6161616161616164, \"f\": -1.716790179049451, \"sample\": 0}, {\"x\": 0.6363636363636365, \"f\": -1.7896118866941664, \"sample\": 0}, {\"x\": 0.6565656565656568, \"f\": -1.867091839443278, \"sample\": 0}, {\"x\": 0.6767676767676769, \"f\": -1.9493110571363599, \"sample\": 0}, {\"x\": 0.696969696969697, \"f\": -2.0272253824926287, \"sample\": 0}, {\"x\": 0.7171717171717173, \"f\": -2.0899416138282927, \"sample\": 0}, {\"x\": 0.7373737373737375, \"f\": -2.13417736163697, \"sample\": 0}, {\"x\": 0.7575757575757578, \"f\": -2.164717831497636, \"sample\": 0}, {\"x\": 0.7777777777777779, \"f\": -2.183673199583132, \"sample\": 0}, {\"x\": 0.7979797979797982, \"f\": -2.1863422759511066, \"sample\": 0}, {\"x\": 0.8181818181818183, \"f\": -2.176865454611455, \"sample\": 0}, {\"x\": 0.8383838383838385, \"f\": -2.1581074276045205, \"sample\": 0}, {\"x\": 0.8585858585858588, \"f\": -2.1336366036104937, \"sample\": 0}, {\"x\": 0.8787878787878789, \"f\": -2.1187408777228334, \"sample\": 0}, {\"x\": 0.8989898989898992, \"f\": -2.1217067508691225, \"sample\": 0}, {\"x\": 0.9191919191919193, \"f\": -2.1434916708014318, \"sample\": 0}, {\"x\": 0.9393939393939394, \"f\": -2.171547033632139, \"sample\": 0}, {\"x\": 0.9595959595959598, \"f\": -2.1953147658035705, \"sample\": 0}, {\"x\": 0.9797979797979799, \"f\": -2.2098324233686863, \"sample\": 0}, {\"x\": 1.0, \"f\": -2.209406002869983, \"sample\": 0}, {\"x\": -1.0, \"f\": 0.2445757412937517, \"sample\": 1}, {\"x\": -0.9797979797979798, \"f\": 0.29762527632760843, \"sample\": 1}, {\"x\": -0.9595959595959596, \"f\": 0.37102147133657143, \"sample\": 1}, {\"x\": -0.9393939393939394, \"f\": 0.4686347914499141, \"sample\": 1}, {\"x\": -0.9191919191919192, \"f\": 0.5901453534006588, \"sample\": 1}, {\"x\": -0.898989898989899, \"f\": 0.7348564829139589, \"sample\": 1}, {\"x\": -0.8787878787878788, \"f\": 0.8960586756534039, \"sample\": 1}, {\"x\": -0.8585858585858586, \"f\": 1.0627006288559622, \"sample\": 1}, {\"x\": -0.8383838383838383, \"f\": 1.2161937031994536, \"sample\": 1}, {\"x\": -0.8181818181818181, \"f\": 1.345177490056444, \"sample\": 1}, {\"x\": -0.797979797979798, \"f\": 1.4436653870173146, \"sample\": 1}, {\"x\": -0.7777777777777778, \"f\": 1.523664752949212, \"sample\": 1}, {\"x\": -0.7575757575757576, \"f\": 1.5898395726285846, \"sample\": 1}, {\"x\": -0.7373737373737373, \"f\": 1.637431155548097, \"sample\": 1}, {\"x\": -0.7171717171717171, \"f\": 1.6646824013454788, \"sample\": 1}, {\"x\": -0.696969696969697, \"f\": 1.6699643433165388, \"sample\": 1}, {\"x\": -0.6767676767676767, \"f\": 1.6525400286391885, \"sample\": 1}, {\"x\": -0.6565656565656566, \"f\": 1.6138008203396383, \"sample\": 1}, {\"x\": -0.6363636363636364, \"f\": 1.5625073986719584, \"sample\": 1}, {\"x\": -0.6161616161616161, \"f\": 1.5107861418522353, \"sample\": 1}, {\"x\": -0.5959595959595959, \"f\": 1.4598553701964256, \"sample\": 1}, {\"x\": -0.5757575757575757, \"f\": 1.4118847068321023, \"sample\": 1}, {\"x\": -0.5555555555555556, \"f\": 1.365688522725028, \"sample\": 1}, {\"x\": -0.5353535353535352, \"f\": 1.3331620825427282, \"sample\": 1}, {\"x\": -0.5151515151515151, \"f\": 1.324230043661437, \"sample\": 1}, {\"x\": -0.4949494949494949, \"f\": 1.3277449262121657, \"sample\": 1}, {\"x\": -0.4747474747474747, \"f\": 1.3313332780152878, \"sample\": 1}, {\"x\": -0.4545454545454545, \"f\": 1.3343642939049616, \"sample\": 1}, {\"x\": -0.43434343434343425, \"f\": 1.3359825876747344, \"sample\": 1}, {\"x\": -0.41414141414141414, \"f\": 1.3333330336564555, \"sample\": 1}, {\"x\": -0.3939393939393939, \"f\": 1.331021617424254, \"sample\": 1}, {\"x\": -0.3737373737373737, \"f\": 1.3171778171748079, \"sample\": 1}, {\"x\": -0.3535353535353535, \"f\": 1.2842641349394608, \"sample\": 1}, {\"x\": -0.33333333333333326, \"f\": 1.2322580511628922, \"sample\": 1}, {\"x\": -0.31313131313131304, \"f\": 1.1579868901077575, \"sample\": 1}, {\"x\": -0.2929292929292928, \"f\": 1.0681949697932003, \"sample\": 1}, {\"x\": -0.2727272727272727, \"f\": 0.9689180836632988, \"sample\": 1}, {\"x\": -0.2525252525252525, \"f\": 0.8632672043759247, \"sample\": 1}, {\"x\": -0.23232323232323226, \"f\": 0.7457403193113058, \"sample\": 1}, {\"x\": -0.21212121212121204, \"f\": 0.6199606886299274, \"sample\": 1}, {\"x\": -0.19191919191919182, \"f\": 0.4811429169063104, \"sample\": 1}, {\"x\": -0.1717171717171716, \"f\": 0.3230401453443957, \"sample\": 1}, {\"x\": -0.1515151515151515, \"f\": 0.14807874721132097, \"sample\": 1}, {\"x\": -0.13131313131313127, \"f\": -0.026424717803093602, \"sample\": 1}, {\"x\": -0.11111111111111105, \"f\": -0.19095435337070396, \"sample\": 1}, {\"x\": -0.09090909090909083, \"f\": -0.3469753361749718, \"sample\": 1}, {\"x\": -0.07070707070707061, \"f\": -0.489585658574105, \"sample\": 1}, {\"x\": -0.050505050505050386, \"f\": -0.6097818088252166, \"sample\": 1}, {\"x\": -0.030303030303030276, \"f\": -0.7042061597141168, \"sample\": 1}, {\"x\": -0.010101010101010055, \"f\": -0.772980025191384, \"sample\": 1}, {\"x\": 0.010101010101010166, \"f\": -0.8225441823802788, \"sample\": 1}, {\"x\": 0.030303030303030498, \"f\": -0.863456431087355, \"sample\": 1}, {\"x\": 0.05050505050505061, \"f\": -0.893728999028814, \"sample\": 1}, {\"x\": 0.07070707070707072, \"f\": -0.9156488673947762, \"sample\": 1}, {\"x\": 0.09090909090909105, \"f\": -0.9340820832675383, \"sample\": 1}, {\"x\": 0.11111111111111116, \"f\": -0.9444511342995705, \"sample\": 1}, {\"x\": 0.1313131313131315, \"f\": -0.9510583883519201, \"sample\": 1}, {\"x\": 0.1515151515151516, \"f\": -0.9513441154869383, \"sample\": 1}, {\"x\": 0.1717171717171717, \"f\": -0.9406865876485097, \"sample\": 1}, {\"x\": 0.19191919191919204, \"f\": -0.9231195319788607, \"sample\": 1}, {\"x\": 0.21212121212121215, \"f\": -0.8952504796190642, \"sample\": 1}, {\"x\": 0.2323232323232325, \"f\": -0.8500049764340428, \"sample\": 1}, {\"x\": 0.2525252525252526, \"f\": -0.7931317003292885, \"sample\": 1}, {\"x\": 0.27272727272727293, \"f\": -0.7305977940182408, \"sample\": 1}, {\"x\": 0.29292929292929304, \"f\": -0.6668259342339002, \"sample\": 1}, {\"x\": 0.31313131313131315, \"f\": -0.6068523130465506, \"sample\": 1}, {\"x\": 0.3333333333333335, \"f\": -0.5637779910167369, \"sample\": 1}, {\"x\": 0.3535353535353536, \"f\": -0.5358366703293559, \"sample\": 1}, {\"x\": 0.3737373737373739, \"f\": -0.5207801649050409, \"sample\": 1}, {\"x\": 0.39393939393939403, \"f\": -0.5163499375984172, \"sample\": 1}, {\"x\": 0.41414141414141437, \"f\": -0.5158902397779994, \"sample\": 1}, {\"x\": 0.4343434343434345, \"f\": -0.508775104763439, \"sample\": 1}, {\"x\": 0.4545454545454546, \"f\": -0.4932926411786625, \"sample\": 1}, {\"x\": 0.4747474747474749, \"f\": -0.46210521715207653, \"sample\": 1}, {\"x\": 0.49494949494949503, \"f\": -0.41227137781274004, \"sample\": 1}, {\"x\": 0.5151515151515154, \"f\": -0.3577986707754134, \"sample\": 1}, {\"x\": 0.5353535353535355, \"f\": -0.3105223569445339, \"sample\": 1}, {\"x\": 0.5555555555555556, \"f\": -0.27067078207886364, \"sample\": 1}, {\"x\": 0.5757575757575759, \"f\": -0.23343513658260998, \"sample\": 1}, {\"x\": 0.595959595959596, \"f\": -0.2016468307498097, \"sample\": 1}, {\"x\": 0.6161616161616164, \"f\": -0.17210964692451391, \"sample\": 1}, {\"x\": 0.6363636363636365, \"f\": -0.1412762365456329, \"sample\": 1}, {\"x\": 0.6565656565656568, \"f\": -0.11873587387160141, \"sample\": 1}, {\"x\": 0.6767676767676769, \"f\": -0.11565936370866393, \"sample\": 1}, {\"x\": 0.696969696969697, \"f\": -0.13023771298905676, \"sample\": 1}, {\"x\": 0.7171717171717173, \"f\": -0.1593508986105173, \"sample\": 1}, {\"x\": 0.7373737373737375, \"f\": -0.19837340289275618, \"sample\": 1}, {\"x\": 0.7575757575757578, \"f\": -0.23438889225284684, \"sample\": 1}, {\"x\": 0.7777777777777779, \"f\": -0.26405126846281446, \"sample\": 1}, {\"x\": 0.7979797979797982, \"f\": -0.28874660224734044, \"sample\": 1}, {\"x\": 0.8181818181818183, \"f\": -0.31623660456486885, \"sample\": 1}, {\"x\": 0.8383838383838385, \"f\": -0.3584375033186389, \"sample\": 1}, {\"x\": 0.8585858585858588, \"f\": -0.4114966280137772, \"sample\": 1}, {\"x\": 0.8787878787878789, \"f\": -0.4726676251200715, \"sample\": 1}, {\"x\": 0.8989898989898992, \"f\": -0.5455173916899194, \"sample\": 1}, {\"x\": 0.9191919191919193, \"f\": -0.6262291068335003, \"sample\": 1}, {\"x\": 0.9393939393939394, \"f\": -0.7061626654366235, \"sample\": 1}, {\"x\": 0.9595959595959598, \"f\": -0.7851631770700114, \"sample\": 1}, {\"x\": 0.9797979797979799, \"f\": -0.8557326542471583, \"sample\": 1}, {\"x\": 1.0, \"f\": -0.9138905949542726, \"sample\": 1}, {\"x\": -1.0, \"f\": 1.1747526863816806, \"sample\": 2}, {\"x\": -0.9797979797979798, \"f\": 1.2028263040462295, \"sample\": 2}, {\"x\": -0.9595959595959596, \"f\": 1.2120689515391394, \"sample\": 2}, {\"x\": -0.9393939393939394, \"f\": 1.208401917289374, \"sample\": 2}, {\"x\": -0.9191919191919192, \"f\": 1.1904126389551888, \"sample\": 2}, {\"x\": -0.898989898989899, \"f\": 1.167785443315827, \"sample\": 2}, {\"x\": -0.8787878787878788, \"f\": 1.143377130787162, \"sample\": 2}, {\"x\": -0.8585858585858586, \"f\": 1.1081136710113524, \"sample\": 2}, {\"x\": -0.8383838383838383, \"f\": 1.0556818555391085, \"sample\": 2}, {\"x\": -0.8181818181818181, \"f\": 0.9832111006117017, \"sample\": 2}, {\"x\": -0.797979797979798, \"f\": 0.9048864997548324, \"sample\": 2}, {\"x\": -0.7777777777777778, \"f\": 0.8209876231508848, \"sample\": 2}, {\"x\": -0.7575757575757576, \"f\": 0.7376850673876406, \"sample\": 2}, {\"x\": -0.7373737373737373, \"f\": 0.6545051935168126, \"sample\": 2}, {\"x\": -0.7171717171717171, \"f\": 0.5733320840113143, \"sample\": 2}, {\"x\": -0.696969696969697, \"f\": 0.5005029355596614, \"sample\": 2}, {\"x\": -0.6767676767676767, \"f\": 0.43785393993985944, \"sample\": 2}, {\"x\": -0.6565656565656566, \"f\": 0.3802316362338808, \"sample\": 2}, {\"x\": -0.6363636363636364, \"f\": 0.3310966372267534, \"sample\": 2}, {\"x\": -0.6161616161616161, \"f\": 0.2880232382506228, \"sample\": 2}, {\"x\": -0.5959595959595959, \"f\": 0.2534485000087082, \"sample\": 2}, {\"x\": -0.5757575757575757, \"f\": 0.22556049335142722, \"sample\": 2}, {\"x\": -0.5555555555555556, \"f\": 0.20776699966694537, \"sample\": 2}, {\"x\": -0.5353535353535352, \"f\": 0.1939952190091422, \"sample\": 2}, {\"x\": -0.5151515151515151, \"f\": 0.1816938352895024, \"sample\": 2}, {\"x\": -0.4949494949494949, \"f\": 0.16528467039758316, \"sample\": 2}, {\"x\": -0.4747474747474747, \"f\": 0.14101610601240575, \"sample\": 2}, {\"x\": -0.4545454545454545, \"f\": 0.1073873259509801, \"sample\": 2}, {\"x\": -0.43434343434343425, \"f\": 0.07008175374910448, \"sample\": 2}, {\"x\": -0.41414141414141414, \"f\": 0.036969199789351544, \"sample\": 2}, {\"x\": -0.3939393939393939, \"f\": 0.02084722092343255, \"sample\": 2}, {\"x\": -0.3737373737373737, \"f\": 0.022047415162587722, \"sample\": 2}, {\"x\": -0.3535353535353535, \"f\": 0.03200554466651607, \"sample\": 2}, {\"x\": -0.33333333333333326, \"f\": 0.041914138555029165, \"sample\": 2}, {\"x\": -0.31313131313131304, \"f\": 0.046744094863329685, \"sample\": 2}, {\"x\": -0.2929292929292928, \"f\": 0.04234186758134851, \"sample\": 2}, {\"x\": -0.2727272727272727, \"f\": 0.029452871191031044, \"sample\": 2}, {\"x\": -0.2525252525252525, \"f\": 0.011311561691263851, \"sample\": 2}, {\"x\": -0.23232323232323226, \"f\": -0.006704828195316793, \"sample\": 2}, {\"x\": -0.21212121212121204, \"f\": -0.015320264263517945, \"sample\": 2}, {\"x\": -0.19191919191919182, \"f\": -0.017358011682215693, \"sample\": 2}, {\"x\": -0.1717171717171716, \"f\": -0.008687590834773945, \"sample\": 2}, {\"x\": -0.1515151515151515, \"f\": 0.011937077471496187, \"sample\": 2}, {\"x\": -0.13131313131313127, \"f\": 0.04486231610311984, \"sample\": 2}, {\"x\": -0.11111111111111105, \"f\": 0.08906875594830006, \"sample\": 2}, {\"x\": -0.09090909090909083, \"f\": 0.14160744220858867, \"sample\": 2}, {\"x\": -0.07070707070707061, \"f\": 0.2060518267563407, \"sample\": 2}, {\"x\": -0.050505050505050386, \"f\": 0.2826663677232464, \"sample\": 2}, {\"x\": -0.030303030303030276, \"f\": 0.37065526782324293, \"sample\": 2}, {\"x\": -0.010101010101010055, \"f\": 0.472265114913595, \"sample\": 2}, {\"x\": 0.010101010101010166, \"f\": 0.5816082249637209, \"sample\": 2}, {\"x\": 0.030303030303030498, \"f\": 0.6859984659248042, \"sample\": 2}, {\"x\": 0.05050505050505061, \"f\": 0.7800301130177091, \"sample\": 2}, {\"x\": 0.07070707070707072, \"f\": 0.865415327078377, \"sample\": 2}, {\"x\": 0.09090909090909105, \"f\": 0.9423202423271578, \"sample\": 2}, {\"x\": 0.11111111111111116, \"f\": 1.007125710895193, \"sample\": 2}, {\"x\": 0.1313131313131315, \"f\": 1.0537237582859917, \"sample\": 2}, {\"x\": 0.1515151515151516, \"f\": 1.0819426913578976, \"sample\": 2}, {\"x\": 0.1717171717171717, \"f\": 1.0899885355680237, \"sample\": 2}, {\"x\": 0.19191919191919204, \"f\": 1.0810964570530737, \"sample\": 2}, {\"x\": 0.21212121212121215, \"f\": 1.0578714534087859, \"sample\": 2}, {\"x\": 0.2323232323232325, \"f\": 1.0224127426759444, \"sample\": 2}, {\"x\": 0.2525252525252526, \"f\": 0.9703451129267255, \"sample\": 2}, {\"x\": 0.27272727272727293, \"f\": 0.8973147080981327, \"sample\": 2}, {\"x\": 0.29292929292929304, \"f\": 0.8005375392390508, \"sample\": 2}, {\"x\": 0.31313131313131315, \"f\": 0.6896065932959597, \"sample\": 2}, {\"x\": 0.3333333333333335, \"f\": 0.5744188514884799, \"sample\": 2}, {\"x\": 0.3535353535353536, \"f\": 0.46739285535662695, \"sample\": 2}, {\"x\": 0.3737373737373739, \"f\": 0.36934082948782015, \"sample\": 2}, {\"x\": 0.39393939393939403, \"f\": 0.27575321076421355, \"sample\": 2}, {\"x\": 0.41414141414141437, \"f\": 0.18476377945575284, \"sample\": 2}, {\"x\": 0.4343434343434345, \"f\": 0.09951844086433291, \"sample\": 2}, {\"x\": 0.4545454545454546, \"f\": 0.035647906585839224, \"sample\": 2}, {\"x\": 0.4747474747474749, \"f\": 0.010025032273239195, \"sample\": 2}, {\"x\": 0.49494949494949503, \"f\": 0.010080866985167313, \"sample\": 2}, {\"x\": 0.5151515151515154, \"f\": 0.020331556857870848, \"sample\": 2}, {\"x\": 0.5353535353535355, \"f\": 0.04037935593140684, \"sample\": 2}, {\"x\": 0.5555555555555556, \"f\": 0.06875516600778214, \"sample\": 2}, {\"x\": 0.5757575757575759, \"f\": 0.10063191536255336, \"sample\": 2}, {\"x\": 0.595959595959596, \"f\": 0.13754377480429875, \"sample\": 2}, {\"x\": 0.6161616161616164, \"f\": 0.17416096984088125, \"sample\": 2}, {\"x\": 0.6363636363636365, \"f\": 0.2112239565513553, \"sample\": 2}, {\"x\": 0.6565656565656568, \"f\": 0.24610617560583262, \"sample\": 2}, {\"x\": 0.6767676767676769, \"f\": 0.2689669408505449, \"sample\": 2}, {\"x\": 0.696969696969697, \"f\": 0.27842019557997294, \"sample\": 2}, {\"x\": 0.7171717171717173, \"f\": 0.28254307380337546, \"sample\": 2}, {\"x\": 0.7373737373737375, \"f\": 0.29068093852212296, \"sample\": 2}, {\"x\": 0.7575757575757578, \"f\": 0.30062420252117283, \"sample\": 2}, {\"x\": 0.7777777777777779, \"f\": 0.3133646646513134, \"sample\": 2}, {\"x\": 0.7979797979797982, \"f\": 0.3337420938162337, \"sample\": 2}, {\"x\": 0.8181818181818183, \"f\": 0.3618648971095149, \"sample\": 2}, {\"x\": 0.8383838383838385, \"f\": 0.39198827166026273, \"sample\": 2}, {\"x\": 0.8585858585858588, \"f\": 0.4229956636583523, \"sample\": 2}, {\"x\": 0.8787878787878789, \"f\": 0.452595177543393, \"sample\": 2}, {\"x\": 0.8989898989898992, \"f\": 0.47510973375626525, \"sample\": 2}, {\"x\": 0.9191919191919193, \"f\": 0.49357792999983635, \"sample\": 2}, {\"x\": 0.9393939393939394, \"f\": 0.5111364946486031, \"sample\": 2}, {\"x\": 0.9595959595959598, \"f\": 0.5228019611134974, \"sample\": 2}, {\"x\": 0.9797979797979799, \"f\": 0.5358960849578774, \"sample\": 2}, {\"x\": 1.0, \"f\": 0.5573322630376054, \"sample\": 2}]}}, {\"mode\": \"vega-lite\"});\n",
       "</script>"
      ],
      "text/plain": [
       "alt.Chart(...)"
      ]
     },
     "execution_count": 91,
     "metadata": {},
     "output_type": "execute_result"
    }
   ],
   "source": [
    "blackbox1 = bb.GPBlackBox(ndim=1)\n",
    "xx = blackbox1.xgrid(npoints=100)[:, 0]\n",
    "prior_samples = pd.concat([\n",
    "    pd.DataFrame(dict(x=xx, f=bb.prior_draw(blackbox1.kernel, xx), sample=s))\n",
    "    for s in range(3)])\n",
    "prior_chart = (\n",
    "    alt.Chart(prior_samples)\n",
    "    .mark_line()\n",
    "    .encode(x='x', y='f', color='sample:N'))\n",
    "prior_chart.properties(width=800, height=300)"
   ]
  },
  {
   "cell_type": "markdown",
   "metadata": {},
   "source": [
    "### A function of one input\n",
    "Now it is your turn.\n",
    "You have to optimise a function of one input with domain `[-1, 1]`.\n",
    "To start you off you already have three evaluations."
   ]
  },
  {
   "cell_type": "code",
   "execution_count": 92,
   "metadata": {},
   "outputs": [
    {
     "data": {
      "text/html": [
       "\n",
       "<div id=\"altair-viz-0e184c474c9949b88020664a8d274397\"></div>\n",
       "<script type=\"text/javascript\">\n",
       "  (function(spec, embedOpt){\n",
       "    let outputDiv = document.currentScript.previousElementSibling;\n",
       "    if (outputDiv.id !== \"altair-viz-0e184c474c9949b88020664a8d274397\") {\n",
       "      outputDiv = document.getElementById(\"altair-viz-0e184c474c9949b88020664a8d274397\");\n",
       "    }\n",
       "    const paths = {\n",
       "      \"vega\": \"https://cdn.jsdelivr.net/npm//vega@5?noext\",\n",
       "      \"vega-lib\": \"https://cdn.jsdelivr.net/npm//vega-lib?noext\",\n",
       "      \"vega-lite\": \"https://cdn.jsdelivr.net/npm//vega-lite@4.8.1?noext\",\n",
       "      \"vega-embed\": \"https://cdn.jsdelivr.net/npm//vega-embed@6?noext\",\n",
       "    };\n",
       "\n",
       "    function loadScript(lib) {\n",
       "      return new Promise(function(resolve, reject) {\n",
       "        var s = document.createElement('script');\n",
       "        s.src = paths[lib];\n",
       "        s.async = true;\n",
       "        s.onload = () => resolve(paths[lib]);\n",
       "        s.onerror = () => reject(`Error loading script: ${paths[lib]}`);\n",
       "        document.getElementsByTagName(\"head\")[0].appendChild(s);\n",
       "      });\n",
       "    }\n",
       "\n",
       "    function showError(err) {\n",
       "      outputDiv.innerHTML = `<div class=\"error\" style=\"color:red;\">${err}</div>`;\n",
       "      throw err;\n",
       "    }\n",
       "\n",
       "    function displayChart(vegaEmbed) {\n",
       "      vegaEmbed(outputDiv, spec, embedOpt)\n",
       "        .catch(err => showError(`Javascript Error: ${err.message}<br>This usually means there's a typo in your chart specification. See the javascript console for the full traceback.`));\n",
       "    }\n",
       "\n",
       "    if(typeof define === \"function\" && define.amd) {\n",
       "      requirejs.config({paths});\n",
       "      require([\"vega-embed\"], displayChart, err => showError(`Error loading script: ${err.message}`));\n",
       "    } else if (typeof vegaEmbed === \"function\") {\n",
       "      displayChart(vegaEmbed);\n",
       "    } else {\n",
       "      loadScript(\"vega\")\n",
       "        .then(() => loadScript(\"vega-lite\"))\n",
       "        .then(() => loadScript(\"vega-embed\"))\n",
       "        .catch(showError)\n",
       "        .then(() => displayChart(vegaEmbed));\n",
       "    }\n",
       "  })({\"config\": {\"view\": {\"continuousWidth\": 400, \"continuousHeight\": 300}}, \"data\": {\"name\": \"data-f64e343a7a309519d8bf9c5ee859c40d\"}, \"mark\": {\"type\": \"circle\", \"color\": \"red\", \"size\": 100}, \"encoding\": {\"x\": {\"type\": \"quantitative\", \"field\": \"x0\", \"scale\": {\"domain\": [-1, 1]}}, \"y\": {\"type\": \"quantitative\", \"field\": \"y\"}}, \"height\": 300, \"width\": 800, \"$schema\": \"https://vega.github.io/schema/vega-lite/v4.8.1.json\", \"datasets\": {\"data-f64e343a7a309519d8bf9c5ee859c40d\": [{\"x0\": 0.0, \"y\": -0.2348718804733185}, {\"x0\": -0.6, \"y\": -0.7085409595812165}, {\"x0\": 0.6, \"y\": -0.9825289331213353}]}}, {\"mode\": \"vega-lite\"});\n",
       "</script>"
      ],
      "text/plain": [
       "alt.Chart(...)"
      ]
     },
     "execution_count": 92,
     "metadata": {},
     "output_type": "execute_result"
    }
   ],
   "source": [
    "blackbox1 = bb.GPBlackBox(ndim=1)\n",
    "y = blackbox1([-.6])[0][0]\n",
    "y = blackbox1([.6])[0][0]\n",
    "blackbox1.plot_xy().properties(width=800, height=300)"
   ]
  },
  {
   "cell_type": "markdown",
   "metadata": {},
   "source": [
    "Now you should choose which input point (`x0`) to evaluate the function at:"
   ]
  },
  {
   "cell_type": "code",
   "execution_count": 93,
   "metadata": {},
   "outputs": [
    {
     "data": {
      "application/vnd.jupyter.widget-view+json": {
       "model_id": "ddc2082332f645aab2769c309de927c3",
       "version_major": 2,
       "version_minor": 0
      },
      "text/plain": [
       "FloatSlider(value=0.2, description='x0:', max=1.0, min=-1.0, step=0.01)"
      ]
     },
     "metadata": {},
     "output_type": "display_data"
    }
   ],
   "source": [
    "x0 = widgets.FloatSlider(\n",
    "    value=0.2,\n",
    "    min=bb.DOMAIN_MIN,\n",
    "    max=bb.DOMAIN_MAX,\n",
    "    step=0.01,\n",
    "    description='x0:',\n",
    "    readout_format='.2f',\n",
    ")\n",
    "display(x0)"
   ]
  },
  {
   "cell_type": "markdown",
   "metadata": {},
   "source": [
    "Repeatedly adjust the slider above and execute the following cell to plot all the evaluations `y` so far."
   ]
  },
  {
   "cell_type": "code",
   "execution_count": 101,
   "metadata": {},
   "outputs": [
    {
     "name": "stdout",
     "output_type": "stream",
     "text": [
      "Evaluated black box at 0.17; result=-0.47111371361764226\n"
     ]
    },
    {
     "data": {
      "text/html": [
       "\n",
       "<div id=\"altair-viz-ef7c80d1044248cc82925b5a4a2ab1b8\"></div>\n",
       "<script type=\"text/javascript\">\n",
       "  (function(spec, embedOpt){\n",
       "    let outputDiv = document.currentScript.previousElementSibling;\n",
       "    if (outputDiv.id !== \"altair-viz-ef7c80d1044248cc82925b5a4a2ab1b8\") {\n",
       "      outputDiv = document.getElementById(\"altair-viz-ef7c80d1044248cc82925b5a4a2ab1b8\");\n",
       "    }\n",
       "    const paths = {\n",
       "      \"vega\": \"https://cdn.jsdelivr.net/npm//vega@5?noext\",\n",
       "      \"vega-lib\": \"https://cdn.jsdelivr.net/npm//vega-lib?noext\",\n",
       "      \"vega-lite\": \"https://cdn.jsdelivr.net/npm//vega-lite@4.8.1?noext\",\n",
       "      \"vega-embed\": \"https://cdn.jsdelivr.net/npm//vega-embed@6?noext\",\n",
       "    };\n",
       "\n",
       "    function loadScript(lib) {\n",
       "      return new Promise(function(resolve, reject) {\n",
       "        var s = document.createElement('script');\n",
       "        s.src = paths[lib];\n",
       "        s.async = true;\n",
       "        s.onload = () => resolve(paths[lib]);\n",
       "        s.onerror = () => reject(`Error loading script: ${paths[lib]}`);\n",
       "        document.getElementsByTagName(\"head\")[0].appendChild(s);\n",
       "      });\n",
       "    }\n",
       "\n",
       "    function showError(err) {\n",
       "      outputDiv.innerHTML = `<div class=\"error\" style=\"color:red;\">${err}</div>`;\n",
       "      throw err;\n",
       "    }\n",
       "\n",
       "    function displayChart(vegaEmbed) {\n",
       "      vegaEmbed(outputDiv, spec, embedOpt)\n",
       "        .catch(err => showError(`Javascript Error: ${err.message}<br>This usually means there's a typo in your chart specification. See the javascript console for the full traceback.`));\n",
       "    }\n",
       "\n",
       "    if(typeof define === \"function\" && define.amd) {\n",
       "      requirejs.config({paths});\n",
       "      require([\"vega-embed\"], displayChart, err => showError(`Error loading script: ${err.message}`));\n",
       "    } else if (typeof vegaEmbed === \"function\") {\n",
       "      displayChart(vegaEmbed);\n",
       "    } else {\n",
       "      loadScript(\"vega\")\n",
       "        .then(() => loadScript(\"vega-lite\"))\n",
       "        .then(() => loadScript(\"vega-embed\"))\n",
       "        .catch(showError)\n",
       "        .then(() => displayChart(vegaEmbed));\n",
       "    }\n",
       "  })({\"config\": {\"view\": {\"continuousWidth\": 400, \"continuousHeight\": 300}}, \"data\": {\"name\": \"data-c415cdb237105778cc52e470bb6aee59\"}, \"mark\": {\"type\": \"circle\", \"color\": \"red\", \"size\": 100}, \"encoding\": {\"x\": {\"type\": \"quantitative\", \"field\": \"x0\", \"scale\": {\"domain\": [-1, 1]}}, \"y\": {\"type\": \"quantitative\", \"field\": \"y\"}}, \"height\": 300, \"width\": 800, \"$schema\": \"https://vega.github.io/schema/vega-lite/v4.8.1.json\", \"datasets\": {\"data-c415cdb237105778cc52e470bb6aee59\": [{\"x0\": 0.0, \"y\": -0.2348718804733185}, {\"x0\": -0.6, \"y\": -0.7085409595812165}, {\"x0\": 0.6, \"y\": -0.9825289331213353}, {\"x0\": 0.2, \"y\": 0.8504021024760322}, {\"x0\": 0.43, \"y\": -0.17255344728521022}, {\"x0\": -0.91, \"y\": -0.21230648326268847}, {\"x0\": 0.9, \"y\": -1.1562099725145025}, {\"x0\": 0.1, \"y\": 0.04020058832558859}, {\"x0\": 0.3, \"y\": 0.4253628270374821}, {\"x0\": 0.26, \"y\": 1.0281917885714833}, {\"x0\": 0.17, \"y\": -0.47111371361764226}]}}, {\"mode\": \"vega-lite\"});\n",
       "</script>"
      ],
      "text/plain": [
       "alt.Chart(...)"
      ]
     },
     "execution_count": 101,
     "metadata": {},
     "output_type": "execute_result"
    }
   ],
   "source": [
    "y = blackbox1([x0.value])[0][0]\n",
    "print(f'Evaluated black box at {x0.value}; result={y}')\n",
    "blackbox1.plot_xy().properties(width=800, height=300)"
   ]
  },
  {
   "cell_type": "markdown",
   "metadata": {},
   "source": [
    "Now go back and choose another point at which to evaluate the black box function.\n",
    "\n",
    "If you have finished evaluating the function at different points and you are confident where the maximum is, you can make a guess before executing the cells below. The cell below shows the function as a line and the noisy data we received as evaluations of it:"
   ]
  },
  {
   "cell_type": "code",
   "execution_count": 118,
   "metadata": {},
   "outputs": [
    {
     "data": {
      "text/html": [
       "\n",
       "<div id=\"altair-viz-054f13691fba417aaffaf528776f729a\"></div>\n",
       "<script type=\"text/javascript\">\n",
       "  (function(spec, embedOpt){\n",
       "    let outputDiv = document.currentScript.previousElementSibling;\n",
       "    if (outputDiv.id !== \"altair-viz-054f13691fba417aaffaf528776f729a\") {\n",
       "      outputDiv = document.getElementById(\"altair-viz-054f13691fba417aaffaf528776f729a\");\n",
       "    }\n",
       "    const paths = {\n",
       "      \"vega\": \"https://cdn.jsdelivr.net/npm//vega@5?noext\",\n",
       "      \"vega-lib\": \"https://cdn.jsdelivr.net/npm//vega-lib?noext\",\n",
       "      \"vega-lite\": \"https://cdn.jsdelivr.net/npm//vega-lite@4.8.1?noext\",\n",
       "      \"vega-embed\": \"https://cdn.jsdelivr.net/npm//vega-embed@6?noext\",\n",
       "    };\n",
       "\n",
       "    function loadScript(lib) {\n",
       "      return new Promise(function(resolve, reject) {\n",
       "        var s = document.createElement('script');\n",
       "        s.src = paths[lib];\n",
       "        s.async = true;\n",
       "        s.onload = () => resolve(paths[lib]);\n",
       "        s.onerror = () => reject(`Error loading script: ${paths[lib]}`);\n",
       "        document.getElementsByTagName(\"head\")[0].appendChild(s);\n",
       "      });\n",
       "    }\n",
       "\n",
       "    function showError(err) {\n",
       "      outputDiv.innerHTML = `<div class=\"error\" style=\"color:red;\">${err}</div>`;\n",
       "      throw err;\n",
       "    }\n",
       "\n",
       "    function displayChart(vegaEmbed) {\n",
       "      vegaEmbed(outputDiv, spec, embedOpt)\n",
       "        .catch(err => showError(`Javascript Error: ${err.message}<br>This usually means there's a typo in your chart specification. See the javascript console for the full traceback.`));\n",
       "    }\n",
       "\n",
       "    if(typeof define === \"function\" && define.amd) {\n",
       "      requirejs.config({paths});\n",
       "      require([\"vega-embed\"], displayChart, err => showError(`Error loading script: ${err.message}`));\n",
       "    } else if (typeof vegaEmbed === \"function\") {\n",
       "      displayChart(vegaEmbed);\n",
       "    } else {\n",
       "      loadScript(\"vega\")\n",
       "        .then(() => loadScript(\"vega-lite\"))\n",
       "        .then(() => loadScript(\"vega-embed\"))\n",
       "        .catch(showError)\n",
       "        .then(() => displayChart(vegaEmbed));\n",
       "    }\n",
       "  })({\"config\": {\"view\": {\"continuousWidth\": 400, \"continuousHeight\": 300}}, \"layer\": [{\"data\": {\"name\": \"data-c415cdb237105778cc52e470bb6aee59\"}, \"mark\": {\"type\": \"circle\", \"color\": \"red\", \"size\": 100}, \"encoding\": {\"x\": {\"type\": \"quantitative\", \"field\": \"x0\", \"scale\": {\"domain\": [-1, 1]}}, \"y\": {\"type\": \"quantitative\", \"field\": \"y\"}}}, {\"data\": {\"name\": \"data-acff5d90cfe74e2a0f1f8550f6c47bee\"}, \"mark\": \"line\", \"encoding\": {\"x\": {\"type\": \"quantitative\", \"field\": \"x0\"}, \"y\": {\"type\": \"quantitative\", \"field\": \"f\"}}}], \"height\": 300, \"width\": 800, \"$schema\": \"https://vega.github.io/schema/vega-lite/v4.8.1.json\", \"datasets\": {\"data-c415cdb237105778cc52e470bb6aee59\": [{\"x0\": 0.0, \"y\": -0.2348718804733185}, {\"x0\": -0.6, \"y\": -0.7085409595812165}, {\"x0\": 0.6, \"y\": -0.9825289331213353}, {\"x0\": 0.2, \"y\": 0.8504021024760322}, {\"x0\": 0.43, \"y\": -0.17255344728521022}, {\"x0\": -0.91, \"y\": -0.21230648326268847}, {\"x0\": 0.9, \"y\": -1.1562099725145025}, {\"x0\": 0.1, \"y\": 0.04020058832558859}, {\"x0\": 0.3, \"y\": 0.4253628270374821}, {\"x0\": 0.26, \"y\": 1.0281917885714833}, {\"x0\": 0.17, \"y\": -0.47111371361764226}], \"data-acff5d90cfe74e2a0f1f8550f6c47bee\": [{\"x0\": -1.0, \"f\": -0.6892392331898884}, {\"x0\": -0.9797979797979798, \"f\": -0.6806610997591639}, {\"x0\": -0.9595959595959596, \"f\": -0.6537217760499272}, {\"x0\": -0.9393939393939394, \"f\": -0.6173473878051987}, {\"x0\": -0.9191919191919192, \"f\": -0.579897507139974}, {\"x0\": -0.898989898989899, \"f\": -0.5431051411063175}, {\"x0\": -0.8787878787878788, \"f\": -0.5184887913231906}, {\"x0\": -0.8585858585858586, \"f\": -0.5056694704644196}, {\"x0\": -0.8383838383838383, \"f\": -0.4995756143349117}, {\"x0\": -0.8181818181818181, \"f\": -0.5015786018855894}, {\"x0\": -0.797979797979798, \"f\": -0.5106439858808608}, {\"x0\": -0.7777777777777778, \"f\": -0.5215165299677809}, {\"x0\": -0.7575757575757576, \"f\": -0.5317761972574842}, {\"x0\": -0.7373737373737373, \"f\": -0.533813097350811}, {\"x0\": -0.7171717171717171, \"f\": -0.5275948388564609}, {\"x0\": -0.696969696969697, \"f\": -0.5093285489241186}, {\"x0\": -0.6767676767676767, \"f\": -0.4882691334942332}, {\"x0\": -0.6565656565656566, \"f\": -0.4614259463905998}, {\"x0\": -0.6363636363636364, \"f\": -0.43330108198718065}, {\"x0\": -0.6161616161616161, \"f\": -0.42009560957629843}, {\"x0\": -0.5959595959595959, \"f\": -0.41108754652353097}, {\"x0\": -0.5757575757575757, \"f\": -0.39553121681110426}, {\"x0\": -0.5555555555555556, \"f\": -0.3625839218845671}, {\"x0\": -0.5353535353535352, \"f\": -0.32183122618185755}, {\"x0\": -0.5151515151515151, \"f\": -0.2714844677303372}, {\"x0\": -0.4949494949494949, \"f\": -0.21085960043202434}, {\"x0\": -0.4747474747474747, \"f\": -0.1446970287490002}, {\"x0\": -0.4545454545454545, \"f\": -0.08081260686427272}, {\"x0\": -0.43434343434343425, \"f\": -0.01964034413058713}, {\"x0\": -0.41414141414141414, \"f\": 0.037514166106617175}, {\"x0\": -0.3939393939393939, \"f\": 0.08413762495545918}, {\"x0\": -0.3737373737373737, \"f\": 0.11681258523245197}, {\"x0\": -0.3535353535353535, \"f\": 0.13845365734669812}, {\"x0\": -0.33333333333333326, \"f\": 0.1464223299500128}, {\"x0\": -0.31313131313131304, \"f\": 0.14128313534714254}, {\"x0\": -0.2929292929292928, \"f\": 0.1272565394357702}, {\"x0\": -0.2727272727272727, \"f\": 0.10821234865729246}, {\"x0\": -0.2525252525252525, \"f\": 0.08165677477805977}, {\"x0\": -0.23232323232323226, \"f\": 0.05322341644251061}, {\"x0\": -0.21212121212121204, \"f\": 0.015404241945983332}, {\"x0\": -0.19191919191919182, \"f\": -0.0320837095717218}, {\"x0\": -0.1717171717171716, \"f\": -0.09106938844719903}, {\"x0\": -0.1515151515151515, \"f\": -0.15709723640977352}, {\"x0\": -0.13131313131313127, \"f\": -0.221559226843623}, {\"x0\": -0.11111111111111105, \"f\": -0.2857551671810168}, {\"x0\": -0.09090909090909083, \"f\": -0.33624569970788487}, {\"x0\": -0.07070707070707061, \"f\": -0.37069876493063425}, {\"x0\": -0.050505050505050386, \"f\": -0.3857204106713237}, {\"x0\": -0.030303030303030276, \"f\": -0.3874060630673327}, {\"x0\": -0.010101010101010055, \"f\": -0.38363632118537205}, {\"x0\": 0.010101010101010166, \"f\": -0.3850951204427744}, {\"x0\": 0.030303030303030498, \"f\": -0.38857858178497895}, {\"x0\": 0.05050505050505061, \"f\": -0.38155475344902823}, {\"x0\": 0.07070707070707072, \"f\": -0.3586061920906222}, {\"x0\": 0.09090909090909105, \"f\": -0.32957651494437945}, {\"x0\": 0.11111111111111116, \"f\": -0.28539735977848274}, {\"x0\": 0.1313131313131315, \"f\": -0.22667038419484173}, {\"x0\": 0.1515151515151516, \"f\": -0.15755784373531423}, {\"x0\": 0.1717171717171717, \"f\": -0.08353345170146231}, {\"x0\": 0.19191919191919204, \"f\": -0.006676187876858308}, {\"x0\": 0.21212121212121215, \"f\": 0.06971303089157577}, {\"x0\": 0.2323232323232325, \"f\": 0.13674155834388912}, {\"x0\": 0.2525252525252526, \"f\": 0.1956373063875506}, {\"x0\": 0.27272727272727293, \"f\": 0.24236818614696806}, {\"x0\": 0.29292929292929304, \"f\": 0.2709067849834043}, {\"x0\": 0.31313131313131315, \"f\": 0.27414910661413117}, {\"x0\": 0.3333333333333335, \"f\": 0.2464082136064206}, {\"x0\": 0.3535353535353536, \"f\": 0.20471218654446838}, {\"x0\": 0.3737373737373739, \"f\": 0.14025235892362936}, {\"x0\": 0.39393939393939403, \"f\": 0.0620005807371707}, {\"x0\": 0.41414141414141437, \"f\": -0.03685602472802597}, {\"x0\": 0.4343434343434345, \"f\": -0.15195992770461703}, {\"x0\": 0.4545454545454546, \"f\": -0.2755273562654136}, {\"x0\": 0.4747474747474749, \"f\": -0.3984605594379116}, {\"x0\": 0.49494949494949503, \"f\": -0.521650341755953}, {\"x0\": 0.5151515151515154, \"f\": -0.6326602065217941}, {\"x0\": 0.5353535353535355, \"f\": -0.7338631401964328}, {\"x0\": 0.5555555555555556, \"f\": -0.8231652565334718}, {\"x0\": 0.5757575757575759, \"f\": -0.902301918793394}, {\"x0\": 0.595959595959596, \"f\": -0.9809035766604357}, {\"x0\": 0.6161616161616164, \"f\": -1.0505412555077234}, {\"x0\": 0.6363636363636365, \"f\": -1.1102616654356139}, {\"x0\": 0.6565656565656568, \"f\": -1.1607635032007333}, {\"x0\": 0.6767676767676769, \"f\": -1.1960473568961438}, {\"x0\": 0.696969696969697, \"f\": -1.209685961593115}, {\"x0\": 0.7171717171717173, \"f\": -1.2176946311289112}, {\"x0\": 0.7373737373737375, \"f\": -1.2087373172612919}, {\"x0\": 0.7575757575757578, \"f\": -1.1735824403592363}, {\"x0\": 0.7777777777777779, \"f\": -1.1235723800298834}, {\"x0\": 0.7979797979797982, \"f\": -1.0640088496452516}, {\"x0\": 0.8181818181818183, \"f\": -0.9915754431353911}, {\"x0\": 0.8383838383838385, \"f\": -0.920408381667928}, {\"x0\": 0.8585858585858588, \"f\": -0.8479864495093129}, {\"x0\": 0.8787878787878789, \"f\": -0.7713720651244426}, {\"x0\": 0.8989898989898992, \"f\": -0.688919573399066}, {\"x0\": 0.9191919191919193, \"f\": -0.6100471389093958}, {\"x0\": 0.9393939393939394, \"f\": -0.5345652615192215}, {\"x0\": 0.9595959595959598, \"f\": -0.47333966339488154}, {\"x0\": 0.9797979797979799, \"f\": -0.42299166486684814}, {\"x0\": 1.0, \"f\": -0.3968178125149512}]}}, {\"mode\": \"vega-lite\"});\n",
       "</script>"
      ],
      "text/plain": [
       "alt.LayerChart(...)"
      ]
     },
     "execution_count": 118,
     "metadata": {},
     "output_type": "execute_result"
    }
   ],
   "source": [
    "f1 = blackbox1.sample_f(100)\n",
    "chart1f = (\n",
    "    alt.Chart(f1)\n",
    "    .mark_line()\n",
    "    .encode(x='x0', y='f'))\n",
    "chart1y = blackbox1.plot_xy()\n",
    "chart1 = alt.layer(chart1y, chart1f)\n",
    "chart1.properties(width=800, height=300)"
   ]
  },
  {
   "cell_type": "markdown",
   "metadata": {},
   "source": [
    "Note that we didn't actually sample the underlying function `f` until the cell above.\n",
    "If you execute the cell above again, you will have a different sample for `f` that is also consistent with the noisy observations `y` we have already seen.\n",
    "We can do this because Gaussian processes have a nice consistency property under marginalisation.\n",
    "\n",
    "### Bayesian optimisation for 1-dimensional input\n",
    "Now we will try Bayesian optimisation using the [Trieste](https://secondmind-labs.github.io/trieste/) package which uses [GPflow](https://gpflow.readthedocs.io/en/master/) for Gaussian process regression.\n",
    "This section is based on the Trieste tutorial."
   ]
  },
  {
   "cell_type": "code",
   "execution_count": 119,
   "metadata": {},
   "outputs": [],
   "source": [
    "model1 = gpflow.models.GPR((f1['x0'].to_numpy().reshape((-1, 1)), f1['f'].to_numpy().reshape((-1, 1))),\n",
    "                           kernel=gpflow.kernels.Matern52(lengthscales=.4),\n",
    "                           noise_variance=1.1e-6)\n",
    "\n",
    "def blackbox_bo1(x):\n",
    "    mean, var = model1.predict_y(tf.reshape(x, (-1, 1)))\n",
    "    return - bb.rng.normal(loc=mean, scale=np.sqrt(blackbox1.noise_variance))"
   ]
  },
  {
   "cell_type": "markdown",
   "metadata": {},
   "source": [
    "#### Initial sample over search space"
   ]
  },
  {
   "cell_type": "code",
   "execution_count": 120,
   "metadata": {},
   "outputs": [],
   "source": [
    "observer = mk_observer(blackbox_bo1, OBJECTIVE)\n",
    "lower_bound = tf.cast([bb.DOMAIN_MIN], gpflow.default_float())\n",
    "upper_bound = tf.cast([bb.DOMAIN_MAX], gpflow.default_float())\n",
    "search_space = trieste.space.Box(lower_bound, upper_bound)\n",
    "\n",
    "num_initial_points = 5\n",
    "initial_query_points = search_space.sample(num_initial_points)\n",
    "initial_data = observer(initial_query_points)"
   ]
  },
  {
   "cell_type": "markdown",
   "metadata": {},
   "source": [
    "#### Model the objective function"
   ]
  },
  {
   "cell_type": "code",
   "execution_count": 121,
   "metadata": {},
   "outputs": [
    {
     "name": "stdout",
     "output_type": "stream",
     "text": [
      "╒═════════════════════════╤═══════════╤══════════════════╤═════════╤═════════════╤═════════╤═════════╤═════════════════════╕\n",
      "│ name                    │ class     │ transform        │ prior   │ trainable   │ shape   │ dtype   │ value               │\n",
      "╞═════════════════════════╪═══════════╪══════════════════╪═════════╪═════════════╪═════════╪═════════╪═════════════════════╡\n",
      "│ GPR.kernel.variance     │ Parameter │ Softplus         │         │ True        │ ()      │ float64 │ 1.0                 │\n",
      "├─────────────────────────┼───────────┼──────────────────┼─────────┼─────────────┼─────────┼─────────┼─────────────────────┤\n",
      "│ GPR.kernel.lengthscales │ Parameter │ Softplus         │         │ False       │ (1,)    │ float64 │ [0.40000001]        │\n",
      "├─────────────────────────┼───────────┼──────────────────┼─────────┼─────────────┼─────────┼─────────┼─────────────────────┤\n",
      "│ GPR.likelihood.variance │ Parameter │ Softplus + Shift │         │ False       │ ()      │ float64 │ 0.16000000000000003 │\n",
      "╘═════════════════════════╧═══════════╧══════════════════╧═════════╧═════════════╧═════════╧═════════╧═════════════════════╛\n"
     ]
    }
   ],
   "source": [
    "kernel = gpflow.kernels.Matern52(lengthscales=0.4 * tf.ones(1,))\n",
    "objective_model = gpflow.models.GPR(astuple(initial_data[OBJECTIVE]),\n",
    "                                    kernel=kernel,\n",
    "                                    noise_variance=blackbox1.noise_variance)\n",
    "set_trainable(objective_model.kernel.lengthscales, False)\n",
    "set_trainable(objective_model.likelihood, False)\n",
    "print_summary(objective_model)"
   ]
  },
  {
   "cell_type": "code",
   "execution_count": 122,
   "metadata": {},
   "outputs": [],
   "source": [
    "model = {OBJECTIVE: trieste.models.create_model_interface(\n",
    "    {\n",
    "        \"model\": objective_model,\n",
    "        \"optimizer\": gpflow.optimizers.Scipy(),\n",
    "        \"optimizer_args\": {\"options\": dict(maxiter=100)},\n",
    "    }\n",
    ")}"
   ]
  },
  {
   "cell_type": "markdown",
   "metadata": {},
   "source": [
    "#### Acquisition function\n",
    "Could try either of the two below.\n",
    "`ExpectedImprovement` is the default in Trieste.\n",
    "`NegativeLowerConfidenceBound` is probably more robust to model mis-specification."
   ]
  },
  {
   "cell_type": "code",
   "execution_count": 107,
   "metadata": {},
   "outputs": [],
   "source": [
    "acq_fn = NegativeLowerConfidenceBound()\n",
    "# acq_fn = ExpectedImprovement()\n",
    "rule = trieste.acquisition.rule.EfficientGlobalOptimization(acq_fn.using(OBJECTIVE))"
   ]
  },
  {
   "cell_type": "markdown",
   "metadata": {},
   "source": [
    "#### Optimisation loop"
   ]
  },
  {
   "cell_type": "code",
   "execution_count": 108,
   "metadata": {},
   "outputs": [],
   "source": [
    "bo = trieste.bayesian_optimizer.BayesianOptimizer(observer, search_space)\n",
    "result: OptimizationResult = bo.optimize(15, initial_data, model, acquisition_rule=rule)\n",
    "if result.error is not None:\n",
    "    raise result.error\n",
    "dataset = result.datasets[OBJECTIVE]"
   ]
  },
  {
   "cell_type": "markdown",
   "metadata": {},
   "source": [
    "#### Explore results\n",
    "First use the optimiser's model to predict the underlying function, `f`, with uncertainty."
   ]
  },
  {
   "cell_type": "code",
   "execution_count": 109,
   "metadata": {},
   "outputs": [],
   "source": [
    "mean, var = model[OBJECTIVE].model.predict_f(f1['x0'].to_numpy().reshape((-1, 1)))\n",
    "bo_f1 = pd.DataFrame(dict(x0=f1['x0'],\n",
    "                          f=- mean.numpy()[:, 0],\n",
    "                          sd=np.sqrt(var.numpy()[:, 0])))"
   ]
  },
  {
   "cell_type": "markdown",
   "metadata": {},
   "source": [
    "Next retrieve the evaluations the optimiser received from the black box."
   ]
  },
  {
   "cell_type": "code",
   "execution_count": 110,
   "metadata": {},
   "outputs": [],
   "source": [
    "observations = pd.DataFrame(dict(x0=dataset.query_points.numpy()[:, 0],\n",
    "                                 y=- dataset.observations.numpy()[:, 0]))"
   ]
  },
  {
   "cell_type": "markdown",
   "metadata": {},
   "source": [
    "Now plot the optimiser's estimate of the underlying function in green (with error bars +/- two standard deviations),\n",
    "the black box evaluations in red and the true underlying function in blue."
   ]
  },
  {
   "cell_type": "code",
   "execution_count": 111,
   "metadata": {},
   "outputs": [
    {
     "data": {
      "text/html": [
       "\n",
       "<div id=\"altair-viz-7cf845afbdba429082af44bcb9d5a024\"></div>\n",
       "<script type=\"text/javascript\">\n",
       "  (function(spec, embedOpt){\n",
       "    let outputDiv = document.currentScript.previousElementSibling;\n",
       "    if (outputDiv.id !== \"altair-viz-7cf845afbdba429082af44bcb9d5a024\") {\n",
       "      outputDiv = document.getElementById(\"altair-viz-7cf845afbdba429082af44bcb9d5a024\");\n",
       "    }\n",
       "    const paths = {\n",
       "      \"vega\": \"https://cdn.jsdelivr.net/npm//vega@5?noext\",\n",
       "      \"vega-lib\": \"https://cdn.jsdelivr.net/npm//vega-lib?noext\",\n",
       "      \"vega-lite\": \"https://cdn.jsdelivr.net/npm//vega-lite@4.8.1?noext\",\n",
       "      \"vega-embed\": \"https://cdn.jsdelivr.net/npm//vega-embed@6?noext\",\n",
       "    };\n",
       "\n",
       "    function loadScript(lib) {\n",
       "      return new Promise(function(resolve, reject) {\n",
       "        var s = document.createElement('script');\n",
       "        s.src = paths[lib];\n",
       "        s.async = true;\n",
       "        s.onload = () => resolve(paths[lib]);\n",
       "        s.onerror = () => reject(`Error loading script: ${paths[lib]}`);\n",
       "        document.getElementsByTagName(\"head\")[0].appendChild(s);\n",
       "      });\n",
       "    }\n",
       "\n",
       "    function showError(err) {\n",
       "      outputDiv.innerHTML = `<div class=\"error\" style=\"color:red;\">${err}</div>`;\n",
       "      throw err;\n",
       "    }\n",
       "\n",
       "    function displayChart(vegaEmbed) {\n",
       "      vegaEmbed(outputDiv, spec, embedOpt)\n",
       "        .catch(err => showError(`Javascript Error: ${err.message}<br>This usually means there's a typo in your chart specification. See the javascript console for the full traceback.`));\n",
       "    }\n",
       "\n",
       "    if(typeof define === \"function\" && define.amd) {\n",
       "      requirejs.config({paths});\n",
       "      require([\"vega-embed\"], displayChart, err => showError(`Error loading script: ${err.message}`));\n",
       "    } else if (typeof vegaEmbed === \"function\") {\n",
       "      displayChart(vegaEmbed);\n",
       "    } else {\n",
       "      loadScript(\"vega\")\n",
       "        .then(() => loadScript(\"vega-lite\"))\n",
       "        .then(() => loadScript(\"vega-embed\"))\n",
       "        .catch(showError)\n",
       "        .then(() => displayChart(vegaEmbed));\n",
       "    }\n",
       "  })({\"config\": {\"view\": {\"continuousWidth\": 400, \"continuousHeight\": 300}}, \"layer\": [{\"data\": {\"name\": \"data-b9ea5ea459e61104da1a63341c312ea6\"}, \"mark\": {\"type\": \"circle\", \"color\": \"red\", \"size\": 60}, \"encoding\": {\"x\": {\"type\": \"quantitative\", \"field\": \"x0\"}, \"y\": {\"type\": \"quantitative\", \"field\": \"y\"}}}, {\"data\": {\"name\": \"data-157a4cdfb10b25001ce259219e117fc4\"}, \"mark\": {\"type\": \"errorbar\", \"color\": \"green\"}, \"encoding\": {\"x\": {\"type\": \"quantitative\", \"field\": \"x0\"}, \"y\": {\"type\": \"quantitative\", \"field\": \"fmin\"}, \"y2\": {\"field\": \"fmax\"}}}, {\"data\": {\"name\": \"data-54f527473772da361f2c1c182a975bcf\"}, \"mark\": {\"type\": \"line\", \"color\": \"green\"}, \"encoding\": {\"x\": {\"type\": \"quantitative\", \"field\": \"x0\"}, \"y\": {\"type\": \"quantitative\", \"field\": \"f\"}}}, {\"data\": {\"name\": \"data-abdb12729592d02bfaf50787be7194df\"}, \"mark\": \"line\", \"encoding\": {\"x\": {\"type\": \"quantitative\", \"field\": \"x0\"}, \"y\": {\"type\": \"quantitative\", \"field\": \"f\"}}}], \"height\": 300, \"width\": 800, \"$schema\": \"https://vega.github.io/schema/vega-lite/v4.8.1.json\", \"datasets\": {\"data-b9ea5ea459e61104da1a63341c312ea6\": [{\"x0\": 0.1258437549431548, \"y\": -0.5257571681983239}, {\"x0\": -0.8023752396720925, \"y\": 0.35175042567129}, {\"x0\": 0.5166176325846092, \"y\": -1.349739156833677}, {\"x0\": -0.5829181925813924, \"y\": -0.6954601097670368}, {\"x0\": 0.637369291998025, \"y\": -0.8406506374381701}, {\"x0\": -0.9999975999517831, \"y\": 0.7633691927069944}, {\"x0\": 0.9999977398910438, \"y\": -2.209491031667007}, {\"x0\": -0.9999978833142721, \"y\": -0.3250788623636547}, {\"x0\": -0.19692036858413908, \"y\": 0.5049497096232929}, {\"x0\": -0.2049472646584648, \"y\": 0.6071539062555928}, {\"x0\": -0.13922525342906245, \"y\": 0.1974165243628583}, {\"x0\": -0.29846859545121696, \"y\": 0.20322087571927416}, {\"x0\": -0.13656390658315698, \"y\": 0.23350486615500454}, {\"x0\": -0.27566690602473654, \"y\": 0.4565823852172417}, {\"x0\": -0.999995275904506, \"y\": 0.6460809913361444}, {\"x0\": -0.9999932836156665, \"y\": 0.7995494521637249}, {\"x0\": -0.9999961270443125, \"y\": 0.5544478617806217}, {\"x0\": -0.9110822406027029, \"y\": 0.47826896510367556}, {\"x0\": -0.26315062093206665, \"y\": 0.803186924478567}, {\"x0\": -0.9999969905000543, \"y\": 0.6771877993825086}], \"data-157a4cdfb10b25001ce259219e117fc4\": [{\"x0\": -1.0, \"f\": 0.5146728625001036, \"sd\": 0.15311482581550917, \"fmin\": 0.20844321086908524, \"fmax\": 0.8209025141311219}, {\"x0\": -0.9797979797979798, \"f\": 0.49978889440878504, \"sd\": 0.1469743457721873, \"fmin\": 0.20584020286441046, \"fmax\": 0.7937375859531597}, {\"x0\": -0.9595959595959596, \"f\": 0.4802177881759494, \"sd\": 0.15179565199022074, \"fmin\": 0.17662648419550792, \"fmax\": 0.7838090921563909}, {\"x0\": -0.9393939393939394, \"f\": 0.45577595954314887, \"sd\": 0.16385297375468796, \"fmin\": 0.12807001203377294, \"fmax\": 0.7834819070525247}, {\"x0\": -0.9191919191919192, \"f\": 0.42636151672022315, \"sd\": 0.179389915954635, \"fmin\": 0.06758168481095317, \"fmax\": 0.7851413486294931}, {\"x0\": -0.898989898989899, \"f\": 0.39197571769747375, \"sd\": 0.1958488573661614, \"fmin\": 0.00027800296515095857, \"fmax\": 0.7836734324297965}, {\"x0\": -0.8787878787878788, \"f\": 0.3527483498782239, \"sd\": 0.21181014537362844, \"fmin\": -0.07087194086903298, \"fmax\": 0.7763686406254808}, {\"x0\": -0.8585858585858586, \"f\": 0.30895185067303704, \"sd\": 0.22661369292522215, \"fmin\": -0.14427553517740727, \"fmax\": 0.7621792365234814}, {\"x0\": -0.8383838383838383, \"f\": 0.2610077998619746, \"sd\": 0.24006033956193232, \"fmin\": -0.21911287926189005, \"fmax\": 0.7411284789858392}, {\"x0\": -0.8181818181818181, \"f\": 0.20950026825113266, \"sd\": 0.25219439232724067, \"fmin\": -0.2948885164033487, \"fmax\": 0.713889052905614}, {\"x0\": -0.797979797979798, \"f\": 0.1551980572451303, \"sd\": 0.263133348611621, \"fmin\": -0.37106863997811174, \"fmax\": 0.6814647544683723}, {\"x0\": -0.7777777777777778, \"f\": 0.09908371382436669, \"sd\": 0.27293155988670337, \"fmin\": -0.44677940594904003, \"fmax\": 0.6449468335977734}, {\"x0\": -0.7575757575757576, \"f\": 0.04235611589193615, \"sd\": 0.2815253985037461, \"fmin\": -0.5206946811155561, \"fmax\": 0.6054069128994283}, {\"x0\": -0.7373737373737373, \"f\": -0.013618743502621187, \"sd\": 0.28879042686521483, \"fmin\": -0.5911995972330508, \"fmax\": 0.5639621102278085}, {\"x0\": -0.7171717171717171, \"f\": -0.0673657854274206, \"sd\": 0.29462612797341775, \"fmin\": -0.6566180413742561, \"fmax\": 0.521886470519415}, {\"x0\": -0.696969696969697, \"f\": -0.11735525952860672, \"sd\": 0.29902677656013366, \"fmin\": -0.715408812648874, \"fmax\": 0.4806982935916606}, {\"x0\": -0.6767676767676767, \"f\": -0.16205618224346324, \"sd\": 0.3021259865080492, \"fmin\": -0.7663081552595616, \"fmax\": 0.4421957907726352}, {\"x0\": -0.6565656565656566, \"f\": -0.1999917054902856, \"sd\": 0.3042076680923078, \"fmin\": -0.8084070416749012, \"fmax\": 0.40842363069433}, {\"x0\": -0.6363636363636364, \"f\": -0.2297993892827104, \"sd\": 0.30567820910480253, \"fmin\": -0.8411558074923154, \"fmax\": 0.3815570289268947}, {\"x0\": -0.6161616161616161, \"f\": -0.25029950206774737, \"sd\": 0.3069969697196165, \"fmin\": -0.8642934415069803, \"fmax\": 0.3636944373714856}, {\"x0\": -0.5959595959595959, \"f\": -0.2605747100379539, \"sd\": 0.3085681952070426, \"fmin\": -0.877711100452039, \"fmax\": 0.3565616803761313}, {\"x0\": -0.5757575757575757, \"f\": -0.26006483391478546, \"sd\": 0.3106087769011719, \"fmin\": -0.8812823877171292, \"fmax\": 0.3611527198875583}, {\"x0\": -0.5555555555555556, \"f\": -0.24867050980447294, \"sd\": 0.3130264846892986, \"fmin\": -0.8747234791830701, \"fmax\": 0.3773824595741243}, {\"x0\": -0.5353535353535352, \"f\": -0.22677755705414257, \"sd\": 0.3154034886261375, \"fmin\": -0.8575845343064176, \"fmax\": 0.40402942019813237}, {\"x0\": -0.5151515151515151, \"f\": -0.19517156300715968, \"sd\": 0.31710953052372864, \"fmin\": -0.8293906240546169, \"fmax\": 0.43904749804029763}, {\"x0\": -0.4949494949494949, \"f\": -0.15494749020991716, \"sd\": 0.31743950526873954, \"fmin\": -0.7898265007473962, \"fmax\": 0.4799315203275619}, {\"x0\": -0.4747474747474747, \"f\": -0.10743610033074248, \"sd\": 0.3157306771384744, \"fmin\": -0.7388974546076913, \"fmax\": 0.5240252539462064}, {\"x0\": -0.4545454545454545, \"f\": -0.05414403024050719, \"sd\": 0.3114485119601091, \"fmin\": -0.6770410541607254, \"fmax\": 0.568752993679711}, {\"x0\": -0.43434343434343425, \"f\": 0.003295509432801517, \"sd\": 0.3042428196599743, \"fmin\": -0.605190129887147, \"fmax\": 0.6117811487527501}, {\"x0\": -0.41414141414141414, \"f\": 0.06316413727214433, \"sd\": 0.2939816277860237, \"fmin\": -0.5247991182999031, \"fmax\": 0.6511273928441917}, {\"x0\": -0.3939393939393939, \"f\": 0.12369430095792613, \"sd\": 0.28077075156938863, \"fmin\": -0.43784720218085116, \"fmax\": 0.6852358040967034}, {\"x0\": -0.3737373737373737, \"f\": 0.183102212800696, \"sd\": 0.26496496789769663, \"fmin\": -0.3468277229946973, \"fmax\": 0.7130321485960893}, {\"x0\": -0.3535353535353535, \"f\": 0.23961997137746635, \"sd\": 0.24717349103027145, \"fmin\": -0.25472701068307657, \"fmax\": 0.7339669534380092}, {\"x0\": -0.33333333333333326, \"f\": 0.2915290978712312, \"sd\": 0.22825800113699593, \"fmin\": -0.16498690440276065, \"fmax\": 0.7480451001452231}, {\"x0\": -0.31313131313131304, \"f\": 0.3371977597951086, \"sd\": 0.2093143776943555, \"fmin\": -0.08143099559360245, \"fmax\": 0.7558265151838196}, {\"x0\": -0.2929292929292928, \"f\": 0.37512406715119345, \"sd\": 0.19161793449746753, \"fmin\": -0.008111801843741606, \"fmax\": 0.7583599361461285}, {\"x0\": -0.2727272727272727, \"f\": 0.4039908551010943, \"sd\": 0.176502898879839, \"fmin\": 0.050985057341416284, \"fmax\": 0.7569966528607723}, {\"x0\": -0.2525252525252525, \"f\": 0.4227660725964264, \"sd\": 0.1651852098487193, \"fmin\": 0.09239565289898782, \"fmax\": 0.753136492293865}, {\"x0\": -0.23232323232323226, \"f\": 0.43084556842047694, \"sd\": 0.1585824953807334, \"fmin\": 0.11368057765901013, \"fmax\": 0.7480105591819437}, {\"x0\": -0.21212121212121204, \"f\": 0.42810102902053687, \"sd\": 0.15718872611935167, \"fmin\": 0.11372357678183354, \"fmax\": 0.7424784812592402}, {\"x0\": -0.19191919191919182, \"f\": 0.4148418445144225, \"sd\": 0.16100281894227272, \"fmin\": 0.09283620662987707, \"fmax\": 0.7368474823989679}, {\"x0\": -0.1717171717171716, \"f\": 0.39177363739687715, \"sd\": 0.1695230162027911, \"fmin\": 0.052727604991294974, \"fmax\": 0.7308196698024594}, {\"x0\": -0.1515151515151515, \"f\": 0.35990380511572134, \"sd\": 0.1818794087003351, \"fmin\": -0.0038550122849488333, \"fmax\": 0.7236626225163916}, {\"x0\": -0.13131313131313127, \"f\": 0.3203928546776672, \"sd\": 0.19702136688826627, \"fmin\": -0.07364987909886533, \"fmax\": 0.7144355884541997}, {\"x0\": -0.11111111111111105, \"f\": 0.2744109789535235, \"sd\": 0.21380926006163112, \"fmin\": -0.15320754116973873, \"fmax\": 0.7020294990767857}, {\"x0\": -0.09090909090909083, \"f\": 0.2230543180202393, \"sd\": 0.23108987182524038, \"fmin\": -0.23912542563024144, \"fmax\": 0.6852340616707201}, {\"x0\": -0.07070707070707061, \"f\": 0.16733612293548877, \"sd\": 0.24782357957666343, \"fmin\": -0.3283110362178381, \"fmax\": 0.6629832820888156}, {\"x0\": -0.050505050505050386, \"f\": 0.10819294921118143, \"sd\": 0.2631785306300307, \"fmin\": -0.41816411204888, \"fmax\": 0.6345500104712428}, {\"x0\": -0.030303030303030276, \"f\": 0.0464906843045736, \"sd\": 0.2765824164405896, \"fmin\": -0.5066741485766056, \"fmax\": 0.5996555171857528}, {\"x0\": -0.010101010101010055, \"f\": -0.016970108501562123, \"sd\": 0.28774842109060444, \"fmin\": -0.592466950682771, \"fmax\": 0.5585267336796468}, {\"x0\": 0.010101010101010166, \"f\": -0.08144987166709289, \"sd\": 0.2966849335042785, \"fmin\": -0.6748197386756498, \"fmax\": 0.5119199953414642}, {\"x0\": 0.030303030303030498, \"f\": -0.14626711490641733, \"sd\": 0.3036903229897341, \"fmin\": -0.7536477608858855, \"fmax\": 0.46111353107305086}, {\"x0\": 0.05050505050505061, \"f\": -0.21079723782114224, \"sd\": 0.30932690863093953, \"fmin\": -0.8294510550830213, \"fmax\": 0.40785657944073683}, {\"x0\": 0.07070707070707072, \"f\": -0.2744735360100348, \"sd\": 0.31436293491025313, \"fmin\": -0.903199405830541, \"fmax\": 0.35425233381047144}, {\"x0\": 0.09090909090909105, \"f\": -0.3367908695266537, \"sd\": 0.3196703702434839, \"fmin\": -0.9761316100136215, \"fmax\": 0.30254987096031405}, {\"x0\": 0.11111111111111116, \"f\": -0.39731254561892837, \"sd\": 0.3260741356367178, \"fmin\": -1.0494608168923638, \"fmax\": 0.2548357256545072}, {\"x0\": 0.1313131313131315, \"f\": -0.4556810582634404, \"sd\": 0.33416748562505566, \"fmin\": -1.1240160295135517, \"fmax\": 0.2126539129866709}, {\"x0\": 0.1515151515151516, \"f\": -0.5116319558010551, \"sd\": 0.3441375392971375, \"fmin\": -1.1999070343953302, \"fmax\": 0.1766431227932198}, {\"x0\": 0.1717171717171717, \"f\": -0.5649949297138689, \"sd\": 0.355710567513915, \"fmin\": -1.2764160647416989, \"fmax\": 0.1464262053139611}, {\"x0\": 0.19191919191919204, \"f\": -0.6156728553528605, \"sd\": 0.36826332822148533, \"fmin\": -1.3521995117958312, \"fmax\": 0.12085380109011012}, {\"x0\": 0.21212121212121215, \"f\": -0.6636195722547221, \"sd\": 0.38098085234249834, \"fmin\": -1.425581276939719, \"fmax\": 0.09834213243027456}, {\"x0\": 0.2323232323232325, \"f\": -0.7088220128331308, \"sd\": 0.39299568971861953, \"fmin\": -1.49481339227037, \"fmax\": 0.07716936660410822}, {\"x0\": 0.2525252525252526, \"f\": -0.7512862155099704, \"sd\": 0.40348882975042893, \"fmin\": -1.5582638750108284, \"fmax\": 0.055691443990887435}, {\"x0\": 0.27272727272727293, \"f\": -0.7910267927348638, \"sd\": 0.41175220612420194, \"fmin\": -1.6145312049832676, \"fmax\": 0.03247761951354011}, {\"x0\": 0.29292929292929304, \"f\": -0.8280595416164455, \"sd\": 0.41722214959755527, \"fmin\": -1.662503840811556, \"fmax\": 0.006384757578665079}, {\"x0\": 0.31313131313131315, \"f\": -0.8623969953657669, \"sd\": 0.41949464948596915, \"fmin\": -1.7013862943377052, \"fmax\": -0.02340769639382856}, {\"x0\": 0.3333333333333335, \"f\": -0.8940468201439379, \"sd\": 0.4183311328518852, \"fmin\": -1.7307090858477083, \"fmax\": -0.057384554440167435}, {\"x0\": 0.3535353535353536, \"f\": -0.9230130668516875, \"sd\": 0.4136606102589959, \"fmin\": -1.7503342873696792, \"fmax\": -0.09569184633369565}, {\"x0\": 0.3737373737373739, \"f\": -0.9493003935195139, \"sd\": 0.4055816481268197, \"fmin\": -1.7604636897731534, \"fmax\": -0.13813709726587453}, {\"x0\": 0.39393939393939403, \"f\": -0.9729214839118184, \"sd\": 0.3943658467172502, \"fmin\": -1.7616531773463189, \"fmax\": -0.18418979047731798}, {\"x0\": 0.41414141414141437, \"f\": -0.9939080044983057, \"sd\": 0.3804630128953448, \"fmin\": -1.7548340302889953, \"fmax\": -0.23298197870761617}, {\"x0\": 0.4343434343434345, \"f\": -1.0123255679727432, \"sd\": 0.3645064951127616, \"fmin\": -1.7413385581982666, \"fmax\": -0.28331257774721996}, {\"x0\": 0.4545454545454546, \"f\": -1.0282933101266485, \"sd\": 0.34731451825216, \"fmin\": -1.7229223466309684, \"fmax\": -0.33366427362232853}, {\"x0\": 0.4747474747474749, \"f\": -1.0420088415033495, \"sd\": 0.3298791188494145, \"fmin\": -1.7017670792021784, \"fmax\": -0.3822506038045205}, {\"x0\": 0.49494949494949503, \"f\": -1.0537795096030664, \"sd\": 0.3133284102205612, \"fmin\": -1.6804363300441887, \"fmax\": -0.42712268916194407}, {\"x0\": 0.5151515151515154, \"f\": -1.0640611056430687, \"sd\": 0.29884299895901395, \"fmin\": -1.6617471035610967, \"fmax\": -0.46637510772504076}, {\"x0\": 0.5353535353535355, \"f\": -1.073504352255461, \"sd\": 0.2875125272959447, \"fmin\": -1.6485294068473504, \"fmax\": -0.4984792976635717}, {\"x0\": 0.5555555555555556, \"f\": -1.082978145022121, \"sd\": 0.28017453016415017, \"fmin\": -1.6433272053504213, \"fmax\": -0.5226290846938206}, {\"x0\": 0.5757575757575759, \"f\": -1.0935054315413608, \"sd\": 0.27733688658267763, \"fmin\": -1.648179204706716, \"fmax\": -0.5388316583760056}, {\"x0\": 0.595959595959596, \"f\": -1.106162733602344, \"sd\": 0.27915390888438124, \"fmin\": -1.6644705513711067, \"fmax\": -0.5478549158335816}, {\"x0\": 0.6161616161616164, \"f\": -1.1219813400993865, \"sd\": 0.2854224220557817, \"fmin\": -1.69282618421095, \"fmax\": -0.5511364959878231}, {\"x0\": 0.6363636363636365, \"f\": -1.1418480015653427, \"sd\": 0.29559729152522357, \"fmin\": -1.7330425846157897, \"fmax\": -0.5506534185148956}, {\"x0\": 0.6565656565656568, \"f\": -1.1664020717722057, \"sd\": 0.30882109853639944, \"fmin\": -1.7840442688450047, \"fmax\": -0.5487598746994068}, {\"x0\": 0.6767676767676769, \"f\": -1.1959609218883538, \"sd\": 0.323992244801813, \"fmin\": -1.8439454114919798, \"fmax\": -0.5479764322847278}, {\"x0\": 0.696969696969697, \"f\": -1.2305376954375695, \"sd\": 0.339916103274294, \"fmin\": -1.9103699019861575, \"fmax\": -0.5507054888889815}, {\"x0\": 0.7171717171717173, \"f\": -1.269892682273694, \"sd\": 0.3554507872086851, \"fmin\": -1.9807942566910643, \"fmax\": -0.5589911078563238}, {\"x0\": 0.7373737373737375, \"f\": -1.3135770626332597, \"sd\": 0.3695958066312591, \"fmin\": -2.052768675895778, \"fmax\": -0.5743854493707414}, {\"x0\": 0.7575757575757578, \"f\": -1.3609688661631822, \"sd\": 0.3815356839082497, \"fmin\": -2.124040233979682, \"fmax\": -0.5978974983466828}, {\"x0\": 0.7777777777777779, \"f\": -1.4113028246125878, \"sd\": 0.39065782567266577, \"fmin\": -2.1926184759579193, \"fmax\": -0.6299871732672563}, {\"x0\": 0.7979797979797982, \"f\": -1.463695656676574, \"sd\": 0.39655971286270725, \"fmin\": -2.2568150824019884, \"fmax\": -0.6705762309511595}, {\"x0\": 0.8181818181818183, \"f\": -1.5171682263124033, \"sd\": 0.39905491113331715, \"fmin\": -2.315278048579038, \"fmax\": -0.719058404045769}, {\"x0\": 0.8383838383838385, \"f\": -1.5706659599294261, \"sd\": 0.3981832882902444, \"fmin\": -2.3670325365099147, \"fmax\": -0.7742993833489373}, {\"x0\": 0.8585858585858588, \"f\": -1.6230788923247104, \"sd\": 0.3942280478457047, \"fmin\": -2.4115349880161197, \"fmax\": -0.834622796633301}, {\"x0\": 0.8787878787878789, \"f\": -1.6732627361537602, \"sd\": 0.3877396083500555, \"fmin\": -2.4487419528538714, \"fmax\": -0.8977835194536492}, {\"x0\": 0.8989898989898992, \"f\": -1.7200624360691887, \"sd\": 0.3795623464486549, \"fmin\": -2.4791871289664984, \"fmax\": -0.960937743171879}, {\"x0\": 0.9191919191919193, \"f\": -1.762339778354378, \"sd\": 0.3708527598341663, \"fmin\": -2.5040452980227106, \"fmax\": -1.0206342586860453}, {\"x0\": 0.9393939393939394, \"f\": -1.7990067828399317, \"sd\": 0.36306525639811277, \"fmin\": -2.5251372956361573, \"fmax\": -1.072876270043706}, {\"x0\": 0.9595959595959598, \"f\": -1.8290668100854195, \"sd\": 0.3578674726929121, \"fmin\": -2.5448017554712434, \"fmax\": -1.1133318646995953}, {\"x0\": 0.9797979797979799, \"f\": -1.8516655783427323, \"sd\": 0.35694511211848523, \"fmin\": -2.565555802579703, \"fmax\": -1.1377753541057618}, {\"x0\": 1.0, \"f\": -1.8661546080398912, \"sd\": 0.3616927700579819, \"fmin\": -2.589540148155855, \"fmax\": -1.1427690679239273}], \"data-54f527473772da361f2c1c182a975bcf\": [{\"x0\": -1.0, \"f\": 0.5146728625001036, \"sd\": 0.15311482581550917}, {\"x0\": -0.9797979797979798, \"f\": 0.49978889440878504, \"sd\": 0.1469743457721873}, {\"x0\": -0.9595959595959596, \"f\": 0.4802177881759494, \"sd\": 0.15179565199022074}, {\"x0\": -0.9393939393939394, \"f\": 0.45577595954314887, \"sd\": 0.16385297375468796}, {\"x0\": -0.9191919191919192, \"f\": 0.42636151672022315, \"sd\": 0.179389915954635}, {\"x0\": -0.898989898989899, \"f\": 0.39197571769747375, \"sd\": 0.1958488573661614}, {\"x0\": -0.8787878787878788, \"f\": 0.3527483498782239, \"sd\": 0.21181014537362844}, {\"x0\": -0.8585858585858586, \"f\": 0.30895185067303704, \"sd\": 0.22661369292522215}, {\"x0\": -0.8383838383838383, \"f\": 0.2610077998619746, \"sd\": 0.24006033956193232}, {\"x0\": -0.8181818181818181, \"f\": 0.20950026825113266, \"sd\": 0.25219439232724067}, {\"x0\": -0.797979797979798, \"f\": 0.1551980572451303, \"sd\": 0.263133348611621}, {\"x0\": -0.7777777777777778, \"f\": 0.09908371382436669, \"sd\": 0.27293155988670337}, {\"x0\": -0.7575757575757576, \"f\": 0.04235611589193615, \"sd\": 0.2815253985037461}, {\"x0\": -0.7373737373737373, \"f\": -0.013618743502621187, \"sd\": 0.28879042686521483}, {\"x0\": -0.7171717171717171, \"f\": -0.0673657854274206, \"sd\": 0.29462612797341775}, {\"x0\": -0.696969696969697, \"f\": -0.11735525952860672, \"sd\": 0.29902677656013366}, {\"x0\": -0.6767676767676767, \"f\": -0.16205618224346324, \"sd\": 0.3021259865080492}, {\"x0\": -0.6565656565656566, \"f\": -0.1999917054902856, \"sd\": 0.3042076680923078}, {\"x0\": -0.6363636363636364, \"f\": -0.2297993892827104, \"sd\": 0.30567820910480253}, {\"x0\": -0.6161616161616161, \"f\": -0.25029950206774737, \"sd\": 0.3069969697196165}, {\"x0\": -0.5959595959595959, \"f\": -0.2605747100379539, \"sd\": 0.3085681952070426}, {\"x0\": -0.5757575757575757, \"f\": -0.26006483391478546, \"sd\": 0.3106087769011719}, {\"x0\": -0.5555555555555556, \"f\": -0.24867050980447294, \"sd\": 0.3130264846892986}, {\"x0\": -0.5353535353535352, \"f\": -0.22677755705414257, \"sd\": 0.3154034886261375}, {\"x0\": -0.5151515151515151, \"f\": -0.19517156300715968, \"sd\": 0.31710953052372864}, {\"x0\": -0.4949494949494949, \"f\": -0.15494749020991716, \"sd\": 0.31743950526873954}, {\"x0\": -0.4747474747474747, \"f\": -0.10743610033074248, \"sd\": 0.3157306771384744}, {\"x0\": -0.4545454545454545, \"f\": -0.05414403024050719, \"sd\": 0.3114485119601091}, {\"x0\": -0.43434343434343425, \"f\": 0.003295509432801517, \"sd\": 0.3042428196599743}, {\"x0\": -0.41414141414141414, \"f\": 0.06316413727214433, \"sd\": 0.2939816277860237}, {\"x0\": -0.3939393939393939, \"f\": 0.12369430095792613, \"sd\": 0.28077075156938863}, {\"x0\": -0.3737373737373737, \"f\": 0.183102212800696, \"sd\": 0.26496496789769663}, {\"x0\": -0.3535353535353535, \"f\": 0.23961997137746635, \"sd\": 0.24717349103027145}, {\"x0\": -0.33333333333333326, \"f\": 0.2915290978712312, \"sd\": 0.22825800113699593}, {\"x0\": -0.31313131313131304, \"f\": 0.3371977597951086, \"sd\": 0.2093143776943555}, {\"x0\": -0.2929292929292928, \"f\": 0.37512406715119345, \"sd\": 0.19161793449746753}, {\"x0\": -0.2727272727272727, \"f\": 0.4039908551010943, \"sd\": 0.176502898879839}, {\"x0\": -0.2525252525252525, \"f\": 0.4227660725964264, \"sd\": 0.1651852098487193}, {\"x0\": -0.23232323232323226, \"f\": 0.43084556842047694, \"sd\": 0.1585824953807334}, {\"x0\": -0.21212121212121204, \"f\": 0.42810102902053687, \"sd\": 0.15718872611935167}, {\"x0\": -0.19191919191919182, \"f\": 0.4148418445144225, \"sd\": 0.16100281894227272}, {\"x0\": -0.1717171717171716, \"f\": 0.39177363739687715, \"sd\": 0.1695230162027911}, {\"x0\": -0.1515151515151515, \"f\": 0.35990380511572134, \"sd\": 0.1818794087003351}, {\"x0\": -0.13131313131313127, \"f\": 0.3203928546776672, \"sd\": 0.19702136688826627}, {\"x0\": -0.11111111111111105, \"f\": 0.2744109789535235, \"sd\": 0.21380926006163112}, {\"x0\": -0.09090909090909083, \"f\": 0.2230543180202393, \"sd\": 0.23108987182524038}, {\"x0\": -0.07070707070707061, \"f\": 0.16733612293548877, \"sd\": 0.24782357957666343}, {\"x0\": -0.050505050505050386, \"f\": 0.10819294921118143, \"sd\": 0.2631785306300307}, {\"x0\": -0.030303030303030276, \"f\": 0.0464906843045736, \"sd\": 0.2765824164405896}, {\"x0\": -0.010101010101010055, \"f\": -0.016970108501562123, \"sd\": 0.28774842109060444}, {\"x0\": 0.010101010101010166, \"f\": -0.08144987166709289, \"sd\": 0.2966849335042785}, {\"x0\": 0.030303030303030498, \"f\": -0.14626711490641733, \"sd\": 0.3036903229897341}, {\"x0\": 0.05050505050505061, \"f\": -0.21079723782114224, \"sd\": 0.30932690863093953}, {\"x0\": 0.07070707070707072, \"f\": -0.2744735360100348, \"sd\": 0.31436293491025313}, {\"x0\": 0.09090909090909105, \"f\": -0.3367908695266537, \"sd\": 0.3196703702434839}, {\"x0\": 0.11111111111111116, \"f\": -0.39731254561892837, \"sd\": 0.3260741356367178}, {\"x0\": 0.1313131313131315, \"f\": -0.4556810582634404, \"sd\": 0.33416748562505566}, {\"x0\": 0.1515151515151516, \"f\": -0.5116319558010551, \"sd\": 0.3441375392971375}, {\"x0\": 0.1717171717171717, \"f\": -0.5649949297138689, \"sd\": 0.355710567513915}, {\"x0\": 0.19191919191919204, \"f\": -0.6156728553528605, \"sd\": 0.36826332822148533}, {\"x0\": 0.21212121212121215, \"f\": -0.6636195722547221, \"sd\": 0.38098085234249834}, {\"x0\": 0.2323232323232325, \"f\": -0.7088220128331308, \"sd\": 0.39299568971861953}, {\"x0\": 0.2525252525252526, \"f\": -0.7512862155099704, \"sd\": 0.40348882975042893}, {\"x0\": 0.27272727272727293, \"f\": -0.7910267927348638, \"sd\": 0.41175220612420194}, {\"x0\": 0.29292929292929304, \"f\": -0.8280595416164455, \"sd\": 0.41722214959755527}, {\"x0\": 0.31313131313131315, \"f\": -0.8623969953657669, \"sd\": 0.41949464948596915}, {\"x0\": 0.3333333333333335, \"f\": -0.8940468201439379, \"sd\": 0.4183311328518852}, {\"x0\": 0.3535353535353536, \"f\": -0.9230130668516875, \"sd\": 0.4136606102589959}, {\"x0\": 0.3737373737373739, \"f\": -0.9493003935195139, \"sd\": 0.4055816481268197}, {\"x0\": 0.39393939393939403, \"f\": -0.9729214839118184, \"sd\": 0.3943658467172502}, {\"x0\": 0.41414141414141437, \"f\": -0.9939080044983057, \"sd\": 0.3804630128953448}, {\"x0\": 0.4343434343434345, \"f\": -1.0123255679727432, \"sd\": 0.3645064951127616}, {\"x0\": 0.4545454545454546, \"f\": -1.0282933101266485, \"sd\": 0.34731451825216}, {\"x0\": 0.4747474747474749, \"f\": -1.0420088415033495, \"sd\": 0.3298791188494145}, {\"x0\": 0.49494949494949503, \"f\": -1.0537795096030664, \"sd\": 0.3133284102205612}, {\"x0\": 0.5151515151515154, \"f\": -1.0640611056430687, \"sd\": 0.29884299895901395}, {\"x0\": 0.5353535353535355, \"f\": -1.073504352255461, \"sd\": 0.2875125272959447}, {\"x0\": 0.5555555555555556, \"f\": -1.082978145022121, \"sd\": 0.28017453016415017}, {\"x0\": 0.5757575757575759, \"f\": -1.0935054315413608, \"sd\": 0.27733688658267763}, {\"x0\": 0.595959595959596, \"f\": -1.106162733602344, \"sd\": 0.27915390888438124}, {\"x0\": 0.6161616161616164, \"f\": -1.1219813400993865, \"sd\": 0.2854224220557817}, {\"x0\": 0.6363636363636365, \"f\": -1.1418480015653427, \"sd\": 0.29559729152522357}, {\"x0\": 0.6565656565656568, \"f\": -1.1664020717722057, \"sd\": 0.30882109853639944}, {\"x0\": 0.6767676767676769, \"f\": -1.1959609218883538, \"sd\": 0.323992244801813}, {\"x0\": 0.696969696969697, \"f\": -1.2305376954375695, \"sd\": 0.339916103274294}, {\"x0\": 0.7171717171717173, \"f\": -1.269892682273694, \"sd\": 0.3554507872086851}, {\"x0\": 0.7373737373737375, \"f\": -1.3135770626332597, \"sd\": 0.3695958066312591}, {\"x0\": 0.7575757575757578, \"f\": -1.3609688661631822, \"sd\": 0.3815356839082497}, {\"x0\": 0.7777777777777779, \"f\": -1.4113028246125878, \"sd\": 0.39065782567266577}, {\"x0\": 0.7979797979797982, \"f\": -1.463695656676574, \"sd\": 0.39655971286270725}, {\"x0\": 0.8181818181818183, \"f\": -1.5171682263124033, \"sd\": 0.39905491113331715}, {\"x0\": 0.8383838383838385, \"f\": -1.5706659599294261, \"sd\": 0.3981832882902444}, {\"x0\": 0.8585858585858588, \"f\": -1.6230788923247104, \"sd\": 0.3942280478457047}, {\"x0\": 0.8787878787878789, \"f\": -1.6732627361537602, \"sd\": 0.3877396083500555}, {\"x0\": 0.8989898989898992, \"f\": -1.7200624360691887, \"sd\": 0.3795623464486549}, {\"x0\": 0.9191919191919193, \"f\": -1.762339778354378, \"sd\": 0.3708527598341663}, {\"x0\": 0.9393939393939394, \"f\": -1.7990067828399317, \"sd\": 0.36306525639811277}, {\"x0\": 0.9595959595959598, \"f\": -1.8290668100854195, \"sd\": 0.3578674726929121}, {\"x0\": 0.9797979797979799, \"f\": -1.8516655783427323, \"sd\": 0.35694511211848523}, {\"x0\": 1.0, \"f\": -1.8661546080398912, \"sd\": 0.3616927700579819}], \"data-abdb12729592d02bfaf50787be7194df\": [{\"x0\": -1.0, \"f\": 0.5729788005401375}, {\"x0\": -0.9797979797979798, \"f\": 0.5801372484535091}, {\"x0\": -0.9595959595959596, \"f\": 0.5786122335706355}, {\"x0\": -0.9393939393939394, \"f\": 0.5755443850495234}, {\"x0\": -0.9191919191919192, \"f\": 0.5665343623821523}, {\"x0\": -0.898989898989899, \"f\": 0.559652779152226}, {\"x0\": -0.8787878787878788, \"f\": 0.5615936909513057}, {\"x0\": -0.8585858585858586, \"f\": 0.5593147804524341}, {\"x0\": -0.8383838383838383, \"f\": 0.5481740504568775}, {\"x0\": -0.8181818181818181, \"f\": 0.5292535398571101}, {\"x0\": -0.797979797979798, \"f\": 0.49136108700241066}, {\"x0\": -0.7777777777777778, \"f\": 0.4457571914355098}, {\"x0\": -0.7575757575757576, \"f\": 0.38175299174584854}, {\"x0\": -0.7373737373737373, \"f\": 0.3057188283155739}, {\"x0\": -0.7171717171717171, \"f\": 0.22143377130640352}, {\"x0\": -0.696969696969697, \"f\": 0.1320285661983004}, {\"x0\": -0.6767676767676767, \"f\": 0.037577650673045304}, {\"x0\": -0.6565656565656566, \"f\": -0.04215031914171652}, {\"x0\": -0.6363636363636364, \"f\": -0.1094534398823539}, {\"x0\": -0.6161616161616161, \"f\": -0.16440075101698381}, {\"x0\": -0.5959595959595959, \"f\": -0.21799291040523971}, {\"x0\": -0.5757575757575757, \"f\": -0.2560477192946967}, {\"x0\": -0.5555555555555556, \"f\": -0.2756188161409802}, {\"x0\": -0.5353535353535352, \"f\": -0.27222005035991537}, {\"x0\": -0.5151515151515151, \"f\": -0.2377026788300458}, {\"x0\": -0.4949494949494949, \"f\": -0.18928175363714939}, {\"x0\": -0.4747474747474747, \"f\": -0.13309240060023564}, {\"x0\": -0.4545454545454545, \"f\": -0.059334548132794485}, {\"x0\": -0.43434343434343425, \"f\": 0.03093781476949864}, {\"x0\": -0.41414141414141414, \"f\": 0.13191989352908262}, {\"x0\": -0.3939393939393939, \"f\": 0.2367344883363014}, {\"x0\": -0.3737373737373737, \"f\": 0.3478154918849692}, {\"x0\": -0.3535353535353535, \"f\": 0.44638254805345157}, {\"x0\": -0.33333333333333326, \"f\": 0.5283473908734441}, {\"x0\": -0.31313131313131304, \"f\": 0.586862070089435}, {\"x0\": -0.2929292929292928, \"f\": 0.6054364294491249}, {\"x0\": -0.2727272727272727, \"f\": 0.6009955898132525}, {\"x0\": -0.2525252525252525, \"f\": 0.5749655022222567}, {\"x0\": -0.23232323232323226, \"f\": 0.5303095728050838}, {\"x0\": -0.21212121212121204, \"f\": 0.4808213549938749}, {\"x0\": -0.19191919191919182, \"f\": 0.418352637100833}, {\"x0\": -0.1717171717171716, \"f\": 0.35172118914547906}, {\"x0\": -0.1515151515151515, \"f\": 0.2733521864654077}, {\"x0\": -0.13131313131313127, \"f\": 0.18743063602360238}, {\"x0\": -0.11111111111111105, \"f\": 0.10702480661005231}, {\"x0\": -0.09090909090909083, \"f\": 0.041878988092490466}, {\"x0\": -0.07070707070707061, \"f\": 0.0015031602967815472}, {\"x0\": -0.050505050505050386, \"f\": -0.029927182646229566}, {\"x0\": -0.030303030303030276, \"f\": -0.04548221367336852}, {\"x0\": -0.010101010101010055, \"f\": -0.05741550425386727}, {\"x0\": 0.010101010101010166, \"f\": -0.06807734915854494}, {\"x0\": 0.030303030303030498, \"f\": -0.07829325670093848}, {\"x0\": 0.05050505050505061, \"f\": -0.08252498492850197}, {\"x0\": 0.07070707070707072, \"f\": -0.07987441947903431}, {\"x0\": 0.09090909090909105, \"f\": -0.06978811126539061}, {\"x0\": 0.11111111111111116, \"f\": -0.049476437701426124}, {\"x0\": 0.1313131313131315, \"f\": -0.009617733537877038}, {\"x0\": 0.1515151515151516, \"f\": 0.0504528599690946}, {\"x0\": 0.1717171717171717, \"f\": 0.11650913494350174}, {\"x0\": 0.19191919191919204, \"f\": 0.18931604786755785}, {\"x0\": 0.21212121212121215, \"f\": 0.2588471891081439}, {\"x0\": 0.2323232323232325, \"f\": 0.317930029814294}, {\"x0\": 0.2525252525252526, \"f\": 0.35628262379710246}, {\"x0\": 0.27272727272727293, \"f\": 0.37480447327368055}, {\"x0\": 0.29292929292929304, \"f\": 0.35681895527549745}, {\"x0\": 0.31313131313131315, \"f\": 0.30385168601917295}, {\"x0\": 0.3333333333333335, \"f\": 0.22207401340737254}, {\"x0\": 0.3535353535353536, \"f\": 0.12767933668382822}, {\"x0\": 0.3737373737373739, \"f\": 0.025750745371083628}, {\"x0\": 0.39393939393939403, \"f\": -0.06955161074610243}, {\"x0\": 0.41414141414141437, \"f\": -0.16775392467867498}, {\"x0\": 0.4343434343434345, \"f\": -0.2617733077709897}, {\"x0\": 0.4545454545454546, \"f\": -0.34049075599331796}, {\"x0\": 0.4747474747474749, \"f\": -0.40969906477211493}, {\"x0\": 0.49494949494949503, \"f\": -0.48080424090360996}, {\"x0\": 0.5151515151515154, \"f\": -0.566635451790074}, {\"x0\": 0.5353535353535355, \"f\": -0.6657413144200095}, {\"x0\": 0.5555555555555556, \"f\": -0.7740139188072626}, {\"x0\": 0.5757575757575759, \"f\": -0.8768397233280459}, {\"x0\": 0.595959595959596, \"f\": -0.9663861910238687}, {\"x0\": 0.6161616161616164, \"f\": -1.0483211535094898}, {\"x0\": 0.6363636363636365, \"f\": -1.1264657253543497}, {\"x0\": 0.6565656565656568, \"f\": -1.1941929491358403}, {\"x0\": 0.6767676767676769, \"f\": -1.2463687816468214}, {\"x0\": 0.696969696969697, \"f\": -1.2875711097376632}, {\"x0\": 0.7171717171717173, \"f\": -1.3337489641932365}, {\"x0\": 0.7373737373737375, \"f\": -1.3837018662861023}, {\"x0\": 0.7575757575757578, \"f\": -1.4372094801058997}, {\"x0\": 0.7777777777777779, \"f\": -1.4821438090708423}, {\"x0\": 0.7979797979797982, \"f\": -1.5207794795223606}, {\"x0\": 0.8181818181818183, \"f\": -1.5621940593792198}, {\"x0\": 0.8383838383838385, \"f\": -1.606306222561332}, {\"x0\": 0.8585858585858588, \"f\": -1.6473151650683024}, {\"x0\": 0.8787878787878789, \"f\": -1.6807735137481155}, {\"x0\": 0.8989898989898992, \"f\": -1.7057337631897371}, {\"x0\": 0.9191919191919193, \"f\": -1.727246013095934}, {\"x0\": 0.9393939393939394, \"f\": -1.7503476637261222}, {\"x0\": 0.9595959595959598, \"f\": -1.767355061672426}, {\"x0\": 0.9797979797979799, \"f\": -1.7685942300304975}, {\"x0\": 1.0, \"f\": -1.7489187058200903}]}}, {\"mode\": \"vega-lite\"});\n",
       "</script>"
      ],
      "text/plain": [
       "alt.LayerChart(...)"
      ]
     },
     "execution_count": 111,
     "metadata": {},
     "output_type": "execute_result"
    }
   ],
   "source": [
    "chart_bo_f1 = (\n",
    "    alt.Chart(bo_f1)\n",
    "    .mark_line(color='green')\n",
    "    .encode(x='x0:Q', y='f:Q'))\n",
    "chart_bo_ferror = (\n",
    "    alt.Chart(bo_f1.assign(fmin=bo_f1['f'] - 2 * bo_f1['sd'], fmax=bo_f1['f'] + 2 * bo_f1['sd']))\n",
    "    .mark_errorbar(color='green')\n",
    "    .encode(x=\"x0:Q\", y=\"fmin:Q\", y2=\"fmax:Q\"))\n",
    "chart_obs = (\n",
    "    alt.Chart(observations)\n",
    "    .mark_circle(color='red', size=60)\n",
    "    .encode(x='x0:Q', y='y:Q'))\n",
    "(chart_obs + chart_bo_ferror + chart_bo_f1 + chart1f).properties(width=800, height=300)"
   ]
  },
  {
   "cell_type": "markdown",
   "metadata": {},
   "source": [
    "### 2-dimensional input\n",
    "If you wish, you can try the same optimisation problem but for a function of two variables."
   ]
  },
  {
   "cell_type": "code",
   "execution_count": null,
   "metadata": {},
   "outputs": [],
   "source": [
    "blackbox2 = bb.GPBlackBox(ndim=2)\n",
    "x0 = widgets.FloatSlider(\n",
    "    value=0.5,\n",
    "    min=bb.DOMAIN_MIN,\n",
    "    max=bb.DOMAIN_MAX,\n",
    "    step=0.01,\n",
    "    description='x0:',\n",
    "    readout_format='.2f',\n",
    ")\n",
    "x1 = widgets.FloatSlider(\n",
    "    value=0.5,\n",
    "    min=bb.DOMAIN_MIN,\n",
    "    max=bb.DOMAIN_MAX,\n",
    "    step=0.01,\n",
    "    description='x1:',\n",
    "    readout_format='.2f',\n",
    ")\n",
    "w = widgets.Box([x0, x1])"
   ]
  },
  {
   "cell_type": "markdown",
   "metadata": {},
   "source": [
    "Choose which input point (x0, x1) to evaluate the function at:"
   ]
  },
  {
   "cell_type": "code",
   "execution_count": null,
   "metadata": {},
   "outputs": [],
   "source": [
    "display(w)"
   ]
  },
  {
   "cell_type": "markdown",
   "metadata": {},
   "source": [
    "Evaluate the function and plot all the evaluations so far:"
   ]
  },
  {
   "cell_type": "code",
   "execution_count": null,
   "metadata": {},
   "outputs": [],
   "source": [
    "y = blackbox2([x0.value, x1.value])[0][0]\n",
    "print(f'Evaluated black box at ({x0.value}, {x1.value}); result={y}')\n",
    "blackbox2.plot_xy()"
   ]
  },
  {
   "cell_type": "markdown",
   "metadata": {},
   "source": [
    "If you have finished evaluating the function at different points and you are confident where the maximum is, you can make a guess before executing the cells below.\n",
    "\n",
    "Now show the underlying function f (without noise) as a heatmap and the noisy data we received as evaluations of it:"
   ]
  },
  {
   "cell_type": "code",
   "execution_count": null,
   "metadata": {},
   "outputs": [],
   "source": [
    "f2 = blackbox2.sample_f(51)\n",
    "chart2f = (\n",
    "    alt.Chart(f2)\n",
    "    .mark_square(size=60)\n",
    "    .encode(x=alt.X('x0:Q', scale=alt.Scale(domain=bb.DOMAIN)),\n",
    "            y=alt.Y('x1:Q', scale=alt.Scale(domain=bb.DOMAIN)),\n",
    "            color=alt.Color('f:Q', scale=alt.Scale(scheme=bb.COLOURSCHEME, domainMid=0))))\n",
    "chart2y = blackbox2.plot_xy()\n",
    "chart2 = alt.layer(chart2f, chart2y)\n",
    "chart2.properties(width=800, height=300)"
   ]
  },
  {
   "cell_type": "code",
   "execution_count": null,
   "metadata": {},
   "outputs": [],
   "source": []
  }
 ],
 "metadata": {
  "kernelspec": {
   "display_name": "Python 3",
   "language": "python",
   "name": "python3"
  },
  "language_info": {
   "codemirror_mode": {
    "name": "ipython",
    "version": 3
   },
   "file_extension": ".py",
   "mimetype": "text/x-python",
   "name": "python",
   "nbconvert_exporter": "python",
   "pygments_lexer": "ipython3",
   "version": "3.8.5"
  }
 },
 "nbformat": 4,
 "nbformat_minor": 4
}
