{
 "cells": [
  {
   "cell_type": "markdown",
   "metadata": {},
   "source": [
    "# Xmas Bayesian Optimisation Guessing Game\n",
    "This notebook implements a xmas-themed guessing game to try and find the maximum of a black-box function.\n",
    "It is part of this [repository](https://github.com/JohnReid/BayesOptJournalClub)."
   ]
  },
  {
   "cell_type": "code",
   "execution_count": 67,
   "metadata": {},
   "outputs": [],
   "source": [
    "from dataclasses import astuple\n",
    "import ipywidgets as widgets\n",
    "from IPython.display import display\n",
    "import numpy as np\n",
    "from scipy.interpolate import interp1d\n",
    "import pandas as pd\n",
    "import altair as alt\n",
    "\n",
    "# For Gaussian processes\n",
    "import gpflow\n",
    "from gpflow.utilities import print_summary, set_trainable\n",
    "import tensorflow as tf\n",
    "\n",
    "# For Bayesian optimisation\n",
    "import trieste\n",
    "from trieste.bayesian_optimizer import OptimizationResult\n",
    "from trieste.utils.objectives import mk_observer\n",
    "from trieste.acquisition.rule import OBJECTIVE, EfficientGlobalOptimization\n",
    "from trieste.acquisition import NegativeLowerConfidenceBound, ExpectedImprovement\n",
    "\n",
    "# Supporting code in the repository\n",
    "import blackbox as bb\n",
    "from importlib import reload\n",
    "reload(bb);"
   ]
  },
  {
   "cell_type": "markdown",
   "metadata": {},
   "source": [
    "## Santa's snowy scenario\n",
    "It is Xmas Eve and Santa has to deliver his presents to all the kids around the world.\n",
    "Unfortunately it has been a really cold winter and some houses are completely blanketed by snow.\n",
    "\n",
    "Santa does have a shovel and could dig down to the chimney of each house to deliver his presents if only he knew where the chimneys were.\n",
    "\n",
    "Fortunately Rudolph can help.\n",
    "He can measure the depth of the snow at any point with his antlers but unfortunately this takes some time and the measurements are noisy.\n",
    "\n",
    "Santa only has one night to deliver his presents, how can he find the chimneys in time?\n",
    "\n",
    "### Skyline\n",
    "Let's see what a typical house's skyline looks like.\n",
    "`x` represents the location and `depth` measures the depth below the snowline.\n",
    "\n",
    "The chimney is always the highest point on a house's skyline."
   ]
  },
  {
   "cell_type": "code",
   "execution_count": 2,
   "metadata": {},
   "outputs": [
    {
     "data": {
      "text/html": [
       "\n",
       "<div id=\"altair-viz-73ddb3bf56334d829f05c209b273997b\"></div>\n",
       "<script type=\"text/javascript\">\n",
       "  (function(spec, embedOpt){\n",
       "    let outputDiv = document.currentScript.previousElementSibling;\n",
       "    if (outputDiv.id !== \"altair-viz-73ddb3bf56334d829f05c209b273997b\") {\n",
       "      outputDiv = document.getElementById(\"altair-viz-73ddb3bf56334d829f05c209b273997b\");\n",
       "    }\n",
       "    const paths = {\n",
       "      \"vega\": \"https://cdn.jsdelivr.net/npm//vega@5?noext\",\n",
       "      \"vega-lib\": \"https://cdn.jsdelivr.net/npm//vega-lib?noext\",\n",
       "      \"vega-lite\": \"https://cdn.jsdelivr.net/npm//vega-lite@4.8.1?noext\",\n",
       "      \"vega-embed\": \"https://cdn.jsdelivr.net/npm//vega-embed@6?noext\",\n",
       "    };\n",
       "\n",
       "    function loadScript(lib) {\n",
       "      return new Promise(function(resolve, reject) {\n",
       "        var s = document.createElement('script');\n",
       "        s.src = paths[lib];\n",
       "        s.async = true;\n",
       "        s.onload = () => resolve(paths[lib]);\n",
       "        s.onerror = () => reject(`Error loading script: ${paths[lib]}`);\n",
       "        document.getElementsByTagName(\"head\")[0].appendChild(s);\n",
       "      });\n",
       "    }\n",
       "\n",
       "    function showError(err) {\n",
       "      outputDiv.innerHTML = `<div class=\"error\" style=\"color:red;\">${err}</div>`;\n",
       "      throw err;\n",
       "    }\n",
       "\n",
       "    function displayChart(vegaEmbed) {\n",
       "      vegaEmbed(outputDiv, spec, embedOpt)\n",
       "        .catch(err => showError(`Javascript Error: ${err.message}<br>This usually means there's a typo in your chart specification. See the javascript console for the full traceback.`));\n",
       "    }\n",
       "\n",
       "    if(typeof define === \"function\" && define.amd) {\n",
       "      requirejs.config({paths});\n",
       "      require([\"vega-embed\"], displayChart, err => showError(`Error loading script: ${err.message}`));\n",
       "    } else if (typeof vegaEmbed === \"function\") {\n",
       "      displayChart(vegaEmbed);\n",
       "    } else {\n",
       "      loadScript(\"vega\")\n",
       "        .then(() => loadScript(\"vega-lite\"))\n",
       "        .then(() => loadScript(\"vega-embed\"))\n",
       "        .catch(showError)\n",
       "        .then(() => displayChart(vegaEmbed));\n",
       "    }\n",
       "  })({\"config\": {\"view\": {\"continuousWidth\": 400, \"continuousHeight\": 300}}, \"data\": {\"name\": \"data-eece1b80502702ec77eb9edde3c4871e\"}, \"mark\": \"line\", \"encoding\": {\"x\": {\"type\": \"quantitative\", \"field\": \"x\"}, \"y\": {\"type\": \"quantitative\", \"field\": \"depth\"}}, \"height\": 300, \"width\": 800, \"$schema\": \"https://vega.github.io/schema/vega-lite/v4.8.1.json\", \"datasets\": {\"data-eece1b80502702ec77eb9edde3c4871e\": [{\"x\": -1.0, \"depth\": -0.9375501037048919}, {\"x\": -0.9797979797979798, \"depth\": -0.9355256318250791}, {\"x\": -0.9595959595959596, \"depth\": -0.9335018443629068}, {\"x\": -0.9393939393939394, \"depth\": -0.9314674611003788}, {\"x\": -0.9191919191919192, \"depth\": -0.9294287682680498}, {\"x\": -0.898989898989899, \"depth\": -0.9273774021736023}, {\"x\": -0.8787878787878788, \"depth\": -0.9253140835504028}, {\"x\": -0.8585858585858586, \"depth\": -0.9232414621351139}, {\"x\": -0.8383838383838383, \"depth\": -0.5211708578408243}, {\"x\": -0.8181818181818181, \"depth\": -0.5191013520744743}, {\"x\": -0.797979797979798, \"depth\": -0.5170572086599132}, {\"x\": -0.7777777777777778, \"depth\": -0.5150243907334497}, {\"x\": -0.7575757575757576, \"depth\": -0.5129841961983987}, {\"x\": -0.7373737373737373, \"depth\": -0.5109255278016329}, {\"x\": -0.7171717171717171, \"depth\": -0.5088613267665765}, {\"x\": -0.696969696969697, \"depth\": -0.5067988507502144}, {\"x\": -0.6767676767676767, \"depth\": -0.5047429798424132}, {\"x\": -0.6565656565656566, \"depth\": -0.502698287254147}, {\"x\": -0.6363636363636364, \"depth\": -0.5006637202368713}, {\"x\": -0.6161616161616161, \"depth\": -0.4986192619559822}, {\"x\": -0.5959595959595959, \"depth\": -0.49655664620397194}, {\"x\": -0.5757575757575757, \"depth\": -0.4944666169629674}, {\"x\": -0.5555555555555556, \"depth\": -0.4923512677867437}, {\"x\": -0.5353535353535352, \"depth\": -0.4901888911203091}, {\"x\": -0.5151515151515151, \"depth\": -0.48798974404686063}, {\"x\": -0.4949494949494949, \"depth\": -0.4857548363962301}, {\"x\": -0.4747474747474747, \"depth\": -0.4834793288306169}, {\"x\": -0.4545454545454545, \"depth\": -0.48116092815546024}, {\"x\": -0.43434343434343425, \"depth\": -0.4787950300819574}, {\"x\": -0.41414141414141414, \"depth\": -0.47636722361631795}, {\"x\": -0.3939393939393939, \"depth\": -0.4738720153506892}, {\"x\": -0.3737373737373737, \"depth\": -0.47132592885655084}, {\"x\": -0.3535353535353535, \"depth\": -0.4687440647105226}, {\"x\": -0.33333333333333326, \"depth\": -0.46611628622232765}, {\"x\": -0.31313131313131304, \"depth\": -0.4634437075393389}, {\"x\": -0.2929292929292928, \"depth\": -0.4607378318240773}, {\"x\": -0.2727272727272727, \"depth\": -0.45797736884390844}, {\"x\": -0.2525252525252525, \"depth\": -0.455147292265686}, {\"x\": -0.23232323232323226, \"depth\": -0.45224058459887045}, {\"x\": -0.21212121212121204, \"depth\": -0.44925401105275636}, {\"x\": -0.19191919191919182, \"depth\": -0.446183210182914}, {\"x\": -0.1717171717171716, \"depth\": -0.44302429113856195}, {\"x\": -0.1515151515151515, \"depth\": -0.43977159332434285}, {\"x\": -0.13131313131313127, \"depth\": -0.36641426353538376}, {\"x\": -0.11111111111111105, \"depth\": -0.3629565538557201}, {\"x\": -0.09090909090909083, \"depth\": -0.35940947981982785}, {\"x\": -0.07070707070707061, \"depth\": -0.35578061172875863}, {\"x\": -0.050505050505050386, \"depth\": -0.3520765158067848}, {\"x\": -0.030303030303030276, \"depth\": -0.41830442943385987}, {\"x\": -0.010101010101010055, \"depth\": -0.4144944322463861}, {\"x\": 0.010101010101010166, \"depth\": -0.4106772522528697}, {\"x\": 0.030303030303030498, \"depth\": -0.40684929605554054}, {\"x\": 0.05050505050505061, \"depth\": -0.4030152560895283}, {\"x\": 0.07070707070707072, \"depth\": -0.3991862290905085}, {\"x\": 0.09090909090909105, \"depth\": -0.39537760469658295}, {\"x\": 0.11111111111111116, \"depth\": -0.39159945824008197}, {\"x\": 0.1313131313131315, \"depth\": -0.38786116952363875}, {\"x\": 0.1515151515151516, \"depth\": -0.38418823035316974}, {\"x\": 0.1717171717171717, \"depth\": -0.3805996271260162}, {\"x\": 0.19191919191919204, \"depth\": -0.3770985419101828}, {\"x\": 0.21212121212121215, \"depth\": -0.37368066940822114}, {\"x\": 0.2323232323232325, \"depth\": -0.37034813963877067}, {\"x\": 0.2525252525252526, \"depth\": -0.36709590332895453}, {\"x\": 0.27272727272727293, \"depth\": -0.3639059876642934}, {\"x\": 0.29292929292929304, \"depth\": -0.3607770894305816}, {\"x\": 0.31313131313131315, \"depth\": -0.7576970465565742}, {\"x\": 0.3333333333333335, \"depth\": -0.7546565242830798}, {\"x\": 0.3535353535353536, \"depth\": -0.7516378915225004}, {\"x\": 0.3737373737373739, \"depth\": -0.7486348397571514}, {\"x\": 0.39393939393939403, \"depth\": -0.7456280005100722}, {\"x\": 0.41414141414141437, \"depth\": -0.742637697132591}, {\"x\": 0.4343434343434345, \"depth\": -0.7396833564685497}, {\"x\": 0.4545454545454546, \"depth\": -0.7367703367852194}, {\"x\": 0.4747474747474749, \"depth\": -0.7339000694198425}, {\"x\": 0.49494949494949503, \"depth\": -0.731078723296492}, {\"x\": 0.5151515151515154, \"depth\": -0.7283149638838485}, {\"x\": 0.5353535353535355, \"depth\": -0.7256080303282846}, {\"x\": 0.5555555555555556, \"depth\": -0.7229424396118959}, {\"x\": 0.5757575757575759, \"depth\": -0.7203148656953067}, {\"x\": 0.595959595959596, \"depth\": -0.7177378620826018}, {\"x\": 0.6161616161616164, \"depth\": -0.7152234146926415}, {\"x\": 0.6363636363636365, \"depth\": -0.7127686905470912}, {\"x\": 0.6565656565656568, \"depth\": -0.7103683693352498}, {\"x\": 0.6767676767676769, \"depth\": -0.7080085073116575}, {\"x\": 0.696969696969697, \"depth\": -0.7056731741943009}, {\"x\": 0.7171717171717173, \"depth\": -0.70337019005561}, {\"x\": 0.7373737373737375, \"depth\": -0.7010841903261333}, {\"x\": 0.7575757575757578, \"depth\": -0.6988242031086159}, {\"x\": 0.7777777777777779, \"depth\": -0.6965824425067213}, {\"x\": 0.7979797979797982, \"depth\": -0.6943641780268537}, {\"x\": 0.8181818181818183, \"depth\": -0.6921798926580962}, {\"x\": 0.8383838383838385, \"depth\": -0.6900272418792405}, {\"x\": 0.8585858585858588, \"depth\": -0.6879089132769887}, {\"x\": 0.8787878787878789, \"depth\": -0.6858224486751503}, {\"x\": 0.8989898989898992, \"depth\": -0.6837641211775414}, {\"x\": 0.9191919191919193, \"depth\": -0.6817342369233241}, {\"x\": 0.9393939393939394, \"depth\": -0.6797121886521591}, {\"x\": 0.9595959595959598, \"depth\": -0.6777058956386455}, {\"x\": 0.9797979797979799, \"depth\": -0.6757265914392007}, {\"x\": 1.0, \"depth\": -0.6737626748690841}]}}, {\"mode\": \"vega-lite\"});\n",
       "</script>"
      ],
      "text/plain": [
       "alt.Chart(...)"
      ]
     },
     "execution_count": 2,
     "metadata": {},
     "output_type": "execute_result"
    }
   ],
   "source": [
    "x, depth = bb.random_submerged_skyline(100)\n",
    "house = pd.DataFrame(dict(x=x, depth=depth))\n",
    "house_chart = (\n",
    "    alt.Chart(house)\n",
    "    .mark_line()\n",
    "    .encode(x='x', y='depth'))\n",
    "house_chart.properties(width=800, height=300)"
   ]
  },
  {
   "cell_type": "markdown",
   "metadata": {},
   "source": [
    "### Grid-search strategy\n",
    "One strategy to find the chimney is to lay down a grid and ask Rudolph to measure the height at each grid point.\n",
    "\n",
    "Let's fix the standard deviation of the Rudolph's measurement error and choose a number of grid points:"
   ]
  },
  {
   "cell_type": "code",
   "execution_count": 3,
   "metadata": {},
   "outputs": [
    {
     "data": {
      "application/vnd.jupyter.widget-view+json": {
       "model_id": "101f7f42ac86466aa2936aa08e26db9d",
       "version_major": 2,
       "version_minor": 0
      },
      "text/plain": [
       "FloatSlider(value=0.04, description='error sd:', max=0.1, min=0.02, step=0.01)"
      ]
     },
     "metadata": {},
     "output_type": "display_data"
    },
    {
     "data": {
      "application/vnd.jupyter.widget-view+json": {
       "model_id": "36f132aadb564999938de808fb3b5388",
       "version_major": 2,
       "version_minor": 0
      },
      "text/plain": [
       "IntSlider(value=20, description='grid size:', min=3)"
      ]
     },
     "metadata": {},
     "output_type": "display_data"
    }
   ],
   "source": [
    "error_sd = widgets.FloatSlider(\n",
    "    value=.04,\n",
    "    min=0.02,\n",
    "    max=.1,\n",
    "    step=0.01,\n",
    "    description='error sd:',\n",
    "    readout_format='.2f',\n",
    ")\n",
    "npoints = widgets.IntSlider(\n",
    "    value=20,\n",
    "    min=3,\n",
    "    max=100,\n",
    "    step=1,\n",
    "    description='grid size:',\n",
    "    readout_format='d'\n",
    ")\n",
    "display(error_sd)\n",
    "display(npoints)"
   ]
  },
  {
   "cell_type": "markdown",
   "metadata": {},
   "source": [
    "Rudolph makes his measurements."
   ]
  },
  {
   "cell_type": "code",
   "execution_count": 4,
   "metadata": {},
   "outputs": [
    {
     "data": {
      "text/html": [
       "\n",
       "<div id=\"altair-viz-8762633489414adeb6ca7e7e78a97ad7\"></div>\n",
       "<script type=\"text/javascript\">\n",
       "  (function(spec, embedOpt){\n",
       "    let outputDiv = document.currentScript.previousElementSibling;\n",
       "    if (outputDiv.id !== \"altair-viz-8762633489414adeb6ca7e7e78a97ad7\") {\n",
       "      outputDiv = document.getElementById(\"altair-viz-8762633489414adeb6ca7e7e78a97ad7\");\n",
       "    }\n",
       "    const paths = {\n",
       "      \"vega\": \"https://cdn.jsdelivr.net/npm//vega@5?noext\",\n",
       "      \"vega-lib\": \"https://cdn.jsdelivr.net/npm//vega-lib?noext\",\n",
       "      \"vega-lite\": \"https://cdn.jsdelivr.net/npm//vega-lite@4.8.1?noext\",\n",
       "      \"vega-embed\": \"https://cdn.jsdelivr.net/npm//vega-embed@6?noext\",\n",
       "    };\n",
       "\n",
       "    function loadScript(lib) {\n",
       "      return new Promise(function(resolve, reject) {\n",
       "        var s = document.createElement('script');\n",
       "        s.src = paths[lib];\n",
       "        s.async = true;\n",
       "        s.onload = () => resolve(paths[lib]);\n",
       "        s.onerror = () => reject(`Error loading script: ${paths[lib]}`);\n",
       "        document.getElementsByTagName(\"head\")[0].appendChild(s);\n",
       "      });\n",
       "    }\n",
       "\n",
       "    function showError(err) {\n",
       "      outputDiv.innerHTML = `<div class=\"error\" style=\"color:red;\">${err}</div>`;\n",
       "      throw err;\n",
       "    }\n",
       "\n",
       "    function displayChart(vegaEmbed) {\n",
       "      vegaEmbed(outputDiv, spec, embedOpt)\n",
       "        .catch(err => showError(`Javascript Error: ${err.message}<br>This usually means there's a typo in your chart specification. See the javascript console for the full traceback.`));\n",
       "    }\n",
       "\n",
       "    if(typeof define === \"function\" && define.amd) {\n",
       "      requirejs.config({paths});\n",
       "      require([\"vega-embed\"], displayChart, err => showError(`Error loading script: ${err.message}`));\n",
       "    } else if (typeof vegaEmbed === \"function\") {\n",
       "      displayChart(vegaEmbed);\n",
       "    } else {\n",
       "      loadScript(\"vega\")\n",
       "        .then(() => loadScript(\"vega-lite\"))\n",
       "        .then(() => loadScript(\"vega-embed\"))\n",
       "        .catch(showError)\n",
       "        .then(() => displayChart(vegaEmbed));\n",
       "    }\n",
       "  })({\"config\": {\"view\": {\"continuousWidth\": 400, \"continuousHeight\": 300}}, \"layer\": [{\"data\": {\"name\": \"data-7cc1cc946baca5e4602bc6a96ef225e5\"}, \"mark\": {\"type\": \"point\", \"color\": \"red\"}, \"encoding\": {\"x\": {\"type\": \"quantitative\", \"field\": \"x\"}, \"y\": {\"type\": \"quantitative\", \"field\": \"y\"}}}, {\"data\": {\"name\": \"data-eece1b80502702ec77eb9edde3c4871e\"}, \"mark\": \"line\", \"encoding\": {\"x\": {\"type\": \"quantitative\", \"field\": \"x\"}, \"y\": {\"type\": \"quantitative\", \"field\": \"depth\"}}}], \"height\": 300, \"width\": 800, \"$schema\": \"https://vega.github.io/schema/vega-lite/v4.8.1.json\", \"datasets\": {\"data-7cc1cc946baca5e4602bc6a96ef225e5\": [{\"x\": -1.0, \"f\": -0.9375501037048919, \"y\": -0.8993330693487027}, {\"x\": -0.8947368421052632, \"f\": -0.9269430193055603, \"y\": -0.9059577778250701}, {\"x\": -0.7894736842105263, \"f\": -0.5162012853224549, \"y\": -0.6185320615132137}, {\"x\": -0.6842105263157895, \"f\": -0.5055004059663399, \"y\": -0.5669140554432185}, {\"x\": -0.5789473684210527, \"f\": -0.4947966215799681, \"y\": -0.4702513936085902}, {\"x\": -0.4736842105263158, \"f\": -0.4833573077424508, \"y\": -0.4235826695951167}, {\"x\": -0.368421052631579, \"f\": -0.4706464909233855, \"y\": -0.5304297822306105}, {\"x\": -0.26315789473684215, \"f\": -0.45663680625422415, \"y\": -0.41782378664394093}, {\"x\": -0.1578947368421053, \"f\": -0.4407987610551489, \"y\": -0.39603535325762046}, {\"x\": -0.052631578947368474, \"f\": -0.3524664206406768, \"y\": -0.35176999753831384}, {\"x\": 0.05263157894736836, \"f\": -0.4026122006159473, \"y\": -0.4561775376490371}, {\"x\": 0.1578947368421053, \"f\": -0.3830549872288055, \"y\": -0.40866752924029337}, {\"x\": 0.26315789473684204, \"f\": -0.365417000347554, \"y\": -0.3798970159457449}, {\"x\": 0.36842105263157876, \"f\": -0.7494251165375064, \"y\": -0.7217890241055319}, {\"x\": 0.4736842105263157, \"f\": -0.7340511361232834, \"y\": -0.6980777115535006}, {\"x\": 0.5789473684210527, \"f\": -0.7199079703880376, \"y\": -0.7593819205679582}, {\"x\": 0.6842105263157894, \"f\": -0.7071481214263157, \"y\": -0.7112335218177598}, {\"x\": 0.7894736842105261, \"f\": -0.6952981841236401, \"y\": -0.6966952489641703}, {\"x\": 0.894736842105263, \"f\": -0.6841974532823012, \"y\": -0.691192043863471}, {\"x\": 1.0, \"f\": -0.6737626748690841, \"y\": -0.6359253479862923}], \"data-eece1b80502702ec77eb9edde3c4871e\": [{\"x\": -1.0, \"depth\": -0.9375501037048919}, {\"x\": -0.9797979797979798, \"depth\": -0.9355256318250791}, {\"x\": -0.9595959595959596, \"depth\": -0.9335018443629068}, {\"x\": -0.9393939393939394, \"depth\": -0.9314674611003788}, {\"x\": -0.9191919191919192, \"depth\": -0.9294287682680498}, {\"x\": -0.898989898989899, \"depth\": -0.9273774021736023}, {\"x\": -0.8787878787878788, \"depth\": -0.9253140835504028}, {\"x\": -0.8585858585858586, \"depth\": -0.9232414621351139}, {\"x\": -0.8383838383838383, \"depth\": -0.5211708578408243}, {\"x\": -0.8181818181818181, \"depth\": -0.5191013520744743}, {\"x\": -0.797979797979798, \"depth\": -0.5170572086599132}, {\"x\": -0.7777777777777778, \"depth\": -0.5150243907334497}, {\"x\": -0.7575757575757576, \"depth\": -0.5129841961983987}, {\"x\": -0.7373737373737373, \"depth\": -0.5109255278016329}, {\"x\": -0.7171717171717171, \"depth\": -0.5088613267665765}, {\"x\": -0.696969696969697, \"depth\": -0.5067988507502144}, {\"x\": -0.6767676767676767, \"depth\": -0.5047429798424132}, {\"x\": -0.6565656565656566, \"depth\": -0.502698287254147}, {\"x\": -0.6363636363636364, \"depth\": -0.5006637202368713}, {\"x\": -0.6161616161616161, \"depth\": -0.4986192619559822}, {\"x\": -0.5959595959595959, \"depth\": -0.49655664620397194}, {\"x\": -0.5757575757575757, \"depth\": -0.4944666169629674}, {\"x\": -0.5555555555555556, \"depth\": -0.4923512677867437}, {\"x\": -0.5353535353535352, \"depth\": -0.4901888911203091}, {\"x\": -0.5151515151515151, \"depth\": -0.48798974404686063}, {\"x\": -0.4949494949494949, \"depth\": -0.4857548363962301}, {\"x\": -0.4747474747474747, \"depth\": -0.4834793288306169}, {\"x\": -0.4545454545454545, \"depth\": -0.48116092815546024}, {\"x\": -0.43434343434343425, \"depth\": -0.4787950300819574}, {\"x\": -0.41414141414141414, \"depth\": -0.47636722361631795}, {\"x\": -0.3939393939393939, \"depth\": -0.4738720153506892}, {\"x\": -0.3737373737373737, \"depth\": -0.47132592885655084}, {\"x\": -0.3535353535353535, \"depth\": -0.4687440647105226}, {\"x\": -0.33333333333333326, \"depth\": -0.46611628622232765}, {\"x\": -0.31313131313131304, \"depth\": -0.4634437075393389}, {\"x\": -0.2929292929292928, \"depth\": -0.4607378318240773}, {\"x\": -0.2727272727272727, \"depth\": -0.45797736884390844}, {\"x\": -0.2525252525252525, \"depth\": -0.455147292265686}, {\"x\": -0.23232323232323226, \"depth\": -0.45224058459887045}, {\"x\": -0.21212121212121204, \"depth\": -0.44925401105275636}, {\"x\": -0.19191919191919182, \"depth\": -0.446183210182914}, {\"x\": -0.1717171717171716, \"depth\": -0.44302429113856195}, {\"x\": -0.1515151515151515, \"depth\": -0.43977159332434285}, {\"x\": -0.13131313131313127, \"depth\": -0.36641426353538376}, {\"x\": -0.11111111111111105, \"depth\": -0.3629565538557201}, {\"x\": -0.09090909090909083, \"depth\": -0.35940947981982785}, {\"x\": -0.07070707070707061, \"depth\": -0.35578061172875863}, {\"x\": -0.050505050505050386, \"depth\": -0.3520765158067848}, {\"x\": -0.030303030303030276, \"depth\": -0.41830442943385987}, {\"x\": -0.010101010101010055, \"depth\": -0.4144944322463861}, {\"x\": 0.010101010101010166, \"depth\": -0.4106772522528697}, {\"x\": 0.030303030303030498, \"depth\": -0.40684929605554054}, {\"x\": 0.05050505050505061, \"depth\": -0.4030152560895283}, {\"x\": 0.07070707070707072, \"depth\": -0.3991862290905085}, {\"x\": 0.09090909090909105, \"depth\": -0.39537760469658295}, {\"x\": 0.11111111111111116, \"depth\": -0.39159945824008197}, {\"x\": 0.1313131313131315, \"depth\": -0.38786116952363875}, {\"x\": 0.1515151515151516, \"depth\": -0.38418823035316974}, {\"x\": 0.1717171717171717, \"depth\": -0.3805996271260162}, {\"x\": 0.19191919191919204, \"depth\": -0.3770985419101828}, {\"x\": 0.21212121212121215, \"depth\": -0.37368066940822114}, {\"x\": 0.2323232323232325, \"depth\": -0.37034813963877067}, {\"x\": 0.2525252525252526, \"depth\": -0.36709590332895453}, {\"x\": 0.27272727272727293, \"depth\": -0.3639059876642934}, {\"x\": 0.29292929292929304, \"depth\": -0.3607770894305816}, {\"x\": 0.31313131313131315, \"depth\": -0.7576970465565742}, {\"x\": 0.3333333333333335, \"depth\": -0.7546565242830798}, {\"x\": 0.3535353535353536, \"depth\": -0.7516378915225004}, {\"x\": 0.3737373737373739, \"depth\": -0.7486348397571514}, {\"x\": 0.39393939393939403, \"depth\": -0.7456280005100722}, {\"x\": 0.41414141414141437, \"depth\": -0.742637697132591}, {\"x\": 0.4343434343434345, \"depth\": -0.7396833564685497}, {\"x\": 0.4545454545454546, \"depth\": -0.7367703367852194}, {\"x\": 0.4747474747474749, \"depth\": -0.7339000694198425}, {\"x\": 0.49494949494949503, \"depth\": -0.731078723296492}, {\"x\": 0.5151515151515154, \"depth\": -0.7283149638838485}, {\"x\": 0.5353535353535355, \"depth\": -0.7256080303282846}, {\"x\": 0.5555555555555556, \"depth\": -0.7229424396118959}, {\"x\": 0.5757575757575759, \"depth\": -0.7203148656953067}, {\"x\": 0.595959595959596, \"depth\": -0.7177378620826018}, {\"x\": 0.6161616161616164, \"depth\": -0.7152234146926415}, {\"x\": 0.6363636363636365, \"depth\": -0.7127686905470912}, {\"x\": 0.6565656565656568, \"depth\": -0.7103683693352498}, {\"x\": 0.6767676767676769, \"depth\": -0.7080085073116575}, {\"x\": 0.696969696969697, \"depth\": -0.7056731741943009}, {\"x\": 0.7171717171717173, \"depth\": -0.70337019005561}, {\"x\": 0.7373737373737375, \"depth\": -0.7010841903261333}, {\"x\": 0.7575757575757578, \"depth\": -0.6988242031086159}, {\"x\": 0.7777777777777779, \"depth\": -0.6965824425067213}, {\"x\": 0.7979797979797982, \"depth\": -0.6943641780268537}, {\"x\": 0.8181818181818183, \"depth\": -0.6921798926580962}, {\"x\": 0.8383838383838385, \"depth\": -0.6900272418792405}, {\"x\": 0.8585858585858588, \"depth\": -0.6879089132769887}, {\"x\": 0.8787878787878789, \"depth\": -0.6858224486751503}, {\"x\": 0.8989898989898992, \"depth\": -0.6837641211775414}, {\"x\": 0.9191919191919193, \"depth\": -0.6817342369233241}, {\"x\": 0.9393939393939394, \"depth\": -0.6797121886521591}, {\"x\": 0.9595959595959598, \"depth\": -0.6777058956386455}, {\"x\": 0.9797979797979799, \"depth\": -0.6757265914392007}, {\"x\": 1.0, \"depth\": -0.6737626748690841}]}}, {\"mode\": \"vega-lite\"});\n",
       "</script>"
      ],
      "text/plain": [
       "alt.LayerChart(...)"
      ]
     },
     "execution_count": 4,
     "metadata": {},
     "output_type": "execute_result"
    }
   ],
   "source": [
    "measurements = pd.DataFrame(dict(x=np.linspace(house['x'].min(), house['x'].max(), npoints.value)))\n",
    "f = interp1d(house['x'], house['depth'])\n",
    "measurements['f'] = f(measurements['x'])\n",
    "measurements['y'] = measurements['f'] + bb.rng.normal(0, error_sd.value, size=npoints.value)\n",
    "measurements_chart = (\n",
    "    alt.Chart(measurements)\n",
    "    .mark_point(color='red')\n",
    "    .encode(x='x', y='y'))\n",
    "(measurements_chart + house_chart).properties(width=800, height=300)"
   ]
  },
  {
   "cell_type": "markdown",
   "metadata": {},
   "source": [
    "We can see that there are many wasted measurements in locations where we are reasonably sure the maximum is not located.\n",
    "In addition it is still difficult to be sure where the chimney is.\n",
    "\n",
    "How can we do better?\n",
    "\n",
    "## Bayesian optimisation\n",
    "This is where Bayesian optimisation (BO) comes in.\n",
    "Bayesian optimisation is going to do better than grid (or random) search by choosing where to measure the depth of snow in some sort of *optimal* way.\n",
    "\n",
    "Bayesian optimisation requires:\n",
    "- a *prior on the underlying function* to be optimised (some understanding of houses' skylines and their depths)\n",
    "- a *prior on the measurement error* (some understanding of how good Rudolph is at measuring depth)\n",
    "\n",
    "Using some underlying theory, Bayesian optimisation then iterates around the following loop:\n",
    "- *choose the next measurement location* so as to minimise the total number of measurements required (the acquisition function)\n",
    "- ask the black-box function for a *noisy measurement* at that location\n",
    "- *update its model* of the underlying function and measurement error (computes a posterior given prior and data)\n",
    "\n",
    "Some stopping criterion is used to avoid iterating indefinitely.\n",
    "Bayesian optimisation returns the posterior for the underlying function to use as you see fit.\n",
    "In particular you may wish to obtain a posterior over the location of the maximum of the function.\n",
    "\n",
    "## Optimisation guessing game\n",
    "However, before we try Bayesian optimisation, we will try to optimise a black-box function ourselves.\n",
    "Your task will be to find the maximum of the underlying function using as few function evaluations as possible.\n",
    "\n",
    "Unfortunately we do not have a suitable Bayesian model for house skylines so we will use a Gaussian process prior on functions instead.\n",
    "Some typical functions are shown below to give you an idea what the underlying function might look like."
   ]
  },
  {
   "cell_type": "code",
   "execution_count": 39,
   "metadata": {},
   "outputs": [
    {
     "data": {
      "text/html": [
       "\n",
       "<div id=\"altair-viz-e9436f3270dd4434b59d380728cc50f6\"></div>\n",
       "<script type=\"text/javascript\">\n",
       "  (function(spec, embedOpt){\n",
       "    let outputDiv = document.currentScript.previousElementSibling;\n",
       "    if (outputDiv.id !== \"altair-viz-e9436f3270dd4434b59d380728cc50f6\") {\n",
       "      outputDiv = document.getElementById(\"altair-viz-e9436f3270dd4434b59d380728cc50f6\");\n",
       "    }\n",
       "    const paths = {\n",
       "      \"vega\": \"https://cdn.jsdelivr.net/npm//vega@5?noext\",\n",
       "      \"vega-lib\": \"https://cdn.jsdelivr.net/npm//vega-lib?noext\",\n",
       "      \"vega-lite\": \"https://cdn.jsdelivr.net/npm//vega-lite@4.8.1?noext\",\n",
       "      \"vega-embed\": \"https://cdn.jsdelivr.net/npm//vega-embed@6?noext\",\n",
       "    };\n",
       "\n",
       "    function loadScript(lib) {\n",
       "      return new Promise(function(resolve, reject) {\n",
       "        var s = document.createElement('script');\n",
       "        s.src = paths[lib];\n",
       "        s.async = true;\n",
       "        s.onload = () => resolve(paths[lib]);\n",
       "        s.onerror = () => reject(`Error loading script: ${paths[lib]}`);\n",
       "        document.getElementsByTagName(\"head\")[0].appendChild(s);\n",
       "      });\n",
       "    }\n",
       "\n",
       "    function showError(err) {\n",
       "      outputDiv.innerHTML = `<div class=\"error\" style=\"color:red;\">${err}</div>`;\n",
       "      throw err;\n",
       "    }\n",
       "\n",
       "    function displayChart(vegaEmbed) {\n",
       "      vegaEmbed(outputDiv, spec, embedOpt)\n",
       "        .catch(err => showError(`Javascript Error: ${err.message}<br>This usually means there's a typo in your chart specification. See the javascript console for the full traceback.`));\n",
       "    }\n",
       "\n",
       "    if(typeof define === \"function\" && define.amd) {\n",
       "      requirejs.config({paths});\n",
       "      require([\"vega-embed\"], displayChart, err => showError(`Error loading script: ${err.message}`));\n",
       "    } else if (typeof vegaEmbed === \"function\") {\n",
       "      displayChart(vegaEmbed);\n",
       "    } else {\n",
       "      loadScript(\"vega\")\n",
       "        .then(() => loadScript(\"vega-lite\"))\n",
       "        .then(() => loadScript(\"vega-embed\"))\n",
       "        .catch(showError)\n",
       "        .then(() => displayChart(vegaEmbed));\n",
       "    }\n",
       "  })({\"config\": {\"view\": {\"continuousWidth\": 400, \"continuousHeight\": 300}}, \"data\": {\"name\": \"data-1a6be96a3dbef80d0912198dbfcf0af4\"}, \"mark\": \"line\", \"encoding\": {\"color\": {\"type\": \"nominal\", \"field\": \"sample\"}, \"x\": {\"type\": \"quantitative\", \"field\": \"x\"}, \"y\": {\"type\": \"quantitative\", \"field\": \"f\"}}, \"height\": 300, \"width\": 800, \"$schema\": \"https://vega.github.io/schema/vega-lite/v4.8.1.json\", \"datasets\": {\"data-1a6be96a3dbef80d0912198dbfcf0af4\": [{\"x\": -1.0, \"f\": 2.085695896533185, \"sample\": 0}, {\"x\": -0.9797979797979798, \"f\": 2.0948935611139374, \"sample\": 0}, {\"x\": -0.9595959595959596, \"f\": 2.0827794414537686, \"sample\": 0}, {\"x\": -0.9393939393939394, \"f\": 2.037472089054387, \"sample\": 0}, {\"x\": -0.9191919191919192, \"f\": 1.9630196398461939, \"sample\": 0}, {\"x\": -0.898989898989899, \"f\": 1.86216334874919, \"sample\": 0}, {\"x\": -0.8787878787878788, \"f\": 1.7398251474478053, \"sample\": 0}, {\"x\": -0.8585858585858586, \"f\": 1.6006426045804039, \"sample\": 0}, {\"x\": -0.8383838383838383, \"f\": 1.4492004057899897, \"sample\": 0}, {\"x\": -0.8181818181818181, \"f\": 1.2881191425782963, \"sample\": 0}, {\"x\": -0.797979797979798, \"f\": 1.1272085158871146, \"sample\": 0}, {\"x\": -0.7777777777777778, \"f\": 0.9702601905376841, \"sample\": 0}, {\"x\": -0.7575757575757576, \"f\": 0.827607513769614, \"sample\": 0}, {\"x\": -0.7373737373737373, \"f\": 0.7073775360162552, \"sample\": 0}, {\"x\": -0.7171717171717171, \"f\": 0.6030551129113547, \"sample\": 0}, {\"x\": -0.696969696969697, \"f\": 0.5110814072294828, \"sample\": 0}, {\"x\": -0.6767676767676767, \"f\": 0.4318321936402917, \"sample\": 0}, {\"x\": -0.6565656565656566, \"f\": 0.36832306349561944, \"sample\": 0}, {\"x\": -0.6363636363636364, \"f\": 0.31627387187194417, \"sample\": 0}, {\"x\": -0.6161616161616161, \"f\": 0.26526684385476995, \"sample\": 0}, {\"x\": -0.5959595959595959, \"f\": 0.22060584698036137, \"sample\": 0}, {\"x\": -0.5757575757575757, \"f\": 0.18109233656700663, \"sample\": 0}, {\"x\": -0.5555555555555556, \"f\": 0.14018582462553394, \"sample\": 0}, {\"x\": -0.5353535353535352, \"f\": 0.0934676996253736, \"sample\": 0}, {\"x\": -0.5151515151515151, \"f\": 0.047081313116728876, \"sample\": 0}, {\"x\": -0.4949494949494949, \"f\": -0.0006272343537908099, \"sample\": 0}, {\"x\": -0.4747474747474747, \"f\": -0.04445279502994676, \"sample\": 0}, {\"x\": -0.4545454545454545, \"f\": -0.09066268999292589, \"sample\": 0}, {\"x\": -0.43434343434343425, \"f\": -0.1385360045404306, \"sample\": 0}, {\"x\": -0.41414141414141414, \"f\": -0.18543025431888882, \"sample\": 0}, {\"x\": -0.3939393939393939, \"f\": -0.23502208225759358, \"sample\": 0}, {\"x\": -0.3737373737373737, \"f\": -0.2953009342106212, \"sample\": 0}, {\"x\": -0.3535353535353535, \"f\": -0.36586528648836614, \"sample\": 0}, {\"x\": -0.33333333333333326, \"f\": -0.43908039478307825, \"sample\": 0}, {\"x\": -0.31313131313131304, \"f\": -0.4986458290441904, \"sample\": 0}, {\"x\": -0.2929292929292928, \"f\": -0.537811115850894, \"sample\": 0}, {\"x\": -0.2727272727272727, \"f\": -0.5606024651420632, \"sample\": 0}, {\"x\": -0.2525252525252525, \"f\": -0.5657262660285622, \"sample\": 0}, {\"x\": -0.23232323232323226, \"f\": -0.5539326354291816, \"sample\": 0}, {\"x\": -0.21212121212121204, \"f\": -0.517958441555434, \"sample\": 0}, {\"x\": -0.19191919191919182, \"f\": -0.45853684711337445, \"sample\": 0}, {\"x\": -0.1717171717171716, \"f\": -0.3888439998443375, \"sample\": 0}, {\"x\": -0.1515151515151515, \"f\": -0.3186093082962941, \"sample\": 0}, {\"x\": -0.13131313131313127, \"f\": -0.25744666645780157, \"sample\": 0}, {\"x\": -0.11111111111111105, \"f\": -0.20072054252259106, \"sample\": 0}, {\"x\": -0.09090909090909083, \"f\": -0.15072748045815168, \"sample\": 0}, {\"x\": -0.07070707070707061, \"f\": -0.1142910029797117, \"sample\": 0}, {\"x\": -0.050505050505050386, \"f\": -0.08719386336009885, \"sample\": 0}, {\"x\": -0.030303030303030276, \"f\": -0.06559680571311662, \"sample\": 0}, {\"x\": -0.010101010101010055, \"f\": -0.03950478388692679, \"sample\": 0}, {\"x\": 0.010101010101010166, \"f\": -0.008264438163009024, \"sample\": 0}, {\"x\": 0.030303030303030498, \"f\": 0.013654562132910263, \"sample\": 0}, {\"x\": 0.05050505050505061, \"f\": 0.026578531037050435, \"sample\": 0}, {\"x\": 0.07070707070707072, \"f\": 0.028102773837759037, \"sample\": 0}, {\"x\": 0.09090909090909105, \"f\": 0.01623957386884155, \"sample\": 0}, {\"x\": 0.11111111111111116, \"f\": 0.0007625534627654898, \"sample\": 0}, {\"x\": 0.1313131313131315, \"f\": -0.015873033801456504, \"sample\": 0}, {\"x\": 0.1515151515151516, \"f\": -0.037423399351226856, \"sample\": 0}, {\"x\": 0.1717171717171717, \"f\": -0.06131591578734338, \"sample\": 0}, {\"x\": 0.19191919191919204, \"f\": -0.0782306956786428, \"sample\": 0}, {\"x\": 0.21212121212121215, \"f\": -0.07139365915405829, \"sample\": 0}, {\"x\": 0.2323232323232325, \"f\": -0.03592615094068946, \"sample\": 0}, {\"x\": 0.2525252525252526, \"f\": 0.023280471320717658, \"sample\": 0}, {\"x\": 0.27272727272727293, \"f\": 0.0990530739525393, \"sample\": 0}, {\"x\": 0.29292929292929304, \"f\": 0.1955451672350651, \"sample\": 0}, {\"x\": 0.31313131313131315, \"f\": 0.30572081387580996, \"sample\": 0}, {\"x\": 0.3333333333333335, \"f\": 0.42219319036070463, \"sample\": 0}, {\"x\": 0.3535353535353536, \"f\": 0.5393234282197954, \"sample\": 0}, {\"x\": 0.3737373737373739, \"f\": 0.6485057337850801, \"sample\": 0}, {\"x\": 0.39393939393939403, \"f\": 0.7494162219825102, \"sample\": 0}, {\"x\": 0.41414141414141437, \"f\": 0.8474403518645969, \"sample\": 0}, {\"x\": 0.4343434343434345, \"f\": 0.9495132242923714, \"sample\": 0}, {\"x\": 0.4545454545454546, \"f\": 1.054649362265728, \"sample\": 0}, {\"x\": 0.4747474747474749, \"f\": 1.1626178618116083, \"sample\": 0}, {\"x\": 0.49494949494949503, \"f\": 1.2698300318227815, \"sample\": 0}, {\"x\": 0.5151515151515154, \"f\": 1.3629040138521944, \"sample\": 0}, {\"x\": 0.5353535353535355, \"f\": 1.4444211020608857, \"sample\": 0}, {\"x\": 0.5555555555555556, \"f\": 1.5168741756736517, \"sample\": 0}, {\"x\": 0.5757575757575759, \"f\": 1.5731616914756787, \"sample\": 0}, {\"x\": 0.595959595959596, \"f\": 1.6012676827668975, \"sample\": 0}, {\"x\": 0.6161616161616164, \"f\": 1.609989452630332, \"sample\": 0}, {\"x\": 0.6363636363636365, \"f\": 1.6011712227027373, \"sample\": 0}, {\"x\": 0.6565656565656568, \"f\": 1.581206472567426, \"sample\": 0}, {\"x\": 0.6767676767676769, \"f\": 1.5523123675661192, \"sample\": 0}, {\"x\": 0.696969696969697, \"f\": 1.5081245221536768, \"sample\": 0}, {\"x\": 0.7171717171717173, \"f\": 1.4591115033146187, \"sample\": 0}, {\"x\": 0.7373737373737375, \"f\": 1.4092645861325166, \"sample\": 0}, {\"x\": 0.7575757575757578, \"f\": 1.358919271520603, \"sample\": 0}, {\"x\": 0.7777777777777779, \"f\": 1.3092552990354753, \"sample\": 0}, {\"x\": 0.7979797979797982, \"f\": 1.2652508808852225, \"sample\": 0}, {\"x\": 0.8181818181818183, \"f\": 1.2304669746419659, \"sample\": 0}, {\"x\": 0.8383838383838385, \"f\": 1.1955439491837168, \"sample\": 0}, {\"x\": 0.8585858585858588, \"f\": 1.155727273584942, \"sample\": 0}, {\"x\": 0.8787878787878789, \"f\": 1.1103089567212734, \"sample\": 0}, {\"x\": 0.8989898989898992, \"f\": 1.0646460604807053, \"sample\": 0}, {\"x\": 0.9191919191919193, \"f\": 1.017170454263471, \"sample\": 0}, {\"x\": 0.9393939393939394, \"f\": 0.9603820617335771, \"sample\": 0}, {\"x\": 0.9595959595959598, \"f\": 0.8943113235128506, \"sample\": 0}, {\"x\": 0.9797979797979799, \"f\": 0.8239504444034268, \"sample\": 0}, {\"x\": 1.0, \"f\": 0.7632978095734694, \"sample\": 0}, {\"x\": -1.0, \"f\": -0.559892244811862, \"sample\": 1}, {\"x\": -0.9797979797979798, \"f\": -0.48369468652997144, \"sample\": 1}, {\"x\": -0.9595959595959596, \"f\": -0.42813234182087795, \"sample\": 1}, {\"x\": -0.9393939393939394, \"f\": -0.39481859088947735, \"sample\": 1}, {\"x\": -0.9191919191919192, \"f\": -0.3742256405133384, \"sample\": 1}, {\"x\": -0.898989898989899, \"f\": -0.3537138332816704, \"sample\": 1}, {\"x\": -0.8787878787878788, \"f\": -0.32918542524799665, \"sample\": 1}, {\"x\": -0.8585858585858586, \"f\": -0.30486305418184634, \"sample\": 1}, {\"x\": -0.8383838383838383, \"f\": -0.27874223479755933, \"sample\": 1}, {\"x\": -0.8181818181818181, \"f\": -0.24610368351810577, \"sample\": 1}, {\"x\": -0.797979797979798, \"f\": -0.2043462925479537, \"sample\": 1}, {\"x\": -0.7777777777777778, \"f\": -0.1517558061638019, \"sample\": 1}, {\"x\": -0.7575757575757576, \"f\": -0.08871393990726735, \"sample\": 1}, {\"x\": -0.7373737373737373, \"f\": -0.015752504007403655, \"sample\": 1}, {\"x\": -0.7171717171717171, \"f\": 0.061972925789655284, \"sample\": 1}, {\"x\": -0.696969696969697, \"f\": 0.13926554095311966, \"sample\": 1}, {\"x\": -0.6767676767676767, \"f\": 0.20665204505649454, \"sample\": 1}, {\"x\": -0.6565656565656566, \"f\": 0.257777005359557, \"sample\": 1}, {\"x\": -0.6363636363636364, \"f\": 0.29509009911925405, \"sample\": 1}, {\"x\": -0.6161616161616161, \"f\": 0.3258697893489256, \"sample\": 1}, {\"x\": -0.5959595959595959, \"f\": 0.36365433409208503, \"sample\": 1}, {\"x\": -0.5757575757575757, \"f\": 0.4061923505230263, \"sample\": 1}, {\"x\": -0.5555555555555556, \"f\": 0.45538116380285404, \"sample\": 1}, {\"x\": -0.5353535353535352, \"f\": 0.5162456893637155, \"sample\": 1}, {\"x\": -0.5151515151515151, \"f\": 0.5804523513041858, \"sample\": 1}, {\"x\": -0.4949494949494949, \"f\": 0.6478286543942677, \"sample\": 1}, {\"x\": -0.4747474747474747, \"f\": 0.7107745281620774, \"sample\": 1}, {\"x\": -0.4545454545454545, \"f\": 0.7639183266453505, \"sample\": 1}, {\"x\": -0.43434343434343425, \"f\": 0.8005694619171548, \"sample\": 1}, {\"x\": -0.41414141414141414, \"f\": 0.8279455806371077, \"sample\": 1}, {\"x\": -0.3939393939393939, \"f\": 0.8482756671342205, \"sample\": 1}, {\"x\": -0.3737373737373737, \"f\": 0.8656249462152694, \"sample\": 1}, {\"x\": -0.3535353535353535, \"f\": 0.8808496199875921, \"sample\": 1}, {\"x\": -0.33333333333333326, \"f\": 0.8958626752201345, \"sample\": 1}, {\"x\": -0.31313131313131304, \"f\": 0.9012914278758024, \"sample\": 1}, {\"x\": -0.2929292929292928, \"f\": 0.8881512777013593, \"sample\": 1}, {\"x\": -0.2727272727272727, \"f\": 0.858715816622429, \"sample\": 1}, {\"x\": -0.2525252525252525, \"f\": 0.8180336758564798, \"sample\": 1}, {\"x\": -0.23232323232323226, \"f\": 0.7680142815358343, \"sample\": 1}, {\"x\": -0.21212121212121204, \"f\": 0.710365502284268, \"sample\": 1}, {\"x\": -0.19191919191919182, \"f\": 0.654946116825132, \"sample\": 1}, {\"x\": -0.1717171717171716, \"f\": 0.5970607876927583, \"sample\": 1}, {\"x\": -0.1515151515151515, \"f\": 0.5292513464811989, \"sample\": 1}, {\"x\": -0.13131313131313127, \"f\": 0.4584586881628196, \"sample\": 1}, {\"x\": -0.11111111111111105, \"f\": 0.3899454290613673, \"sample\": 1}, {\"x\": -0.09090909090909083, \"f\": 0.32700782214142937, \"sample\": 1}, {\"x\": -0.07070707070707061, \"f\": 0.26851000227133254, \"sample\": 1}, {\"x\": -0.050505050505050386, \"f\": 0.21862559968559694, \"sample\": 1}, {\"x\": -0.030303030303030276, \"f\": 0.18468575421791192, \"sample\": 1}, {\"x\": -0.010101010101010055, \"f\": 0.1562342974516898, \"sample\": 1}, {\"x\": 0.010101010101010166, \"f\": 0.12641410306878031, \"sample\": 1}, {\"x\": 0.030303030303030498, \"f\": 0.09559397764748932, \"sample\": 1}, {\"x\": 0.05050505050505061, \"f\": 0.07303997486657988, \"sample\": 1}, {\"x\": 0.07070707070707072, \"f\": 0.06197787361480397, \"sample\": 1}, {\"x\": 0.09090909090909105, \"f\": 0.05484855978908861, \"sample\": 1}, {\"x\": 0.11111111111111116, \"f\": 0.04531115381637692, \"sample\": 1}, {\"x\": 0.1313131313131315, \"f\": 0.031891854445915246, \"sample\": 1}, {\"x\": 0.1515151515151516, \"f\": 0.01909307997548323, \"sample\": 1}, {\"x\": 0.1717171717171717, \"f\": -0.0005464669010308736, \"sample\": 1}, {\"x\": 0.19191919191919204, \"f\": -0.027056816120406346, \"sample\": 1}, {\"x\": 0.21212121212121215, \"f\": -0.05525058422956492, \"sample\": 1}, {\"x\": 0.2323232323232325, \"f\": -0.0758772375142943, \"sample\": 1}, {\"x\": 0.2525252525252526, \"f\": -0.08896636695822364, \"sample\": 1}, {\"x\": 0.27272727272727293, \"f\": -0.0978333653730413, \"sample\": 1}, {\"x\": 0.29292929292929304, \"f\": -0.10512221009407297, \"sample\": 1}, {\"x\": 0.31313131313131315, \"f\": -0.11392120321761184, \"sample\": 1}, {\"x\": 0.3333333333333335, \"f\": -0.12976533551079783, \"sample\": 1}, {\"x\": 0.3535353535353536, \"f\": -0.15314441648849444, \"sample\": 1}, {\"x\": 0.3737373737373739, \"f\": -0.18405147870292543, \"sample\": 1}, {\"x\": 0.39393939393939403, \"f\": -0.21913967109014956, \"sample\": 1}, {\"x\": 0.41414141414141437, \"f\": -0.24854388895086021, \"sample\": 1}, {\"x\": 0.4343434343434345, \"f\": -0.27468835117203316, \"sample\": 1}, {\"x\": 0.4545454545454546, \"f\": -0.2973693006956861, \"sample\": 1}, {\"x\": 0.4747474747474749, \"f\": -0.3214131692500266, \"sample\": 1}, {\"x\": 0.49494949494949503, \"f\": -0.35419881373052936, \"sample\": 1}, {\"x\": 0.5151515151515154, \"f\": -0.39730755658764194, \"sample\": 1}, {\"x\": 0.5353535353535355, \"f\": -0.4509261511921778, \"sample\": 1}, {\"x\": 0.5555555555555556, \"f\": -0.5113850385912145, \"sample\": 1}, {\"x\": 0.5757575757575759, \"f\": -0.5630727548344623, \"sample\": 1}, {\"x\": 0.595959595959596, \"f\": -0.598766001813387, \"sample\": 1}, {\"x\": 0.6161616161616164, \"f\": -0.6198769533694422, \"sample\": 1}, {\"x\": 0.6363636363636365, \"f\": -0.6231270228357757, \"sample\": 1}, {\"x\": 0.6565656565656568, \"f\": -0.6058986187452391, \"sample\": 1}, {\"x\": 0.6767676767676769, \"f\": -0.5760183908646989, \"sample\": 1}, {\"x\": 0.696969696969697, \"f\": -0.5410852240904135, \"sample\": 1}, {\"x\": 0.7171717171717173, \"f\": -0.5100577673760935, \"sample\": 1}, {\"x\": 0.7373737373737375, \"f\": -0.4904029152804473, \"sample\": 1}, {\"x\": 0.7575757575757578, \"f\": -0.4877677550362016, \"sample\": 1}, {\"x\": 0.7777777777777779, \"f\": -0.49554839665750594, \"sample\": 1}, {\"x\": 0.7979797979797982, \"f\": -0.5126830864273799, \"sample\": 1}, {\"x\": 0.8181818181818183, \"f\": -0.5334745077472322, \"sample\": 1}, {\"x\": 0.8383838383838385, \"f\": -0.5482749748505426, \"sample\": 1}, {\"x\": 0.8585858585858588, \"f\": -0.558185821960016, \"sample\": 1}, {\"x\": 0.8787878787878789, \"f\": -0.5705830895077105, \"sample\": 1}, {\"x\": 0.8989898989898992, \"f\": -0.5844495327909991, \"sample\": 1}, {\"x\": 0.9191919191919193, \"f\": -0.5970928040451141, \"sample\": 1}, {\"x\": 0.9393939393939394, \"f\": -0.6001267474757513, \"sample\": 1}, {\"x\": 0.9595959595959598, \"f\": -0.5969724497196444, \"sample\": 1}, {\"x\": 0.9797979797979799, \"f\": -0.5973770579486161, \"sample\": 1}, {\"x\": 1.0, \"f\": -0.5986978986370232, \"sample\": 1}, {\"x\": -1.0, \"f\": -2.2984310932822263, \"sample\": 2}, {\"x\": -0.9797979797979798, \"f\": -2.2727639303304135, \"sample\": 2}, {\"x\": -0.9595959595959596, \"f\": -2.2358067578950513, \"sample\": 2}, {\"x\": -0.9393939393939394, \"f\": -2.1908164695479297, \"sample\": 2}, {\"x\": -0.9191919191919192, \"f\": -2.1407540764071156, \"sample\": 2}, {\"x\": -0.898989898989899, \"f\": -2.093364624182843, \"sample\": 2}, {\"x\": -0.8787878787878788, \"f\": -2.049751085077599, \"sample\": 2}, {\"x\": -0.8585858585858586, \"f\": -2.0077711531141604, \"sample\": 2}, {\"x\": -0.8383838383838383, \"f\": -1.9718594398474074, \"sample\": 2}, {\"x\": -0.8181818181818181, \"f\": -1.9387172959849082, \"sample\": 2}, {\"x\": -0.797979797979798, \"f\": -1.902908708994097, \"sample\": 2}, {\"x\": -0.7777777777777778, \"f\": -1.8614840063259166, \"sample\": 2}, {\"x\": -0.7575757575757576, \"f\": -1.8151411884350612, \"sample\": 2}, {\"x\": -0.7373737373737373, \"f\": -1.7562046518580159, \"sample\": 2}, {\"x\": -0.7171717171717171, \"f\": -1.6782941833049638, \"sample\": 2}, {\"x\": -0.696969696969697, \"f\": -1.5939205417409443, \"sample\": 2}, {\"x\": -0.6767676767676767, \"f\": -1.5194102384396748, \"sample\": 2}, {\"x\": -0.6565656565656566, \"f\": -1.4622954164167579, \"sample\": 2}, {\"x\": -0.6363636363636364, \"f\": -1.4243951495272404, \"sample\": 2}, {\"x\": -0.6161616161616161, \"f\": -1.3952165171002082, \"sample\": 2}, {\"x\": -0.5959595959595959, \"f\": -1.3692007802521216, \"sample\": 2}, {\"x\": -0.5757575757575757, \"f\": -1.3496668189017225, \"sample\": 2}, {\"x\": -0.5555555555555556, \"f\": -1.330864646957912, \"sample\": 2}, {\"x\": -0.5353535353535352, \"f\": -1.3124762358714772, \"sample\": 2}, {\"x\": -0.5151515151515151, \"f\": -1.297863967148215, \"sample\": 2}, {\"x\": -0.4949494949494949, \"f\": -1.2895641006270473, \"sample\": 2}, {\"x\": -0.4747474747474747, \"f\": -1.2913626851716273, \"sample\": 2}, {\"x\": -0.4545454545454545, \"f\": -1.2903175349165563, \"sample\": 2}, {\"x\": -0.43434343434343425, \"f\": -1.2857900483005211, \"sample\": 2}, {\"x\": -0.41414141414141414, \"f\": -1.2892789650630798, \"sample\": 2}, {\"x\": -0.3939393939393939, \"f\": -1.306149903064937, \"sample\": 2}, {\"x\": -0.3737373737373737, \"f\": -1.3291420636676792, \"sample\": 2}, {\"x\": -0.3535353535353535, \"f\": -1.353493334539869, \"sample\": 2}, {\"x\": -0.33333333333333326, \"f\": -1.3814907857866896, \"sample\": 2}, {\"x\": -0.31313131313131304, \"f\": -1.417642403918185, \"sample\": 2}, {\"x\": -0.2929292929292928, \"f\": -1.457163970442173, \"sample\": 2}, {\"x\": -0.2727272727272727, \"f\": -1.4925222486321181, \"sample\": 2}, {\"x\": -0.2525252525252525, \"f\": -1.5121276762348967, \"sample\": 2}, {\"x\": -0.23232323232323226, \"f\": -1.518816115463784, \"sample\": 2}, {\"x\": -0.21212121212121204, \"f\": -1.51667923700542, \"sample\": 2}, {\"x\": -0.19191919191919182, \"f\": -1.5126087878004724, \"sample\": 2}, {\"x\": -0.1717171717171716, \"f\": -1.5094043987163273, \"sample\": 2}, {\"x\": -0.1515151515151515, \"f\": -1.5098822797525442, \"sample\": 2}, {\"x\": -0.13131313131313127, \"f\": -1.5064058969186223, \"sample\": 2}, {\"x\": -0.11111111111111105, \"f\": -1.503079099089591, \"sample\": 2}, {\"x\": -0.09090909090909083, \"f\": -1.5069574085422934, \"sample\": 2}, {\"x\": -0.07070707070707061, \"f\": -1.513888679994532, \"sample\": 2}, {\"x\": -0.050505050505050386, \"f\": -1.5201190988028863, \"sample\": 2}, {\"x\": -0.030303030303030276, \"f\": -1.5280228930756423, \"sample\": 2}, {\"x\": -0.010101010101010055, \"f\": -1.539679598795192, \"sample\": 2}, {\"x\": 0.010101010101010166, \"f\": -1.550890414303273, \"sample\": 2}, {\"x\": 0.030303030303030498, \"f\": -1.5600689811549233, \"sample\": 2}, {\"x\": 0.05050505050505061, \"f\": -1.5503275948128574, \"sample\": 2}, {\"x\": 0.07070707070707072, \"f\": -1.513083097367565, \"sample\": 2}, {\"x\": 0.09090909090909105, \"f\": -1.4513917013955395, \"sample\": 2}, {\"x\": 0.11111111111111116, \"f\": -1.3675235215801511, \"sample\": 2}, {\"x\": 0.1313131313131315, \"f\": -1.2645346894293343, \"sample\": 2}, {\"x\": 0.1515151515151516, \"f\": -1.1409461479421823, \"sample\": 2}, {\"x\": 0.1717171717171717, \"f\": -0.9943727684191358, \"sample\": 2}, {\"x\": 0.19191919191919204, \"f\": -0.830061494549464, \"sample\": 2}, {\"x\": 0.21212121212121215, \"f\": -0.6621954661043571, \"sample\": 2}, {\"x\": 0.2323232323232325, \"f\": -0.5097680521542283, \"sample\": 2}, {\"x\": 0.2525252525252526, \"f\": -0.38560108986121977, \"sample\": 2}, {\"x\": 0.27272727272727293, \"f\": -0.27880876829092094, \"sample\": 2}, {\"x\": 0.29292929292929304, \"f\": -0.19002974522164157, \"sample\": 2}, {\"x\": 0.31313131313131315, \"f\": -0.11201876808915076, \"sample\": 2}, {\"x\": 0.3333333333333335, \"f\": -0.04452006709575518, \"sample\": 2}, {\"x\": 0.3535353535353536, \"f\": 0.006167251329107449, \"sample\": 2}, {\"x\": 0.3737373737373739, \"f\": 0.043331581685607176, \"sample\": 2}, {\"x\": 0.39393939393939403, \"f\": 0.07422151826013156, \"sample\": 2}, {\"x\": 0.41414141414141437, \"f\": 0.10599531269656498, \"sample\": 2}, {\"x\": 0.4343434343434345, \"f\": 0.13283754555087582, \"sample\": 2}, {\"x\": 0.4545454545454546, \"f\": 0.16236740427610605, \"sample\": 2}, {\"x\": 0.4747474747474749, \"f\": 0.19708335369657762, \"sample\": 2}, {\"x\": 0.49494949494949503, \"f\": 0.2283405866930932, \"sample\": 2}, {\"x\": 0.5151515151515154, \"f\": 0.2547998196528735, \"sample\": 2}, {\"x\": 0.5353535353535355, \"f\": 0.2822002487056767, \"sample\": 2}, {\"x\": 0.5555555555555556, \"f\": 0.3124730234882255, \"sample\": 2}, {\"x\": 0.5757575757575759, \"f\": 0.3516539904769456, \"sample\": 2}, {\"x\": 0.595959595959596, \"f\": 0.4018278110604654, \"sample\": 2}, {\"x\": 0.6161616161616164, \"f\": 0.45900284645890527, \"sample\": 2}, {\"x\": 0.6363636363636365, \"f\": 0.5159133391881152, \"sample\": 2}, {\"x\": 0.6565656565656568, \"f\": 0.5713796969608402, \"sample\": 2}, {\"x\": 0.6767676767676769, \"f\": 0.6192334132189858, \"sample\": 2}, {\"x\": 0.696969696969697, \"f\": 0.6578542242375863, \"sample\": 2}, {\"x\": 0.7171717171717173, \"f\": 0.6916034983244229, \"sample\": 2}, {\"x\": 0.7373737373737375, \"f\": 0.7126931328147538, \"sample\": 2}, {\"x\": 0.7575757575757578, \"f\": 0.7165870506502093, \"sample\": 2}, {\"x\": 0.7777777777777779, \"f\": 0.7037583186558705, \"sample\": 2}, {\"x\": 0.7979797979797982, \"f\": 0.6772129256351953, \"sample\": 2}, {\"x\": 0.8181818181818183, \"f\": 0.6452013306454214, \"sample\": 2}, {\"x\": 0.8383838383838385, \"f\": 0.6166984548495753, \"sample\": 2}, {\"x\": 0.8585858585858588, \"f\": 0.5953689998922475, \"sample\": 2}, {\"x\": 0.8787878787878789, \"f\": 0.581554237413699, \"sample\": 2}, {\"x\": 0.8989898989898992, \"f\": 0.5662181101123612, \"sample\": 2}, {\"x\": 0.9191919191919193, \"f\": 0.5563943939365487, \"sample\": 2}, {\"x\": 0.9393939393939394, \"f\": 0.5517164795807102, \"sample\": 2}, {\"x\": 0.9595959595959598, \"f\": 0.5506124644158319, \"sample\": 2}, {\"x\": 0.9797979797979799, \"f\": 0.5503260191031598, \"sample\": 2}, {\"x\": 1.0, \"f\": 0.5478538050414851, \"sample\": 2}]}}, {\"mode\": \"vega-lite\"});\n",
       "</script>"
      ],
      "text/plain": [
       "alt.Chart(...)"
      ]
     },
     "execution_count": 39,
     "metadata": {},
     "output_type": "execute_result"
    }
   ],
   "source": [
    "blackbox1 = bb.GPBlackBox(ndim=1)\n",
    "xx = blackbox1.xgrid(npoints=100)[:, 0]\n",
    "prior_samples = pd.concat([\n",
    "    pd.DataFrame(dict(x=xx, f=bb.prior_draw(blackbox1.kernel, xx), sample=s))\n",
    "    for s in range(3)])\n",
    "prior_chart = (\n",
    "    alt.Chart(prior_samples)\n",
    "    .mark_line()\n",
    "    .encode(x='x', y='f', color='sample:N'))\n",
    "prior_chart.properties(width=800, height=300)"
   ]
  },
  {
   "cell_type": "markdown",
   "metadata": {},
   "source": [
    "### A function of one input\n",
    "Now it is your turn.\n",
    "You have to optimise a function of one input with domain `[-1, 1]`.\n",
    "To start you off you already have three evaluations."
   ]
  },
  {
   "cell_type": "code",
   "execution_count": 43,
   "metadata": {},
   "outputs": [
    {
     "data": {
      "text/html": [
       "\n",
       "<div id=\"altair-viz-53e5183109204834a54e25784f0f707e\"></div>\n",
       "<script type=\"text/javascript\">\n",
       "  (function(spec, embedOpt){\n",
       "    let outputDiv = document.currentScript.previousElementSibling;\n",
       "    if (outputDiv.id !== \"altair-viz-53e5183109204834a54e25784f0f707e\") {\n",
       "      outputDiv = document.getElementById(\"altair-viz-53e5183109204834a54e25784f0f707e\");\n",
       "    }\n",
       "    const paths = {\n",
       "      \"vega\": \"https://cdn.jsdelivr.net/npm//vega@5?noext\",\n",
       "      \"vega-lib\": \"https://cdn.jsdelivr.net/npm//vega-lib?noext\",\n",
       "      \"vega-lite\": \"https://cdn.jsdelivr.net/npm//vega-lite@4.8.1?noext\",\n",
       "      \"vega-embed\": \"https://cdn.jsdelivr.net/npm//vega-embed@6?noext\",\n",
       "    };\n",
       "\n",
       "    function loadScript(lib) {\n",
       "      return new Promise(function(resolve, reject) {\n",
       "        var s = document.createElement('script');\n",
       "        s.src = paths[lib];\n",
       "        s.async = true;\n",
       "        s.onload = () => resolve(paths[lib]);\n",
       "        s.onerror = () => reject(`Error loading script: ${paths[lib]}`);\n",
       "        document.getElementsByTagName(\"head\")[0].appendChild(s);\n",
       "      });\n",
       "    }\n",
       "\n",
       "    function showError(err) {\n",
       "      outputDiv.innerHTML = `<div class=\"error\" style=\"color:red;\">${err}</div>`;\n",
       "      throw err;\n",
       "    }\n",
       "\n",
       "    function displayChart(vegaEmbed) {\n",
       "      vegaEmbed(outputDiv, spec, embedOpt)\n",
       "        .catch(err => showError(`Javascript Error: ${err.message}<br>This usually means there's a typo in your chart specification. See the javascript console for the full traceback.`));\n",
       "    }\n",
       "\n",
       "    if(typeof define === \"function\" && define.amd) {\n",
       "      requirejs.config({paths});\n",
       "      require([\"vega-embed\"], displayChart, err => showError(`Error loading script: ${err.message}`));\n",
       "    } else if (typeof vegaEmbed === \"function\") {\n",
       "      displayChart(vegaEmbed);\n",
       "    } else {\n",
       "      loadScript(\"vega\")\n",
       "        .then(() => loadScript(\"vega-lite\"))\n",
       "        .then(() => loadScript(\"vega-embed\"))\n",
       "        .catch(showError)\n",
       "        .then(() => displayChart(vegaEmbed));\n",
       "    }\n",
       "  })({\"config\": {\"view\": {\"continuousWidth\": 400, \"continuousHeight\": 300}}, \"data\": {\"name\": \"data-61433b151ed202e4dc114ea4f85a2d16\"}, \"mark\": {\"type\": \"circle\", \"color\": \"red\", \"size\": 100}, \"encoding\": {\"x\": {\"type\": \"quantitative\", \"field\": \"x0\", \"scale\": {\"domain\": [-1, 1]}}, \"y\": {\"type\": \"quantitative\", \"field\": \"y\"}}, \"height\": 300, \"width\": 800, \"$schema\": \"https://vega.github.io/schema/vega-lite/v4.8.1.json\", \"datasets\": {\"data-61433b151ed202e4dc114ea4f85a2d16\": [{\"x0\": 0.0, \"y\": 0.20307063371816847}, {\"x0\": -0.6, \"y\": 0.1456134553077475}, {\"x0\": 0.6, \"y\": -0.6099111590913747}]}}, {\"mode\": \"vega-lite\"});\n",
       "</script>"
      ],
      "text/plain": [
       "alt.Chart(...)"
      ]
     },
     "execution_count": 43,
     "metadata": {},
     "output_type": "execute_result"
    }
   ],
   "source": [
    "blackbox1 = bb.GPBlackBox(ndim=1)\n",
    "y = blackbox1([-.6])[0][0]\n",
    "y = blackbox1([.6])[0][0]\n",
    "blackbox1.plot_xy().properties(width=800, height=300)"
   ]
  },
  {
   "cell_type": "markdown",
   "metadata": {},
   "source": [
    "Now you should choose which input point (`x0`) to evaluate the function at:"
   ]
  },
  {
   "cell_type": "code",
   "execution_count": 44,
   "metadata": {},
   "outputs": [
    {
     "data": {
      "application/vnd.jupyter.widget-view+json": {
       "model_id": "d820e5dcb56f4b60aa0566555c9ca302",
       "version_major": 2,
       "version_minor": 0
      },
      "text/plain": [
       "FloatSlider(value=0.2, description='x0:', max=1.0, min=-1.0, step=0.01)"
      ]
     },
     "metadata": {},
     "output_type": "display_data"
    }
   ],
   "source": [
    "x0 = widgets.FloatSlider(\n",
    "    value=0.2,\n",
    "    min=bb.DOMAIN_MIN,\n",
    "    max=bb.DOMAIN_MAX,\n",
    "    step=0.01,\n",
    "    description='x0:',\n",
    "    readout_format='.2f',\n",
    ")\n",
    "display(x0)"
   ]
  },
  {
   "cell_type": "markdown",
   "metadata": {},
   "source": [
    "Adjust the slider above and repeatedly execute the following cell to see the evaluations.\n",
    "\n",
    "Evaluate the function and plot all the noisy evaluations `y` so far:"
   ]
  },
  {
   "cell_type": "code",
   "execution_count": 54,
   "metadata": {},
   "outputs": [
    {
     "name": "stdout",
     "output_type": "stream",
     "text": [
      "Evaluated black box at -0.26; result=0.5653256206087114\n"
     ]
    },
    {
     "data": {
      "text/html": [
       "\n",
       "<div id=\"altair-viz-2cc32c44580f467583144eff451f8ceb\"></div>\n",
       "<script type=\"text/javascript\">\n",
       "  (function(spec, embedOpt){\n",
       "    let outputDiv = document.currentScript.previousElementSibling;\n",
       "    if (outputDiv.id !== \"altair-viz-2cc32c44580f467583144eff451f8ceb\") {\n",
       "      outputDiv = document.getElementById(\"altair-viz-2cc32c44580f467583144eff451f8ceb\");\n",
       "    }\n",
       "    const paths = {\n",
       "      \"vega\": \"https://cdn.jsdelivr.net/npm//vega@5?noext\",\n",
       "      \"vega-lib\": \"https://cdn.jsdelivr.net/npm//vega-lib?noext\",\n",
       "      \"vega-lite\": \"https://cdn.jsdelivr.net/npm//vega-lite@4.8.1?noext\",\n",
       "      \"vega-embed\": \"https://cdn.jsdelivr.net/npm//vega-embed@6?noext\",\n",
       "    };\n",
       "\n",
       "    function loadScript(lib) {\n",
       "      return new Promise(function(resolve, reject) {\n",
       "        var s = document.createElement('script');\n",
       "        s.src = paths[lib];\n",
       "        s.async = true;\n",
       "        s.onload = () => resolve(paths[lib]);\n",
       "        s.onerror = () => reject(`Error loading script: ${paths[lib]}`);\n",
       "        document.getElementsByTagName(\"head\")[0].appendChild(s);\n",
       "      });\n",
       "    }\n",
       "\n",
       "    function showError(err) {\n",
       "      outputDiv.innerHTML = `<div class=\"error\" style=\"color:red;\">${err}</div>`;\n",
       "      throw err;\n",
       "    }\n",
       "\n",
       "    function displayChart(vegaEmbed) {\n",
       "      vegaEmbed(outputDiv, spec, embedOpt)\n",
       "        .catch(err => showError(`Javascript Error: ${err.message}<br>This usually means there's a typo in your chart specification. See the javascript console for the full traceback.`));\n",
       "    }\n",
       "\n",
       "    if(typeof define === \"function\" && define.amd) {\n",
       "      requirejs.config({paths});\n",
       "      require([\"vega-embed\"], displayChart, err => showError(`Error loading script: ${err.message}`));\n",
       "    } else if (typeof vegaEmbed === \"function\") {\n",
       "      displayChart(vegaEmbed);\n",
       "    } else {\n",
       "      loadScript(\"vega\")\n",
       "        .then(() => loadScript(\"vega-lite\"))\n",
       "        .then(() => loadScript(\"vega-embed\"))\n",
       "        .catch(showError)\n",
       "        .then(() => displayChart(vegaEmbed));\n",
       "    }\n",
       "  })({\"config\": {\"view\": {\"continuousWidth\": 400, \"continuousHeight\": 300}}, \"data\": {\"name\": \"data-1e1e1e45356563ba051b9324299726a5\"}, \"mark\": {\"type\": \"circle\", \"color\": \"red\", \"size\": 100}, \"encoding\": {\"x\": {\"type\": \"quantitative\", \"field\": \"x0\", \"scale\": {\"domain\": [-1, 1]}}, \"y\": {\"type\": \"quantitative\", \"field\": \"y\"}}, \"height\": 300, \"width\": 800, \"$schema\": \"https://vega.github.io/schema/vega-lite/v4.8.1.json\", \"datasets\": {\"data-1e1e1e45356563ba051b9324299726a5\": [{\"x0\": 0.0, \"y\": 0.20307063371816847}, {\"x0\": -0.6, \"y\": 0.1456134553077475}, {\"x0\": 0.6, \"y\": -0.6099111590913747}, {\"x0\": 0.2, \"y\": -0.21254020793620418}, {\"x0\": -0.33, \"y\": 0.8465873844668853}, {\"x0\": -0.9, \"y\": -0.4227678649829255}, {\"x0\": -0.21, \"y\": 0.7320394346295105}, {\"x0\": -0.41, \"y\": 0.8386008122060572}, {\"x0\": 0.91, \"y\": 0.34109989121585355}, {\"x0\": 1.0, \"y\": 0.9175923015494931}, {\"x0\": 0.95, \"y\": 0.735061238851136}, {\"x0\": -0.5, \"y\": 0.47689923321418703}, {\"x0\": -0.26, \"y\": 0.5653256206087114}]}}, {\"mode\": \"vega-lite\"});\n",
       "</script>"
      ],
      "text/plain": [
       "alt.Chart(...)"
      ]
     },
     "execution_count": 54,
     "metadata": {},
     "output_type": "execute_result"
    }
   ],
   "source": [
    "y = blackbox1([x0.value])[0][0]\n",
    "print(f'Evaluated black box at {x0.value}; result={y}')\n",
    "blackbox1.plot_xy().properties(width=800, height=300)"
   ]
  },
  {
   "cell_type": "markdown",
   "metadata": {},
   "source": [
    "Now go back and choose another point at which to evaluate the black box function.\n",
    "\n",
    "If you have finished evaluating the function at different points and you are confident where the maximum is, you can make a guess before executing the cells below.\n",
    "\n",
    "Show the function as a line and the noisy data we received as evaluations of it:"
   ]
  },
  {
   "cell_type": "code",
   "execution_count": 55,
   "metadata": {},
   "outputs": [
    {
     "data": {
      "text/html": [
       "\n",
       "<div id=\"altair-viz-3a6b2652e2324e06828b9d761cbc9887\"></div>\n",
       "<script type=\"text/javascript\">\n",
       "  (function(spec, embedOpt){\n",
       "    let outputDiv = document.currentScript.previousElementSibling;\n",
       "    if (outputDiv.id !== \"altair-viz-3a6b2652e2324e06828b9d761cbc9887\") {\n",
       "      outputDiv = document.getElementById(\"altair-viz-3a6b2652e2324e06828b9d761cbc9887\");\n",
       "    }\n",
       "    const paths = {\n",
       "      \"vega\": \"https://cdn.jsdelivr.net/npm//vega@5?noext\",\n",
       "      \"vega-lib\": \"https://cdn.jsdelivr.net/npm//vega-lib?noext\",\n",
       "      \"vega-lite\": \"https://cdn.jsdelivr.net/npm//vega-lite@4.8.1?noext\",\n",
       "      \"vega-embed\": \"https://cdn.jsdelivr.net/npm//vega-embed@6?noext\",\n",
       "    };\n",
       "\n",
       "    function loadScript(lib) {\n",
       "      return new Promise(function(resolve, reject) {\n",
       "        var s = document.createElement('script');\n",
       "        s.src = paths[lib];\n",
       "        s.async = true;\n",
       "        s.onload = () => resolve(paths[lib]);\n",
       "        s.onerror = () => reject(`Error loading script: ${paths[lib]}`);\n",
       "        document.getElementsByTagName(\"head\")[0].appendChild(s);\n",
       "      });\n",
       "    }\n",
       "\n",
       "    function showError(err) {\n",
       "      outputDiv.innerHTML = `<div class=\"error\" style=\"color:red;\">${err}</div>`;\n",
       "      throw err;\n",
       "    }\n",
       "\n",
       "    function displayChart(vegaEmbed) {\n",
       "      vegaEmbed(outputDiv, spec, embedOpt)\n",
       "        .catch(err => showError(`Javascript Error: ${err.message}<br>This usually means there's a typo in your chart specification. See the javascript console for the full traceback.`));\n",
       "    }\n",
       "\n",
       "    if(typeof define === \"function\" && define.amd) {\n",
       "      requirejs.config({paths});\n",
       "      require([\"vega-embed\"], displayChart, err => showError(`Error loading script: ${err.message}`));\n",
       "    } else if (typeof vegaEmbed === \"function\") {\n",
       "      displayChart(vegaEmbed);\n",
       "    } else {\n",
       "      loadScript(\"vega\")\n",
       "        .then(() => loadScript(\"vega-lite\"))\n",
       "        .then(() => loadScript(\"vega-embed\"))\n",
       "        .catch(showError)\n",
       "        .then(() => displayChart(vegaEmbed));\n",
       "    }\n",
       "  })({\"config\": {\"view\": {\"continuousWidth\": 400, \"continuousHeight\": 300}}, \"layer\": [{\"data\": {\"name\": \"data-1e1e1e45356563ba051b9324299726a5\"}, \"mark\": {\"type\": \"circle\", \"color\": \"red\", \"size\": 100}, \"encoding\": {\"x\": {\"type\": \"quantitative\", \"field\": \"x0\", \"scale\": {\"domain\": [-1, 1]}}, \"y\": {\"type\": \"quantitative\", \"field\": \"y\"}}}, {\"data\": {\"name\": \"data-223c4841aa45927003d9872d095ece0e\"}, \"mark\": \"line\", \"encoding\": {\"x\": {\"type\": \"quantitative\", \"field\": \"x0\"}, \"y\": {\"type\": \"quantitative\", \"field\": \"f\"}}}], \"height\": 300, \"width\": 800, \"$schema\": \"https://vega.github.io/schema/vega-lite/v4.8.1.json\", \"datasets\": {\"data-1e1e1e45356563ba051b9324299726a5\": [{\"x0\": 0.0, \"y\": 0.20307063371816847}, {\"x0\": -0.6, \"y\": 0.1456134553077475}, {\"x0\": 0.6, \"y\": -0.6099111590913747}, {\"x0\": 0.2, \"y\": -0.21254020793620418}, {\"x0\": -0.33, \"y\": 0.8465873844668853}, {\"x0\": -0.9, \"y\": -0.4227678649829255}, {\"x0\": -0.21, \"y\": 0.7320394346295105}, {\"x0\": -0.41, \"y\": 0.8386008122060572}, {\"x0\": 0.91, \"y\": 0.34109989121585355}, {\"x0\": 1.0, \"y\": 0.9175923015494931}, {\"x0\": 0.95, \"y\": 0.735061238851136}, {\"x0\": -0.5, \"y\": 0.47689923321418703}, {\"x0\": -0.26, \"y\": 0.5653256206087114}], \"data-223c4841aa45927003d9872d095ece0e\": [{\"x0\": -1.0, \"f\": -0.17711868212040702}, {\"x0\": -0.9797979797979798, \"f\": -0.15662877770946151}, {\"x0\": -0.9595959595959596, \"f\": -0.1272808272140422}, {\"x0\": -0.9393939393939394, \"f\": -0.09091936804085665}, {\"x0\": -0.9191919191919192, \"f\": -0.050001173505083485}, {\"x0\": -0.898989898989899, \"f\": -0.015514214821963301}, {\"x0\": -0.8787878787878788, \"f\": 0.0157981295176175}, {\"x0\": -0.8585858585858586, \"f\": 0.052195302294405166}, {\"x0\": -0.8383838383838383, \"f\": 0.09901736501250213}, {\"x0\": -0.8181818181818181, \"f\": 0.16221864484646148}, {\"x0\": -0.797979797979798, \"f\": 0.23315893679245692}, {\"x0\": -0.7777777777777778, \"f\": 0.3040306860535644}, {\"x0\": -0.7575757575757576, \"f\": 0.37281436223558095}, {\"x0\": -0.7373737373737373, \"f\": 0.428955422992768}, {\"x0\": -0.7171717171717171, \"f\": 0.4711643935076433}, {\"x0\": -0.696969696969697, \"f\": 0.502728560898748}, {\"x0\": -0.6767676767676767, \"f\": 0.5130055075371349}, {\"x0\": -0.6565656565656566, \"f\": 0.5163332107397464}, {\"x0\": -0.6363636363636364, \"f\": 0.520875370901571}, {\"x0\": -0.6161616161616161, \"f\": 0.5279056015630006}, {\"x0\": -0.5959595959595959, \"f\": 0.5379773053053488}, {\"x0\": -0.5757575757575757, \"f\": 0.5437888314719133}, {\"x0\": -0.5555555555555556, \"f\": 0.5435141862229644}, {\"x0\": -0.5353535353535352, \"f\": 0.5506612647624823}, {\"x0\": -0.5151515151515151, \"f\": 0.5673626206057467}, {\"x0\": -0.4949494949494949, \"f\": 0.5910978755599428}, {\"x0\": -0.4747474747474747, \"f\": 0.6230065733120942}, {\"x0\": -0.4545454545454545, \"f\": 0.647887644173635}, {\"x0\": -0.43434343434343425, \"f\": 0.6752022938845622}, {\"x0\": -0.41414141414141414, \"f\": 0.6978725978527336}, {\"x0\": -0.3939393939393939, \"f\": 0.7123521653333122}, {\"x0\": -0.3737373737373737, \"f\": 0.7156809346316003}, {\"x0\": -0.3535353535353535, \"f\": 0.7093192055661558}, {\"x0\": -0.33333333333333326, \"f\": 0.6885805643237528}, {\"x0\": -0.31313131313131304, \"f\": 0.6625115127528869}, {\"x0\": -0.2929292929292928, \"f\": 0.6337429278409352}, {\"x0\": -0.2727272727272727, \"f\": 0.594881557951491}, {\"x0\": -0.2525252525252525, \"f\": 0.5436256025578333}, {\"x0\": -0.23232323232323226, \"f\": 0.47468724565539566}, {\"x0\": -0.21212121212121204, \"f\": 0.4105848300451402}, {\"x0\": -0.19191919191919182, \"f\": 0.35008267573989205}, {\"x0\": -0.1717171717171716, \"f\": 0.29376209405368514}, {\"x0\": -0.1515151515151515, \"f\": 0.23663556985230882}, {\"x0\": -0.13131313131313127, \"f\": 0.17757089611963617}, {\"x0\": -0.11111111111111105, \"f\": 0.12424269190534859}, {\"x0\": -0.09090909090909083, \"f\": 0.07725175396040079}, {\"x0\": -0.07070707070707061, \"f\": 0.032020536022090096}, {\"x0\": -0.050505050505050386, \"f\": -0.012082819447682691}, {\"x0\": -0.030303030303030276, \"f\": -0.04940246242875612}, {\"x0\": -0.010101010101010055, \"f\": -0.08321177756109413}, {\"x0\": 0.010101010101010166, \"f\": -0.10706782461072309}, {\"x0\": 0.030303030303030498, \"f\": -0.11964140489759562}, {\"x0\": 0.05050505050505061, \"f\": -0.12445847383130282}, {\"x0\": 0.07070707070707072, \"f\": -0.1315408486048896}, {\"x0\": 0.09090909090909105, \"f\": -0.14187720741392473}, {\"x0\": 0.11111111111111116, \"f\": -0.15256224776175772}, {\"x0\": 0.1313131313131315, \"f\": -0.1697420657442951}, {\"x0\": 0.1515151515151516, \"f\": -0.18730802028959276}, {\"x0\": 0.1717171717171717, \"f\": -0.2097478401182835}, {\"x0\": 0.19191919191919204, \"f\": -0.24990192894281452}, {\"x0\": 0.21212121212121215, \"f\": -0.3052872076463602}, {\"x0\": 0.2323232323232325, \"f\": -0.36060709634131755}, {\"x0\": 0.2525252525252526, \"f\": -0.4115066913939466}, {\"x0\": 0.27272727272727293, \"f\": -0.465911559532137}, {\"x0\": 0.29292929292929304, \"f\": -0.5181980783627863}, {\"x0\": 0.31313131313131315, \"f\": -0.5809492628141866}, {\"x0\": 0.3333333333333335, \"f\": -0.6504337557637639}, {\"x0\": 0.3535353535353536, \"f\": -0.7278723569968231}, {\"x0\": 0.3737373737373739, \"f\": -0.8051754121463426}, {\"x0\": 0.39393939393939403, \"f\": -0.8720797629288414}, {\"x0\": 0.41414141414141437, \"f\": -0.9261852036614278}, {\"x0\": 0.4343434343434345, \"f\": -0.9592449787993895}, {\"x0\": 0.4545454545454546, \"f\": -0.9740737058821798}, {\"x0\": 0.4747474747474749, \"f\": -0.9744412652453063}, {\"x0\": 0.49494949494949503, \"f\": -0.9597152850941981}, {\"x0\": 0.5151515151515154, \"f\": -0.9280929124230558}, {\"x0\": 0.5353535353535355, \"f\": -0.8818264976544753}, {\"x0\": 0.5555555555555556, \"f\": -0.8314612511400625}, {\"x0\": 0.5757575757575759, \"f\": -0.7716192494952367}, {\"x0\": 0.595959595959596, \"f\": -0.7057409249310124}, {\"x0\": 0.6161616161616164, \"f\": -0.6286452437877486}, {\"x0\": 0.6363636363636365, \"f\": -0.544245783692635}, {\"x0\": 0.6565656565656568, \"f\": -0.4690796566688802}, {\"x0\": 0.6767676767676769, \"f\": -0.3871318506288336}, {\"x0\": 0.696969696969697, \"f\": -0.30394214166548794}, {\"x0\": 0.7171717171717173, \"f\": -0.21968514768267233}, {\"x0\": 0.7373737373737375, \"f\": -0.142010990714692}, {\"x0\": 0.7575757575757578, \"f\": -0.07618581177080536}, {\"x0\": 0.7777777777777779, \"f\": -0.013665730586856571}, {\"x0\": 0.7979797979797982, \"f\": 0.04706183716919321}, {\"x0\": 0.8181818181818183, \"f\": 0.09241133267724531}, {\"x0\": 0.8383838383838385, \"f\": 0.13007706786337925}, {\"x0\": 0.8585858585858588, \"f\": 0.16300950788729662}, {\"x0\": 0.8787878787878789, \"f\": 0.19258970715589918}, {\"x0\": 0.8989898989898992, \"f\": 0.21601517709999707}, {\"x0\": 0.9191919191919193, \"f\": 0.2455499962888128}, {\"x0\": 0.9393939393939394, \"f\": 0.29231731144717565}, {\"x0\": 0.9595959595959598, \"f\": 0.3321562816241028}, {\"x0\": 0.9797979797979799, \"f\": 0.3782530794173402}, {\"x0\": 1.0, \"f\": 0.43578489381041063}]}}, {\"mode\": \"vega-lite\"});\n",
       "</script>"
      ],
      "text/plain": [
       "alt.LayerChart(...)"
      ]
     },
     "execution_count": 55,
     "metadata": {},
     "output_type": "execute_result"
    }
   ],
   "source": [
    "f1 = blackbox1.sample_f(100)\n",
    "chart1f = (\n",
    "    alt.Chart(f1)\n",
    "    .mark_line()\n",
    "    .encode(x='x0', y='f'))\n",
    "chart1y = blackbox1.plot_xy()\n",
    "chart1 = alt.layer(chart1y, chart1f)\n",
    "chart1.properties(width=800, height=300)"
   ]
  },
  {
   "cell_type": "markdown",
   "metadata": {},
   "source": [
    "### Bayesian optimisation for 1-dimensional input\n",
    "Now we will try Bayesian optimisation using the [Trieste](https://secondmind-labs.github.io/trieste/) package which uses [GPflow](https://gpflow.readthedocs.io/en/master/) for Gaussian process regression.\n",
    "This section is based on the Trieste tutorial."
   ]
  },
  {
   "cell_type": "code",
   "execution_count": 56,
   "metadata": {},
   "outputs": [],
   "source": [
    "model1 = gpflow.models.GPR((f1['x0'].to_numpy().reshape((-1, 1)), f1['f'].to_numpy().reshape((-1, 1))),\n",
    "                           kernel=gpflow.kernels.Matern52(lengthscales=.4),\n",
    "                           noise_variance=1.1e-6)\n",
    "\n",
    "def blackbox_bo1(x):\n",
    "    mean, var = model1.predict_y(tf.reshape(x, (-1, 1)))\n",
    "    return - bb.rng.normal(loc=mean, scale=np.sqrt(blackbox1.noise_variance))"
   ]
  },
  {
   "cell_type": "markdown",
   "metadata": {},
   "source": [
    "#### Initial sample over search space"
   ]
  },
  {
   "cell_type": "code",
   "execution_count": 58,
   "metadata": {},
   "outputs": [],
   "source": [
    "observer = mk_observer(blackbox_bo1, OBJECTIVE)\n",
    "lower_bound = tf.cast([bb.DOMAIN_MIN], gpflow.default_float())\n",
    "upper_bound = tf.cast([bb.DOMAIN_MAX], gpflow.default_float())\n",
    "search_space = trieste.space.Box(lower_bound, upper_bound)\n",
    "\n",
    "num_initial_points = 5\n",
    "initial_query_points = search_space.sample(num_initial_points)\n",
    "initial_data = observer(initial_query_points)"
   ]
  },
  {
   "cell_type": "markdown",
   "metadata": {},
   "source": [
    "#### Model the objective function"
   ]
  },
  {
   "cell_type": "code",
   "execution_count": 59,
   "metadata": {},
   "outputs": [
    {
     "name": "stdout",
     "output_type": "stream",
     "text": [
      "╒═════════════════════════╤═══════════╤══════════════════╤═════════╤═════════════╤═════════╤═════════╤═════════════════════╕\n",
      "│ name                    │ class     │ transform        │ prior   │ trainable   │ shape   │ dtype   │ value               │\n",
      "╞═════════════════════════╪═══════════╪══════════════════╪═════════╪═════════════╪═════════╪═════════╪═════════════════════╡\n",
      "│ GPR.kernel.variance     │ Parameter │ Softplus         │         │ True        │ ()      │ float64 │ 1.0                 │\n",
      "├─────────────────────────┼───────────┼──────────────────┼─────────┼─────────────┼─────────┼─────────┼─────────────────────┤\n",
      "│ GPR.kernel.lengthscales │ Parameter │ Softplus         │         │ False       │ (1,)    │ float64 │ [0.40000001]        │\n",
      "├─────────────────────────┼───────────┼──────────────────┼─────────┼─────────────┼─────────┼─────────┼─────────────────────┤\n",
      "│ GPR.likelihood.variance │ Parameter │ Softplus + Shift │         │ False       │ ()      │ float64 │ 0.16000000000000003 │\n",
      "╘═════════════════════════╧═══════════╧══════════════════╧═════════╧═════════════╧═════════╧═════════╧═════════════════════╛\n"
     ]
    }
   ],
   "source": [
    "kernel = gpflow.kernels.Matern52(lengthscales=0.4 * tf.ones(1,))\n",
    "objective_model = gpflow.models.GPR(astuple(initial_data[OBJECTIVE]),\n",
    "                                    kernel=kernel,\n",
    "                                    noise_variance=blackbox1.noise_variance)\n",
    "set_trainable(objective_model.kernel.lengthscales, False)\n",
    "set_trainable(objective_model.likelihood, False)\n",
    "print_summary(objective_model)"
   ]
  },
  {
   "cell_type": "code",
   "execution_count": 60,
   "metadata": {},
   "outputs": [],
   "source": [
    "model = {OBJECTIVE: trieste.models.create_model_interface(\n",
    "    {\n",
    "        \"model\": objective_model,\n",
    "        \"optimizer\": gpflow.optimizers.Scipy(),\n",
    "        \"optimizer_args\": {\"options\": dict(maxiter=100)},\n",
    "    }\n",
    ")}"
   ]
  },
  {
   "cell_type": "markdown",
   "metadata": {},
   "source": [
    "#### Acquisition function\n",
    "Could try either of the two below.\n",
    "`ExpectedImprovement` is the default in Trieste."
   ]
  },
  {
   "cell_type": "code",
   "execution_count": 83,
   "metadata": {},
   "outputs": [],
   "source": [
    "acq_fn = NegativeLowerConfidenceBound()\n",
    "# acq_fn = ExpectedImprovement()\n",
    "rule = trieste.acquisition.rule.EfficientGlobalOptimization(acq_fn.using(OBJECTIVE))"
   ]
  },
  {
   "cell_type": "markdown",
   "metadata": {},
   "source": [
    "#### Optimisation loop"
   ]
  },
  {
   "cell_type": "code",
   "execution_count": 84,
   "metadata": {},
   "outputs": [],
   "source": [
    "bo = trieste.bayesian_optimizer.BayesianOptimizer(observer, search_space)\n",
    "result: OptimizationResult = bo.optimize(15, initial_data, model, acquisition_rule=rule)\n",
    "if result.error is not None:\n",
    "    raise result.error\n",
    "dataset = result.datasets[OBJECTIVE]"
   ]
  },
  {
   "cell_type": "markdown",
   "metadata": {},
   "source": [
    "#### Explore results\n",
    "First use the optimiser's model to predict the underlying function, `f`, with uncertainty."
   ]
  },
  {
   "cell_type": "code",
   "execution_count": 85,
   "metadata": {},
   "outputs": [],
   "source": [
    "mean, var = model[OBJECTIVE].model.predict_f(f1['x0'].to_numpy().reshape((-1, 1)))\n",
    "bo_f1 = pd.DataFrame(dict(x0=f1['x0'],\n",
    "                          f=- mean.numpy()[:, 0],\n",
    "                          sd=np.sqrt(var.numpy()[:, 0])))"
   ]
  },
  {
   "cell_type": "markdown",
   "metadata": {},
   "source": [
    "Next retrieve the evaluations the optimiser received from the black box."
   ]
  },
  {
   "cell_type": "code",
   "execution_count": 86,
   "metadata": {},
   "outputs": [],
   "source": [
    "observations = pd.DataFrame(dict(x0=dataset.query_points.numpy()[:, 0],\n",
    "                                 y=- dataset.observations.numpy()[:, 0]))"
   ]
  },
  {
   "cell_type": "markdown",
   "metadata": {},
   "source": [
    "Now plot the optimiser's estimate of the underlying function in green (with error bars +/- two standard deviations),\n",
    "the black box evaluations in red and the true underlying function in blue."
   ]
  },
  {
   "cell_type": "code",
   "execution_count": 87,
   "metadata": {},
   "outputs": [
    {
     "data": {
      "text/html": [
       "\n",
       "<div id=\"altair-viz-18ef21b43a374be0b2a541ebb0710e82\"></div>\n",
       "<script type=\"text/javascript\">\n",
       "  (function(spec, embedOpt){\n",
       "    let outputDiv = document.currentScript.previousElementSibling;\n",
       "    if (outputDiv.id !== \"altair-viz-18ef21b43a374be0b2a541ebb0710e82\") {\n",
       "      outputDiv = document.getElementById(\"altair-viz-18ef21b43a374be0b2a541ebb0710e82\");\n",
       "    }\n",
       "    const paths = {\n",
       "      \"vega\": \"https://cdn.jsdelivr.net/npm//vega@5?noext\",\n",
       "      \"vega-lib\": \"https://cdn.jsdelivr.net/npm//vega-lib?noext\",\n",
       "      \"vega-lite\": \"https://cdn.jsdelivr.net/npm//vega-lite@4.8.1?noext\",\n",
       "      \"vega-embed\": \"https://cdn.jsdelivr.net/npm//vega-embed@6?noext\",\n",
       "    };\n",
       "\n",
       "    function loadScript(lib) {\n",
       "      return new Promise(function(resolve, reject) {\n",
       "        var s = document.createElement('script');\n",
       "        s.src = paths[lib];\n",
       "        s.async = true;\n",
       "        s.onload = () => resolve(paths[lib]);\n",
       "        s.onerror = () => reject(`Error loading script: ${paths[lib]}`);\n",
       "        document.getElementsByTagName(\"head\")[0].appendChild(s);\n",
       "      });\n",
       "    }\n",
       "\n",
       "    function showError(err) {\n",
       "      outputDiv.innerHTML = `<div class=\"error\" style=\"color:red;\">${err}</div>`;\n",
       "      throw err;\n",
       "    }\n",
       "\n",
       "    function displayChart(vegaEmbed) {\n",
       "      vegaEmbed(outputDiv, spec, embedOpt)\n",
       "        .catch(err => showError(`Javascript Error: ${err.message}<br>This usually means there's a typo in your chart specification. See the javascript console for the full traceback.`));\n",
       "    }\n",
       "\n",
       "    if(typeof define === \"function\" && define.amd) {\n",
       "      requirejs.config({paths});\n",
       "      require([\"vega-embed\"], displayChart, err => showError(`Error loading script: ${err.message}`));\n",
       "    } else if (typeof vegaEmbed === \"function\") {\n",
       "      displayChart(vegaEmbed);\n",
       "    } else {\n",
       "      loadScript(\"vega\")\n",
       "        .then(() => loadScript(\"vega-lite\"))\n",
       "        .then(() => loadScript(\"vega-embed\"))\n",
       "        .catch(showError)\n",
       "        .then(() => displayChart(vegaEmbed));\n",
       "    }\n",
       "  })({\"config\": {\"view\": {\"continuousWidth\": 400, \"continuousHeight\": 300}}, \"layer\": [{\"data\": {\"name\": \"data-e1a7e7094d13119a2fe8e24ebd92d6fd\"}, \"mark\": {\"type\": \"circle\", \"color\": \"red\", \"size\": 60}, \"encoding\": {\"x\": {\"type\": \"quantitative\", \"field\": \"x0\"}, \"y\": {\"type\": \"quantitative\", \"field\": \"y\"}}}, {\"data\": {\"name\": \"data-376a1cb8f2dc0820126e3b6c72b7cdf4\"}, \"mark\": {\"type\": \"errorbar\", \"color\": \"green\"}, \"encoding\": {\"x\": {\"type\": \"quantitative\", \"field\": \"x0\"}, \"y\": {\"type\": \"quantitative\", \"field\": \"fmin\"}, \"y2\": {\"field\": \"fmax\"}}}, {\"data\": {\"name\": \"data-4cf7f0a7b486d0063a98ea9b4ee4e14c\"}, \"mark\": {\"type\": \"line\", \"color\": \"green\"}, \"encoding\": {\"x\": {\"type\": \"quantitative\", \"field\": \"x0\"}, \"y\": {\"type\": \"quantitative\", \"field\": \"f\"}}}, {\"data\": {\"name\": \"data-223c4841aa45927003d9872d095ece0e\"}, \"mark\": \"line\", \"encoding\": {\"x\": {\"type\": \"quantitative\", \"field\": \"x0\"}, \"y\": {\"type\": \"quantitative\", \"field\": \"f\"}}}], \"height\": 300, \"width\": 800, \"$schema\": \"https://vega.github.io/schema/vega-lite/v4.8.1.json\", \"datasets\": {\"data-e1a7e7094d13119a2fe8e24ebd92d6fd\": [{\"x0\": 0.6336795419364853, \"y\": -0.2677628442134782}, {\"x0\": 0.6013258086508908, \"y\": -1.3775593716074517}, {\"x0\": 0.04161129788589557, \"y\": 0.4676961075337281}, {\"x0\": -0.2343392294021327, \"y\": 0.4773702945110959}, {\"x0\": 0.8572371880632961, \"y\": -0.037633291264012325}, {\"x0\": -0.9999588656820966, \"y\": -0.11766942990436813}, {\"x0\": -0.4272964693472241, \"y\": 0.7571836812391811}, {\"x0\": -0.4968456992808553, \"y\": 0.6288015883575545}, {\"x0\": -0.32367932917966846, \"y\": 0.20834381730201768}, {\"x0\": -0.5885524720753148, \"y\": 0.3664796865409147}, {\"x0\": -0.20633786028591095, \"y\": 0.4368304039402629}, {\"x0\": -0.4672834236129565, \"y\": 0.996778469176641}, {\"x0\": -0.5188061378781871, \"y\": 0.6511941743913027}, {\"x0\": -0.46620383026991363, \"y\": 0.10471463702501949}, {\"x0\": -0.6248920215293456, \"y\": 0.4387947177758512}, {\"x0\": -0.3404918945724209, \"y\": 0.6417193558921916}, {\"x0\": -0.33905097859350153, \"y\": 0.021505045045247417}, {\"x0\": -0.6208720366206727, \"y\": 0.7419827270186903}, {\"x0\": -0.6532223011671447, \"y\": 0.8224843988561088}, {\"x0\": -0.683560457250233, \"y\": 0.14614847412282417}], \"data-376a1cb8f2dc0820126e3b6c72b7cdf4\": [{\"x0\": -1.0, \"f\": 0.07274742400376327, \"sd\": 0.26091290216501667, \"fmin\": -0.44907838032627007, \"fmax\": 0.5945732283337966}, {\"x0\": -0.9797979797979798, \"f\": 0.08970927548404152, \"sd\": 0.2554487653070491, \"fmin\": -0.42118825513005664, \"fmax\": 0.6006068060981397}, {\"x0\": -0.9595959595959596, \"f\": 0.10805655447434213, \"sd\": 0.2502894670040077, \"fmin\": -0.3925223795336733, \"fmax\": 0.6086354884823576}, {\"x0\": -0.9393939393939394, \"f\": 0.12770639466206157, \"sd\": 0.24531049969504848, \"fmin\": -0.3629146047280354, \"fmax\": 0.6183273940521585}, {\"x0\": -0.9191919191919192, \"f\": 0.14854795143089045, \"sd\": 0.24036144847571245, \"fmin\": -0.33217494552053445, \"fmax\": 0.6292708483823153}, {\"x0\": -0.898989898989899, \"f\": 0.17044709303917127, \"sd\": 0.2352841258260627, \"fmin\": -0.30012115861295413, \"fmax\": 0.6410153446912967}, {\"x0\": -0.8787878787878788, \"f\": 0.1932498828599503, \"sd\": 0.22992891745734026, \"fmin\": -0.2666079520547302, \"fmax\": 0.6531077177746308}, {\"x0\": -0.8585858585858586, \"f\": 0.2167850950267964, \"sd\": 0.224168525161618, \"fmin\": -0.2315519552964396, \"fmax\": 0.6651221453500324}, {\"x0\": -0.8383838383838383, \"f\": 0.2408659806928274, \"sd\": 0.21790886828458952, \"fmin\": -0.19495175587635163, \"fmax\": 0.6766837172620065}, {\"x0\": -0.8181818181818181, \"f\": 0.26529148374264716, \"sd\": 0.21109730033696716, \"fmin\": -0.15690311693128717, \"fmax\": 0.6874860844165815}, {\"x0\": -0.797979797979798, \"f\": 0.28984709282506904, \"sd\": 0.20372845240708898, \"fmin\": -0.11760981198910891, \"fmax\": 0.697303997639247}, {\"x0\": -0.7777777777777778, \"f\": 0.3143055107769667, \"sd\": 0.19584793594581934, \"fmin\": -0.07739036111467196, \"fmax\": 0.7060013826686053}, {\"x0\": -0.7575757575757576, \"f\": 0.33842732281129345, \"sd\": 0.18755385169812266, \"fmin\": -0.03668038058495188, \"fmax\": 0.7135350262075388}, {\"x0\": -0.7373737373737373, \"f\": 0.3619618513182588, \"sd\": 0.17899558607141383, \"fmin\": 0.003970679175431147, \"fmax\": 0.7199530234610865}, {\"x0\": -0.7171717171717171, \"f\": 0.384648397999741, \"sd\": 0.17036877155384336, \"fmin\": 0.04391085489205426, \"fmax\": 0.7253859411074277}, {\"x0\": -0.696969696969697, \"f\": 0.4062180936998815, \"sd\": 0.16190466179041432, \"fmin\": 0.08240877011905284, \"fmax\": 0.7300274172807102}, {\"x0\": -0.6767676767676767, \"f\": 0.4263966042703813, \"sd\": 0.1538518366439305, \"fmin\": 0.11869293098252026, \"fmax\": 0.7341002775582424}, {\"x0\": -0.6565656565656566, \"f\": 0.44490898167456105, \"sd\": 0.14644928684245068, \"fmin\": 0.1520104079896597, \"fmax\": 0.7378075553594624}, {\"x0\": -0.6363636363636364, \"f\": 0.46149639959186617, \"sd\": 0.13989677949351287, \"fmin\": 0.18170284060484043, \"fmax\": 0.7412899585788919}, {\"x0\": -0.6161616161616161, \"f\": 0.4759434253616794, \"sd\": 0.1343297029565566, \"fmin\": 0.20728401944856617, \"fmax\": 0.7446028312747925}, {\"x0\": -0.5959595959595959, \"f\": 0.4880901443549827, \"sd\": 0.12980338296116192, \"fmin\": 0.22848337843265887, \"fmax\": 0.7476969102773066}, {\"x0\": -0.5757575757575757, \"f\": 0.4978294487332966, \"sd\": 0.12629551013654852, \"fmin\": 0.24523842846019955, \"fmax\": 0.7504204690063936}, {\"x0\": -0.5555555555555556, \"f\": 0.5050957406586515, \"sd\": 0.12372815579756731, \"fmin\": 0.2576394290635169, \"fmax\": 0.7525520522537861}, {\"x0\": -0.5353535353535352, \"f\": 0.5098603899999994, \"sd\": 0.12199819985297708, \"fmin\": 0.2658639902940452, \"fmax\": 0.7538567897059536}, {\"x0\": -0.5151515151515151, \"f\": 0.512135793183537, \"sd\": 0.12100391654841273, \"fmin\": 0.27012796008671147, \"fmax\": 0.7541436262803625}, {\"x0\": -0.4949494949494949, \"f\": 0.5119835159583416, \"sd\": 0.12065724721118637, \"fmin\": 0.27066902153596883, \"fmax\": 0.7532980103807143}, {\"x0\": -0.4747474747474747, \"f\": 0.5095221246829146, \"sd\": 0.12088404876191575, \"fmin\": 0.2677540271590831, \"fmax\": 0.7512902222067461}, {\"x0\": -0.4545454545454545, \"f\": 0.5049285204327721, \"sd\": 0.12162144331883928, \"fmin\": 0.2616856337950936, \"fmax\": 0.7481714070704507}, {\"x0\": -0.43434343434343425, \"f\": 0.49843353508704014, \"sd\": 0.12281657526315139, \"fmin\": 0.2528003845607374, \"fmax\": 0.7440666856133429}, {\"x0\": -0.41414141414141414, \"f\": 0.4903143151699644, \"sd\": 0.12443225150009596, \"fmin\": 0.24144981216977246, \"fmax\": 0.7391788181701563}, {\"x0\": -0.3939393939393939, \"f\": 0.4808853319019989, \"sd\": 0.12645556270869093, \"fmin\": 0.22797420648461703, \"fmax\": 0.7337964573193807}, {\"x0\": -0.3737373737373737, \"f\": 0.47047917717567717, \"sd\": 0.12890324574427778, \"fmin\": 0.2126726856871216, \"fmax\": 0.7282856686642327}, {\"x0\": -0.3535353535353535, \"f\": 0.4594195166061983, \"sd\": 0.13181906766740123, \"fmin\": 0.19578138127139583, \"fmax\": 0.7230576519410008}, {\"x0\": -0.33333333333333326, \"f\": 0.4479941709015774, \"sd\": 0.1352586294559977, \"fmin\": 0.177476911989582, \"fmax\": 0.7185114298135729}, {\"x0\": -0.31313131313131304, \"f\": 0.4364286789655654, \"sd\": 0.13926504805431267, \"fmin\": 0.15789858285694008, \"fmax\": 0.7149587750741908}, {\"x0\": -0.2929292929292928, \"f\": 0.42486820036403206, \"sd\": 0.14385092748379416, \"fmin\": 0.13716634539644373, \"fmax\": 0.7125700553316203}, {\"x0\": -0.2727272727272727, \"f\": 0.41338153061939603, \"sd\": 0.14899934638064252, \"fmin\": 0.11538283785811099, \"fmax\": 0.7113802233806811}, {\"x0\": -0.2525252525252525, \"f\": 0.40197687697133777, \"sd\": 0.15467103338748228, \"fmin\": 0.09263481019637321, \"fmax\": 0.7113189437463023}, {\"x0\": -0.23232323232323226, \"f\": 0.39061761961728875, \"sd\": 0.16080699060770262, \"fmin\": 0.0690036384018835, \"fmax\": 0.712231600832694}, {\"x0\": -0.21212121212121204, \"f\": 0.3792370614850159, \"sd\": 0.16732555697262458, \"fmin\": 0.044585947539766746, \"fmax\": 0.7138881754302651}, {\"x0\": -0.19191919191919182, \"f\": 0.36775050620519195, \"sd\": 0.17411966896921394, \"fmin\": 0.01951116826676408, \"fmax\": 0.7159898441436199}, {\"x0\": -0.1717171717171716, \"f\": 0.3560618649888318, \"sd\": 0.18106277058420361, \"fmin\": -0.006063676179575428, \"fmax\": 0.7181874061572391}, {\"x0\": -0.1515151515151515, \"f\": 0.34406583571666344, \"sd\": 0.18802425671895429, \"fmin\": -0.031982677721245134, \"fmax\": 0.7201143491545721}, {\"x0\": -0.13131313131313127, \"f\": 0.3316483555760772, \"sd\": 0.19488726567596965, \"fmin\": -0.0581261757758621, \"fmax\": 0.7214228869280165}, {\"x0\": -0.11111111111111105, \"f\": 0.3186874236877825, \"sd\": 0.20156188975479733, \"fmin\": -0.08443635582181214, \"fmax\": 0.7218112031973771}, {\"x0\": -0.09090909090909083, \"f\": 0.30505454173543006, \"sd\": 0.20799298680464273, \"fmin\": -0.1109314318738554, \"fmax\": 0.7210405153447155}, {\"x0\": -0.07070707070707061, \"f\": 0.2906168616967603, \"sd\": 0.21416290593934634, \"fmin\": -0.13770895018193235, \"fmax\": 0.7189426735754529}, {\"x0\": -0.050505050505050386, \"f\": 0.2752401588030138, \"sd\": 0.22008961220604822, \"fmin\": -0.16493906560908267, \"fmax\": 0.7154193832151102}, {\"x0\": -0.030303030303030276, \"f\": 0.25879278018993995, \"sd\": 0.2258206614996117, \"fmin\": -0.19284854280928343, \"fmax\": 0.7104341031891633}, {\"x0\": -0.010101010101010055, \"f\": 0.2411507560731157, \"sd\": 0.23142344398129133, \"fmin\": -0.22169613188946696, \"fmax\": 0.7039976440356983}, {\"x0\": 0.010101010101010166, \"f\": 0.22220430159542998, \"sd\": 0.23697220657932802, \"fmin\": -0.25174011156322607, \"fmax\": 0.696148714754086}, {\"x0\": 0.030303030303030498, \"f\": 0.201865984774845, \"sd\": 0.2425326189832109, \"fmin\": -0.2831992531915768, \"fmax\": 0.6869312227412668}, {\"x0\": 0.05050505050505061, \"f\": 0.18008088638170777, \"sd\": 0.248145010678297, \"fmin\": -0.31620913497488623, \"fmax\": 0.6763709077383018}, {\"x0\": 0.07070707070707072, \"f\": 0.1568376741569645, \"sd\": 0.2538090161843154, \"fmin\": -0.3507803582116663, \"fmax\": 0.6644557065255953}, {\"x0\": 0.09090909090909105, \"f\": 0.13217046679944217, \"sd\": 0.2594801975115903, \"fmin\": -0.3867899282237384, \"fmax\": 0.6511308618226228}, {\"x0\": 0.11111111111111116, \"f\": 0.10615012918479637, \"sd\": 0.2650798359289506, \"fmin\": -0.42400954267310487, \"fmax\": 0.6363098010426976}, {\"x0\": 0.1313131313131315, \"f\": 0.07887584530388081, \"sd\": 0.2705066967903527, \"fmin\": -0.46213754827682463, \"fmax\": 0.6198892388845862}, {\"x0\": 0.1515151515151516, \"f\": 0.05046869938740446, \"sd\": 0.27564765950684755, \"fmin\": -0.5008266196262906, \"fmax\": 0.6017640184010996}, {\"x0\": 0.1717171717171717, \"f\": 0.02106692997017782, \"sd\": 0.28038650911720475, \"fmin\": -0.5397060882642317, \"fmax\": 0.5818399482045873}, {\"x0\": 0.19191919191919204, \"f\": -0.009177440858334654, \"sd\": 0.2846106817811526, \"fmin\": -0.5783988044206398, \"fmax\": 0.5600439227039706}, {\"x0\": 0.21212121212121215, \"f\": -0.04010085884434604, \"sd\": 0.28821609833305867, \"fmin\": -0.6165330555104633, \"fmax\": 0.5363313378217713}, {\"x0\": 0.2323232323232325, \"f\": -0.07152959136471795, \"sd\": 0.2911104112864359, \"fmin\": -0.6537504139375897, \"fmax\": 0.5106912312081539}, {\"x0\": 0.2525252525252526, \"f\": -0.10328037840353259, \"sd\": 0.29321506272468467, \"fmin\": -0.6897105038529019, \"fmax\": 0.48314974704583674}, {\"x0\": 0.27272727272727293, \"f\": -0.13516055495843673, \"sd\": 0.2944665454150792, \"fmin\": -0.7240936457885951, \"fmax\": 0.4537725358717217}, {\"x0\": 0.29292929292929304, \"f\": -0.1669678045902503, \"sd\": 0.29481721373675707, \"fmin\": -0.7566022320637644, \"fmax\": 0.42266662288326384}, {\"x0\": 0.31313131313131315, \"f\": -0.19848969497080837, \"sd\": 0.29423592981711966, \"fmin\": -0.7869615546050477, \"fmax\": 0.38998216466343094}, {\"x0\": 0.3333333333333335, \"f\": -0.22950314292305915, \"sd\": 0.29270876780785854, \"fmin\": -0.8149206785387763, \"fmax\": 0.3559143926926579}, {\"x0\": 0.3535353535353536, \"f\": -0.25977395854192137, \"sd\": 0.29023994116492047, \"fmin\": -0.8402538408717624, \"fmax\": 0.32070592378791957}, {\"x0\": 0.3737373737373739, \"f\": -0.28905662562793044, \"sd\": 0.28685306378717584, \"fmin\": -0.8627627532022821, \"fmax\": 0.28464950194642125}, {\"x0\": 0.39393939393939403, \"f\": -0.31709448909018456, \"sd\": 0.2825928012269891, \"fmin\": -0.8822800915441628, \"fmax\": 0.24809111336379364}, {\"x0\": 0.41414141414141437, \"f\": -0.3436205395561228, \"sd\": 0.27752690451602346, \"fmin\": -0.8986743485881697, \"fmax\": 0.2114332694759241}, {\"x0\": 0.4343434343434345, \"f\": -0.36835901169050517, \"sd\": 0.2717485342487526, \"fmin\": -0.9118560801880105, \"fmax\": 0.17513805680700006}, {\"x0\": 0.4545454545454546, \"f\": -0.3910280463655664, \"sd\": 0.26537866023697537, \"fmin\": -0.9217853668395171, \"fmax\": 0.13972927410838437}, {\"x0\": 0.4747474747474749, \"f\": -0.41134370870747367, \"sd\": 0.258568143193306, \"fmin\": -0.9284799950940856, \"fmax\": 0.10579257767913836}, {\"x0\": 0.49494949494949503, \"f\": -0.42902570523690287, \"sd\": 0.2514988526187702, \"fmin\": -0.9320234104744433, \"fmax\": 0.07397200000063753}, {\"x0\": 0.5151515151515154, \"f\": -0.44380520510862564, \"sd\": 0.24438284839658303, \"fmin\": -0.9325709019017917, \"fmax\": 0.044960491684540416}, {\"x0\": 0.5353535353535355, \"f\": -0.4554352443679531, \"sd\": 0.237458295567861, \"fmin\": -0.9303518355036751, \"fmax\": 0.019481346767768914}, {\"x0\": 0.5555555555555556, \"f\": -0.463704279990357, \"sd\": 0.23098052274161848, \"fmin\": -0.925665325473594, \"fmax\": -0.0017432345071200506}, {\"x0\": 0.5757575757575759, \"f\": -0.4684535643800099, \"sd\": 0.22520673179426404, \"fmin\": -0.918867027968538, \"fmax\": -0.018040100791481828}, {\"x0\": 0.595959595959596, \"f\": -0.4695991334586444, \"sd\": 0.22037367905409677, \"fmin\": -0.910346491566838, \"fmax\": -0.02885177535045086}, {\"x0\": 0.6161616161616164, \"f\": -0.4671591768100105, \"sd\": 0.21666948946364842, \"fmin\": -0.9004981557373073, \"fmax\": -0.033820197882713676}, {\"x0\": 0.6363636363636365, \"f\": -0.46127666275697093, \"sd\": 0.2142059698544697, \"fmin\": -0.8896886024659103, \"fmax\": -0.03286472304803151}, {\"x0\": 0.6565656565656568, \"f\": -0.4522007885000689, \"sd\": 0.21300606662004304, \"fmin\": -0.878212921740155, \"fmax\": -0.026188655259982818}, {\"x0\": 0.6767676767676769, \"f\": -0.44024890106919523, \"sd\": 0.21301162769615375, \"fmin\": -0.8662721564615028, \"fmax\": -0.014225645676887722}, {\"x0\": 0.696969696969697, \"f\": -0.4257820005565192, \"sd\": 0.21410969481132225, \"fmin\": -0.8540013901791637, \"fmax\": 0.002437389066125284}, {\"x0\": 0.7171717171717173, \"f\": -0.40918760652351543, \"sd\": 0.21616366385758345, \"fmin\": -0.8415149342386823, \"fmax\": 0.023139721191651474}, {\"x0\": 0.7373737373737375, \"f\": -0.3908658691328842, \"sd\": 0.21904034374089207, \"fmin\": -0.8289465566146683, \"fmax\": 0.047214818348899956}, {\"x0\": 0.7575757575757578, \"f\": -0.3712180905545353, \"sd\": 0.22262911363120003, \"fmin\": -0.8164763178169354, \"fmax\": 0.07404013670786475}, {\"x0\": 0.7777777777777779, \"f\": -0.35063698677614535, \"sd\": 0.2268516783106891, \"fmin\": -0.8043403433975236, \"fmax\": 0.10306636984523282}, {\"x0\": 0.7979797979797982, \"f\": -0.32949808245163853, \"sd\": 0.23166270561873853, \"fmin\": -0.7928234936891156, \"fmax\": 0.13382732878583853}, {\"x0\": 0.8181818181818183, \"f\": -0.3081516762577983, \"sd\": 0.23704272256573947, \"fmin\": -0.7822371213892773, \"fmax\": 0.1659337688736806}, {\"x0\": 0.8383838383838385, \"f\": -0.2869148425453116, \"sd\": 0.242985203738533, \"fmin\": -0.7728852500223775, \"fmax\": 0.19905556493175441}, {\"x0\": 0.8585858585858588, \"f\": -0.266062947635999, \"sd\": 0.24948004869093698, \"fmin\": -0.765023045017873, \"fmax\": 0.23289714974587494}, {\"x0\": 0.8787878787878789, \"f\": -0.24582043233459971, \"sd\": 0.2564960284019523, \"fmin\": -0.7588124891385043, \"fmax\": 0.26717162446930487}, {\"x0\": 0.8989898989898992, \"f\": -0.2263559415908606, \"sd\": 0.26397031215385947, \"fmin\": -0.7542965658985795, \"fmax\": 0.30158468271685834}, {\"x0\": 0.9191919191919193, \"f\": -0.207788738545305, \"sd\": 0.2718137061208842, \"fmin\": -0.7514161507870734, \"fmax\": 0.33583867369646336}, {\"x0\": 0.9393939393939394, \"f\": -0.19019791234110456, \"sd\": 0.27992124248864636, \"fmin\": -0.7500403973183973, \"fmax\": 0.36964457263618816}, {\"x0\": 0.9595959595959598, \"f\": -0.17363022087393806, \"sd\": 0.2881819218661373, \"fmin\": -0.7499940646062127, \"fmax\": 0.40273362285833647}, {\"x0\": 0.9797979797979799, \"f\": -0.15810665016289957, \"sd\": 0.29648659910962655, \"fmin\": -0.7510798483821527, \"fmax\": 0.4348665480563535}, {\"x0\": 1.0, \"f\": -0.14362788210546007, \"sd\": 0.30473372787208663, \"fmin\": -0.7530953378496333, \"fmax\": 0.4658395736387132}], \"data-4cf7f0a7b486d0063a98ea9b4ee4e14c\": [{\"x0\": -1.0, \"f\": 0.07274742400376327, \"sd\": 0.26091290216501667}, {\"x0\": -0.9797979797979798, \"f\": 0.08970927548404152, \"sd\": 0.2554487653070491}, {\"x0\": -0.9595959595959596, \"f\": 0.10805655447434213, \"sd\": 0.2502894670040077}, {\"x0\": -0.9393939393939394, \"f\": 0.12770639466206157, \"sd\": 0.24531049969504848}, {\"x0\": -0.9191919191919192, \"f\": 0.14854795143089045, \"sd\": 0.24036144847571245}, {\"x0\": -0.898989898989899, \"f\": 0.17044709303917127, \"sd\": 0.2352841258260627}, {\"x0\": -0.8787878787878788, \"f\": 0.1932498828599503, \"sd\": 0.22992891745734026}, {\"x0\": -0.8585858585858586, \"f\": 0.2167850950267964, \"sd\": 0.224168525161618}, {\"x0\": -0.8383838383838383, \"f\": 0.2408659806928274, \"sd\": 0.21790886828458952}, {\"x0\": -0.8181818181818181, \"f\": 0.26529148374264716, \"sd\": 0.21109730033696716}, {\"x0\": -0.797979797979798, \"f\": 0.28984709282506904, \"sd\": 0.20372845240708898}, {\"x0\": -0.7777777777777778, \"f\": 0.3143055107769667, \"sd\": 0.19584793594581934}, {\"x0\": -0.7575757575757576, \"f\": 0.33842732281129345, \"sd\": 0.18755385169812266}, {\"x0\": -0.7373737373737373, \"f\": 0.3619618513182588, \"sd\": 0.17899558607141383}, {\"x0\": -0.7171717171717171, \"f\": 0.384648397999741, \"sd\": 0.17036877155384336}, {\"x0\": -0.696969696969697, \"f\": 0.4062180936998815, \"sd\": 0.16190466179041432}, {\"x0\": -0.6767676767676767, \"f\": 0.4263966042703813, \"sd\": 0.1538518366439305}, {\"x0\": -0.6565656565656566, \"f\": 0.44490898167456105, \"sd\": 0.14644928684245068}, {\"x0\": -0.6363636363636364, \"f\": 0.46149639959186617, \"sd\": 0.13989677949351287}, {\"x0\": -0.6161616161616161, \"f\": 0.4759434253616794, \"sd\": 0.1343297029565566}, {\"x0\": -0.5959595959595959, \"f\": 0.4880901443549827, \"sd\": 0.12980338296116192}, {\"x0\": -0.5757575757575757, \"f\": 0.4978294487332966, \"sd\": 0.12629551013654852}, {\"x0\": -0.5555555555555556, \"f\": 0.5050957406586515, \"sd\": 0.12372815579756731}, {\"x0\": -0.5353535353535352, \"f\": 0.5098603899999994, \"sd\": 0.12199819985297708}, {\"x0\": -0.5151515151515151, \"f\": 0.512135793183537, \"sd\": 0.12100391654841273}, {\"x0\": -0.4949494949494949, \"f\": 0.5119835159583416, \"sd\": 0.12065724721118637}, {\"x0\": -0.4747474747474747, \"f\": 0.5095221246829146, \"sd\": 0.12088404876191575}, {\"x0\": -0.4545454545454545, \"f\": 0.5049285204327721, \"sd\": 0.12162144331883928}, {\"x0\": -0.43434343434343425, \"f\": 0.49843353508704014, \"sd\": 0.12281657526315139}, {\"x0\": -0.41414141414141414, \"f\": 0.4903143151699644, \"sd\": 0.12443225150009596}, {\"x0\": -0.3939393939393939, \"f\": 0.4808853319019989, \"sd\": 0.12645556270869093}, {\"x0\": -0.3737373737373737, \"f\": 0.47047917717567717, \"sd\": 0.12890324574427778}, {\"x0\": -0.3535353535353535, \"f\": 0.4594195166061983, \"sd\": 0.13181906766740123}, {\"x0\": -0.33333333333333326, \"f\": 0.4479941709015774, \"sd\": 0.1352586294559977}, {\"x0\": -0.31313131313131304, \"f\": 0.4364286789655654, \"sd\": 0.13926504805431267}, {\"x0\": -0.2929292929292928, \"f\": 0.42486820036403206, \"sd\": 0.14385092748379416}, {\"x0\": -0.2727272727272727, \"f\": 0.41338153061939603, \"sd\": 0.14899934638064252}, {\"x0\": -0.2525252525252525, \"f\": 0.40197687697133777, \"sd\": 0.15467103338748228}, {\"x0\": -0.23232323232323226, \"f\": 0.39061761961728875, \"sd\": 0.16080699060770262}, {\"x0\": -0.21212121212121204, \"f\": 0.3792370614850159, \"sd\": 0.16732555697262458}, {\"x0\": -0.19191919191919182, \"f\": 0.36775050620519195, \"sd\": 0.17411966896921394}, {\"x0\": -0.1717171717171716, \"f\": 0.3560618649888318, \"sd\": 0.18106277058420361}, {\"x0\": -0.1515151515151515, \"f\": 0.34406583571666344, \"sd\": 0.18802425671895429}, {\"x0\": -0.13131313131313127, \"f\": 0.3316483555760772, \"sd\": 0.19488726567596965}, {\"x0\": -0.11111111111111105, \"f\": 0.3186874236877825, \"sd\": 0.20156188975479733}, {\"x0\": -0.09090909090909083, \"f\": 0.30505454173543006, \"sd\": 0.20799298680464273}, {\"x0\": -0.07070707070707061, \"f\": 0.2906168616967603, \"sd\": 0.21416290593934634}, {\"x0\": -0.050505050505050386, \"f\": 0.2752401588030138, \"sd\": 0.22008961220604822}, {\"x0\": -0.030303030303030276, \"f\": 0.25879278018993995, \"sd\": 0.2258206614996117}, {\"x0\": -0.010101010101010055, \"f\": 0.2411507560731157, \"sd\": 0.23142344398129133}, {\"x0\": 0.010101010101010166, \"f\": 0.22220430159542998, \"sd\": 0.23697220657932802}, {\"x0\": 0.030303030303030498, \"f\": 0.201865984774845, \"sd\": 0.2425326189832109}, {\"x0\": 0.05050505050505061, \"f\": 0.18008088638170777, \"sd\": 0.248145010678297}, {\"x0\": 0.07070707070707072, \"f\": 0.1568376741569645, \"sd\": 0.2538090161843154}, {\"x0\": 0.09090909090909105, \"f\": 0.13217046679944217, \"sd\": 0.2594801975115903}, {\"x0\": 0.11111111111111116, \"f\": 0.10615012918479637, \"sd\": 0.2650798359289506}, {\"x0\": 0.1313131313131315, \"f\": 0.07887584530388081, \"sd\": 0.2705066967903527}, {\"x0\": 0.1515151515151516, \"f\": 0.05046869938740446, \"sd\": 0.27564765950684755}, {\"x0\": 0.1717171717171717, \"f\": 0.02106692997017782, \"sd\": 0.28038650911720475}, {\"x0\": 0.19191919191919204, \"f\": -0.009177440858334654, \"sd\": 0.2846106817811526}, {\"x0\": 0.21212121212121215, \"f\": -0.04010085884434604, \"sd\": 0.28821609833305867}, {\"x0\": 0.2323232323232325, \"f\": -0.07152959136471795, \"sd\": 0.2911104112864359}, {\"x0\": 0.2525252525252526, \"f\": -0.10328037840353259, \"sd\": 0.29321506272468467}, {\"x0\": 0.27272727272727293, \"f\": -0.13516055495843673, \"sd\": 0.2944665454150792}, {\"x0\": 0.29292929292929304, \"f\": -0.1669678045902503, \"sd\": 0.29481721373675707}, {\"x0\": 0.31313131313131315, \"f\": -0.19848969497080837, \"sd\": 0.29423592981711966}, {\"x0\": 0.3333333333333335, \"f\": -0.22950314292305915, \"sd\": 0.29270876780785854}, {\"x0\": 0.3535353535353536, \"f\": -0.25977395854192137, \"sd\": 0.29023994116492047}, {\"x0\": 0.3737373737373739, \"f\": -0.28905662562793044, \"sd\": 0.28685306378717584}, {\"x0\": 0.39393939393939403, \"f\": -0.31709448909018456, \"sd\": 0.2825928012269891}, {\"x0\": 0.41414141414141437, \"f\": -0.3436205395561228, \"sd\": 0.27752690451602346}, {\"x0\": 0.4343434343434345, \"f\": -0.36835901169050517, \"sd\": 0.2717485342487526}, {\"x0\": 0.4545454545454546, \"f\": -0.3910280463655664, \"sd\": 0.26537866023697537}, {\"x0\": 0.4747474747474749, \"f\": -0.41134370870747367, \"sd\": 0.258568143193306}, {\"x0\": 0.49494949494949503, \"f\": -0.42902570523690287, \"sd\": 0.2514988526187702}, {\"x0\": 0.5151515151515154, \"f\": -0.44380520510862564, \"sd\": 0.24438284839658303}, {\"x0\": 0.5353535353535355, \"f\": -0.4554352443679531, \"sd\": 0.237458295567861}, {\"x0\": 0.5555555555555556, \"f\": -0.463704279990357, \"sd\": 0.23098052274161848}, {\"x0\": 0.5757575757575759, \"f\": -0.4684535643800099, \"sd\": 0.22520673179426404}, {\"x0\": 0.595959595959596, \"f\": -0.4695991334586444, \"sd\": 0.22037367905409677}, {\"x0\": 0.6161616161616164, \"f\": -0.4671591768100105, \"sd\": 0.21666948946364842}, {\"x0\": 0.6363636363636365, \"f\": -0.46127666275697093, \"sd\": 0.2142059698544697}, {\"x0\": 0.6565656565656568, \"f\": -0.4522007885000689, \"sd\": 0.21300606662004304}, {\"x0\": 0.6767676767676769, \"f\": -0.44024890106919523, \"sd\": 0.21301162769615375}, {\"x0\": 0.696969696969697, \"f\": -0.4257820005565192, \"sd\": 0.21410969481132225}, {\"x0\": 0.7171717171717173, \"f\": -0.40918760652351543, \"sd\": 0.21616366385758345}, {\"x0\": 0.7373737373737375, \"f\": -0.3908658691328842, \"sd\": 0.21904034374089207}, {\"x0\": 0.7575757575757578, \"f\": -0.3712180905545353, \"sd\": 0.22262911363120003}, {\"x0\": 0.7777777777777779, \"f\": -0.35063698677614535, \"sd\": 0.2268516783106891}, {\"x0\": 0.7979797979797982, \"f\": -0.32949808245163853, \"sd\": 0.23166270561873853}, {\"x0\": 0.8181818181818183, \"f\": -0.3081516762577983, \"sd\": 0.23704272256573947}, {\"x0\": 0.8383838383838385, \"f\": -0.2869148425453116, \"sd\": 0.242985203738533}, {\"x0\": 0.8585858585858588, \"f\": -0.266062947635999, \"sd\": 0.24948004869093698}, {\"x0\": 0.8787878787878789, \"f\": -0.24582043233459971, \"sd\": 0.2564960284019523}, {\"x0\": 0.8989898989898992, \"f\": -0.2263559415908606, \"sd\": 0.26397031215385947}, {\"x0\": 0.9191919191919193, \"f\": -0.207788738545305, \"sd\": 0.2718137061208842}, {\"x0\": 0.9393939393939394, \"f\": -0.19019791234110456, \"sd\": 0.27992124248864636}, {\"x0\": 0.9595959595959598, \"f\": -0.17363022087393806, \"sd\": 0.2881819218661373}, {\"x0\": 0.9797979797979799, \"f\": -0.15810665016289957, \"sd\": 0.29648659910962655}, {\"x0\": 1.0, \"f\": -0.14362788210546007, \"sd\": 0.30473372787208663}], \"data-223c4841aa45927003d9872d095ece0e\": [{\"x0\": -1.0, \"f\": -0.17711868212040702}, {\"x0\": -0.9797979797979798, \"f\": -0.15662877770946151}, {\"x0\": -0.9595959595959596, \"f\": -0.1272808272140422}, {\"x0\": -0.9393939393939394, \"f\": -0.09091936804085665}, {\"x0\": -0.9191919191919192, \"f\": -0.050001173505083485}, {\"x0\": -0.898989898989899, \"f\": -0.015514214821963301}, {\"x0\": -0.8787878787878788, \"f\": 0.0157981295176175}, {\"x0\": -0.8585858585858586, \"f\": 0.052195302294405166}, {\"x0\": -0.8383838383838383, \"f\": 0.09901736501250213}, {\"x0\": -0.8181818181818181, \"f\": 0.16221864484646148}, {\"x0\": -0.797979797979798, \"f\": 0.23315893679245692}, {\"x0\": -0.7777777777777778, \"f\": 0.3040306860535644}, {\"x0\": -0.7575757575757576, \"f\": 0.37281436223558095}, {\"x0\": -0.7373737373737373, \"f\": 0.428955422992768}, {\"x0\": -0.7171717171717171, \"f\": 0.4711643935076433}, {\"x0\": -0.696969696969697, \"f\": 0.502728560898748}, {\"x0\": -0.6767676767676767, \"f\": 0.5130055075371349}, {\"x0\": -0.6565656565656566, \"f\": 0.5163332107397464}, {\"x0\": -0.6363636363636364, \"f\": 0.520875370901571}, {\"x0\": -0.6161616161616161, \"f\": 0.5279056015630006}, {\"x0\": -0.5959595959595959, \"f\": 0.5379773053053488}, {\"x0\": -0.5757575757575757, \"f\": 0.5437888314719133}, {\"x0\": -0.5555555555555556, \"f\": 0.5435141862229644}, {\"x0\": -0.5353535353535352, \"f\": 0.5506612647624823}, {\"x0\": -0.5151515151515151, \"f\": 0.5673626206057467}, {\"x0\": -0.4949494949494949, \"f\": 0.5910978755599428}, {\"x0\": -0.4747474747474747, \"f\": 0.6230065733120942}, {\"x0\": -0.4545454545454545, \"f\": 0.647887644173635}, {\"x0\": -0.43434343434343425, \"f\": 0.6752022938845622}, {\"x0\": -0.41414141414141414, \"f\": 0.6978725978527336}, {\"x0\": -0.3939393939393939, \"f\": 0.7123521653333122}, {\"x0\": -0.3737373737373737, \"f\": 0.7156809346316003}, {\"x0\": -0.3535353535353535, \"f\": 0.7093192055661558}, {\"x0\": -0.33333333333333326, \"f\": 0.6885805643237528}, {\"x0\": -0.31313131313131304, \"f\": 0.6625115127528869}, {\"x0\": -0.2929292929292928, \"f\": 0.6337429278409352}, {\"x0\": -0.2727272727272727, \"f\": 0.594881557951491}, {\"x0\": -0.2525252525252525, \"f\": 0.5436256025578333}, {\"x0\": -0.23232323232323226, \"f\": 0.47468724565539566}, {\"x0\": -0.21212121212121204, \"f\": 0.4105848300451402}, {\"x0\": -0.19191919191919182, \"f\": 0.35008267573989205}, {\"x0\": -0.1717171717171716, \"f\": 0.29376209405368514}, {\"x0\": -0.1515151515151515, \"f\": 0.23663556985230882}, {\"x0\": -0.13131313131313127, \"f\": 0.17757089611963617}, {\"x0\": -0.11111111111111105, \"f\": 0.12424269190534859}, {\"x0\": -0.09090909090909083, \"f\": 0.07725175396040079}, {\"x0\": -0.07070707070707061, \"f\": 0.032020536022090096}, {\"x0\": -0.050505050505050386, \"f\": -0.012082819447682691}, {\"x0\": -0.030303030303030276, \"f\": -0.04940246242875612}, {\"x0\": -0.010101010101010055, \"f\": -0.08321177756109413}, {\"x0\": 0.010101010101010166, \"f\": -0.10706782461072309}, {\"x0\": 0.030303030303030498, \"f\": -0.11964140489759562}, {\"x0\": 0.05050505050505061, \"f\": -0.12445847383130282}, {\"x0\": 0.07070707070707072, \"f\": -0.1315408486048896}, {\"x0\": 0.09090909090909105, \"f\": -0.14187720741392473}, {\"x0\": 0.11111111111111116, \"f\": -0.15256224776175772}, {\"x0\": 0.1313131313131315, \"f\": -0.1697420657442951}, {\"x0\": 0.1515151515151516, \"f\": -0.18730802028959276}, {\"x0\": 0.1717171717171717, \"f\": -0.2097478401182835}, {\"x0\": 0.19191919191919204, \"f\": -0.24990192894281452}, {\"x0\": 0.21212121212121215, \"f\": -0.3052872076463602}, {\"x0\": 0.2323232323232325, \"f\": -0.36060709634131755}, {\"x0\": 0.2525252525252526, \"f\": -0.4115066913939466}, {\"x0\": 0.27272727272727293, \"f\": -0.465911559532137}, {\"x0\": 0.29292929292929304, \"f\": -0.5181980783627863}, {\"x0\": 0.31313131313131315, \"f\": -0.5809492628141866}, {\"x0\": 0.3333333333333335, \"f\": -0.6504337557637639}, {\"x0\": 0.3535353535353536, \"f\": -0.7278723569968231}, {\"x0\": 0.3737373737373739, \"f\": -0.8051754121463426}, {\"x0\": 0.39393939393939403, \"f\": -0.8720797629288414}, {\"x0\": 0.41414141414141437, \"f\": -0.9261852036614278}, {\"x0\": 0.4343434343434345, \"f\": -0.9592449787993895}, {\"x0\": 0.4545454545454546, \"f\": -0.9740737058821798}, {\"x0\": 0.4747474747474749, \"f\": -0.9744412652453063}, {\"x0\": 0.49494949494949503, \"f\": -0.9597152850941981}, {\"x0\": 0.5151515151515154, \"f\": -0.9280929124230558}, {\"x0\": 0.5353535353535355, \"f\": -0.8818264976544753}, {\"x0\": 0.5555555555555556, \"f\": -0.8314612511400625}, {\"x0\": 0.5757575757575759, \"f\": -0.7716192494952367}, {\"x0\": 0.595959595959596, \"f\": -0.7057409249310124}, {\"x0\": 0.6161616161616164, \"f\": -0.6286452437877486}, {\"x0\": 0.6363636363636365, \"f\": -0.544245783692635}, {\"x0\": 0.6565656565656568, \"f\": -0.4690796566688802}, {\"x0\": 0.6767676767676769, \"f\": -0.3871318506288336}, {\"x0\": 0.696969696969697, \"f\": -0.30394214166548794}, {\"x0\": 0.7171717171717173, \"f\": -0.21968514768267233}, {\"x0\": 0.7373737373737375, \"f\": -0.142010990714692}, {\"x0\": 0.7575757575757578, \"f\": -0.07618581177080536}, {\"x0\": 0.7777777777777779, \"f\": -0.013665730586856571}, {\"x0\": 0.7979797979797982, \"f\": 0.04706183716919321}, {\"x0\": 0.8181818181818183, \"f\": 0.09241133267724531}, {\"x0\": 0.8383838383838385, \"f\": 0.13007706786337925}, {\"x0\": 0.8585858585858588, \"f\": 0.16300950788729662}, {\"x0\": 0.8787878787878789, \"f\": 0.19258970715589918}, {\"x0\": 0.8989898989898992, \"f\": 0.21601517709999707}, {\"x0\": 0.9191919191919193, \"f\": 0.2455499962888128}, {\"x0\": 0.9393939393939394, \"f\": 0.29231731144717565}, {\"x0\": 0.9595959595959598, \"f\": 0.3321562816241028}, {\"x0\": 0.9797979797979799, \"f\": 0.3782530794173402}, {\"x0\": 1.0, \"f\": 0.43578489381041063}]}}, {\"mode\": \"vega-lite\"});\n",
       "</script>"
      ],
      "text/plain": [
       "alt.LayerChart(...)"
      ]
     },
     "execution_count": 87,
     "metadata": {},
     "output_type": "execute_result"
    }
   ],
   "source": [
    "chart_bo_f1 = (\n",
    "    alt.Chart(bo_f1)\n",
    "    .mark_line(color='green')\n",
    "    .encode(x='x0:Q', y='f:Q'))\n",
    "chart_bo_ferror = (\n",
    "    alt.Chart(bo_f1.assign(fmin=bo_f1['f'] - 2 * bo_f1['sd'], fmax=bo_f1['f'] + 2 * bo_f1['sd']))\n",
    "    .mark_errorbar(color='green')\n",
    "    .encode(x=\"x0:Q\", y=\"fmin:Q\", y2=\"fmax:Q\"))\n",
    "chart_obs = (\n",
    "    alt.Chart(observations)\n",
    "    .mark_circle(color='red', size=60)\n",
    "    .encode(x='x0:Q', y='y:Q'))\n",
    "(chart_obs + chart_bo_ferror + chart_bo_f1 + chart1f).properties(width=800, height=300)"
   ]
  },
  {
   "cell_type": "markdown",
   "metadata": {},
   "source": [
    "### 2-dimensional input\n",
    "If you wish, you can try the same optimisation problem but for a function of two variables."
   ]
  },
  {
   "cell_type": "code",
   "execution_count": null,
   "metadata": {},
   "outputs": [],
   "source": [
    "blackbox2 = bb.GPBlackBox(ndim=2)\n",
    "x0 = widgets.FloatSlider(\n",
    "    value=0.5,\n",
    "    min=bb.DOMAIN_MIN,\n",
    "    max=bb.DOMAIN_MAX,\n",
    "    step=0.01,\n",
    "    description='x0:',\n",
    "    readout_format='.2f',\n",
    ")\n",
    "x1 = widgets.FloatSlider(\n",
    "    value=0.5,\n",
    "    min=bb.DOMAIN_MIN,\n",
    "    max=bb.DOMAIN_MAX,\n",
    "    step=0.01,\n",
    "    description='x1:',\n",
    "    readout_format='.2f',\n",
    ")\n",
    "w = widgets.Box([x0, x1])"
   ]
  },
  {
   "cell_type": "markdown",
   "metadata": {},
   "source": [
    "Choose which input point (x0, x1) to evaluate the function at:"
   ]
  },
  {
   "cell_type": "code",
   "execution_count": null,
   "metadata": {},
   "outputs": [],
   "source": [
    "display(w)"
   ]
  },
  {
   "cell_type": "markdown",
   "metadata": {},
   "source": [
    "Evaluate the function and plot all the evaluations so far:"
   ]
  },
  {
   "cell_type": "code",
   "execution_count": null,
   "metadata": {},
   "outputs": [],
   "source": [
    "y = blackbox2([x0.value, x1.value])[0][0]\n",
    "print(f'Evaluated black box at ({x0.value}, {x1.value}); result={y}')\n",
    "blackbox2.plot_xy()"
   ]
  },
  {
   "cell_type": "markdown",
   "metadata": {},
   "source": [
    "If you have finished evaluating the function at different points and you are confident where the maximum is, you can make a guess before executing the cells below.\n",
    "\n",
    "Now show the underlying function f (without noise) as a heatmap and the noisy data we received as evaluations of it:"
   ]
  },
  {
   "cell_type": "code",
   "execution_count": null,
   "metadata": {},
   "outputs": [],
   "source": [
    "f2 = blackbox2.sample_f(51)\n",
    "chart2f = (\n",
    "    alt.Chart(f2)\n",
    "    .mark_square(size=60)\n",
    "    .encode(x=alt.X('x0:Q', scale=alt.Scale(domain=bb.DOMAIN)),\n",
    "            y=alt.Y('x1:Q', scale=alt.Scale(domain=bb.DOMAIN)),\n",
    "            color=alt.Color('f:Q', scale=alt.Scale(scheme=bb.COLOURSCHEME, domainMid=0))))\n",
    "chart2y = blackbox2.plot_xy()\n",
    "chart2 = alt.layer(chart2f, chart2y)\n",
    "chart2.properties(width=800, height=300)"
   ]
  },
  {
   "cell_type": "code",
   "execution_count": null,
   "metadata": {},
   "outputs": [],
   "source": []
  }
 ],
 "metadata": {
  "kernelspec": {
   "display_name": "Python 3",
   "language": "python",
   "name": "python3"
  },
  "language_info": {
   "codemirror_mode": {
    "name": "ipython",
    "version": 3
   },
   "file_extension": ".py",
   "mimetype": "text/x-python",
   "name": "python",
   "nbconvert_exporter": "python",
   "pygments_lexer": "ipython3",
   "version": "3.8.5"
  }
 },
 "nbformat": 4,
 "nbformat_minor": 4
}
