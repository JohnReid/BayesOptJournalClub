{
 "cells": [
  {
   "cell_type": "markdown",
   "metadata": {},
   "source": [
    "# Xmas Bayesian Optimisation Guessing Game\n",
    "This notebook implements a xmas-themed guessing game to try and find the maximum of a black-box function."
   ]
  },
  {
   "cell_type": "code",
   "execution_count": 1,
   "metadata": {},
   "outputs": [],
   "source": [
    "import ipywidgets as widgets\n",
    "from IPython.display import display\n",
    "import numpy as np\n",
    "from scipy.interpolate import interp1d\n",
    "import pandas as pd\n",
    "import altair as alt\n",
    "import gpflow\n",
    "import blackbox as bb\n",
    "from importlib import reload\n",
    "reload(bb);"
   ]
  },
  {
   "cell_type": "markdown",
   "metadata": {},
   "source": [
    "## The scenario\n",
    "It is Xmas Eve and Santa has to deliver his presents to all the kids around the world.\n",
    "Unfortunately it has been a really cold winter and some houses are completely blanketed by snow.\n",
    "\n",
    "Santa does have a shovel and could dig down to the chimney of each house to deliver his presents if only he knew where the chimneys were.\n",
    "\n",
    "Fortunately Rudolph can help.\n",
    "He can measure the depth of the snow at any point with his antlers but unfortunately this takes some time and the measurements are noisy.\n",
    "\n",
    "Santa only has one night to deliver his presents, how can he find the chimneys in time?\n",
    "\n",
    "### Skyline\n",
    "Let's see what a typical house's skyline looks like.\n",
    "`x` represents the location and `depth` measures the depth below the snowline."
   ]
  },
  {
   "cell_type": "code",
   "execution_count": 2,
   "metadata": {},
   "outputs": [
    {
     "data": {
      "text/html": [
       "\n",
       "<div id=\"altair-viz-73ddb3bf56334d829f05c209b273997b\"></div>\n",
       "<script type=\"text/javascript\">\n",
       "  (function(spec, embedOpt){\n",
       "    let outputDiv = document.currentScript.previousElementSibling;\n",
       "    if (outputDiv.id !== \"altair-viz-73ddb3bf56334d829f05c209b273997b\") {\n",
       "      outputDiv = document.getElementById(\"altair-viz-73ddb3bf56334d829f05c209b273997b\");\n",
       "    }\n",
       "    const paths = {\n",
       "      \"vega\": \"https://cdn.jsdelivr.net/npm//vega@5?noext\",\n",
       "      \"vega-lib\": \"https://cdn.jsdelivr.net/npm//vega-lib?noext\",\n",
       "      \"vega-lite\": \"https://cdn.jsdelivr.net/npm//vega-lite@4.8.1?noext\",\n",
       "      \"vega-embed\": \"https://cdn.jsdelivr.net/npm//vega-embed@6?noext\",\n",
       "    };\n",
       "\n",
       "    function loadScript(lib) {\n",
       "      return new Promise(function(resolve, reject) {\n",
       "        var s = document.createElement('script');\n",
       "        s.src = paths[lib];\n",
       "        s.async = true;\n",
       "        s.onload = () => resolve(paths[lib]);\n",
       "        s.onerror = () => reject(`Error loading script: ${paths[lib]}`);\n",
       "        document.getElementsByTagName(\"head\")[0].appendChild(s);\n",
       "      });\n",
       "    }\n",
       "\n",
       "    function showError(err) {\n",
       "      outputDiv.innerHTML = `<div class=\"error\" style=\"color:red;\">${err}</div>`;\n",
       "      throw err;\n",
       "    }\n",
       "\n",
       "    function displayChart(vegaEmbed) {\n",
       "      vegaEmbed(outputDiv, spec, embedOpt)\n",
       "        .catch(err => showError(`Javascript Error: ${err.message}<br>This usually means there's a typo in your chart specification. See the javascript console for the full traceback.`));\n",
       "    }\n",
       "\n",
       "    if(typeof define === \"function\" && define.amd) {\n",
       "      requirejs.config({paths});\n",
       "      require([\"vega-embed\"], displayChart, err => showError(`Error loading script: ${err.message}`));\n",
       "    } else if (typeof vegaEmbed === \"function\") {\n",
       "      displayChart(vegaEmbed);\n",
       "    } else {\n",
       "      loadScript(\"vega\")\n",
       "        .then(() => loadScript(\"vega-lite\"))\n",
       "        .then(() => loadScript(\"vega-embed\"))\n",
       "        .catch(showError)\n",
       "        .then(() => displayChart(vegaEmbed));\n",
       "    }\n",
       "  })({\"config\": {\"view\": {\"continuousWidth\": 400, \"continuousHeight\": 300}}, \"data\": {\"name\": \"data-eece1b80502702ec77eb9edde3c4871e\"}, \"mark\": \"line\", \"encoding\": {\"x\": {\"type\": \"quantitative\", \"field\": \"x\"}, \"y\": {\"type\": \"quantitative\", \"field\": \"depth\"}}, \"height\": 300, \"width\": 800, \"$schema\": \"https://vega.github.io/schema/vega-lite/v4.8.1.json\", \"datasets\": {\"data-eece1b80502702ec77eb9edde3c4871e\": [{\"x\": -1.0, \"depth\": -0.9375501037048919}, {\"x\": -0.9797979797979798, \"depth\": -0.9355256318250791}, {\"x\": -0.9595959595959596, \"depth\": -0.9335018443629068}, {\"x\": -0.9393939393939394, \"depth\": -0.9314674611003788}, {\"x\": -0.9191919191919192, \"depth\": -0.9294287682680498}, {\"x\": -0.898989898989899, \"depth\": -0.9273774021736023}, {\"x\": -0.8787878787878788, \"depth\": -0.9253140835504028}, {\"x\": -0.8585858585858586, \"depth\": -0.9232414621351139}, {\"x\": -0.8383838383838383, \"depth\": -0.5211708578408243}, {\"x\": -0.8181818181818181, \"depth\": -0.5191013520744743}, {\"x\": -0.797979797979798, \"depth\": -0.5170572086599132}, {\"x\": -0.7777777777777778, \"depth\": -0.5150243907334497}, {\"x\": -0.7575757575757576, \"depth\": -0.5129841961983987}, {\"x\": -0.7373737373737373, \"depth\": -0.5109255278016329}, {\"x\": -0.7171717171717171, \"depth\": -0.5088613267665765}, {\"x\": -0.696969696969697, \"depth\": -0.5067988507502144}, {\"x\": -0.6767676767676767, \"depth\": -0.5047429798424132}, {\"x\": -0.6565656565656566, \"depth\": -0.502698287254147}, {\"x\": -0.6363636363636364, \"depth\": -0.5006637202368713}, {\"x\": -0.6161616161616161, \"depth\": -0.4986192619559822}, {\"x\": -0.5959595959595959, \"depth\": -0.49655664620397194}, {\"x\": -0.5757575757575757, \"depth\": -0.4944666169629674}, {\"x\": -0.5555555555555556, \"depth\": -0.4923512677867437}, {\"x\": -0.5353535353535352, \"depth\": -0.4901888911203091}, {\"x\": -0.5151515151515151, \"depth\": -0.48798974404686063}, {\"x\": -0.4949494949494949, \"depth\": -0.4857548363962301}, {\"x\": -0.4747474747474747, \"depth\": -0.4834793288306169}, {\"x\": -0.4545454545454545, \"depth\": -0.48116092815546024}, {\"x\": -0.43434343434343425, \"depth\": -0.4787950300819574}, {\"x\": -0.41414141414141414, \"depth\": -0.47636722361631795}, {\"x\": -0.3939393939393939, \"depth\": -0.4738720153506892}, {\"x\": -0.3737373737373737, \"depth\": -0.47132592885655084}, {\"x\": -0.3535353535353535, \"depth\": -0.4687440647105226}, {\"x\": -0.33333333333333326, \"depth\": -0.46611628622232765}, {\"x\": -0.31313131313131304, \"depth\": -0.4634437075393389}, {\"x\": -0.2929292929292928, \"depth\": -0.4607378318240773}, {\"x\": -0.2727272727272727, \"depth\": -0.45797736884390844}, {\"x\": -0.2525252525252525, \"depth\": -0.455147292265686}, {\"x\": -0.23232323232323226, \"depth\": -0.45224058459887045}, {\"x\": -0.21212121212121204, \"depth\": -0.44925401105275636}, {\"x\": -0.19191919191919182, \"depth\": -0.446183210182914}, {\"x\": -0.1717171717171716, \"depth\": -0.44302429113856195}, {\"x\": -0.1515151515151515, \"depth\": -0.43977159332434285}, {\"x\": -0.13131313131313127, \"depth\": -0.36641426353538376}, {\"x\": -0.11111111111111105, \"depth\": -0.3629565538557201}, {\"x\": -0.09090909090909083, \"depth\": -0.35940947981982785}, {\"x\": -0.07070707070707061, \"depth\": -0.35578061172875863}, {\"x\": -0.050505050505050386, \"depth\": -0.3520765158067848}, {\"x\": -0.030303030303030276, \"depth\": -0.41830442943385987}, {\"x\": -0.010101010101010055, \"depth\": -0.4144944322463861}, {\"x\": 0.010101010101010166, \"depth\": -0.4106772522528697}, {\"x\": 0.030303030303030498, \"depth\": -0.40684929605554054}, {\"x\": 0.05050505050505061, \"depth\": -0.4030152560895283}, {\"x\": 0.07070707070707072, \"depth\": -0.3991862290905085}, {\"x\": 0.09090909090909105, \"depth\": -0.39537760469658295}, {\"x\": 0.11111111111111116, \"depth\": -0.39159945824008197}, {\"x\": 0.1313131313131315, \"depth\": -0.38786116952363875}, {\"x\": 0.1515151515151516, \"depth\": -0.38418823035316974}, {\"x\": 0.1717171717171717, \"depth\": -0.3805996271260162}, {\"x\": 0.19191919191919204, \"depth\": -0.3770985419101828}, {\"x\": 0.21212121212121215, \"depth\": -0.37368066940822114}, {\"x\": 0.2323232323232325, \"depth\": -0.37034813963877067}, {\"x\": 0.2525252525252526, \"depth\": -0.36709590332895453}, {\"x\": 0.27272727272727293, \"depth\": -0.3639059876642934}, {\"x\": 0.29292929292929304, \"depth\": -0.3607770894305816}, {\"x\": 0.31313131313131315, \"depth\": -0.7576970465565742}, {\"x\": 0.3333333333333335, \"depth\": -0.7546565242830798}, {\"x\": 0.3535353535353536, \"depth\": -0.7516378915225004}, {\"x\": 0.3737373737373739, \"depth\": -0.7486348397571514}, {\"x\": 0.39393939393939403, \"depth\": -0.7456280005100722}, {\"x\": 0.41414141414141437, \"depth\": -0.742637697132591}, {\"x\": 0.4343434343434345, \"depth\": -0.7396833564685497}, {\"x\": 0.4545454545454546, \"depth\": -0.7367703367852194}, {\"x\": 0.4747474747474749, \"depth\": -0.7339000694198425}, {\"x\": 0.49494949494949503, \"depth\": -0.731078723296492}, {\"x\": 0.5151515151515154, \"depth\": -0.7283149638838485}, {\"x\": 0.5353535353535355, \"depth\": -0.7256080303282846}, {\"x\": 0.5555555555555556, \"depth\": -0.7229424396118959}, {\"x\": 0.5757575757575759, \"depth\": -0.7203148656953067}, {\"x\": 0.595959595959596, \"depth\": -0.7177378620826018}, {\"x\": 0.6161616161616164, \"depth\": -0.7152234146926415}, {\"x\": 0.6363636363636365, \"depth\": -0.7127686905470912}, {\"x\": 0.6565656565656568, \"depth\": -0.7103683693352498}, {\"x\": 0.6767676767676769, \"depth\": -0.7080085073116575}, {\"x\": 0.696969696969697, \"depth\": -0.7056731741943009}, {\"x\": 0.7171717171717173, \"depth\": -0.70337019005561}, {\"x\": 0.7373737373737375, \"depth\": -0.7010841903261333}, {\"x\": 0.7575757575757578, \"depth\": -0.6988242031086159}, {\"x\": 0.7777777777777779, \"depth\": -0.6965824425067213}, {\"x\": 0.7979797979797982, \"depth\": -0.6943641780268537}, {\"x\": 0.8181818181818183, \"depth\": -0.6921798926580962}, {\"x\": 0.8383838383838385, \"depth\": -0.6900272418792405}, {\"x\": 0.8585858585858588, \"depth\": -0.6879089132769887}, {\"x\": 0.8787878787878789, \"depth\": -0.6858224486751503}, {\"x\": 0.8989898989898992, \"depth\": -0.6837641211775414}, {\"x\": 0.9191919191919193, \"depth\": -0.6817342369233241}, {\"x\": 0.9393939393939394, \"depth\": -0.6797121886521591}, {\"x\": 0.9595959595959598, \"depth\": -0.6777058956386455}, {\"x\": 0.9797979797979799, \"depth\": -0.6757265914392007}, {\"x\": 1.0, \"depth\": -0.6737626748690841}]}}, {\"mode\": \"vega-lite\"});\n",
       "</script>"
      ],
      "text/plain": [
       "alt.Chart(...)"
      ]
     },
     "execution_count": 2,
     "metadata": {},
     "output_type": "execute_result"
    }
   ],
   "source": [
    "x, depth = bb.random_submerged_skyline(100)\n",
    "house = pd.DataFrame(dict(x=x, depth=depth))\n",
    "house_chart = (\n",
    "    alt.Chart(house)\n",
    "    .mark_line()\n",
    "    .encode(x='x', y='depth'))\n",
    "house_chart.properties(width=800, height=300)"
   ]
  },
  {
   "cell_type": "markdown",
   "metadata": {},
   "source": [
    "### Grid-search strategy\n",
    "One strategy to find the chimney is to lay down a grid and ask Rudolph to measure the height at each grid point.\n",
    "\n",
    "Let's fix the standard deviation of the Rudolph's measurement error and choose a number of grid points:"
   ]
  },
  {
   "cell_type": "code",
   "execution_count": 3,
   "metadata": {},
   "outputs": [
    {
     "data": {
      "application/vnd.jupyter.widget-view+json": {
       "model_id": "101f7f42ac86466aa2936aa08e26db9d",
       "version_major": 2,
       "version_minor": 0
      },
      "text/plain": [
       "FloatSlider(value=0.04, description='error sd:', max=0.1, min=0.02, step=0.01)"
      ]
     },
     "metadata": {},
     "output_type": "display_data"
    },
    {
     "data": {
      "application/vnd.jupyter.widget-view+json": {
       "model_id": "36f132aadb564999938de808fb3b5388",
       "version_major": 2,
       "version_minor": 0
      },
      "text/plain": [
       "IntSlider(value=20, description='grid size:', min=3)"
      ]
     },
     "metadata": {},
     "output_type": "display_data"
    }
   ],
   "source": [
    "error_sd = widgets.FloatSlider(\n",
    "    value=.04,\n",
    "    min=0.02,\n",
    "    max=.1,\n",
    "    step=0.01,\n",
    "    description='error sd:',\n",
    "    readout_format='.2f',\n",
    ")\n",
    "npoints = widgets.IntSlider(\n",
    "    value=20,\n",
    "    min=3,\n",
    "    max=100,\n",
    "    step=1,\n",
    "    description='grid size:',\n",
    "    readout_format='d'\n",
    ")\n",
    "display(error_sd)\n",
    "display(npoints)"
   ]
  },
  {
   "cell_type": "markdown",
   "metadata": {},
   "source": [
    "Rudolph makes his measurements."
   ]
  },
  {
   "cell_type": "code",
   "execution_count": 4,
   "metadata": {},
   "outputs": [
    {
     "data": {
      "text/html": [
       "\n",
       "<div id=\"altair-viz-8762633489414adeb6ca7e7e78a97ad7\"></div>\n",
       "<script type=\"text/javascript\">\n",
       "  (function(spec, embedOpt){\n",
       "    let outputDiv = document.currentScript.previousElementSibling;\n",
       "    if (outputDiv.id !== \"altair-viz-8762633489414adeb6ca7e7e78a97ad7\") {\n",
       "      outputDiv = document.getElementById(\"altair-viz-8762633489414adeb6ca7e7e78a97ad7\");\n",
       "    }\n",
       "    const paths = {\n",
       "      \"vega\": \"https://cdn.jsdelivr.net/npm//vega@5?noext\",\n",
       "      \"vega-lib\": \"https://cdn.jsdelivr.net/npm//vega-lib?noext\",\n",
       "      \"vega-lite\": \"https://cdn.jsdelivr.net/npm//vega-lite@4.8.1?noext\",\n",
       "      \"vega-embed\": \"https://cdn.jsdelivr.net/npm//vega-embed@6?noext\",\n",
       "    };\n",
       "\n",
       "    function loadScript(lib) {\n",
       "      return new Promise(function(resolve, reject) {\n",
       "        var s = document.createElement('script');\n",
       "        s.src = paths[lib];\n",
       "        s.async = true;\n",
       "        s.onload = () => resolve(paths[lib]);\n",
       "        s.onerror = () => reject(`Error loading script: ${paths[lib]}`);\n",
       "        document.getElementsByTagName(\"head\")[0].appendChild(s);\n",
       "      });\n",
       "    }\n",
       "\n",
       "    function showError(err) {\n",
       "      outputDiv.innerHTML = `<div class=\"error\" style=\"color:red;\">${err}</div>`;\n",
       "      throw err;\n",
       "    }\n",
       "\n",
       "    function displayChart(vegaEmbed) {\n",
       "      vegaEmbed(outputDiv, spec, embedOpt)\n",
       "        .catch(err => showError(`Javascript Error: ${err.message}<br>This usually means there's a typo in your chart specification. See the javascript console for the full traceback.`));\n",
       "    }\n",
       "\n",
       "    if(typeof define === \"function\" && define.amd) {\n",
       "      requirejs.config({paths});\n",
       "      require([\"vega-embed\"], displayChart, err => showError(`Error loading script: ${err.message}`));\n",
       "    } else if (typeof vegaEmbed === \"function\") {\n",
       "      displayChart(vegaEmbed);\n",
       "    } else {\n",
       "      loadScript(\"vega\")\n",
       "        .then(() => loadScript(\"vega-lite\"))\n",
       "        .then(() => loadScript(\"vega-embed\"))\n",
       "        .catch(showError)\n",
       "        .then(() => displayChart(vegaEmbed));\n",
       "    }\n",
       "  })({\"config\": {\"view\": {\"continuousWidth\": 400, \"continuousHeight\": 300}}, \"layer\": [{\"data\": {\"name\": \"data-7cc1cc946baca5e4602bc6a96ef225e5\"}, \"mark\": {\"type\": \"point\", \"color\": \"red\"}, \"encoding\": {\"x\": {\"type\": \"quantitative\", \"field\": \"x\"}, \"y\": {\"type\": \"quantitative\", \"field\": \"y\"}}}, {\"data\": {\"name\": \"data-eece1b80502702ec77eb9edde3c4871e\"}, \"mark\": \"line\", \"encoding\": {\"x\": {\"type\": \"quantitative\", \"field\": \"x\"}, \"y\": {\"type\": \"quantitative\", \"field\": \"depth\"}}}], \"height\": 300, \"width\": 800, \"$schema\": \"https://vega.github.io/schema/vega-lite/v4.8.1.json\", \"datasets\": {\"data-7cc1cc946baca5e4602bc6a96ef225e5\": [{\"x\": -1.0, \"f\": -0.9375501037048919, \"y\": -0.8993330693487027}, {\"x\": -0.8947368421052632, \"f\": -0.9269430193055603, \"y\": -0.9059577778250701}, {\"x\": -0.7894736842105263, \"f\": -0.5162012853224549, \"y\": -0.6185320615132137}, {\"x\": -0.6842105263157895, \"f\": -0.5055004059663399, \"y\": -0.5669140554432185}, {\"x\": -0.5789473684210527, \"f\": -0.4947966215799681, \"y\": -0.4702513936085902}, {\"x\": -0.4736842105263158, \"f\": -0.4833573077424508, \"y\": -0.4235826695951167}, {\"x\": -0.368421052631579, \"f\": -0.4706464909233855, \"y\": -0.5304297822306105}, {\"x\": -0.26315789473684215, \"f\": -0.45663680625422415, \"y\": -0.41782378664394093}, {\"x\": -0.1578947368421053, \"f\": -0.4407987610551489, \"y\": -0.39603535325762046}, {\"x\": -0.052631578947368474, \"f\": -0.3524664206406768, \"y\": -0.35176999753831384}, {\"x\": 0.05263157894736836, \"f\": -0.4026122006159473, \"y\": -0.4561775376490371}, {\"x\": 0.1578947368421053, \"f\": -0.3830549872288055, \"y\": -0.40866752924029337}, {\"x\": 0.26315789473684204, \"f\": -0.365417000347554, \"y\": -0.3798970159457449}, {\"x\": 0.36842105263157876, \"f\": -0.7494251165375064, \"y\": -0.7217890241055319}, {\"x\": 0.4736842105263157, \"f\": -0.7340511361232834, \"y\": -0.6980777115535006}, {\"x\": 0.5789473684210527, \"f\": -0.7199079703880376, \"y\": -0.7593819205679582}, {\"x\": 0.6842105263157894, \"f\": -0.7071481214263157, \"y\": -0.7112335218177598}, {\"x\": 0.7894736842105261, \"f\": -0.6952981841236401, \"y\": -0.6966952489641703}, {\"x\": 0.894736842105263, \"f\": -0.6841974532823012, \"y\": -0.691192043863471}, {\"x\": 1.0, \"f\": -0.6737626748690841, \"y\": -0.6359253479862923}], \"data-eece1b80502702ec77eb9edde3c4871e\": [{\"x\": -1.0, \"depth\": -0.9375501037048919}, {\"x\": -0.9797979797979798, \"depth\": -0.9355256318250791}, {\"x\": -0.9595959595959596, \"depth\": -0.9335018443629068}, {\"x\": -0.9393939393939394, \"depth\": -0.9314674611003788}, {\"x\": -0.9191919191919192, \"depth\": -0.9294287682680498}, {\"x\": -0.898989898989899, \"depth\": -0.9273774021736023}, {\"x\": -0.8787878787878788, \"depth\": -0.9253140835504028}, {\"x\": -0.8585858585858586, \"depth\": -0.9232414621351139}, {\"x\": -0.8383838383838383, \"depth\": -0.5211708578408243}, {\"x\": -0.8181818181818181, \"depth\": -0.5191013520744743}, {\"x\": -0.797979797979798, \"depth\": -0.5170572086599132}, {\"x\": -0.7777777777777778, \"depth\": -0.5150243907334497}, {\"x\": -0.7575757575757576, \"depth\": -0.5129841961983987}, {\"x\": -0.7373737373737373, \"depth\": -0.5109255278016329}, {\"x\": -0.7171717171717171, \"depth\": -0.5088613267665765}, {\"x\": -0.696969696969697, \"depth\": -0.5067988507502144}, {\"x\": -0.6767676767676767, \"depth\": -0.5047429798424132}, {\"x\": -0.6565656565656566, \"depth\": -0.502698287254147}, {\"x\": -0.6363636363636364, \"depth\": -0.5006637202368713}, {\"x\": -0.6161616161616161, \"depth\": -0.4986192619559822}, {\"x\": -0.5959595959595959, \"depth\": -0.49655664620397194}, {\"x\": -0.5757575757575757, \"depth\": -0.4944666169629674}, {\"x\": -0.5555555555555556, \"depth\": -0.4923512677867437}, {\"x\": -0.5353535353535352, \"depth\": -0.4901888911203091}, {\"x\": -0.5151515151515151, \"depth\": -0.48798974404686063}, {\"x\": -0.4949494949494949, \"depth\": -0.4857548363962301}, {\"x\": -0.4747474747474747, \"depth\": -0.4834793288306169}, {\"x\": -0.4545454545454545, \"depth\": -0.48116092815546024}, {\"x\": -0.43434343434343425, \"depth\": -0.4787950300819574}, {\"x\": -0.41414141414141414, \"depth\": -0.47636722361631795}, {\"x\": -0.3939393939393939, \"depth\": -0.4738720153506892}, {\"x\": -0.3737373737373737, \"depth\": -0.47132592885655084}, {\"x\": -0.3535353535353535, \"depth\": -0.4687440647105226}, {\"x\": -0.33333333333333326, \"depth\": -0.46611628622232765}, {\"x\": -0.31313131313131304, \"depth\": -0.4634437075393389}, {\"x\": -0.2929292929292928, \"depth\": -0.4607378318240773}, {\"x\": -0.2727272727272727, \"depth\": -0.45797736884390844}, {\"x\": -0.2525252525252525, \"depth\": -0.455147292265686}, {\"x\": -0.23232323232323226, \"depth\": -0.45224058459887045}, {\"x\": -0.21212121212121204, \"depth\": -0.44925401105275636}, {\"x\": -0.19191919191919182, \"depth\": -0.446183210182914}, {\"x\": -0.1717171717171716, \"depth\": -0.44302429113856195}, {\"x\": -0.1515151515151515, \"depth\": -0.43977159332434285}, {\"x\": -0.13131313131313127, \"depth\": -0.36641426353538376}, {\"x\": -0.11111111111111105, \"depth\": -0.3629565538557201}, {\"x\": -0.09090909090909083, \"depth\": -0.35940947981982785}, {\"x\": -0.07070707070707061, \"depth\": -0.35578061172875863}, {\"x\": -0.050505050505050386, \"depth\": -0.3520765158067848}, {\"x\": -0.030303030303030276, \"depth\": -0.41830442943385987}, {\"x\": -0.010101010101010055, \"depth\": -0.4144944322463861}, {\"x\": 0.010101010101010166, \"depth\": -0.4106772522528697}, {\"x\": 0.030303030303030498, \"depth\": -0.40684929605554054}, {\"x\": 0.05050505050505061, \"depth\": -0.4030152560895283}, {\"x\": 0.07070707070707072, \"depth\": -0.3991862290905085}, {\"x\": 0.09090909090909105, \"depth\": -0.39537760469658295}, {\"x\": 0.11111111111111116, \"depth\": -0.39159945824008197}, {\"x\": 0.1313131313131315, \"depth\": -0.38786116952363875}, {\"x\": 0.1515151515151516, \"depth\": -0.38418823035316974}, {\"x\": 0.1717171717171717, \"depth\": -0.3805996271260162}, {\"x\": 0.19191919191919204, \"depth\": -0.3770985419101828}, {\"x\": 0.21212121212121215, \"depth\": -0.37368066940822114}, {\"x\": 0.2323232323232325, \"depth\": -0.37034813963877067}, {\"x\": 0.2525252525252526, \"depth\": -0.36709590332895453}, {\"x\": 0.27272727272727293, \"depth\": -0.3639059876642934}, {\"x\": 0.29292929292929304, \"depth\": -0.3607770894305816}, {\"x\": 0.31313131313131315, \"depth\": -0.7576970465565742}, {\"x\": 0.3333333333333335, \"depth\": -0.7546565242830798}, {\"x\": 0.3535353535353536, \"depth\": -0.7516378915225004}, {\"x\": 0.3737373737373739, \"depth\": -0.7486348397571514}, {\"x\": 0.39393939393939403, \"depth\": -0.7456280005100722}, {\"x\": 0.41414141414141437, \"depth\": -0.742637697132591}, {\"x\": 0.4343434343434345, \"depth\": -0.7396833564685497}, {\"x\": 0.4545454545454546, \"depth\": -0.7367703367852194}, {\"x\": 0.4747474747474749, \"depth\": -0.7339000694198425}, {\"x\": 0.49494949494949503, \"depth\": -0.731078723296492}, {\"x\": 0.5151515151515154, \"depth\": -0.7283149638838485}, {\"x\": 0.5353535353535355, \"depth\": -0.7256080303282846}, {\"x\": 0.5555555555555556, \"depth\": -0.7229424396118959}, {\"x\": 0.5757575757575759, \"depth\": -0.7203148656953067}, {\"x\": 0.595959595959596, \"depth\": -0.7177378620826018}, {\"x\": 0.6161616161616164, \"depth\": -0.7152234146926415}, {\"x\": 0.6363636363636365, \"depth\": -0.7127686905470912}, {\"x\": 0.6565656565656568, \"depth\": -0.7103683693352498}, {\"x\": 0.6767676767676769, \"depth\": -0.7080085073116575}, {\"x\": 0.696969696969697, \"depth\": -0.7056731741943009}, {\"x\": 0.7171717171717173, \"depth\": -0.70337019005561}, {\"x\": 0.7373737373737375, \"depth\": -0.7010841903261333}, {\"x\": 0.7575757575757578, \"depth\": -0.6988242031086159}, {\"x\": 0.7777777777777779, \"depth\": -0.6965824425067213}, {\"x\": 0.7979797979797982, \"depth\": -0.6943641780268537}, {\"x\": 0.8181818181818183, \"depth\": -0.6921798926580962}, {\"x\": 0.8383838383838385, \"depth\": -0.6900272418792405}, {\"x\": 0.8585858585858588, \"depth\": -0.6879089132769887}, {\"x\": 0.8787878787878789, \"depth\": -0.6858224486751503}, {\"x\": 0.8989898989898992, \"depth\": -0.6837641211775414}, {\"x\": 0.9191919191919193, \"depth\": -0.6817342369233241}, {\"x\": 0.9393939393939394, \"depth\": -0.6797121886521591}, {\"x\": 0.9595959595959598, \"depth\": -0.6777058956386455}, {\"x\": 0.9797979797979799, \"depth\": -0.6757265914392007}, {\"x\": 1.0, \"depth\": -0.6737626748690841}]}}, {\"mode\": \"vega-lite\"});\n",
       "</script>"
      ],
      "text/plain": [
       "alt.LayerChart(...)"
      ]
     },
     "execution_count": 4,
     "metadata": {},
     "output_type": "execute_result"
    }
   ],
   "source": [
    "measurements = pd.DataFrame(dict(x=np.linspace(house['x'].min(), house['x'].max(), npoints.value)))\n",
    "f = interp1d(house['x'], house['depth'])\n",
    "measurements['f'] = f(measurements['x'])\n",
    "measurements['y'] = measurements['f'] + bb.rng.normal(0, error_sd.value, size=npoints.value)\n",
    "measurements_chart = (\n",
    "    alt.Chart(measurements)\n",
    "    .mark_point(color='red')\n",
    "    .encode(x='x', y='y'))\n",
    "(measurements_chart + house_chart).properties(width=800, height=300)"
   ]
  },
  {
   "cell_type": "markdown",
   "metadata": {},
   "source": [
    "We can see that there are many wasted measurements in locations where we are reasonably sure the maximum is not located.\n",
    "In addition it is still difficult to be sure where the chimney is.\n",
    "\n",
    "How can we do better?\n",
    "\n",
    "## Bayesian optimisation\n",
    "This is where Bayesian optimisation comes in.\n",
    "\n",
    "Bayesian optimisation (BO) requires:\n",
    "- a prior on the underlying function to be optimised (some understanding of how houses are buried)\n",
    "- a prior on the measurement error (some understanding of how good Rudolph is at measuring depth)\n",
    "\n",
    "Using some underlying theory, Bayesian optimisation then iterates around the following loop:\n",
    "- choose the next measurement location so as to minimise the total number of measurements required (the acquisition function)\n",
    "- ask the black-box function for a noisy measurement at that location\n",
    "- update its model of the underlying function and measurement error (computes a posterior given prior and data)\n",
    "\n",
    "Some stopping criterion is used to avoid iterating indefinitely.\n",
    "Bayesian optimisation returns the posterior for the underlying function to use as you see fit.\n",
    "In particular you may wish to obtain a posterior over the location of the maximum of the function.\n",
    "\n",
    "## Optimisation guessing game\n",
    "However, before we try Bayesian optimisation, we will try to optimise a black-box function ourselves.\n",
    "Your task will be to find the maximum of the underlying function using as few function evaluations as possible.\n",
    "\n",
    "Unfortunately we do not have a suitable Bayesian model for house skylines so we will use a Gaussian process prior on functions instead.\n",
    "Some typical functions are shown below to give you an idea how the prior behaves."
   ]
  },
  {
   "cell_type": "code",
   "execution_count": 5,
   "metadata": {},
   "outputs": [
    {
     "data": {
      "text/html": [
       "\n",
       "<div id=\"altair-viz-24c12499385140be83b697bc714fb827\"></div>\n",
       "<script type=\"text/javascript\">\n",
       "  (function(spec, embedOpt){\n",
       "    let outputDiv = document.currentScript.previousElementSibling;\n",
       "    if (outputDiv.id !== \"altair-viz-24c12499385140be83b697bc714fb827\") {\n",
       "      outputDiv = document.getElementById(\"altair-viz-24c12499385140be83b697bc714fb827\");\n",
       "    }\n",
       "    const paths = {\n",
       "      \"vega\": \"https://cdn.jsdelivr.net/npm//vega@5?noext\",\n",
       "      \"vega-lib\": \"https://cdn.jsdelivr.net/npm//vega-lib?noext\",\n",
       "      \"vega-lite\": \"https://cdn.jsdelivr.net/npm//vega-lite@4.8.1?noext\",\n",
       "      \"vega-embed\": \"https://cdn.jsdelivr.net/npm//vega-embed@6?noext\",\n",
       "    };\n",
       "\n",
       "    function loadScript(lib) {\n",
       "      return new Promise(function(resolve, reject) {\n",
       "        var s = document.createElement('script');\n",
       "        s.src = paths[lib];\n",
       "        s.async = true;\n",
       "        s.onload = () => resolve(paths[lib]);\n",
       "        s.onerror = () => reject(`Error loading script: ${paths[lib]}`);\n",
       "        document.getElementsByTagName(\"head\")[0].appendChild(s);\n",
       "      });\n",
       "    }\n",
       "\n",
       "    function showError(err) {\n",
       "      outputDiv.innerHTML = `<div class=\"error\" style=\"color:red;\">${err}</div>`;\n",
       "      throw err;\n",
       "    }\n",
       "\n",
       "    function displayChart(vegaEmbed) {\n",
       "      vegaEmbed(outputDiv, spec, embedOpt)\n",
       "        .catch(err => showError(`Javascript Error: ${err.message}<br>This usually means there's a typo in your chart specification. See the javascript console for the full traceback.`));\n",
       "    }\n",
       "\n",
       "    if(typeof define === \"function\" && define.amd) {\n",
       "      requirejs.config({paths});\n",
       "      require([\"vega-embed\"], displayChart, err => showError(`Error loading script: ${err.message}`));\n",
       "    } else if (typeof vegaEmbed === \"function\") {\n",
       "      displayChart(vegaEmbed);\n",
       "    } else {\n",
       "      loadScript(\"vega\")\n",
       "        .then(() => loadScript(\"vega-lite\"))\n",
       "        .then(() => loadScript(\"vega-embed\"))\n",
       "        .catch(showError)\n",
       "        .then(() => displayChart(vegaEmbed));\n",
       "    }\n",
       "  })({\"config\": {\"view\": {\"continuousWidth\": 400, \"continuousHeight\": 300}}, \"data\": {\"name\": \"data-ec1f233105c9cb5719b8a4b7dfa1da82\"}, \"mark\": \"line\", \"encoding\": {\"color\": {\"type\": \"nominal\", \"field\": \"sample\"}, \"x\": {\"type\": \"quantitative\", \"field\": \"x\"}, \"y\": {\"type\": \"quantitative\", \"field\": \"f\"}}, \"height\": 300, \"width\": 800, \"$schema\": \"https://vega.github.io/schema/vega-lite/v4.8.1.json\", \"datasets\": {\"data-ec1f233105c9cb5719b8a4b7dfa1da82\": [{\"x\": -1.0, \"f\": 0.9144074582731602, \"sample\": 0}, {\"x\": -0.9797979797979798, \"f\": 0.861293073437918, \"sample\": 0}, {\"x\": -0.9595959595959596, \"f\": 0.7935662444709218, \"sample\": 0}, {\"x\": -0.9393939393939394, \"f\": 0.7143431118248482, \"sample\": 0}, {\"x\": -0.9191919191919192, \"f\": 0.6261975853031133, \"sample\": 0}, {\"x\": -0.898989898989899, \"f\": 0.5284936919245666, \"sample\": 0}, {\"x\": -0.8787878787878788, \"f\": 0.4157504918305459, \"sample\": 0}, {\"x\": -0.8585858585858586, \"f\": 0.28893454131808205, \"sample\": 0}, {\"x\": -0.8383838383838383, \"f\": 0.15483373880971663, \"sample\": 0}, {\"x\": -0.8181818181818181, \"f\": 0.022277633993200263, \"sample\": 0}, {\"x\": -0.797979797979798, \"f\": -0.10857280366574613, \"sample\": 0}, {\"x\": -0.7777777777777778, \"f\": -0.2452029651855212, \"sample\": 0}, {\"x\": -0.7575757575757576, \"f\": -0.38327637067697834, \"sample\": 0}, {\"x\": -0.7373737373737373, \"f\": -0.5156426459959471, \"sample\": 0}, {\"x\": -0.7171717171717171, \"f\": -0.6355677728415687, \"sample\": 0}, {\"x\": -0.696969696969697, \"f\": -0.7286778272503347, \"sample\": 0}, {\"x\": -0.6767676767676767, \"f\": -0.7892084153814068, \"sample\": 0}, {\"x\": -0.6565656565656566, \"f\": -0.8270039351486678, \"sample\": 0}, {\"x\": -0.6363636363636364, \"f\": -0.8475869666462211, \"sample\": 0}, {\"x\": -0.6161616161616161, \"f\": -0.8520803402093883, \"sample\": 0}, {\"x\": -0.5959595959595959, \"f\": -0.8482659716068057, \"sample\": 0}, {\"x\": -0.5757575757575757, \"f\": -0.8356454564631225, \"sample\": 0}, {\"x\": -0.5555555555555556, \"f\": -0.8140119945948722, \"sample\": 0}, {\"x\": -0.5353535353535352, \"f\": -0.7798536493020887, \"sample\": 0}, {\"x\": -0.5151515151515151, \"f\": -0.7349632937499729, \"sample\": 0}, {\"x\": -0.4949494949494949, \"f\": -0.6752870235156292, \"sample\": 0}, {\"x\": -0.4747474747474747, \"f\": -0.607174682293579, \"sample\": 0}, {\"x\": -0.4545454545454545, \"f\": -0.5419455850017457, \"sample\": 0}, {\"x\": -0.43434343434343425, \"f\": -0.4814742198154211, \"sample\": 0}, {\"x\": -0.41414141414141414, \"f\": -0.4133259739343748, \"sample\": 0}, {\"x\": -0.3939393939393939, \"f\": -0.3286205914297412, \"sample\": 0}, {\"x\": -0.3737373737373737, \"f\": -0.22937688990418895, \"sample\": 0}, {\"x\": -0.3535353535353535, \"f\": -0.12190975433158766, \"sample\": 0}, {\"x\": -0.33333333333333326, \"f\": -0.016285269227762335, \"sample\": 0}, {\"x\": -0.31313131313131304, \"f\": 0.07568883335253446, \"sample\": 0}, {\"x\": -0.2929292929292928, \"f\": 0.15749441435144856, \"sample\": 0}, {\"x\": -0.2727272727272727, \"f\": 0.23197152314119301, \"sample\": 0}, {\"x\": -0.2525252525252525, \"f\": 0.2978232361261061, \"sample\": 0}, {\"x\": -0.23232323232323226, \"f\": 0.35474819143527686, \"sample\": 0}, {\"x\": -0.21212121212121204, \"f\": 0.4056416736363184, \"sample\": 0}, {\"x\": -0.19191919191919182, \"f\": 0.45210617769462724, \"sample\": 0}, {\"x\": -0.1717171717171716, \"f\": 0.49812384392295445, \"sample\": 0}, {\"x\": -0.1515151515151515, \"f\": 0.5361138562840733, \"sample\": 0}, {\"x\": -0.13131313131313127, \"f\": 0.5645768876036369, \"sample\": 0}, {\"x\": -0.11111111111111105, \"f\": 0.5909354984302625, \"sample\": 0}, {\"x\": -0.09090909090909083, \"f\": 0.6118783497457312, \"sample\": 0}, {\"x\": -0.07070707070707061, \"f\": 0.6352838376948843, \"sample\": 0}, {\"x\": -0.050505050505050386, \"f\": 0.6708129001022781, \"sample\": 0}, {\"x\": -0.030303030303030276, \"f\": 0.7110544180694842, \"sample\": 0}, {\"x\": -0.010101010101010055, \"f\": 0.7491156165098412, \"sample\": 0}, {\"x\": 0.010101010101010166, \"f\": 0.782908857219804, \"sample\": 0}, {\"x\": 0.030303030303030498, \"f\": 0.8088787888900241, \"sample\": 0}, {\"x\": 0.05050505050505061, \"f\": 0.823712316875564, \"sample\": 0}, {\"x\": 0.07070707070707072, \"f\": 0.8302282638775187, \"sample\": 0}, {\"x\": 0.09090909090909105, \"f\": 0.8309677750748072, \"sample\": 0}, {\"x\": 0.11111111111111116, \"f\": 0.825054979237413, \"sample\": 0}, {\"x\": 0.1313131313131315, \"f\": 0.808304671943383, \"sample\": 0}, {\"x\": 0.1515151515151516, \"f\": 0.77836680710371, \"sample\": 0}, {\"x\": 0.1717171717171717, \"f\": 0.7358299167968879, \"sample\": 0}, {\"x\": 0.19191919191919204, \"f\": 0.6797780605719257, \"sample\": 0}, {\"x\": 0.21212121212121215, \"f\": 0.6173641134008137, \"sample\": 0}, {\"x\": 0.2323232323232325, \"f\": 0.5496796436526833, \"sample\": 0}, {\"x\": 0.2525252525252526, \"f\": 0.4798061656550192, \"sample\": 0}, {\"x\": 0.27272727272727293, \"f\": 0.4032769031437576, \"sample\": 0}, {\"x\": 0.29292929292929304, \"f\": 0.3208316011740635, \"sample\": 0}, {\"x\": 0.31313131313131315, \"f\": 0.23429149696519486, \"sample\": 0}, {\"x\": 0.3333333333333335, \"f\": 0.1478803223097848, \"sample\": 0}, {\"x\": 0.3535353535353536, \"f\": 0.07206148867195106, \"sample\": 0}, {\"x\": 0.3737373737373739, \"f\": 0.006418120819791466, \"sample\": 0}, {\"x\": 0.39393939393939403, \"f\": -0.04452625465617401, \"sample\": 0}, {\"x\": 0.41414141414141437, \"f\": -0.07804181815897508, \"sample\": 0}, {\"x\": 0.4343434343434345, \"f\": -0.0946561192988206, \"sample\": 0}, {\"x\": 0.4545454545454546, \"f\": -0.09325116724023437, \"sample\": 0}, {\"x\": 0.4747474747474749, \"f\": -0.07915403921655728, \"sample\": 0}, {\"x\": 0.49494949494949503, \"f\": -0.05648865721849717, \"sample\": 0}, {\"x\": 0.5151515151515154, \"f\": -0.029137842941932304, \"sample\": 0}, {\"x\": 0.5353535353535355, \"f\": -0.005959725348197713, \"sample\": 0}, {\"x\": 0.5555555555555556, \"f\": 0.01957504191260346, \"sample\": 0}, {\"x\": 0.5757575757575759, \"f\": 0.0501920699120781, \"sample\": 0}, {\"x\": 0.595959595959596, \"f\": 0.09142129621019711, \"sample\": 0}, {\"x\": 0.6161616161616164, \"f\": 0.14802430944684017, \"sample\": 0}, {\"x\": 0.6363636363636365, \"f\": 0.22337520764840652, \"sample\": 0}, {\"x\": 0.6565656565656568, \"f\": 0.31116934482893305, \"sample\": 0}, {\"x\": 0.6767676767676769, \"f\": 0.41061012512400136, \"sample\": 0}, {\"x\": 0.696969696969697, \"f\": 0.5198075745001403, \"sample\": 0}, {\"x\": 0.7171717171717173, \"f\": 0.6383807180451186, \"sample\": 0}, {\"x\": 0.7373737373737375, \"f\": 0.7602275355517147, \"sample\": 0}, {\"x\": 0.7575757575757578, \"f\": 0.8857425511271194, \"sample\": 0}, {\"x\": 0.7777777777777779, \"f\": 1.0154963102471044, \"sample\": 0}, {\"x\": 0.7979797979797982, \"f\": 1.1573401810372375, \"sample\": 0}, {\"x\": 0.8181818181818183, \"f\": 1.3071575834278042, \"sample\": 0}, {\"x\": 0.8383838383838385, \"f\": 1.4561987994868884, \"sample\": 0}, {\"x\": 0.8585858585858588, \"f\": 1.602224233600545, \"sample\": 0}, {\"x\": 0.8787878787878789, \"f\": 1.7496630238045814, \"sample\": 0}, {\"x\": 0.8989898989898992, \"f\": 1.907074967106738, \"sample\": 0}, {\"x\": 0.9191919191919193, \"f\": 2.073019584048256, \"sample\": 0}, {\"x\": 0.9393939393939394, \"f\": 2.243930046536518, \"sample\": 0}, {\"x\": 0.9595959595959598, \"f\": 2.4255863230907244, \"sample\": 0}, {\"x\": 0.9797979797979799, \"f\": 2.618671848693706, \"sample\": 0}, {\"x\": 1.0, \"f\": 2.815428435065458, \"sample\": 0}, {\"x\": -1.0, \"f\": 0.03458733673761551, \"sample\": 1}, {\"x\": -0.9797979797979798, \"f\": -0.03877540933803842, \"sample\": 1}, {\"x\": -0.9595959595959596, \"f\": -0.11357253606319674, \"sample\": 1}, {\"x\": -0.9393939393939394, \"f\": -0.18339138801254382, \"sample\": 1}, {\"x\": -0.9191919191919192, \"f\": -0.23932143908485243, \"sample\": 1}, {\"x\": -0.898989898989899, \"f\": -0.2746227355308808, \"sample\": 1}, {\"x\": -0.8787878787878788, \"f\": -0.2980355241171137, \"sample\": 1}, {\"x\": -0.8585858585858586, \"f\": -0.31400139765619345, \"sample\": 1}, {\"x\": -0.8383838383838383, \"f\": -0.31188807456951645, \"sample\": 1}, {\"x\": -0.8181818181818181, \"f\": -0.2930191132109051, \"sample\": 1}, {\"x\": -0.797979797979798, \"f\": -0.2622143641510396, \"sample\": 1}, {\"x\": -0.7777777777777778, \"f\": -0.22041469635437233, \"sample\": 1}, {\"x\": -0.7575757575757576, \"f\": -0.16784573644260123, \"sample\": 1}, {\"x\": -0.7373737373737373, \"f\": -0.1114961126915379, \"sample\": 1}, {\"x\": -0.7171717171717171, \"f\": -0.05387838330236698, \"sample\": 1}, {\"x\": -0.696969696969697, \"f\": 0.010689636689408238, \"sample\": 1}, {\"x\": -0.6767676767676767, \"f\": 0.08498754079673983, \"sample\": 1}, {\"x\": -0.6565656565656566, \"f\": 0.16630508873680894, \"sample\": 1}, {\"x\": -0.6363636363636364, \"f\": 0.24873627755598215, \"sample\": 1}, {\"x\": -0.6161616161616161, \"f\": 0.3323633281499845, \"sample\": 1}, {\"x\": -0.5959595959595959, \"f\": 0.4086192958397395, \"sample\": 1}, {\"x\": -0.5757575757575757, \"f\": 0.46246960715619184, \"sample\": 1}, {\"x\": -0.5555555555555556, \"f\": 0.4993269299670188, \"sample\": 1}, {\"x\": -0.5353535353535352, \"f\": 0.5255930148489832, \"sample\": 1}, {\"x\": -0.5151515151515151, \"f\": 0.5347947856128143, \"sample\": 1}, {\"x\": -0.4949494949494949, \"f\": 0.5244780226939743, \"sample\": 1}, {\"x\": -0.4747474747474747, \"f\": 0.4976883334043459, \"sample\": 1}, {\"x\": -0.4545454545454545, \"f\": 0.46232118926068216, \"sample\": 1}, {\"x\": -0.43434343434343425, \"f\": 0.42862537565122655, \"sample\": 1}, {\"x\": -0.41414141414141414, \"f\": 0.3971858246332924, \"sample\": 1}, {\"x\": -0.3939393939393939, \"f\": 0.3684990726264232, \"sample\": 1}, {\"x\": -0.3737373737373737, \"f\": 0.33951268657482564, \"sample\": 1}, {\"x\": -0.3535353535353535, \"f\": 0.2980117109164404, \"sample\": 1}, {\"x\": -0.33333333333333326, \"f\": 0.24491335123444286, \"sample\": 1}, {\"x\": -0.31313131313131304, \"f\": 0.18060582068671766, \"sample\": 1}, {\"x\": -0.2929292929292928, \"f\": 0.10729792580548216, \"sample\": 1}, {\"x\": -0.2727272727272727, \"f\": 0.03227697055776877, \"sample\": 1}, {\"x\": -0.2525252525252525, \"f\": -0.036723408490865805, \"sample\": 1}, {\"x\": -0.23232323232323226, \"f\": -0.0912710810816416, \"sample\": 1}, {\"x\": -0.21212121212121204, \"f\": -0.13328731523033718, \"sample\": 1}, {\"x\": -0.19191919191919182, \"f\": -0.1707801237005479, \"sample\": 1}, {\"x\": -0.1717171717171716, \"f\": -0.21016454957384223, \"sample\": 1}, {\"x\": -0.1515151515151515, \"f\": -0.246180894698192, \"sample\": 1}, {\"x\": -0.13131313131313127, \"f\": -0.2738405594128951, \"sample\": 1}, {\"x\": -0.11111111111111105, \"f\": -0.29981563060144284, \"sample\": 1}, {\"x\": -0.09090909090909083, \"f\": -0.33108247778705424, \"sample\": 1}, {\"x\": -0.07070707070707061, \"f\": -0.3627376844093791, \"sample\": 1}, {\"x\": -0.050505050505050386, \"f\": -0.3942343346709083, \"sample\": 1}, {\"x\": -0.030303030303030276, \"f\": -0.4205222230855732, \"sample\": 1}, {\"x\": -0.010101010101010055, \"f\": -0.4440988625197804, \"sample\": 1}, {\"x\": 0.010101010101010166, \"f\": -0.4629061641959686, \"sample\": 1}, {\"x\": 0.030303030303030498, \"f\": -0.47578707136363985, \"sample\": 1}, {\"x\": 0.05050505050505061, \"f\": -0.48345520584735957, \"sample\": 1}, {\"x\": 0.07070707070707072, \"f\": -0.4826288823889012, \"sample\": 1}, {\"x\": 0.09090909090909105, \"f\": -0.4812023649599235, \"sample\": 1}, {\"x\": 0.11111111111111116, \"f\": -0.4797726727395704, \"sample\": 1}, {\"x\": 0.1313131313131315, \"f\": -0.47361290677207984, \"sample\": 1}, {\"x\": 0.1515151515151516, \"f\": -0.46156711120634836, \"sample\": 1}, {\"x\": 0.1717171717171717, \"f\": -0.45208222168201057, \"sample\": 1}, {\"x\": 0.19191919191919204, \"f\": -0.4499838675216313, \"sample\": 1}, {\"x\": 0.21212121212121215, \"f\": -0.4588890110292828, \"sample\": 1}, {\"x\": 0.2323232323232325, \"f\": -0.4769592994565862, \"sample\": 1}, {\"x\": 0.2525252525252526, \"f\": -0.501987463793928, \"sample\": 1}, {\"x\": 0.27272727272727293, \"f\": -0.5458886133247018, \"sample\": 1}, {\"x\": 0.29292929292929304, \"f\": -0.6104561020917683, \"sample\": 1}, {\"x\": 0.31313131313131315, \"f\": -0.7010828823419467, \"sample\": 1}, {\"x\": 0.3333333333333335, \"f\": -0.8134460488909134, \"sample\": 1}, {\"x\": 0.3535353535353536, \"f\": -0.953268941774326, \"sample\": 1}, {\"x\": 0.3737373737373739, \"f\": -1.108110587289455, \"sample\": 1}, {\"x\": 0.39393939393939403, \"f\": -1.2574914819754295, \"sample\": 1}, {\"x\": 0.41414141414141437, \"f\": -1.3991973896562917, \"sample\": 1}, {\"x\": 0.4343434343434345, \"f\": -1.5410401615507359, \"sample\": 1}, {\"x\": 0.4545454545454546, \"f\": -1.667338251870901, \"sample\": 1}, {\"x\": 0.4747474747474749, \"f\": -1.7655788629195157, \"sample\": 1}, {\"x\": 0.49494949494949503, \"f\": -1.8406457092842887, \"sample\": 1}, {\"x\": 0.5151515151515154, \"f\": -1.89106338151231, \"sample\": 1}, {\"x\": 0.5353535353535355, \"f\": -1.9220860112401477, \"sample\": 1}, {\"x\": 0.5555555555555556, \"f\": -1.9470223644289086, \"sample\": 1}, {\"x\": 0.5757575757575759, \"f\": -1.9636114572955152, \"sample\": 1}, {\"x\": 0.595959595959596, \"f\": -1.97356888392207, \"sample\": 1}, {\"x\": 0.6161616161616164, \"f\": -1.9745268031801646, \"sample\": 1}, {\"x\": 0.6363636363636365, \"f\": -1.958600348292943, \"sample\": 1}, {\"x\": 0.6565656565656568, \"f\": -1.9283318142534343, \"sample\": 1}, {\"x\": 0.6767676767676769, \"f\": -1.8775248857826554, \"sample\": 1}, {\"x\": 0.696969696969697, \"f\": -1.8074507559913415, \"sample\": 1}, {\"x\": 0.7171717171717173, \"f\": -1.7213418855475882, \"sample\": 1}, {\"x\": 0.7373737373737375, \"f\": -1.6328456404086356, \"sample\": 1}, {\"x\": 0.7575757575757578, \"f\": -1.5516236008499305, \"sample\": 1}, {\"x\": 0.7777777777777779, \"f\": -1.4744583965027247, \"sample\": 1}, {\"x\": 0.7979797979797982, \"f\": -1.4071132431506976, \"sample\": 1}, {\"x\": 0.8181818181818183, \"f\": -1.352424426481619, \"sample\": 1}, {\"x\": 0.8383838383838385, \"f\": -1.3116528286306788, \"sample\": 1}, {\"x\": 0.8585858585858588, \"f\": -1.2910907117672363, \"sample\": 1}, {\"x\": 0.8787878787878789, \"f\": -1.2907623345340182, \"sample\": 1}, {\"x\": 0.8989898989898992, \"f\": -1.3142543434022484, \"sample\": 1}, {\"x\": 0.9191919191919193, \"f\": -1.360110055176982, \"sample\": 1}, {\"x\": 0.9393939393939394, \"f\": -1.4206673757920452, \"sample\": 1}, {\"x\": 0.9595959595959598, \"f\": -1.4904942500980274, \"sample\": 1}, {\"x\": 0.9797979797979799, \"f\": -1.5664665119972052, \"sample\": 1}, {\"x\": 1.0, \"f\": -1.6446927822385724, \"sample\": 1}, {\"x\": -1.0, \"f\": 0.020804166746014423, \"sample\": 2}, {\"x\": -0.9797979797979798, \"f\": 0.025319171886919446, \"sample\": 2}, {\"x\": -0.9595959595959596, \"f\": 0.01680890556939192, \"sample\": 2}, {\"x\": -0.9393939393939394, \"f\": -0.008090704708209145, \"sample\": 2}, {\"x\": -0.9191919191919192, \"f\": -0.040828324281010575, \"sample\": 2}, {\"x\": -0.898989898989899, \"f\": -0.07170636478405255, \"sample\": 2}, {\"x\": -0.8787878787878788, \"f\": -0.09296518859541661, \"sample\": 2}, {\"x\": -0.8585858585858586, \"f\": -0.10956776974474959, \"sample\": 2}, {\"x\": -0.8383838383838383, \"f\": -0.1272824808844619, \"sample\": 2}, {\"x\": -0.8181818181818181, \"f\": -0.14187804051314196, \"sample\": 2}, {\"x\": -0.797979797979798, \"f\": -0.14793953509177393, \"sample\": 2}, {\"x\": -0.7777777777777778, \"f\": -0.1373291227030055, \"sample\": 2}, {\"x\": -0.7575757575757576, \"f\": -0.10285540875318734, \"sample\": 2}, {\"x\": -0.7373737373737373, \"f\": -0.04820224422396365, \"sample\": 2}, {\"x\": -0.7171717171717171, \"f\": 0.020191152624132583, \"sample\": 2}, {\"x\": -0.696969696969697, \"f\": 0.09123943828553202, \"sample\": 2}, {\"x\": -0.6767676767676767, \"f\": 0.15332499346218256, \"sample\": 2}, {\"x\": -0.6565656565656566, \"f\": 0.2013688686442731, \"sample\": 2}, {\"x\": -0.6363636363636364, \"f\": 0.2310633242278846, \"sample\": 2}, {\"x\": -0.6161616161616161, \"f\": 0.24341678500247307, \"sample\": 2}, {\"x\": -0.5959595959595959, \"f\": 0.2427375795690742, \"sample\": 2}, {\"x\": -0.5757575757575757, \"f\": 0.2316765776180096, \"sample\": 2}, {\"x\": -0.5555555555555556, \"f\": 0.21055767984136117, \"sample\": 2}, {\"x\": -0.5353535353535352, \"f\": 0.18536122756614093, \"sample\": 2}, {\"x\": -0.5151515151515151, \"f\": 0.1725464780052356, \"sample\": 2}, {\"x\": -0.4949494949494949, \"f\": 0.1769297281497351, \"sample\": 2}, {\"x\": -0.4747474747474747, \"f\": 0.19569221440874504, \"sample\": 2}, {\"x\": -0.4545454545454545, \"f\": 0.22072303735819138, \"sample\": 2}, {\"x\": -0.43434343434343425, \"f\": 0.25208191534373053, \"sample\": 2}, {\"x\": -0.41414141414141414, \"f\": 0.29095069168927645, \"sample\": 2}, {\"x\": -0.3939393939393939, \"f\": 0.3364511394400039, \"sample\": 2}, {\"x\": -0.3737373737373737, \"f\": 0.3948162507988459, \"sample\": 2}, {\"x\": -0.3535353535353535, \"f\": 0.469093029894587, \"sample\": 2}, {\"x\": -0.33333333333333326, \"f\": 0.5518546151200401, \"sample\": 2}, {\"x\": -0.31313131313131304, \"f\": 0.6273087639826088, \"sample\": 2}, {\"x\": -0.2929292929292928, \"f\": 0.6853864984585413, \"sample\": 2}, {\"x\": -0.2727272727272727, \"f\": 0.7268994738265203, \"sample\": 2}, {\"x\": -0.2525252525252525, \"f\": 0.7650997177023794, \"sample\": 2}, {\"x\": -0.23232323232323226, \"f\": 0.809720995461482, \"sample\": 2}, {\"x\": -0.21212121212121204, \"f\": 0.8605474610475152, \"sample\": 2}, {\"x\": -0.19191919191919182, \"f\": 0.9067755087226346, \"sample\": 2}, {\"x\": -0.1717171717171716, \"f\": 0.9435497262662843, \"sample\": 2}, {\"x\": -0.1515151515151515, \"f\": 0.976115457554707, \"sample\": 2}, {\"x\": -0.13131313131313127, \"f\": 1.0107720146451376, \"sample\": 2}, {\"x\": -0.11111111111111105, \"f\": 1.0428297015453705, \"sample\": 2}, {\"x\": -0.09090909090909083, \"f\": 1.0676814329012485, \"sample\": 2}, {\"x\": -0.07070707070707061, \"f\": 1.0798453673574346, \"sample\": 2}, {\"x\": -0.050505050505050386, \"f\": 1.0653668407086978, \"sample\": 2}, {\"x\": -0.030303030303030276, \"f\": 1.0289135961831444, \"sample\": 2}, {\"x\": -0.010101010101010055, \"f\": 0.9747765045014023, \"sample\": 2}, {\"x\": 0.010101010101010166, \"f\": 0.9149801466951101, \"sample\": 2}, {\"x\": 0.030303030303030498, \"f\": 0.8664757828985419, \"sample\": 2}, {\"x\": 0.05050505050505061, \"f\": 0.8329027122948055, \"sample\": 2}, {\"x\": 0.07070707070707072, \"f\": 0.8072567128929036, \"sample\": 2}, {\"x\": 0.09090909090909105, \"f\": 0.7801357316284551, \"sample\": 2}, {\"x\": 0.11111111111111116, \"f\": 0.756365426414334, \"sample\": 2}, {\"x\": 0.1313131313131315, \"f\": 0.7396432899906287, \"sample\": 2}, {\"x\": 0.1515151515151516, \"f\": 0.7257725460991461, \"sample\": 2}, {\"x\": 0.1717171717171717, \"f\": 0.7037767799580015, \"sample\": 2}, {\"x\": 0.19191919191919204, \"f\": 0.6747199149842867, \"sample\": 2}, {\"x\": 0.21212121212121215, \"f\": 0.639989366263158, \"sample\": 2}, {\"x\": 0.2323232323232325, \"f\": 0.5977310370960054, \"sample\": 2}, {\"x\": 0.2525252525252526, \"f\": 0.549564577374541, \"sample\": 2}, {\"x\": 0.27272727272727293, \"f\": 0.49442838782230364, \"sample\": 2}, {\"x\": 0.29292929292929304, \"f\": 0.42921250329032384, \"sample\": 2}, {\"x\": 0.31313131313131315, \"f\": 0.3526498726827194, \"sample\": 2}, {\"x\": 0.3333333333333335, \"f\": 0.26981494175382004, \"sample\": 2}, {\"x\": 0.3535353535353536, \"f\": 0.18773735783547796, \"sample\": 2}, {\"x\": 0.3737373737373739, \"f\": 0.11249942763111379, \"sample\": 2}, {\"x\": 0.39393939393939403, \"f\": 0.04436895865291702, \"sample\": 2}, {\"x\": 0.41414141414141437, \"f\": -0.01768126458459719, \"sample\": 2}, {\"x\": 0.4343434343434345, \"f\": -0.0684261570447097, \"sample\": 2}, {\"x\": 0.4545454545454546, \"f\": -0.10010527005808194, \"sample\": 2}, {\"x\": 0.4747474747474749, \"f\": -0.10924301064737511, \"sample\": 2}, {\"x\": 0.49494949494949503, \"f\": -0.09097727170806039, \"sample\": 2}, {\"x\": 0.5151515151515154, \"f\": -0.05902039912927082, \"sample\": 2}, {\"x\": 0.5353535353535355, \"f\": -0.022808642179361596, \"sample\": 2}, {\"x\": 0.5555555555555556, \"f\": 0.008099401312917826, \"sample\": 2}, {\"x\": 0.5757575757575759, \"f\": 0.03043698447247898, \"sample\": 2}, {\"x\": 0.595959595959596, \"f\": 0.03738639673580575, \"sample\": 2}, {\"x\": 0.6161616161616164, \"f\": 0.028044194441945624, \"sample\": 2}, {\"x\": 0.6363636363636365, \"f\": 0.0052880701547874664, \"sample\": 2}, {\"x\": 0.6565656565656568, \"f\": -0.02853205298746362, \"sample\": 2}, {\"x\": 0.6767676767676769, \"f\": -0.06597510563994552, \"sample\": 2}, {\"x\": 0.696969696969697, \"f\": -0.10873394588400571, \"sample\": 2}, {\"x\": 0.7171717171717173, \"f\": -0.1555309653858337, \"sample\": 2}, {\"x\": 0.7373737373737375, \"f\": -0.19585782477583144, \"sample\": 2}, {\"x\": 0.7575757575757578, \"f\": -0.2290534215123328, \"sample\": 2}, {\"x\": 0.7777777777777779, \"f\": -0.258928539204678, \"sample\": 2}, {\"x\": 0.7979797979797982, \"f\": -0.27985429928482825, \"sample\": 2}, {\"x\": 0.8181818181818183, \"f\": -0.2917662193304623, \"sample\": 2}, {\"x\": 0.8383838383838385, \"f\": -0.2944271440746724, \"sample\": 2}, {\"x\": 0.8585858585858588, \"f\": -0.29608720361162827, \"sample\": 2}, {\"x\": 0.8787878787878789, \"f\": -0.30724788610813997, \"sample\": 2}, {\"x\": 0.8989898989898992, \"f\": -0.3360467052780868, \"sample\": 2}, {\"x\": 0.9191919191919193, \"f\": -0.37321959245654646, \"sample\": 2}, {\"x\": 0.9393939393939394, \"f\": -0.4080474577131692, \"sample\": 2}, {\"x\": 0.9595959595959598, \"f\": -0.4417127123837635, \"sample\": 2}, {\"x\": 0.9797979797979799, \"f\": -0.4717700684779354, \"sample\": 2}, {\"x\": 1.0, \"f\": -0.498645182015972, \"sample\": 2}]}}, {\"mode\": \"vega-lite\"});\n",
       "</script>"
      ],
      "text/plain": [
       "alt.Chart(...)"
      ]
     },
     "execution_count": 5,
     "metadata": {},
     "output_type": "execute_result"
    }
   ],
   "source": [
    "blackbox1 = bb.GPBlackBox(ndim=1)\n",
    "xx = blackbox1.xgrid(npoints=100)[:, 0]\n",
    "prior_samples = pd.concat([\n",
    "    pd.DataFrame(dict(x=xx, f=bb.prior_draw(blackbox1.kernel, xx), sample=s))\n",
    "    for s in range(3)])\n",
    "prior_chart = (\n",
    "    alt.Chart(prior_samples)\n",
    "    .mark_line()\n",
    "    .encode(x='x', y='f', color='sample:N'))\n",
    "prior_chart.properties(width=800, height=300)"
   ]
  },
  {
   "cell_type": "markdown",
   "metadata": {},
   "source": [
    "### A function of one input\n",
    "Now it is your turn.\n",
    "You have to optimise a function of one input with domain `[-1, 1]`.\n",
    "To start you off you already have one evaluation at the mid-point."
   ]
  },
  {
   "cell_type": "code",
   "execution_count": 6,
   "metadata": {},
   "outputs": [
    {
     "data": {
      "text/html": [
       "\n",
       "<div id=\"altair-viz-aef1d98c47a84ed8a02d629c5adc9eb2\"></div>\n",
       "<script type=\"text/javascript\">\n",
       "  (function(spec, embedOpt){\n",
       "    let outputDiv = document.currentScript.previousElementSibling;\n",
       "    if (outputDiv.id !== \"altair-viz-aef1d98c47a84ed8a02d629c5adc9eb2\") {\n",
       "      outputDiv = document.getElementById(\"altair-viz-aef1d98c47a84ed8a02d629c5adc9eb2\");\n",
       "    }\n",
       "    const paths = {\n",
       "      \"vega\": \"https://cdn.jsdelivr.net/npm//vega@5?noext\",\n",
       "      \"vega-lib\": \"https://cdn.jsdelivr.net/npm//vega-lib?noext\",\n",
       "      \"vega-lite\": \"https://cdn.jsdelivr.net/npm//vega-lite@4.8.1?noext\",\n",
       "      \"vega-embed\": \"https://cdn.jsdelivr.net/npm//vega-embed@6?noext\",\n",
       "    };\n",
       "\n",
       "    function loadScript(lib) {\n",
       "      return new Promise(function(resolve, reject) {\n",
       "        var s = document.createElement('script');\n",
       "        s.src = paths[lib];\n",
       "        s.async = true;\n",
       "        s.onload = () => resolve(paths[lib]);\n",
       "        s.onerror = () => reject(`Error loading script: ${paths[lib]}`);\n",
       "        document.getElementsByTagName(\"head\")[0].appendChild(s);\n",
       "      });\n",
       "    }\n",
       "\n",
       "    function showError(err) {\n",
       "      outputDiv.innerHTML = `<div class=\"error\" style=\"color:red;\">${err}</div>`;\n",
       "      throw err;\n",
       "    }\n",
       "\n",
       "    function displayChart(vegaEmbed) {\n",
       "      vegaEmbed(outputDiv, spec, embedOpt)\n",
       "        .catch(err => showError(`Javascript Error: ${err.message}<br>This usually means there's a typo in your chart specification. See the javascript console for the full traceback.`));\n",
       "    }\n",
       "\n",
       "    if(typeof define === \"function\" && define.amd) {\n",
       "      requirejs.config({paths});\n",
       "      require([\"vega-embed\"], displayChart, err => showError(`Error loading script: ${err.message}`));\n",
       "    } else if (typeof vegaEmbed === \"function\") {\n",
       "      displayChart(vegaEmbed);\n",
       "    } else {\n",
       "      loadScript(\"vega\")\n",
       "        .then(() => loadScript(\"vega-lite\"))\n",
       "        .then(() => loadScript(\"vega-embed\"))\n",
       "        .catch(showError)\n",
       "        .then(() => displayChart(vegaEmbed));\n",
       "    }\n",
       "  })({\"config\": {\"view\": {\"continuousWidth\": 400, \"continuousHeight\": 300}}, \"data\": {\"name\": \"data-e45894ccffd3d50f57098acc8c6daa38\"}, \"mark\": {\"type\": \"circle\", \"color\": \"red\", \"size\": 100}, \"encoding\": {\"x\": {\"type\": \"quantitative\", \"field\": \"x0\", \"scale\": {\"domain\": [-1, 1]}}, \"y\": {\"type\": \"quantitative\", \"field\": \"y\"}}, \"height\": 300, \"width\": 800, \"$schema\": \"https://vega.github.io/schema/vega-lite/v4.8.1.json\", \"datasets\": {\"data-e45894ccffd3d50f57098acc8c6daa38\": [{\"x0\": 0.0, \"y\": -0.028005248838839716}]}}, {\"mode\": \"vega-lite\"});\n",
       "</script>"
      ],
      "text/plain": [
       "alt.Chart(...)"
      ]
     },
     "execution_count": 6,
     "metadata": {},
     "output_type": "execute_result"
    }
   ],
   "source": [
    "blackbox1 = bb.GPBlackBox(ndim=1)\n",
    "blackbox1.plot_xy().properties(width=800, height=300)"
   ]
  },
  {
   "cell_type": "markdown",
   "metadata": {},
   "source": [
    "Now you should choose which input point (`x0`) to evaluate the function at:"
   ]
  },
  {
   "cell_type": "code",
   "execution_count": 7,
   "metadata": {},
   "outputs": [
    {
     "data": {
      "application/vnd.jupyter.widget-view+json": {
       "model_id": "69137cedd71049bab05e0c76ee9d2e69",
       "version_major": 2,
       "version_minor": 0
      },
      "text/plain": [
       "FloatSlider(value=0.5, description='x0:', max=1.0, min=-1.0, step=0.01)"
      ]
     },
     "metadata": {},
     "output_type": "display_data"
    }
   ],
   "source": [
    "x0 = widgets.FloatSlider(\n",
    "    value=0.5,\n",
    "    min=bb.DOMAIN_MIN,\n",
    "    max=bb.DOMAIN_MAX,\n",
    "    step=0.01,\n",
    "    description='x0:',\n",
    "    readout_format='.2f',\n",
    ")\n",
    "display(x0)"
   ]
  },
  {
   "cell_type": "markdown",
   "metadata": {},
   "source": [
    "Adjust the slider above and repeatedly execute the following cell to see the evaluations.\n",
    "\n",
    "Evaluate the function and plot all the noisy evaluations `y` so far:"
   ]
  },
  {
   "cell_type": "code",
   "execution_count": 12,
   "metadata": {},
   "outputs": [
    {
     "name": "stdout",
     "output_type": "stream",
     "text": [
      "Evaluated black box at -0.98; result=0.0876211370973736\n"
     ]
    },
    {
     "data": {
      "text/html": [
       "\n",
       "<div id=\"altair-viz-e187f117921743cb8c2e5f07c7aef94c\"></div>\n",
       "<script type=\"text/javascript\">\n",
       "  (function(spec, embedOpt){\n",
       "    let outputDiv = document.currentScript.previousElementSibling;\n",
       "    if (outputDiv.id !== \"altair-viz-e187f117921743cb8c2e5f07c7aef94c\") {\n",
       "      outputDiv = document.getElementById(\"altair-viz-e187f117921743cb8c2e5f07c7aef94c\");\n",
       "    }\n",
       "    const paths = {\n",
       "      \"vega\": \"https://cdn.jsdelivr.net/npm//vega@5?noext\",\n",
       "      \"vega-lib\": \"https://cdn.jsdelivr.net/npm//vega-lib?noext\",\n",
       "      \"vega-lite\": \"https://cdn.jsdelivr.net/npm//vega-lite@4.8.1?noext\",\n",
       "      \"vega-embed\": \"https://cdn.jsdelivr.net/npm//vega-embed@6?noext\",\n",
       "    };\n",
       "\n",
       "    function loadScript(lib) {\n",
       "      return new Promise(function(resolve, reject) {\n",
       "        var s = document.createElement('script');\n",
       "        s.src = paths[lib];\n",
       "        s.async = true;\n",
       "        s.onload = () => resolve(paths[lib]);\n",
       "        s.onerror = () => reject(`Error loading script: ${paths[lib]}`);\n",
       "        document.getElementsByTagName(\"head\")[0].appendChild(s);\n",
       "      });\n",
       "    }\n",
       "\n",
       "    function showError(err) {\n",
       "      outputDiv.innerHTML = `<div class=\"error\" style=\"color:red;\">${err}</div>`;\n",
       "      throw err;\n",
       "    }\n",
       "\n",
       "    function displayChart(vegaEmbed) {\n",
       "      vegaEmbed(outputDiv, spec, embedOpt)\n",
       "        .catch(err => showError(`Javascript Error: ${err.message}<br>This usually means there's a typo in your chart specification. See the javascript console for the full traceback.`));\n",
       "    }\n",
       "\n",
       "    if(typeof define === \"function\" && define.amd) {\n",
       "      requirejs.config({paths});\n",
       "      require([\"vega-embed\"], displayChart, err => showError(`Error loading script: ${err.message}`));\n",
       "    } else if (typeof vegaEmbed === \"function\") {\n",
       "      displayChart(vegaEmbed);\n",
       "    } else {\n",
       "      loadScript(\"vega\")\n",
       "        .then(() => loadScript(\"vega-lite\"))\n",
       "        .then(() => loadScript(\"vega-embed\"))\n",
       "        .catch(showError)\n",
       "        .then(() => displayChart(vegaEmbed));\n",
       "    }\n",
       "  })({\"config\": {\"view\": {\"continuousWidth\": 400, \"continuousHeight\": 300}}, \"data\": {\"name\": \"data-0eec26036d6e64abd96b392ea1a94d11\"}, \"mark\": {\"type\": \"circle\", \"color\": \"red\", \"size\": 100}, \"encoding\": {\"x\": {\"type\": \"quantitative\", \"field\": \"x0\", \"scale\": {\"domain\": [-1, 1]}}, \"y\": {\"type\": \"quantitative\", \"field\": \"y\"}}, \"height\": 300, \"width\": 800, \"$schema\": \"https://vega.github.io/schema/vega-lite/v4.8.1.json\", \"datasets\": {\"data-0eec26036d6e64abd96b392ea1a94d11\": [{\"x0\": 0.0, \"y\": -0.028005248838839716}, {\"x0\": 0.5, \"y\": 0.5038885825266243}, {\"x0\": -0.53, \"y\": -0.13464709728633628}, {\"x0\": -0.17, \"y\": 0.31442580122150554}, {\"x0\": 0.89, \"y\": 0.9305499802994968}, {\"x0\": -0.98, \"y\": 0.0876211370973736}]}}, {\"mode\": \"vega-lite\"});\n",
       "</script>"
      ],
      "text/plain": [
       "alt.Chart(...)"
      ]
     },
     "execution_count": 12,
     "metadata": {},
     "output_type": "execute_result"
    }
   ],
   "source": [
    "y = blackbox1([x0.value])[0][0]\n",
    "print(f'Evaluated black box at {x0.value}; result={y}')\n",
    "blackbox1.plot_xy().properties(width=800, height=300)"
   ]
  },
  {
   "cell_type": "markdown",
   "metadata": {},
   "source": [
    "Now go back and choose another point at which to evaluate the black box function.\n",
    "\n",
    "If you have finished evaluating the function at different points and you are confident where the maximum is, you can make a guess before executing the cells below.\n",
    "\n",
    "Show the function as a line and the noisy data we received as evaluations of it:"
   ]
  },
  {
   "cell_type": "code",
   "execution_count": 13,
   "metadata": {},
   "outputs": [
    {
     "data": {
      "text/html": [
       "\n",
       "<div id=\"altair-viz-d08c66d6cf7741c1bd4796865e24f1ef\"></div>\n",
       "<script type=\"text/javascript\">\n",
       "  (function(spec, embedOpt){\n",
       "    let outputDiv = document.currentScript.previousElementSibling;\n",
       "    if (outputDiv.id !== \"altair-viz-d08c66d6cf7741c1bd4796865e24f1ef\") {\n",
       "      outputDiv = document.getElementById(\"altair-viz-d08c66d6cf7741c1bd4796865e24f1ef\");\n",
       "    }\n",
       "    const paths = {\n",
       "      \"vega\": \"https://cdn.jsdelivr.net/npm//vega@5?noext\",\n",
       "      \"vega-lib\": \"https://cdn.jsdelivr.net/npm//vega-lib?noext\",\n",
       "      \"vega-lite\": \"https://cdn.jsdelivr.net/npm//vega-lite@4.8.1?noext\",\n",
       "      \"vega-embed\": \"https://cdn.jsdelivr.net/npm//vega-embed@6?noext\",\n",
       "    };\n",
       "\n",
       "    function loadScript(lib) {\n",
       "      return new Promise(function(resolve, reject) {\n",
       "        var s = document.createElement('script');\n",
       "        s.src = paths[lib];\n",
       "        s.async = true;\n",
       "        s.onload = () => resolve(paths[lib]);\n",
       "        s.onerror = () => reject(`Error loading script: ${paths[lib]}`);\n",
       "        document.getElementsByTagName(\"head\")[0].appendChild(s);\n",
       "      });\n",
       "    }\n",
       "\n",
       "    function showError(err) {\n",
       "      outputDiv.innerHTML = `<div class=\"error\" style=\"color:red;\">${err}</div>`;\n",
       "      throw err;\n",
       "    }\n",
       "\n",
       "    function displayChart(vegaEmbed) {\n",
       "      vegaEmbed(outputDiv, spec, embedOpt)\n",
       "        .catch(err => showError(`Javascript Error: ${err.message}<br>This usually means there's a typo in your chart specification. See the javascript console for the full traceback.`));\n",
       "    }\n",
       "\n",
       "    if(typeof define === \"function\" && define.amd) {\n",
       "      requirejs.config({paths});\n",
       "      require([\"vega-embed\"], displayChart, err => showError(`Error loading script: ${err.message}`));\n",
       "    } else if (typeof vegaEmbed === \"function\") {\n",
       "      displayChart(vegaEmbed);\n",
       "    } else {\n",
       "      loadScript(\"vega\")\n",
       "        .then(() => loadScript(\"vega-lite\"))\n",
       "        .then(() => loadScript(\"vega-embed\"))\n",
       "        .catch(showError)\n",
       "        .then(() => displayChart(vegaEmbed));\n",
       "    }\n",
       "  })({\"config\": {\"view\": {\"continuousWidth\": 400, \"continuousHeight\": 300}}, \"layer\": [{\"data\": {\"name\": \"data-0eec26036d6e64abd96b392ea1a94d11\"}, \"mark\": {\"type\": \"circle\", \"color\": \"red\", \"size\": 100}, \"encoding\": {\"x\": {\"type\": \"quantitative\", \"field\": \"x0\", \"scale\": {\"domain\": [-1, 1]}}, \"y\": {\"type\": \"quantitative\", \"field\": \"y\"}}}, {\"data\": {\"name\": \"data-2d1e0543ca9f74f54712317b04f5767b\"}, \"mark\": \"line\", \"encoding\": {\"x\": {\"type\": \"quantitative\", \"field\": \"x0\"}, \"y\": {\"type\": \"quantitative\", \"field\": \"f\"}}}], \"height\": 300, \"width\": 800, \"$schema\": \"https://vega.github.io/schema/vega-lite/v4.8.1.json\", \"datasets\": {\"data-0eec26036d6e64abd96b392ea1a94d11\": [{\"x0\": 0.0, \"y\": -0.028005248838839716}, {\"x0\": 0.5, \"y\": 0.5038885825266243}, {\"x0\": -0.53, \"y\": -0.13464709728633628}, {\"x0\": -0.17, \"y\": 0.31442580122150554}, {\"x0\": 0.89, \"y\": 0.9305499802994968}, {\"x0\": -0.98, \"y\": 0.0876211370973736}], \"data-2d1e0543ca9f74f54712317b04f5767b\": [{\"x0\": -1.0, \"f\": 0.4226646404890152}, {\"x0\": -0.9797979797979798, \"f\": 0.4436562811744853}, {\"x0\": -0.9595959595959596, \"f\": 0.4683386017893169}, {\"x0\": -0.9393939393939394, \"f\": 0.49950876890043083}, {\"x0\": -0.9191919191919192, \"f\": 0.5475732911545937}, {\"x0\": -0.898989898989899, \"f\": 0.611329945832011}, {\"x0\": -0.8787878787878788, \"f\": 0.6822821863705872}, {\"x0\": -0.8585858585858586, \"f\": 0.7467411805337018}, {\"x0\": -0.8383838383838383, \"f\": 0.8038246402189578}, {\"x0\": -0.8181818181818181, \"f\": 0.8514102866573008}, {\"x0\": -0.797979797979798, \"f\": 0.8931387723457423}, {\"x0\": -0.7777777777777778, \"f\": 0.9237612564248899}, {\"x0\": -0.7575757575757576, \"f\": 0.9419129313915027}, {\"x0\": -0.7373737373737373, \"f\": 0.9324583927273791}, {\"x0\": -0.7171717171717171, \"f\": 0.899524035147998}, {\"x0\": -0.696969696969697, \"f\": 0.8499349538065626}, {\"x0\": -0.6767676767676767, \"f\": 0.7953476784849469}, {\"x0\": -0.6565656565656566, \"f\": 0.730281839870919}, {\"x0\": -0.6363636363636364, \"f\": 0.6548981070940969}, {\"x0\": -0.6161616161616161, \"f\": 0.5756044737102142}, {\"x0\": -0.5959595959595959, \"f\": 0.504474915705106}, {\"x0\": -0.5757575757575757, \"f\": 0.4489932002354341}, {\"x0\": -0.5555555555555556, \"f\": 0.39619812265148613}, {\"x0\": -0.5353535353535352, \"f\": 0.345235773954398}, {\"x0\": -0.5151515151515151, \"f\": 0.29185908915980635}, {\"x0\": -0.4949494949494949, \"f\": 0.233347398094212}, {\"x0\": -0.4747474747474747, \"f\": 0.17108812520411174}, {\"x0\": -0.4545454545454545, \"f\": 0.10328634219925663}, {\"x0\": -0.43434343434343425, \"f\": 0.04751574710582946}, {\"x0\": -0.41414141414141414, \"f\": -0.001439615236705008}, {\"x0\": -0.3939393939393939, \"f\": -0.038263273111286494}, {\"x0\": -0.3737373737373737, \"f\": -0.0607036206308536}, {\"x0\": -0.3535353535353535, \"f\": -0.06129140827197038}, {\"x0\": -0.33333333333333326, \"f\": -0.04006835710660685}, {\"x0\": -0.31313131313131304, \"f\": -0.008037994538331455}, {\"x0\": -0.2929292929292928, \"f\": 0.023037403004660714}, {\"x0\": -0.2727272727272727, \"f\": 0.055453526908513434}, {\"x0\": -0.2525252525252525, \"f\": 0.08965622285438471}, {\"x0\": -0.23232323232323226, \"f\": 0.11118472956790709}, {\"x0\": -0.21212121212121204, \"f\": 0.11649935318886226}, {\"x0\": -0.19191919191919182, \"f\": 0.10757161577553592}, {\"x0\": -0.1717171717171716, \"f\": 0.08367443396002}, {\"x0\": -0.1515151515151515, \"f\": 0.044358221774659506}, {\"x0\": -0.13131313131313127, \"f\": -0.0036561564645402056}, {\"x0\": -0.11111111111111105, \"f\": -0.0611438964549148}, {\"x0\": -0.09090909090909083, \"f\": -0.11156294890621615}, {\"x0\": -0.07070707070707061, \"f\": -0.14979817437718934}, {\"x0\": -0.050505050505050386, \"f\": -0.1582772528527996}, {\"x0\": -0.030303030303030276, \"f\": -0.13448575039761107}, {\"x0\": -0.010101010101010055, \"f\": -0.08433640333711813}, {\"x0\": 0.010101010101010166, \"f\": -0.0071374246313581635}, {\"x0\": 0.030303030303030498, \"f\": 0.08896772388527541}, {\"x0\": 0.05050505050505061, \"f\": 0.20438901222462708}, {\"x0\": 0.07070707070707072, \"f\": 0.31041248837431434}, {\"x0\": 0.09090909090909105, \"f\": 0.405150210198599}, {\"x0\": 0.11111111111111116, \"f\": 0.48170793592671346}, {\"x0\": 0.1313131313131315, \"f\": 0.5406677324326669}, {\"x0\": 0.1515151515151516, \"f\": 0.5651870957638169}, {\"x0\": 0.1717171717171717, \"f\": 0.5602951975171756}, {\"x0\": 0.19191919191919204, \"f\": 0.5414317746533246}, {\"x0\": 0.21212121212121215, \"f\": 0.5100898969663921}, {\"x0\": 0.2323232323232325, \"f\": 0.4683575210276989}, {\"x0\": 0.2525252525252526, \"f\": 0.43138071494946306}, {\"x0\": 0.27272727272727293, \"f\": 0.39380801370632507}, {\"x0\": 0.29292929292929304, \"f\": 0.3675582131284584}, {\"x0\": 0.31313131313131315, \"f\": 0.36410121227950504}, {\"x0\": 0.3333333333333335, \"f\": 0.3720233028535557}, {\"x0\": 0.3535353535353536, \"f\": 0.3958294187403675}, {\"x0\": 0.3737373737373739, \"f\": 0.4401076231073675}, {\"x0\": 0.39393939393939403, \"f\": 0.5023288241163297}, {\"x0\": 0.41414141414141437, \"f\": 0.5772651728251427}, {\"x0\": 0.4343434343434345, \"f\": 0.666628312673788}, {\"x0\": 0.4545454545454546, \"f\": 0.7597764369672579}, {\"x0\": 0.4747474747474749, \"f\": 0.8548353656759131}, {\"x0\": 0.49494949494949503, \"f\": 0.9370998212539217}, {\"x0\": 0.5151515151515154, \"f\": 0.9913803750172666}, {\"x0\": 0.5353535353535355, \"f\": 1.0271776315587924}, {\"x0\": 0.5555555555555556, \"f\": 1.0431049953051525}, {\"x0\": 0.5757575757575759, \"f\": 1.0434136499477318}, {\"x0\": 0.595959595959596, \"f\": 1.0166980814046993}, {\"x0\": 0.6161616161616164, \"f\": 0.975474746969125}, {\"x0\": 0.6363636363636365, \"f\": 0.939138047082533}, {\"x0\": 0.6565656565656568, \"f\": 0.9095564054975176}, {\"x0\": 0.6767676767676769, \"f\": 0.8931911511495557}, {\"x0\": 0.696969696969697, \"f\": 0.8895216484177527}, {\"x0\": 0.7171717171717173, \"f\": 0.8993187707264009}, {\"x0\": 0.7373737373737375, \"f\": 0.9115584680321148}, {\"x0\": 0.7575757575757578, \"f\": 0.9313642925446991}, {\"x0\": 0.7777777777777779, \"f\": 0.940000065322087}, {\"x0\": 0.7979797979797982, \"f\": 0.946346063998617}, {\"x0\": 0.8181818181818183, \"f\": 0.9551656567356539}, {\"x0\": 0.8383838383838385, \"f\": 0.9657492585556119}, {\"x0\": 0.8585858585858588, \"f\": 0.9802520523475088}, {\"x0\": 0.8787878787878789, \"f\": 0.9939950894243833}, {\"x0\": 0.8989898989898992, \"f\": 0.9990495944915473}, {\"x0\": 0.9191919191919193, \"f\": 0.9856098940187242}, {\"x0\": 0.9393939393939394, \"f\": 0.9576419117260466}, {\"x0\": 0.9595959595959598, \"f\": 0.9138492721150964}, {\"x0\": 0.9797979797979799, \"f\": 0.8531632386781386}, {\"x0\": 1.0, \"f\": 0.7877102347736238}]}}, {\"mode\": \"vega-lite\"});\n",
       "</script>"
      ],
      "text/plain": [
       "alt.LayerChart(...)"
      ]
     },
     "execution_count": 13,
     "metadata": {},
     "output_type": "execute_result"
    }
   ],
   "source": [
    "f1 = blackbox1.sample_f(100)\n",
    "chart1f = (\n",
    "    alt.Chart(f1)\n",
    "    .mark_line()\n",
    "    .encode(x='x0', y='f'))\n",
    "chart1y = blackbox1.plot_xy()\n",
    "chart1 = alt.layer(chart1y, chart1f)\n",
    "chart1.properties(width=800, height=300)"
   ]
  },
  {
   "cell_type": "markdown",
   "metadata": {},
   "source": [
    "### Bayesian optimisation for 1-dimensional input\n",
    "Now we will try Bayesian optimisation using the [Trieste](https://secondmind-labs.github.io/trieste/) package which uses [GPflow](https://gpflow.readthedocs.io/en/master/) for Gaussian process regression.\n",
    "This section is based on the Trieste tutorial."
   ]
  },
  {
   "cell_type": "code",
   "execution_count": 14,
   "metadata": {},
   "outputs": [],
   "source": [
    "model1 = gpflow.models.GPR((f1['x0'].to_numpy().reshape((-1, 1)), f1['f'].to_numpy().reshape((-1, 1))),\n",
    "                           kernel=gpflow.kernels.Matern52(lengthscales=.4),\n",
    "                           noise_variance=1.1e-6)\n",
    "\n",
    "def blackbox_bo1(x):\n",
    "    mean, var = model1.predict_y(tf.reshape(x, (-1, 1)))\n",
    "    return - bb.rng.normal(loc=mean, scale=np.sqrt(blackbox1.noise_variance))"
   ]
  },
  {
   "cell_type": "code",
   "execution_count": 15,
   "metadata": {},
   "outputs": [],
   "source": [
    "from dataclasses import astuple\n",
    "\n",
    "import gpflow\n",
    "from gpflow.utilities import print_summary, set_trainable\n",
    "import numpy as np\n",
    "import tensorflow as tf\n",
    "\n",
    "import trieste\n",
    "from trieste.bayesian_optimizer import OptimizationResult\n",
    "from trieste.utils.objectives import branin, mk_observer\n",
    "from trieste.acquisition.rule import OBJECTIVE"
   ]
  },
  {
   "cell_type": "markdown",
   "metadata": {},
   "source": [
    "#### Initial sample over search space"
   ]
  },
  {
   "cell_type": "code",
   "execution_count": 16,
   "metadata": {},
   "outputs": [],
   "source": [
    "observer = mk_observer(blackbox_bo1, OBJECTIVE)\n",
    "lower_bound = tf.cast([bb.DOMAIN_MIN], gpflow.default_float())\n",
    "upper_bound = tf.cast([bb.DOMAIN_MAX], gpflow.default_float())\n",
    "search_space = trieste.space.Box(lower_bound, upper_bound)\n",
    "\n",
    "num_initial_points = 5\n",
    "initial_query_points = search_space.sample(num_initial_points)\n",
    "initial_data = observer(initial_query_points)"
   ]
  },
  {
   "cell_type": "markdown",
   "metadata": {},
   "source": [
    "#### Model the objective function"
   ]
  },
  {
   "cell_type": "code",
   "execution_count": 33,
   "metadata": {},
   "outputs": [
    {
     "name": "stdout",
     "output_type": "stream",
     "text": [
      "╒═════════════════════════╤═══════════╤══════════════════╤═════════╤═════════════╤═════════╤═════════╤═════════════════════╕\n",
      "│ name                    │ class     │ transform        │ prior   │ trainable   │ shape   │ dtype   │ value               │\n",
      "╞═════════════════════════╪═══════════╪══════════════════╪═════════╪═════════════╪═════════╪═════════╪═════════════════════╡\n",
      "│ GPR.kernel.variance     │ Parameter │ Softplus         │         │ True        │ ()      │ float64 │ 1.0                 │\n",
      "├─────────────────────────┼───────────┼──────────────────┼─────────┼─────────────┼─────────┼─────────┼─────────────────────┤\n",
      "│ GPR.kernel.lengthscales │ Parameter │ Softplus         │         │ False       │ (1,)    │ float64 │ [0.40000001]        │\n",
      "├─────────────────────────┼───────────┼──────────────────┼─────────┼─────────────┼─────────┼─────────┼─────────────────────┤\n",
      "│ GPR.likelihood.variance │ Parameter │ Softplus + Shift │         │ False       │ ()      │ float64 │ 0.16000000000000003 │\n",
      "╘═════════════════════════╧═══════════╧══════════════════╧═════════╧═════════════╧═════════╧═════════╧═════════════════════╛\n"
     ]
    }
   ],
   "source": [
    "kernel = gpflow.kernels.Matern52(lengthscales=0.4 * tf.ones(1,))\n",
    "objective_model = gpflow.models.GPR(astuple(initial_data[OBJECTIVE]),\n",
    "                                    kernel=kernel,\n",
    "                                    noise_variance=blackbox1.noise_variance)\n",
    "set_trainable(objective_model.kernel.lengthscales, False)\n",
    "set_trainable(objective_model.likelihood, False)\n",
    "print_summary(objective_model)"
   ]
  },
  {
   "cell_type": "code",
   "execution_count": 34,
   "metadata": {},
   "outputs": [],
   "source": [
    "model = {OBJECTIVE: trieste.models.create_model_interface(\n",
    "    {\n",
    "        \"model\": objective_model,\n",
    "        \"optimizer\": gpflow.optimizers.Scipy(),\n",
    "        \"optimizer_args\": {\"options\": dict(maxiter=100)},\n",
    "    }\n",
    ")}"
   ]
  },
  {
   "cell_type": "markdown",
   "metadata": {},
   "source": [
    "#### Optimisation loop"
   ]
  },
  {
   "cell_type": "code",
   "execution_count": 35,
   "metadata": {},
   "outputs": [],
   "source": [
    "bo = trieste.bayesian_optimizer.BayesianOptimizer(observer, search_space)\n",
    "result: OptimizationResult = bo.optimize(15, initial_data, model)\n",
    "if result.error is not None:\n",
    "    raise result.error\n",
    "dataset = result.datasets[OBJECTIVE]"
   ]
  },
  {
   "cell_type": "markdown",
   "metadata": {},
   "source": [
    "#### Explore results\n",
    "First use the optimiser's model to predict the underlying function, `f`, with uncertainty."
   ]
  },
  {
   "cell_type": "code",
   "execution_count": 36,
   "metadata": {},
   "outputs": [],
   "source": [
    "mean, var = model[OBJECTIVE].model.predict_f(f1['x0'].to_numpy().reshape((-1, 1)))\n",
    "bo_f1 = pd.DataFrame(dict(x0=f1['x0'],\n",
    "                          f=- mean.numpy()[:, 0],\n",
    "                          sd=np.sqrt(var.numpy()[:, 0])))"
   ]
  },
  {
   "cell_type": "markdown",
   "metadata": {},
   "source": [
    "Next retrieve the evaluations the optimiser received from the black box."
   ]
  },
  {
   "cell_type": "code",
   "execution_count": 37,
   "metadata": {},
   "outputs": [],
   "source": [
    "observations = pd.DataFrame(dict(x0=dataset.query_points.numpy()[:, 0],\n",
    "                                 y=- dataset.observations.numpy()[:, 0]))"
   ]
  },
  {
   "cell_type": "markdown",
   "metadata": {},
   "source": [
    "Now plot the optimiser's estimate of the underlying function in green (with error bars +/- two standard deviations),\n",
    "the black box evaluations in red and the true underlying function in blue."
   ]
  },
  {
   "cell_type": "code",
   "execution_count": 38,
   "metadata": {},
   "outputs": [
    {
     "data": {
      "text/html": [
       "\n",
       "<div id=\"altair-viz-3d93fa603cf84e3dbebfbc741a20159c\"></div>\n",
       "<script type=\"text/javascript\">\n",
       "  (function(spec, embedOpt){\n",
       "    let outputDiv = document.currentScript.previousElementSibling;\n",
       "    if (outputDiv.id !== \"altair-viz-3d93fa603cf84e3dbebfbc741a20159c\") {\n",
       "      outputDiv = document.getElementById(\"altair-viz-3d93fa603cf84e3dbebfbc741a20159c\");\n",
       "    }\n",
       "    const paths = {\n",
       "      \"vega\": \"https://cdn.jsdelivr.net/npm//vega@5?noext\",\n",
       "      \"vega-lib\": \"https://cdn.jsdelivr.net/npm//vega-lib?noext\",\n",
       "      \"vega-lite\": \"https://cdn.jsdelivr.net/npm//vega-lite@4.8.1?noext\",\n",
       "      \"vega-embed\": \"https://cdn.jsdelivr.net/npm//vega-embed@6?noext\",\n",
       "    };\n",
       "\n",
       "    function loadScript(lib) {\n",
       "      return new Promise(function(resolve, reject) {\n",
       "        var s = document.createElement('script');\n",
       "        s.src = paths[lib];\n",
       "        s.async = true;\n",
       "        s.onload = () => resolve(paths[lib]);\n",
       "        s.onerror = () => reject(`Error loading script: ${paths[lib]}`);\n",
       "        document.getElementsByTagName(\"head\")[0].appendChild(s);\n",
       "      });\n",
       "    }\n",
       "\n",
       "    function showError(err) {\n",
       "      outputDiv.innerHTML = `<div class=\"error\" style=\"color:red;\">${err}</div>`;\n",
       "      throw err;\n",
       "    }\n",
       "\n",
       "    function displayChart(vegaEmbed) {\n",
       "      vegaEmbed(outputDiv, spec, embedOpt)\n",
       "        .catch(err => showError(`Javascript Error: ${err.message}<br>This usually means there's a typo in your chart specification. See the javascript console for the full traceback.`));\n",
       "    }\n",
       "\n",
       "    if(typeof define === \"function\" && define.amd) {\n",
       "      requirejs.config({paths});\n",
       "      require([\"vega-embed\"], displayChart, err => showError(`Error loading script: ${err.message}`));\n",
       "    } else if (typeof vegaEmbed === \"function\") {\n",
       "      displayChart(vegaEmbed);\n",
       "    } else {\n",
       "      loadScript(\"vega\")\n",
       "        .then(() => loadScript(\"vega-lite\"))\n",
       "        .then(() => loadScript(\"vega-embed\"))\n",
       "        .catch(showError)\n",
       "        .then(() => displayChart(vegaEmbed));\n",
       "    }\n",
       "  })({\"config\": {\"view\": {\"continuousWidth\": 400, \"continuousHeight\": 300}}, \"layer\": [{\"data\": {\"name\": \"data-bbabbe885bc31c5fa644731f14ab2091\"}, \"mark\": {\"type\": \"circle\", \"color\": \"red\", \"size\": 60}, \"encoding\": {\"x\": {\"type\": \"quantitative\", \"field\": \"x0\"}, \"y\": {\"type\": \"quantitative\", \"field\": \"y\"}}}, {\"data\": {\"name\": \"data-5831ac9028ee1f672df821a7292d70c8\"}, \"mark\": {\"type\": \"errorbar\", \"color\": \"green\"}, \"encoding\": {\"x\": {\"type\": \"quantitative\", \"field\": \"x0\"}, \"y\": {\"type\": \"quantitative\", \"field\": \"fmin\"}, \"y2\": {\"field\": \"fmax\"}}}, {\"data\": {\"name\": \"data-5ceea3f4dc96229b1ad72498ab889120\"}, \"mark\": {\"type\": \"line\", \"color\": \"green\"}, \"encoding\": {\"x\": {\"type\": \"quantitative\", \"field\": \"x0\"}, \"y\": {\"type\": \"quantitative\", \"field\": \"f\"}}}, {\"data\": {\"name\": \"data-2d1e0543ca9f74f54712317b04f5767b\"}, \"mark\": \"line\", \"encoding\": {\"x\": {\"type\": \"quantitative\", \"field\": \"x0\"}, \"y\": {\"type\": \"quantitative\", \"field\": \"f\"}}}], \"height\": 300, \"width\": 800, \"$schema\": \"https://vega.github.io/schema/vega-lite/v4.8.1.json\", \"datasets\": {\"data-bbabbe885bc31c5fa644731f14ab2091\": [{\"x0\": 0.06493078219489723, \"y\": -0.31212858443803077}, {\"x0\": -0.173853386605197, \"y\": 0.14512659985938536}, {\"x0\": -0.14384289639978887, \"y\": -0.3481663812972804}, {\"x0\": 0.13298512780497074, \"y\": 1.297483876438155}, {\"x0\": 0.6008506430501694, \"y\": 1.0668288612350614}, {\"x0\": 0.4085450129686763, \"y\": 1.3338096981788956}, {\"x0\": 0.4273041686248157, \"y\": 0.3987655871552175}, {\"x0\": 0.5464211057303071, \"y\": 1.0980378674513056}, {\"x0\": 0.6243289423683602, \"y\": 0.2351677600385711}, {\"x0\": 0.3873964504178603, \"y\": 0.041111480628607366}, {\"x0\": 0.5152795265946297, \"y\": 1.6924885376879986}, {\"x0\": 0.5298658720559366, \"y\": 0.618460180092689}, {\"x0\": 0.5214677241390824, \"y\": 0.6681820705153743}, {\"x0\": 0.5171546042056968, \"y\": 0.892236643658458}, {\"x0\": 0.5176379814371022, \"y\": 0.6674921031816394}, {\"x0\": 0.5142004094574733, \"y\": 0.4891953004564843}, {\"x0\": 0.5088995915990591, \"y\": 0.5685828857206897}, {\"x0\": 0.511644749458505, \"y\": 0.9161151904502367}, {\"x0\": 0.5137191846625165, \"y\": 1.5941792646072572}, {\"x0\": 0.5274923541025962, \"y\": 1.3232918055786385}], \"data-5831ac9028ee1f672df821a7292d70c8\": [{\"x0\": -1.0, \"f\": -0.02115080205247611, \"sd\": 0.5566506481546838, \"fmin\": -1.1344520983618438, \"fmax\": 1.0921504942568914}, {\"x0\": -0.9797979797979798, \"f\": -0.02277406158006857, \"sd\": 0.5560784163413841, \"fmin\": -1.1349308942628369, \"fmax\": 1.0893827711026995}, {\"x0\": -0.9595959595959596, \"f\": -0.024502163321911012, \"sd\": 0.5554178828068305, \"fmin\": -1.1353379289355718, \"fmax\": 1.08633360229175}, {\"x0\": -0.9393939393939394, \"f\": -0.026339248408057396, \"sd\": 0.554656645318396, \"fmin\": -1.1356525390448493, \"fmax\": 1.0829740422287346}, {\"x0\": -0.9191919191919192, \"f\": -0.02828922150597519, \"sd\": 0.5537808051029168, \"fmin\": -1.1358508317118088, \"fmax\": 1.0792723886998585}, {\"x0\": -0.898989898989899, \"f\": -0.030355667597868962, \"sd\": 0.552774834935281, \"fmin\": -1.135905337468431, \"fmax\": 1.0751940022726931}, {\"x0\": -0.8787878787878788, \"f\": -0.032541756125222636, \"sd\": 0.5516214455831333, \"fmin\": -1.1357846472914892, \"fmax\": 1.070701135041044}, {\"x0\": -0.8585858585858586, \"f\": -0.034850131134164526, \"sd\": 0.5503014531236804, \"fmin\": -1.1354530373815253, \"fmax\": 1.0657527751131963}, {\"x0\": -0.8383838383838383, \"f\": -0.03728278596467035, \"sd\": 0.5487936503089705, \"fmin\": -1.1348700865826113, \"fmax\": 1.0603045146532708}, {\"x0\": -0.8181818181818181, \"f\": -0.03984092094053784, \"sd\": 0.5470746859201338, \"fmin\": -1.1339902927808054, \"fmax\": 1.0543084508997296}, {\"x0\": -0.797979797979798, \"f\": -0.04252478243865576, \"sd\": 0.5451189569300549, \"fmin\": -1.1327626962987654, \"fmax\": 1.047713131421454}, {\"x0\": -0.7777777777777778, \"f\": -0.04533348164933552, \"sd\": 0.5428985193001049, \"fmin\": -1.1311305202495454, \"fmax\": 1.0404635569508742}, {\"x0\": -0.7575757575757576, \"f\": -0.04826479128921904, \"sd\": 0.5403830243836087, \"fmin\": -1.1290308400564366, \"fmax\": 1.0325012574779984}, {\"x0\": -0.7373737373737373, \"f\": -0.051314918500615675, \"sd\": 0.5375396892122504, \"fmin\": -1.1263942969251164, \"fmax\": 1.023764459923885}, {\"x0\": -0.7171717171717171, \"f\": -0.05447825217333202, \"sd\": 0.5343333104194302, \"fmin\": -1.1231448730121925, \"fmax\": 1.0141883686655284}, {\"x0\": -0.696969696969697, \"f\": -0.057747082966170794, \"sd\": 0.5307263332273403, \"fmin\": -1.1191997494208514, \"fmax\": 1.0037055834885098}, {\"x0\": -0.6767676767676767, \"f\": -0.061111294396027735, \"sd\": 0.5266789888161992, \"fmin\": -1.1144692720284262, \"fmax\": 0.9922466832363708}, {\"x0\": -0.6565656565656566, \"f\": -0.064558023516029, \"sd\": 0.5221495155326649, \"fmin\": -1.1088570545813587, \"fmax\": 0.9797410075493007}, {\"x0\": -0.6363636363636364, \"f\": -0.06807128993603023, \"sd\": 0.517094481812254, \"fmin\": -1.1022602535605384, \"fmax\": 0.9661176736884778}, {\"x0\": -0.6161616161616161, \"f\": -0.07163159226780391, \"sd\": 0.5114692314245103, \"fmin\": -1.0945700551168245, \"fmax\": 0.9513068705812167}, {\"x0\": -0.5959595959595959, \"f\": -0.0752154715257735, \"sd\": 0.5052284747403236, \"fmin\": -1.0856724210064208, \"fmax\": 0.9352414779548738}, {\"x0\": -0.5757575757575757, \"f\": -0.07879504160875986, \"sd\": 0.49832705321030035, \"fmin\": -1.0754491480293606, \"fmax\": 0.9178590648118409}, {\"x0\": -0.5555555555555556, \"f\": -0.08233748776056919, \"sd\": 0.4907209081692852, \"fmin\": -1.0637793040991397, \"fmax\": 0.8991043285780013}, {\"x0\": -0.5353535353535352, \"f\": -0.08580453489477517, \"sd\": 0.48236828946667454, \"fmin\": -1.0505411138281242, \"fmax\": 0.878932044038574}, {\"x0\": -0.5151515151515151, \"f\": -0.089151888916009, \"sd\": 0.4732312442464437, \"fmin\": -1.0356143774088964, \"fmax\": 0.8573105995768784}, {\"x0\": -0.4949494949494949, \"f\": -0.09232865572870493, \"sd\": 0.46327743135956484, \"fmin\": -1.0188835184478346, \"fmax\": 0.8342262069904247}, {\"x0\": -0.4747474747474747, \"f\": -0.09527674455612599, \"sd\": 0.45248231210493856, \"fmin\": -1.000241368766003, \"fmax\": 0.8096878796537511}, {\"x0\": -0.4545454545454545, \"f\": -0.09793026456993172, \"sd\": 0.4408317726452552, \"fmin\": -0.9795938098604421, \"fmax\": 0.7837332807205787}, {\"x0\": -0.43434343434343425, \"f\": -0.1002149267386345, \"sd\": 0.42832523627550284, \"fmin\": -0.9568653992896402, \"fmax\": 0.7564355458123712}, {\"x0\": -0.41414141414141414, \"f\": -0.10204746634160788, \"sd\": 0.4149793222985784, \"fmin\": -0.9320061109387647, \"fmax\": 0.727911178255549}, {\"x0\": -0.3939393939393939, \"f\": -0.10333510588066677, \"sd\": 0.4008320980107615, \"fmin\": -0.9049993019021897, \"fmax\": 0.6983290901408562}, {\"x0\": -0.3737373737373737, \"f\": -0.1039750832901648, \"sd\": 0.3859479428600256, \"fmin\": -0.875870969010216, \"fmax\": 0.6679208024298864}, {\"x0\": -0.3535353535353535, \"f\": -0.10385427655858805, \"sd\": 0.3704229843647727, \"fmin\": -0.8447002452881335, \"fmax\": 0.6369916921709574}, {\"x0\": -0.33333333333333326, \"f\": -0.10284896331600213, \"sd\": 0.354390948448597, \"fmin\": -0.8116308602131961, \"fmax\": 0.6059329335811918}, {\"x0\": -0.31313131313131304, \"f\": -0.1008247628294488, \"sd\": 0.3380290512319797, \"fmin\": -0.7768828652934081, \"fmax\": 0.5752333396345106}, {\"x0\": -0.2929292929292928, \"f\": -0.09763681843548913, \"sd\": 0.321563183948945, \"fmin\": -0.7407631863333791, \"fmax\": 0.5454895494624009}, {\"x0\": -0.2727272727272727, \"f\": -0.0931302910196043, \"sd\": 0.30527103175916814, \"fmin\": -0.7036723545379406, \"fmax\": 0.5174117724987319}, {\"x0\": -0.2525252525252525, \"f\": -0.08714124906839645, \"sd\": 0.28948086477453505, \"fmin\": -0.6661029786174666, \"fmax\": 0.49182048048067367}, {\"x0\": -0.23232323232323226, \"f\": -0.07949805846972556, \"sd\": 0.27456261057230846, \"fmin\": -0.6286232796143425, \"fmax\": 0.46962716267489135}, {\"x0\": -0.21212121212121204, \"f\": -0.07002339607949387, \"sd\": 0.26090685529109786, \"fmin\": -0.5918371066616896, \"fmax\": 0.45179031450270185}, {\"x0\": -0.19191919191919182, \"f\": -0.058537035646674854, \"sd\": 0.24888761482552113, \"fmin\": -0.5563122652977172, \"fmax\": 0.4392381940043674}, {\"x0\": -0.1717171717171716, \"f\": -0.044859583614728686, \"sd\": 0.23880765244901994, \"fmin\": -0.5224748885127686, \"fmax\": 0.4327557212833112}, {\"x0\": -0.1515151515151515, \"f\": -0.028817883710974178, \"sd\": 0.2308326140799434, \"fmin\": -0.49048311187086097, \"fmax\": 0.43284734444891265}, {\"x0\": -0.13131313131313127, \"f\": -0.010261488796883059, \"sd\": 0.22493991719836876, \"fmin\": -0.46014132319362056, \"fmax\": 0.43961834559985447}, {\"x0\": -0.11111111111111105, \"f\": 0.010904196491507232, \"sd\": 0.22091572691674036, \"fmin\": -0.43092725734197346, \"fmax\": 0.45273565032498797}, {\"x0\": -0.09090909090909083, \"f\": 0.03470522678824473, \"sd\": 0.2184056325005204, \"fmin\": -0.40210603821279606, \"fmax\": 0.4715164917892855}, {\"x0\": -0.07070707070707061, \"f\": 0.06110665236032554, \"sd\": 0.21699583113605392, \"fmin\": -0.3728850099117823, \"fmax\": 0.49509831463243337}, {\"x0\": -0.050505050505050386, \"f\": 0.09001904312395911, \"sd\": 0.21629018328332889, \"fmin\": -0.34256132344269863, \"fmax\": 0.5225994096906169}, {\"x0\": -0.030303030303030276, \"f\": 0.12130173066527958, \"sd\": 0.21596684338430808, \"fmin\": -0.3106319561033366, \"fmax\": 0.5532354174338957}, {\"x0\": -0.010101010101010055, \"f\": 0.15476298699495, \"sd\": 0.2158090301966822, \"fmin\": -0.2768550733984144, \"fmax\": 0.5863810473883144}, {\"x0\": 0.010101010101010166, \"f\": 0.19015727584354203, \"sd\": 0.21571116183364986, \"fmin\": -0.24126504782375768, \"fmax\": 0.6215795995108417}, {\"x0\": 0.030303030303030498, \"f\": 0.2271796300787001, \"sd\": 0.21566424509715107, \"fmin\": -0.20414886011560204, \"fmax\": 0.6585081202730022}, {\"x0\": 0.05050505050505061, \"f\": 0.2654571295966428, \"sd\": 0.21572466066649856, \"fmin\": -0.16599219173635432, \"fmax\": 0.6969064509296399}, {\"x0\": 0.07070707070707072, \"f\": 0.30453737792071583, \"sd\": 0.21597049991891412, \"fmin\": -0.1274036219171124, \"fmax\": 0.7364783777585441}, {\"x0\": 0.09090909090909105, \"f\": 0.3438771957778846, \"sd\": 0.21645179522970376, \"fmin\": -0.0890263946815229, \"fmax\": 0.7767807862372922}, {\"x0\": 0.11111111111111116, \"f\": 0.3828682024691267, \"sd\": 0.21715402803840053, \"fmin\": -0.05143985360767439, \"fmax\": 0.8171762585459277}, {\"x0\": 0.1313131313131315, \"f\": 0.42092000661638307, \"sd\": 0.21798608022148772, \"fmin\": -0.015052153826592363, \"fmax\": 0.8568921670593586}, {\"x0\": 0.1515151515151516, \"f\": 0.457557356065578, \"sd\": 0.21877683082162971, \"fmin\": 0.020003694422318585, \"fmax\": 0.8951110177088375}, {\"x0\": 0.1717171717171717, \"f\": 0.4924922750447668, \"sd\": 0.21928267560878642, \"fmin\": 0.05392692382719394, \"fmax\": 0.9310576262623396}, {\"x0\": 0.19191919191919204, \"f\": 0.5256128975454367, \"sd\": 0.21921940640613374, \"fmin\": 0.08717408473316923, \"fmax\": 0.9640517103577042}, {\"x0\": 0.21212121212121215, \"f\": 0.5569383890578922, \"sd\": 0.21830151041227575, \"fmin\": 0.12033536823334068, \"fmax\": 0.9935414098824437}, {\"x0\": 0.2323232323232325, \"f\": 0.5865787160160271, \"sd\": 0.21627460034384388, \"fmin\": 0.1540295153283393, \"fmax\": 1.0191279167037148}, {\"x0\": 0.2525252525252526, \"f\": 0.614699864830006, \"sd\": 0.212938950213729, \"fmin\": 0.18882196440254806, \"fmax\": 1.040577765257464}, {\"x0\": 0.27272727272727293, \"f\": 0.6414931897464086, \"sd\": 0.20816470861313627, \"fmin\": 0.22516377252013603, \"fmax\": 1.057822606972681}, {\"x0\": 0.29292929292929304, \"f\": 0.667147696010955, \"sd\": 0.20190028536113944, \"fmin\": 0.26334712528867615, \"fmax\": 1.070948266733234}, {\"x0\": 0.31313131313131315, \"f\": 0.691824161670106, \"sd\": 0.19417550876595985, \"fmin\": 0.30347314413818627, \"fmax\": 1.0801751792020258}, {\"x0\": 0.3333333333333335, \"f\": 0.715630070156924, \"sd\": 0.18510088237938405, \"fmin\": 0.34542830539815594, \"fmax\": 1.0858318349156921}, {\"x0\": 0.3535353535353536, \"f\": 0.7385943682947601, \"sd\": 0.17486402444673002, \"fmin\": 0.38886631940130006, \"fmax\": 1.0883224171882202}, {\"x0\": 0.3737373737373739, \"f\": 0.7606410816919887, \"sd\": 0.1637244918129098, \"fmin\": 0.43319209806616915, \"fmax\": 1.0880900653178083}, {\"x0\": 0.39393939393939403, \"f\": 0.7815608165174831, \"sd\": 0.15200904204078935, \"fmin\": 0.4775427324359044, \"fmax\": 1.085578900599062}, {\"x0\": 0.41414141414141437, \"f\": 0.8009838951814197, \"sd\": 0.14011236282387873, \"fmin\": 0.5207591695336622, \"fmax\": 1.0812086208291771}, {\"x0\": 0.4343434343434345, \"f\": 0.8183977508592996, \"sd\": 0.128520370104124, \"fmin\": 0.5613570106510515, \"fmax\": 1.0754384910675476}, {\"x0\": 0.4545454545454546, \"f\": 0.8331995731219436, \"sd\": 0.1178734266030948, \"fmin\": 0.597452719915754, \"fmax\": 1.0689464263281332}, {\"x0\": 0.4747474747474749, \"f\": 0.8447392690083325, \"sd\": 0.10905331140425714, \"fmin\": 0.6266326461998182, \"fmax\": 1.0628458918168469}, {\"x0\": 0.49494949494949503, \"f\": 0.8523909668724345, \"sd\": 0.10320880603356007, \"fmin\": 0.6459733548053144, \"fmax\": 1.0588085789395547}, {\"x0\": 0.5151515151515154, \"f\": 0.855636299114292, \"sd\": 0.10156328618140255, \"fmin\": 0.6525097267514869, \"fmax\": 1.0587628714770971}, {\"x0\": 0.5353535353535355, \"f\": 0.8541550186631311, \"sd\": 0.1049418802467133, \"fmin\": 0.6442712581697045, \"fmax\": 1.0640387791565578}, {\"x0\": 0.5555555555555556, \"f\": 0.8478964768673299, \"sd\": 0.11334990057041888, \"fmin\": 0.6211966757264922, \"fmax\": 1.0745962780081677}, {\"x0\": 0.5757575757575759, \"f\": 0.8370708400954622, \"sd\": 0.1260721859759271, \"fmin\": 0.5849264681436079, \"fmax\": 1.0892152120473164}, {\"x0\": 0.595959595959596, \"f\": 0.8220915861424791, \"sd\": 0.14212226035108003, \"fmin\": 0.5378470654403191, \"fmax\": 1.1063361068446391}, {\"x0\": 0.6161616161616164, \"f\": 0.803505498976859, \"sd\": 0.16058093845163293, \"fmin\": 0.4823436220735931, \"fmax\": 1.1246673758801249}, {\"x0\": 0.6363636363636365, \"f\": 0.7819221190743055, \"sd\": 0.18069766622643763, \"fmin\": 0.4205267866214303, \"fmax\": 1.1433174515271807}, {\"x0\": 0.6565656565656568, \"f\": 0.757932916643751, \"sd\": 0.2018723881895641, \"fmin\": 0.35418814026462275, \"fmax\": 1.1616776930228792}, {\"x0\": 0.6767676767676769, \"f\": 0.7320685157365874, \"sd\": 0.22362110102802035, \"fmin\": 0.28482631368054667, \"fmax\": 1.179310717792628}, {\"x0\": 0.696969696969697, \"f\": 0.7047981447087783, \"sd\": 0.245551858519371, \"fmin\": 0.21369442767003632, \"fmax\": 1.1959018617475203}, {\"x0\": 0.7171717171717173, \"f\": 0.6765340747561707, \"sd\": 0.26734718649455613, \"fmin\": 0.1418397017670584, \"fmax\": 1.2112284477452828}, {\"x0\": 0.7373737373737375, \"f\": 0.6476360976417487, \"sd\": 0.28875131340684945, \"fmin\": 0.07013347082804977, \"fmax\": 1.2251387244554475}, {\"x0\": 0.7575757575757578, \"f\": 0.6184159460772165, \"sd\": 0.30956070562113686, \"fmin\": -0.0007054651650572064, \"fmax\": 1.23753735731949}, {\"x0\": 0.7777777777777779, \"f\": 0.5891415913028843, \"sd\": 0.3296166508004463, \"fmin\": -0.0700917102980082, \"fmax\": 1.2483748929037768}, {\"x0\": 0.7979797979797982, \"f\": 0.5600413698886273, \"sd\": 0.3487990978253309, \"fmin\": -0.13755682576203454, \"fmax\": 1.2576395655392891}, {\"x0\": 0.8181818181818183, \"f\": 0.5313079059671018, \"sd\": 0.367021311470175, \"fmin\": -0.2027347169732483, \"fmax\": 1.2653505289074518}, {\"x0\": 0.8383838383838385, \"f\": 0.5031018065442485, \"sd\": 0.3842251125557897, \"fmin\": -0.26534841856733093, \"fmax\": 1.271552031655828}, {\"x0\": 0.8585858585858588, \"f\": 0.47555511666685135, \"sd\": 0.4003765901614171, \"fmin\": -0.3251980636559828, \"fmax\": 1.2763082969896855}, {\"x0\": 0.8787878787878789, \"f\": 0.44877452844914656, \"sd\": 0.4154622304864757, \"fmin\": -0.3821499325238048, \"fmax\": 1.2796989894220978}, {\"x0\": 0.8989898989898992, \"f\": 0.42284434359752093, \"sd\": 0.4294854331609485, \"fmin\": -0.4361265227243761, \"fmax\": 1.281815209919418}, {\"x0\": 0.9191919191919193, \"f\": 0.3978291934012111, \"sd\": 0.44246339568145215, \"fmin\": -0.4870975979616932, \"fmax\": 1.2827559847641155}, {\"x0\": 0.9393939393939394, \"f\": 0.3737765234109086, \"sd\": 0.4544243487926767, \"fmin\": -0.5350721741744447, \"fmax\": 1.282625220996262}, {\"x0\": 0.9595959595959598, \"f\": 0.3507188524032901, \"sd\": 0.4654051245868117, \"fmin\": -0.5800913967703334, \"fmax\": 1.2815291015769135}, {\"x0\": 0.9797979797979799, \"f\": 0.3286758168925788, \"sd\": 0.47544903713630493, \"fmin\": -0.6222222573800311, \"fmax\": 1.2795738911651886}, {\"x0\": 1.0, \"f\": 0.30765601353874017, \"sd\": 0.48460405366336484, \"fmin\": -0.6615520937879895, \"fmax\": 1.2768641208654699}], \"data-5ceea3f4dc96229b1ad72498ab889120\": [{\"x0\": -1.0, \"f\": -0.02115080205247611, \"sd\": 0.5566506481546838}, {\"x0\": -0.9797979797979798, \"f\": -0.02277406158006857, \"sd\": 0.5560784163413841}, {\"x0\": -0.9595959595959596, \"f\": -0.024502163321911012, \"sd\": 0.5554178828068305}, {\"x0\": -0.9393939393939394, \"f\": -0.026339248408057396, \"sd\": 0.554656645318396}, {\"x0\": -0.9191919191919192, \"f\": -0.02828922150597519, \"sd\": 0.5537808051029168}, {\"x0\": -0.898989898989899, \"f\": -0.030355667597868962, \"sd\": 0.552774834935281}, {\"x0\": -0.8787878787878788, \"f\": -0.032541756125222636, \"sd\": 0.5516214455831333}, {\"x0\": -0.8585858585858586, \"f\": -0.034850131134164526, \"sd\": 0.5503014531236804}, {\"x0\": -0.8383838383838383, \"f\": -0.03728278596467035, \"sd\": 0.5487936503089705}, {\"x0\": -0.8181818181818181, \"f\": -0.03984092094053784, \"sd\": 0.5470746859201338}, {\"x0\": -0.797979797979798, \"f\": -0.04252478243865576, \"sd\": 0.5451189569300549}, {\"x0\": -0.7777777777777778, \"f\": -0.04533348164933552, \"sd\": 0.5428985193001049}, {\"x0\": -0.7575757575757576, \"f\": -0.04826479128921904, \"sd\": 0.5403830243836087}, {\"x0\": -0.7373737373737373, \"f\": -0.051314918500615675, \"sd\": 0.5375396892122504}, {\"x0\": -0.7171717171717171, \"f\": -0.05447825217333202, \"sd\": 0.5343333104194302}, {\"x0\": -0.696969696969697, \"f\": -0.057747082966170794, \"sd\": 0.5307263332273403}, {\"x0\": -0.6767676767676767, \"f\": -0.061111294396027735, \"sd\": 0.5266789888161992}, {\"x0\": -0.6565656565656566, \"f\": -0.064558023516029, \"sd\": 0.5221495155326649}, {\"x0\": -0.6363636363636364, \"f\": -0.06807128993603023, \"sd\": 0.517094481812254}, {\"x0\": -0.6161616161616161, \"f\": -0.07163159226780391, \"sd\": 0.5114692314245103}, {\"x0\": -0.5959595959595959, \"f\": -0.0752154715257735, \"sd\": 0.5052284747403236}, {\"x0\": -0.5757575757575757, \"f\": -0.07879504160875986, \"sd\": 0.49832705321030035}, {\"x0\": -0.5555555555555556, \"f\": -0.08233748776056919, \"sd\": 0.4907209081692852}, {\"x0\": -0.5353535353535352, \"f\": -0.08580453489477517, \"sd\": 0.48236828946667454}, {\"x0\": -0.5151515151515151, \"f\": -0.089151888916009, \"sd\": 0.4732312442464437}, {\"x0\": -0.4949494949494949, \"f\": -0.09232865572870493, \"sd\": 0.46327743135956484}, {\"x0\": -0.4747474747474747, \"f\": -0.09527674455612599, \"sd\": 0.45248231210493856}, {\"x0\": -0.4545454545454545, \"f\": -0.09793026456993172, \"sd\": 0.4408317726452552}, {\"x0\": -0.43434343434343425, \"f\": -0.1002149267386345, \"sd\": 0.42832523627550284}, {\"x0\": -0.41414141414141414, \"f\": -0.10204746634160788, \"sd\": 0.4149793222985784}, {\"x0\": -0.3939393939393939, \"f\": -0.10333510588066677, \"sd\": 0.4008320980107615}, {\"x0\": -0.3737373737373737, \"f\": -0.1039750832901648, \"sd\": 0.3859479428600256}, {\"x0\": -0.3535353535353535, \"f\": -0.10385427655858805, \"sd\": 0.3704229843647727}, {\"x0\": -0.33333333333333326, \"f\": -0.10284896331600213, \"sd\": 0.354390948448597}, {\"x0\": -0.31313131313131304, \"f\": -0.1008247628294488, \"sd\": 0.3380290512319797}, {\"x0\": -0.2929292929292928, \"f\": -0.09763681843548913, \"sd\": 0.321563183948945}, {\"x0\": -0.2727272727272727, \"f\": -0.0931302910196043, \"sd\": 0.30527103175916814}, {\"x0\": -0.2525252525252525, \"f\": -0.08714124906839645, \"sd\": 0.28948086477453505}, {\"x0\": -0.23232323232323226, \"f\": -0.07949805846972556, \"sd\": 0.27456261057230846}, {\"x0\": -0.21212121212121204, \"f\": -0.07002339607949387, \"sd\": 0.26090685529109786}, {\"x0\": -0.19191919191919182, \"f\": -0.058537035646674854, \"sd\": 0.24888761482552113}, {\"x0\": -0.1717171717171716, \"f\": -0.044859583614728686, \"sd\": 0.23880765244901994}, {\"x0\": -0.1515151515151515, \"f\": -0.028817883710974178, \"sd\": 0.2308326140799434}, {\"x0\": -0.13131313131313127, \"f\": -0.010261488796883059, \"sd\": 0.22493991719836876}, {\"x0\": -0.11111111111111105, \"f\": 0.010904196491507232, \"sd\": 0.22091572691674036}, {\"x0\": -0.09090909090909083, \"f\": 0.03470522678824473, \"sd\": 0.2184056325005204}, {\"x0\": -0.07070707070707061, \"f\": 0.06110665236032554, \"sd\": 0.21699583113605392}, {\"x0\": -0.050505050505050386, \"f\": 0.09001904312395911, \"sd\": 0.21629018328332889}, {\"x0\": -0.030303030303030276, \"f\": 0.12130173066527958, \"sd\": 0.21596684338430808}, {\"x0\": -0.010101010101010055, \"f\": 0.15476298699495, \"sd\": 0.2158090301966822}, {\"x0\": 0.010101010101010166, \"f\": 0.19015727584354203, \"sd\": 0.21571116183364986}, {\"x0\": 0.030303030303030498, \"f\": 0.2271796300787001, \"sd\": 0.21566424509715107}, {\"x0\": 0.05050505050505061, \"f\": 0.2654571295966428, \"sd\": 0.21572466066649856}, {\"x0\": 0.07070707070707072, \"f\": 0.30453737792071583, \"sd\": 0.21597049991891412}, {\"x0\": 0.09090909090909105, \"f\": 0.3438771957778846, \"sd\": 0.21645179522970376}, {\"x0\": 0.11111111111111116, \"f\": 0.3828682024691267, \"sd\": 0.21715402803840053}, {\"x0\": 0.1313131313131315, \"f\": 0.42092000661638307, \"sd\": 0.21798608022148772}, {\"x0\": 0.1515151515151516, \"f\": 0.457557356065578, \"sd\": 0.21877683082162971}, {\"x0\": 0.1717171717171717, \"f\": 0.4924922750447668, \"sd\": 0.21928267560878642}, {\"x0\": 0.19191919191919204, \"f\": 0.5256128975454367, \"sd\": 0.21921940640613374}, {\"x0\": 0.21212121212121215, \"f\": 0.5569383890578922, \"sd\": 0.21830151041227575}, {\"x0\": 0.2323232323232325, \"f\": 0.5865787160160271, \"sd\": 0.21627460034384388}, {\"x0\": 0.2525252525252526, \"f\": 0.614699864830006, \"sd\": 0.212938950213729}, {\"x0\": 0.27272727272727293, \"f\": 0.6414931897464086, \"sd\": 0.20816470861313627}, {\"x0\": 0.29292929292929304, \"f\": 0.667147696010955, \"sd\": 0.20190028536113944}, {\"x0\": 0.31313131313131315, \"f\": 0.691824161670106, \"sd\": 0.19417550876595985}, {\"x0\": 0.3333333333333335, \"f\": 0.715630070156924, \"sd\": 0.18510088237938405}, {\"x0\": 0.3535353535353536, \"f\": 0.7385943682947601, \"sd\": 0.17486402444673002}, {\"x0\": 0.3737373737373739, \"f\": 0.7606410816919887, \"sd\": 0.1637244918129098}, {\"x0\": 0.39393939393939403, \"f\": 0.7815608165174831, \"sd\": 0.15200904204078935}, {\"x0\": 0.41414141414141437, \"f\": 0.8009838951814197, \"sd\": 0.14011236282387873}, {\"x0\": 0.4343434343434345, \"f\": 0.8183977508592996, \"sd\": 0.128520370104124}, {\"x0\": 0.4545454545454546, \"f\": 0.8331995731219436, \"sd\": 0.1178734266030948}, {\"x0\": 0.4747474747474749, \"f\": 0.8447392690083325, \"sd\": 0.10905331140425714}, {\"x0\": 0.49494949494949503, \"f\": 0.8523909668724345, \"sd\": 0.10320880603356007}, {\"x0\": 0.5151515151515154, \"f\": 0.855636299114292, \"sd\": 0.10156328618140255}, {\"x0\": 0.5353535353535355, \"f\": 0.8541550186631311, \"sd\": 0.1049418802467133}, {\"x0\": 0.5555555555555556, \"f\": 0.8478964768673299, \"sd\": 0.11334990057041888}, {\"x0\": 0.5757575757575759, \"f\": 0.8370708400954622, \"sd\": 0.1260721859759271}, {\"x0\": 0.595959595959596, \"f\": 0.8220915861424791, \"sd\": 0.14212226035108003}, {\"x0\": 0.6161616161616164, \"f\": 0.803505498976859, \"sd\": 0.16058093845163293}, {\"x0\": 0.6363636363636365, \"f\": 0.7819221190743055, \"sd\": 0.18069766622643763}, {\"x0\": 0.6565656565656568, \"f\": 0.757932916643751, \"sd\": 0.2018723881895641}, {\"x0\": 0.6767676767676769, \"f\": 0.7320685157365874, \"sd\": 0.22362110102802035}, {\"x0\": 0.696969696969697, \"f\": 0.7047981447087783, \"sd\": 0.245551858519371}, {\"x0\": 0.7171717171717173, \"f\": 0.6765340747561707, \"sd\": 0.26734718649455613}, {\"x0\": 0.7373737373737375, \"f\": 0.6476360976417487, \"sd\": 0.28875131340684945}, {\"x0\": 0.7575757575757578, \"f\": 0.6184159460772165, \"sd\": 0.30956070562113686}, {\"x0\": 0.7777777777777779, \"f\": 0.5891415913028843, \"sd\": 0.3296166508004463}, {\"x0\": 0.7979797979797982, \"f\": 0.5600413698886273, \"sd\": 0.3487990978253309}, {\"x0\": 0.8181818181818183, \"f\": 0.5313079059671018, \"sd\": 0.367021311470175}, {\"x0\": 0.8383838383838385, \"f\": 0.5031018065442485, \"sd\": 0.3842251125557897}, {\"x0\": 0.8585858585858588, \"f\": 0.47555511666685135, \"sd\": 0.4003765901614171}, {\"x0\": 0.8787878787878789, \"f\": 0.44877452844914656, \"sd\": 0.4154622304864757}, {\"x0\": 0.8989898989898992, \"f\": 0.42284434359752093, \"sd\": 0.4294854331609485}, {\"x0\": 0.9191919191919193, \"f\": 0.3978291934012111, \"sd\": 0.44246339568145215}, {\"x0\": 0.9393939393939394, \"f\": 0.3737765234109086, \"sd\": 0.4544243487926767}, {\"x0\": 0.9595959595959598, \"f\": 0.3507188524032901, \"sd\": 0.4654051245868117}, {\"x0\": 0.9797979797979799, \"f\": 0.3286758168925788, \"sd\": 0.47544903713630493}, {\"x0\": 1.0, \"f\": 0.30765601353874017, \"sd\": 0.48460405366336484}], \"data-2d1e0543ca9f74f54712317b04f5767b\": [{\"x0\": -1.0, \"f\": 0.4226646404890152}, {\"x0\": -0.9797979797979798, \"f\": 0.4436562811744853}, {\"x0\": -0.9595959595959596, \"f\": 0.4683386017893169}, {\"x0\": -0.9393939393939394, \"f\": 0.49950876890043083}, {\"x0\": -0.9191919191919192, \"f\": 0.5475732911545937}, {\"x0\": -0.898989898989899, \"f\": 0.611329945832011}, {\"x0\": -0.8787878787878788, \"f\": 0.6822821863705872}, {\"x0\": -0.8585858585858586, \"f\": 0.7467411805337018}, {\"x0\": -0.8383838383838383, \"f\": 0.8038246402189578}, {\"x0\": -0.8181818181818181, \"f\": 0.8514102866573008}, {\"x0\": -0.797979797979798, \"f\": 0.8931387723457423}, {\"x0\": -0.7777777777777778, \"f\": 0.9237612564248899}, {\"x0\": -0.7575757575757576, \"f\": 0.9419129313915027}, {\"x0\": -0.7373737373737373, \"f\": 0.9324583927273791}, {\"x0\": -0.7171717171717171, \"f\": 0.899524035147998}, {\"x0\": -0.696969696969697, \"f\": 0.8499349538065626}, {\"x0\": -0.6767676767676767, \"f\": 0.7953476784849469}, {\"x0\": -0.6565656565656566, \"f\": 0.730281839870919}, {\"x0\": -0.6363636363636364, \"f\": 0.6548981070940969}, {\"x0\": -0.6161616161616161, \"f\": 0.5756044737102142}, {\"x0\": -0.5959595959595959, \"f\": 0.504474915705106}, {\"x0\": -0.5757575757575757, \"f\": 0.4489932002354341}, {\"x0\": -0.5555555555555556, \"f\": 0.39619812265148613}, {\"x0\": -0.5353535353535352, \"f\": 0.345235773954398}, {\"x0\": -0.5151515151515151, \"f\": 0.29185908915980635}, {\"x0\": -0.4949494949494949, \"f\": 0.233347398094212}, {\"x0\": -0.4747474747474747, \"f\": 0.17108812520411174}, {\"x0\": -0.4545454545454545, \"f\": 0.10328634219925663}, {\"x0\": -0.43434343434343425, \"f\": 0.04751574710582946}, {\"x0\": -0.41414141414141414, \"f\": -0.001439615236705008}, {\"x0\": -0.3939393939393939, \"f\": -0.038263273111286494}, {\"x0\": -0.3737373737373737, \"f\": -0.0607036206308536}, {\"x0\": -0.3535353535353535, \"f\": -0.06129140827197038}, {\"x0\": -0.33333333333333326, \"f\": -0.04006835710660685}, {\"x0\": -0.31313131313131304, \"f\": -0.008037994538331455}, {\"x0\": -0.2929292929292928, \"f\": 0.023037403004660714}, {\"x0\": -0.2727272727272727, \"f\": 0.055453526908513434}, {\"x0\": -0.2525252525252525, \"f\": 0.08965622285438471}, {\"x0\": -0.23232323232323226, \"f\": 0.11118472956790709}, {\"x0\": -0.21212121212121204, \"f\": 0.11649935318886226}, {\"x0\": -0.19191919191919182, \"f\": 0.10757161577553592}, {\"x0\": -0.1717171717171716, \"f\": 0.08367443396002}, {\"x0\": -0.1515151515151515, \"f\": 0.044358221774659506}, {\"x0\": -0.13131313131313127, \"f\": -0.0036561564645402056}, {\"x0\": -0.11111111111111105, \"f\": -0.0611438964549148}, {\"x0\": -0.09090909090909083, \"f\": -0.11156294890621615}, {\"x0\": -0.07070707070707061, \"f\": -0.14979817437718934}, {\"x0\": -0.050505050505050386, \"f\": -0.1582772528527996}, {\"x0\": -0.030303030303030276, \"f\": -0.13448575039761107}, {\"x0\": -0.010101010101010055, \"f\": -0.08433640333711813}, {\"x0\": 0.010101010101010166, \"f\": -0.0071374246313581635}, {\"x0\": 0.030303030303030498, \"f\": 0.08896772388527541}, {\"x0\": 0.05050505050505061, \"f\": 0.20438901222462708}, {\"x0\": 0.07070707070707072, \"f\": 0.31041248837431434}, {\"x0\": 0.09090909090909105, \"f\": 0.405150210198599}, {\"x0\": 0.11111111111111116, \"f\": 0.48170793592671346}, {\"x0\": 0.1313131313131315, \"f\": 0.5406677324326669}, {\"x0\": 0.1515151515151516, \"f\": 0.5651870957638169}, {\"x0\": 0.1717171717171717, \"f\": 0.5602951975171756}, {\"x0\": 0.19191919191919204, \"f\": 0.5414317746533246}, {\"x0\": 0.21212121212121215, \"f\": 0.5100898969663921}, {\"x0\": 0.2323232323232325, \"f\": 0.4683575210276989}, {\"x0\": 0.2525252525252526, \"f\": 0.43138071494946306}, {\"x0\": 0.27272727272727293, \"f\": 0.39380801370632507}, {\"x0\": 0.29292929292929304, \"f\": 0.3675582131284584}, {\"x0\": 0.31313131313131315, \"f\": 0.36410121227950504}, {\"x0\": 0.3333333333333335, \"f\": 0.3720233028535557}, {\"x0\": 0.3535353535353536, \"f\": 0.3958294187403675}, {\"x0\": 0.3737373737373739, \"f\": 0.4401076231073675}, {\"x0\": 0.39393939393939403, \"f\": 0.5023288241163297}, {\"x0\": 0.41414141414141437, \"f\": 0.5772651728251427}, {\"x0\": 0.4343434343434345, \"f\": 0.666628312673788}, {\"x0\": 0.4545454545454546, \"f\": 0.7597764369672579}, {\"x0\": 0.4747474747474749, \"f\": 0.8548353656759131}, {\"x0\": 0.49494949494949503, \"f\": 0.9370998212539217}, {\"x0\": 0.5151515151515154, \"f\": 0.9913803750172666}, {\"x0\": 0.5353535353535355, \"f\": 1.0271776315587924}, {\"x0\": 0.5555555555555556, \"f\": 1.0431049953051525}, {\"x0\": 0.5757575757575759, \"f\": 1.0434136499477318}, {\"x0\": 0.595959595959596, \"f\": 1.0166980814046993}, {\"x0\": 0.6161616161616164, \"f\": 0.975474746969125}, {\"x0\": 0.6363636363636365, \"f\": 0.939138047082533}, {\"x0\": 0.6565656565656568, \"f\": 0.9095564054975176}, {\"x0\": 0.6767676767676769, \"f\": 0.8931911511495557}, {\"x0\": 0.696969696969697, \"f\": 0.8895216484177527}, {\"x0\": 0.7171717171717173, \"f\": 0.8993187707264009}, {\"x0\": 0.7373737373737375, \"f\": 0.9115584680321148}, {\"x0\": 0.7575757575757578, \"f\": 0.9313642925446991}, {\"x0\": 0.7777777777777779, \"f\": 0.940000065322087}, {\"x0\": 0.7979797979797982, \"f\": 0.946346063998617}, {\"x0\": 0.8181818181818183, \"f\": 0.9551656567356539}, {\"x0\": 0.8383838383838385, \"f\": 0.9657492585556119}, {\"x0\": 0.8585858585858588, \"f\": 0.9802520523475088}, {\"x0\": 0.8787878787878789, \"f\": 0.9939950894243833}, {\"x0\": 0.8989898989898992, \"f\": 0.9990495944915473}, {\"x0\": 0.9191919191919193, \"f\": 0.9856098940187242}, {\"x0\": 0.9393939393939394, \"f\": 0.9576419117260466}, {\"x0\": 0.9595959595959598, \"f\": 0.9138492721150964}, {\"x0\": 0.9797979797979799, \"f\": 0.8531632386781386}, {\"x0\": 1.0, \"f\": 0.7877102347736238}]}}, {\"mode\": \"vega-lite\"});\n",
       "</script>"
      ],
      "text/plain": [
       "alt.LayerChart(...)"
      ]
     },
     "execution_count": 38,
     "metadata": {},
     "output_type": "execute_result"
    }
   ],
   "source": [
    "chart_bo_f1 = (\n",
    "    alt.Chart(bo_f1)\n",
    "    .mark_line(color='green')\n",
    "    .encode(x='x0:Q', y='f:Q'))\n",
    "chart_bo_ferror = (\n",
    "    alt.Chart(bo_f1.assign(fmin=bo_f1['f'] - 2 * bo_f1['sd'], fmax=bo_f1['f'] + 2 * bo_f1['sd']))\n",
    "    .mark_errorbar(color='green')\n",
    "    .encode(x=\"x0:Q\", y=\"fmin:Q\", y2=\"fmax:Q\"))\n",
    "chart_obs = (\n",
    "    alt.Chart(observations)\n",
    "    .mark_circle(color='red', size=60)\n",
    "    .encode(x='x0:Q', y='y:Q'))\n",
    "(chart_obs + chart_bo_ferror + chart_bo_f1 + chart1f).properties(width=800, height=300)"
   ]
  },
  {
   "cell_type": "markdown",
   "metadata": {},
   "source": [
    "### 2-dimensional input\n",
    "If you wish, you can try the same optimisation problem but for a function of two variables."
   ]
  },
  {
   "cell_type": "code",
   "execution_count": null,
   "metadata": {},
   "outputs": [],
   "source": [
    "blackbox2 = bb.GPBlackBox(ndim=2)\n",
    "x0 = widgets.FloatSlider(\n",
    "    value=0.5,\n",
    "    min=bb.DOMAIN_MIN,\n",
    "    max=bb.DOMAIN_MAX,\n",
    "    step=0.01,\n",
    "    description='x0:',\n",
    "    readout_format='.2f',\n",
    ")\n",
    "x1 = widgets.FloatSlider(\n",
    "    value=0.5,\n",
    "    min=bb.DOMAIN_MIN,\n",
    "    max=bb.DOMAIN_MAX,\n",
    "    step=0.01,\n",
    "    description='x1:',\n",
    "    readout_format='.2f',\n",
    ")\n",
    "w = widgets.Box([x0, x1])"
   ]
  },
  {
   "cell_type": "markdown",
   "metadata": {},
   "source": [
    "Choose which input point (x0, x1) to evaluate the function at:"
   ]
  },
  {
   "cell_type": "code",
   "execution_count": null,
   "metadata": {},
   "outputs": [],
   "source": [
    "display(w)"
   ]
  },
  {
   "cell_type": "markdown",
   "metadata": {},
   "source": [
    "Evaluate the function and plot all the evaluations so far:"
   ]
  },
  {
   "cell_type": "code",
   "execution_count": null,
   "metadata": {},
   "outputs": [],
   "source": [
    "y = blackbox2([x0.value, x1.value])[0][0]\n",
    "print(f'Evaluated black box at ({x0.value}, {x1.value}); result={y}')\n",
    "blackbox2.plot_xy()"
   ]
  },
  {
   "cell_type": "markdown",
   "metadata": {},
   "source": [
    "If you have finished evaluating the function at different points and you are confident where the maximum is, you can make a guess before executing the cells below.\n",
    "\n",
    "Now show the underlying function f (without noise) as a heatmap and the noisy data we received as evaluations of it:"
   ]
  },
  {
   "cell_type": "code",
   "execution_count": null,
   "metadata": {},
   "outputs": [],
   "source": [
    "f2 = blackbox2.sample_f(51)\n",
    "chart2f = (\n",
    "    alt.Chart(f2)\n",
    "    .mark_square(size=60)\n",
    "    .encode(x=alt.X('x0:Q', scale=alt.Scale(domain=bb.DOMAIN)),\n",
    "            y=alt.Y('x1:Q', scale=alt.Scale(domain=bb.DOMAIN)),\n",
    "            color=alt.Color('f:Q', scale=alt.Scale(scheme=bb.COLOURSCHEME, domainMid=0))))\n",
    "chart2y = blackbox2.plot_xy()\n",
    "chart2 = alt.layer(chart2f, chart2y)\n",
    "chart2.properties(width=800, height=300)"
   ]
  },
  {
   "cell_type": "code",
   "execution_count": null,
   "metadata": {},
   "outputs": [],
   "source": []
  }
 ],
 "metadata": {
  "kernelspec": {
   "display_name": "Python 3",
   "language": "python",
   "name": "python3"
  },
  "language_info": {
   "codemirror_mode": {
    "name": "ipython",
    "version": 3
   },
   "file_extension": ".py",
   "mimetype": "text/x-python",
   "name": "python",
   "nbconvert_exporter": "python",
   "pygments_lexer": "ipython3",
   "version": "3.8.5"
  }
 },
 "nbformat": 4,
 "nbformat_minor": 4
}
