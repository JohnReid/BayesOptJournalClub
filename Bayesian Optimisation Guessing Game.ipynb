{
 "cells": [
  {
   "cell_type": "markdown",
   "metadata": {},
   "source": [
    "# Xmas Bayesian Optimisation Guessing Game\n",
    "This notebook implements a xmas-themed guessing game to try and find the maximum of a black-box function."
   ]
  },
  {
   "cell_type": "code",
   "execution_count": 1,
   "metadata": {},
   "outputs": [],
   "source": [
    "from dataclasses import astuple\n",
    "import ipywidgets as widgets\n",
    "from IPython.display import display\n",
    "import numpy as np\n",
    "from scipy.interpolate import interp1d\n",
    "import pandas as pd\n",
    "import altair as alt\n",
    "\n",
    "# For Gaussian processes\n",
    "import gpflow\n",
    "from gpflow.utilities import print_summary, set_trainable\n",
    "import tensorflow as tf\n",
    "\n",
    "# For Bayesian optimisation\n",
    "import trieste\n",
    "from trieste.bayesian_optimizer import OptimizationResult\n",
    "from trieste.utils.objectives import branin, mk_observer\n",
    "from trieste.acquisition.rule import OBJECTIVE\n",
    "\n",
    "# Supporting code in this repository\n",
    "import blackbox as bb\n",
    "from importlib import reload\n",
    "reload(bb);"
   ]
  },
  {
   "cell_type": "markdown",
   "metadata": {},
   "source": [
    "## Santa's snowy scenario\n",
    "It is Xmas Eve and Santa has to deliver his presents to all the kids around the world.\n",
    "Unfortunately it has been a really cold winter and some houses are completely blanketed by snow.\n",
    "\n",
    "Santa does have a shovel and could dig down to the chimney of each house to deliver his presents if only he knew where the chimneys were.\n",
    "\n",
    "Fortunately Rudolph can help.\n",
    "He can measure the depth of the snow at any point with his antlers but unfortunately this takes some time and the measurements are noisy.\n",
    "\n",
    "Santa only has one night to deliver his presents, how can he find the chimneys in time?\n",
    "\n",
    "### Skyline\n",
    "Let's see what a typical house's skyline looks like.\n",
    "`x` represents the location and `depth` measures the depth below the snowline.\n",
    "\n",
    "The chimney is always the highest point on a house's skyline."
   ]
  },
  {
   "cell_type": "code",
   "execution_count": 2,
   "metadata": {},
   "outputs": [
    {
     "data": {
      "text/html": [
       "\n",
       "<div id=\"altair-viz-73ddb3bf56334d829f05c209b273997b\"></div>\n",
       "<script type=\"text/javascript\">\n",
       "  (function(spec, embedOpt){\n",
       "    let outputDiv = document.currentScript.previousElementSibling;\n",
       "    if (outputDiv.id !== \"altair-viz-73ddb3bf56334d829f05c209b273997b\") {\n",
       "      outputDiv = document.getElementById(\"altair-viz-73ddb3bf56334d829f05c209b273997b\");\n",
       "    }\n",
       "    const paths = {\n",
       "      \"vega\": \"https://cdn.jsdelivr.net/npm//vega@5?noext\",\n",
       "      \"vega-lib\": \"https://cdn.jsdelivr.net/npm//vega-lib?noext\",\n",
       "      \"vega-lite\": \"https://cdn.jsdelivr.net/npm//vega-lite@4.8.1?noext\",\n",
       "      \"vega-embed\": \"https://cdn.jsdelivr.net/npm//vega-embed@6?noext\",\n",
       "    };\n",
       "\n",
       "    function loadScript(lib) {\n",
       "      return new Promise(function(resolve, reject) {\n",
       "        var s = document.createElement('script');\n",
       "        s.src = paths[lib];\n",
       "        s.async = true;\n",
       "        s.onload = () => resolve(paths[lib]);\n",
       "        s.onerror = () => reject(`Error loading script: ${paths[lib]}`);\n",
       "        document.getElementsByTagName(\"head\")[0].appendChild(s);\n",
       "      });\n",
       "    }\n",
       "\n",
       "    function showError(err) {\n",
       "      outputDiv.innerHTML = `<div class=\"error\" style=\"color:red;\">${err}</div>`;\n",
       "      throw err;\n",
       "    }\n",
       "\n",
       "    function displayChart(vegaEmbed) {\n",
       "      vegaEmbed(outputDiv, spec, embedOpt)\n",
       "        .catch(err => showError(`Javascript Error: ${err.message}<br>This usually means there's a typo in your chart specification. See the javascript console for the full traceback.`));\n",
       "    }\n",
       "\n",
       "    if(typeof define === \"function\" && define.amd) {\n",
       "      requirejs.config({paths});\n",
       "      require([\"vega-embed\"], displayChart, err => showError(`Error loading script: ${err.message}`));\n",
       "    } else if (typeof vegaEmbed === \"function\") {\n",
       "      displayChart(vegaEmbed);\n",
       "    } else {\n",
       "      loadScript(\"vega\")\n",
       "        .then(() => loadScript(\"vega-lite\"))\n",
       "        .then(() => loadScript(\"vega-embed\"))\n",
       "        .catch(showError)\n",
       "        .then(() => displayChart(vegaEmbed));\n",
       "    }\n",
       "  })({\"config\": {\"view\": {\"continuousWidth\": 400, \"continuousHeight\": 300}}, \"data\": {\"name\": \"data-eece1b80502702ec77eb9edde3c4871e\"}, \"mark\": \"line\", \"encoding\": {\"x\": {\"type\": \"quantitative\", \"field\": \"x\"}, \"y\": {\"type\": \"quantitative\", \"field\": \"depth\"}}, \"height\": 300, \"width\": 800, \"$schema\": \"https://vega.github.io/schema/vega-lite/v4.8.1.json\", \"datasets\": {\"data-eece1b80502702ec77eb9edde3c4871e\": [{\"x\": -1.0, \"depth\": -0.9375501037048919}, {\"x\": -0.9797979797979798, \"depth\": -0.9355256318250791}, {\"x\": -0.9595959595959596, \"depth\": -0.9335018443629068}, {\"x\": -0.9393939393939394, \"depth\": -0.9314674611003788}, {\"x\": -0.9191919191919192, \"depth\": -0.9294287682680498}, {\"x\": -0.898989898989899, \"depth\": -0.9273774021736023}, {\"x\": -0.8787878787878788, \"depth\": -0.9253140835504028}, {\"x\": -0.8585858585858586, \"depth\": -0.9232414621351139}, {\"x\": -0.8383838383838383, \"depth\": -0.5211708578408243}, {\"x\": -0.8181818181818181, \"depth\": -0.5191013520744743}, {\"x\": -0.797979797979798, \"depth\": -0.5170572086599132}, {\"x\": -0.7777777777777778, \"depth\": -0.5150243907334497}, {\"x\": -0.7575757575757576, \"depth\": -0.5129841961983987}, {\"x\": -0.7373737373737373, \"depth\": -0.5109255278016329}, {\"x\": -0.7171717171717171, \"depth\": -0.5088613267665765}, {\"x\": -0.696969696969697, \"depth\": -0.5067988507502144}, {\"x\": -0.6767676767676767, \"depth\": -0.5047429798424132}, {\"x\": -0.6565656565656566, \"depth\": -0.502698287254147}, {\"x\": -0.6363636363636364, \"depth\": -0.5006637202368713}, {\"x\": -0.6161616161616161, \"depth\": -0.4986192619559822}, {\"x\": -0.5959595959595959, \"depth\": -0.49655664620397194}, {\"x\": -0.5757575757575757, \"depth\": -0.4944666169629674}, {\"x\": -0.5555555555555556, \"depth\": -0.4923512677867437}, {\"x\": -0.5353535353535352, \"depth\": -0.4901888911203091}, {\"x\": -0.5151515151515151, \"depth\": -0.48798974404686063}, {\"x\": -0.4949494949494949, \"depth\": -0.4857548363962301}, {\"x\": -0.4747474747474747, \"depth\": -0.4834793288306169}, {\"x\": -0.4545454545454545, \"depth\": -0.48116092815546024}, {\"x\": -0.43434343434343425, \"depth\": -0.4787950300819574}, {\"x\": -0.41414141414141414, \"depth\": -0.47636722361631795}, {\"x\": -0.3939393939393939, \"depth\": -0.4738720153506892}, {\"x\": -0.3737373737373737, \"depth\": -0.47132592885655084}, {\"x\": -0.3535353535353535, \"depth\": -0.4687440647105226}, {\"x\": -0.33333333333333326, \"depth\": -0.46611628622232765}, {\"x\": -0.31313131313131304, \"depth\": -0.4634437075393389}, {\"x\": -0.2929292929292928, \"depth\": -0.4607378318240773}, {\"x\": -0.2727272727272727, \"depth\": -0.45797736884390844}, {\"x\": -0.2525252525252525, \"depth\": -0.455147292265686}, {\"x\": -0.23232323232323226, \"depth\": -0.45224058459887045}, {\"x\": -0.21212121212121204, \"depth\": -0.44925401105275636}, {\"x\": -0.19191919191919182, \"depth\": -0.446183210182914}, {\"x\": -0.1717171717171716, \"depth\": -0.44302429113856195}, {\"x\": -0.1515151515151515, \"depth\": -0.43977159332434285}, {\"x\": -0.13131313131313127, \"depth\": -0.36641426353538376}, {\"x\": -0.11111111111111105, \"depth\": -0.3629565538557201}, {\"x\": -0.09090909090909083, \"depth\": -0.35940947981982785}, {\"x\": -0.07070707070707061, \"depth\": -0.35578061172875863}, {\"x\": -0.050505050505050386, \"depth\": -0.3520765158067848}, {\"x\": -0.030303030303030276, \"depth\": -0.41830442943385987}, {\"x\": -0.010101010101010055, \"depth\": -0.4144944322463861}, {\"x\": 0.010101010101010166, \"depth\": -0.4106772522528697}, {\"x\": 0.030303030303030498, \"depth\": -0.40684929605554054}, {\"x\": 0.05050505050505061, \"depth\": -0.4030152560895283}, {\"x\": 0.07070707070707072, \"depth\": -0.3991862290905085}, {\"x\": 0.09090909090909105, \"depth\": -0.39537760469658295}, {\"x\": 0.11111111111111116, \"depth\": -0.39159945824008197}, {\"x\": 0.1313131313131315, \"depth\": -0.38786116952363875}, {\"x\": 0.1515151515151516, \"depth\": -0.38418823035316974}, {\"x\": 0.1717171717171717, \"depth\": -0.3805996271260162}, {\"x\": 0.19191919191919204, \"depth\": -0.3770985419101828}, {\"x\": 0.21212121212121215, \"depth\": -0.37368066940822114}, {\"x\": 0.2323232323232325, \"depth\": -0.37034813963877067}, {\"x\": 0.2525252525252526, \"depth\": -0.36709590332895453}, {\"x\": 0.27272727272727293, \"depth\": -0.3639059876642934}, {\"x\": 0.29292929292929304, \"depth\": -0.3607770894305816}, {\"x\": 0.31313131313131315, \"depth\": -0.7576970465565742}, {\"x\": 0.3333333333333335, \"depth\": -0.7546565242830798}, {\"x\": 0.3535353535353536, \"depth\": -0.7516378915225004}, {\"x\": 0.3737373737373739, \"depth\": -0.7486348397571514}, {\"x\": 0.39393939393939403, \"depth\": -0.7456280005100722}, {\"x\": 0.41414141414141437, \"depth\": -0.742637697132591}, {\"x\": 0.4343434343434345, \"depth\": -0.7396833564685497}, {\"x\": 0.4545454545454546, \"depth\": -0.7367703367852194}, {\"x\": 0.4747474747474749, \"depth\": -0.7339000694198425}, {\"x\": 0.49494949494949503, \"depth\": -0.731078723296492}, {\"x\": 0.5151515151515154, \"depth\": -0.7283149638838485}, {\"x\": 0.5353535353535355, \"depth\": -0.7256080303282846}, {\"x\": 0.5555555555555556, \"depth\": -0.7229424396118959}, {\"x\": 0.5757575757575759, \"depth\": -0.7203148656953067}, {\"x\": 0.595959595959596, \"depth\": -0.7177378620826018}, {\"x\": 0.6161616161616164, \"depth\": -0.7152234146926415}, {\"x\": 0.6363636363636365, \"depth\": -0.7127686905470912}, {\"x\": 0.6565656565656568, \"depth\": -0.7103683693352498}, {\"x\": 0.6767676767676769, \"depth\": -0.7080085073116575}, {\"x\": 0.696969696969697, \"depth\": -0.7056731741943009}, {\"x\": 0.7171717171717173, \"depth\": -0.70337019005561}, {\"x\": 0.7373737373737375, \"depth\": -0.7010841903261333}, {\"x\": 0.7575757575757578, \"depth\": -0.6988242031086159}, {\"x\": 0.7777777777777779, \"depth\": -0.6965824425067213}, {\"x\": 0.7979797979797982, \"depth\": -0.6943641780268537}, {\"x\": 0.8181818181818183, \"depth\": -0.6921798926580962}, {\"x\": 0.8383838383838385, \"depth\": -0.6900272418792405}, {\"x\": 0.8585858585858588, \"depth\": -0.6879089132769887}, {\"x\": 0.8787878787878789, \"depth\": -0.6858224486751503}, {\"x\": 0.8989898989898992, \"depth\": -0.6837641211775414}, {\"x\": 0.9191919191919193, \"depth\": -0.6817342369233241}, {\"x\": 0.9393939393939394, \"depth\": -0.6797121886521591}, {\"x\": 0.9595959595959598, \"depth\": -0.6777058956386455}, {\"x\": 0.9797979797979799, \"depth\": -0.6757265914392007}, {\"x\": 1.0, \"depth\": -0.6737626748690841}]}}, {\"mode\": \"vega-lite\"});\n",
       "</script>"
      ],
      "text/plain": [
       "alt.Chart(...)"
      ]
     },
     "execution_count": 2,
     "metadata": {},
     "output_type": "execute_result"
    }
   ],
   "source": [
    "x, depth = bb.random_submerged_skyline(100)\n",
    "house = pd.DataFrame(dict(x=x, depth=depth))\n",
    "house_chart = (\n",
    "    alt.Chart(house)\n",
    "    .mark_line()\n",
    "    .encode(x='x', y='depth'))\n",
    "house_chart.properties(width=800, height=300)"
   ]
  },
  {
   "cell_type": "markdown",
   "metadata": {},
   "source": [
    "### Grid-search strategy\n",
    "One strategy to find the chimney is to lay down a grid and ask Rudolph to measure the height at each grid point.\n",
    "\n",
    "Let's fix the standard deviation of the Rudolph's measurement error and choose a number of grid points:"
   ]
  },
  {
   "cell_type": "code",
   "execution_count": 3,
   "metadata": {},
   "outputs": [
    {
     "data": {
      "application/vnd.jupyter.widget-view+json": {
       "model_id": "101f7f42ac86466aa2936aa08e26db9d",
       "version_major": 2,
       "version_minor": 0
      },
      "text/plain": [
       "FloatSlider(value=0.04, description='error sd:', max=0.1, min=0.02, step=0.01)"
      ]
     },
     "metadata": {},
     "output_type": "display_data"
    },
    {
     "data": {
      "application/vnd.jupyter.widget-view+json": {
       "model_id": "36f132aadb564999938de808fb3b5388",
       "version_major": 2,
       "version_minor": 0
      },
      "text/plain": [
       "IntSlider(value=20, description='grid size:', min=3)"
      ]
     },
     "metadata": {},
     "output_type": "display_data"
    }
   ],
   "source": [
    "error_sd = widgets.FloatSlider(\n",
    "    value=.04,\n",
    "    min=0.02,\n",
    "    max=.1,\n",
    "    step=0.01,\n",
    "    description='error sd:',\n",
    "    readout_format='.2f',\n",
    ")\n",
    "npoints = widgets.IntSlider(\n",
    "    value=20,\n",
    "    min=3,\n",
    "    max=100,\n",
    "    step=1,\n",
    "    description='grid size:',\n",
    "    readout_format='d'\n",
    ")\n",
    "display(error_sd)\n",
    "display(npoints)"
   ]
  },
  {
   "cell_type": "markdown",
   "metadata": {},
   "source": [
    "Rudolph makes his measurements."
   ]
  },
  {
   "cell_type": "code",
   "execution_count": 4,
   "metadata": {},
   "outputs": [
    {
     "data": {
      "text/html": [
       "\n",
       "<div id=\"altair-viz-8762633489414adeb6ca7e7e78a97ad7\"></div>\n",
       "<script type=\"text/javascript\">\n",
       "  (function(spec, embedOpt){\n",
       "    let outputDiv = document.currentScript.previousElementSibling;\n",
       "    if (outputDiv.id !== \"altair-viz-8762633489414adeb6ca7e7e78a97ad7\") {\n",
       "      outputDiv = document.getElementById(\"altair-viz-8762633489414adeb6ca7e7e78a97ad7\");\n",
       "    }\n",
       "    const paths = {\n",
       "      \"vega\": \"https://cdn.jsdelivr.net/npm//vega@5?noext\",\n",
       "      \"vega-lib\": \"https://cdn.jsdelivr.net/npm//vega-lib?noext\",\n",
       "      \"vega-lite\": \"https://cdn.jsdelivr.net/npm//vega-lite@4.8.1?noext\",\n",
       "      \"vega-embed\": \"https://cdn.jsdelivr.net/npm//vega-embed@6?noext\",\n",
       "    };\n",
       "\n",
       "    function loadScript(lib) {\n",
       "      return new Promise(function(resolve, reject) {\n",
       "        var s = document.createElement('script');\n",
       "        s.src = paths[lib];\n",
       "        s.async = true;\n",
       "        s.onload = () => resolve(paths[lib]);\n",
       "        s.onerror = () => reject(`Error loading script: ${paths[lib]}`);\n",
       "        document.getElementsByTagName(\"head\")[0].appendChild(s);\n",
       "      });\n",
       "    }\n",
       "\n",
       "    function showError(err) {\n",
       "      outputDiv.innerHTML = `<div class=\"error\" style=\"color:red;\">${err}</div>`;\n",
       "      throw err;\n",
       "    }\n",
       "\n",
       "    function displayChart(vegaEmbed) {\n",
       "      vegaEmbed(outputDiv, spec, embedOpt)\n",
       "        .catch(err => showError(`Javascript Error: ${err.message}<br>This usually means there's a typo in your chart specification. See the javascript console for the full traceback.`));\n",
       "    }\n",
       "\n",
       "    if(typeof define === \"function\" && define.amd) {\n",
       "      requirejs.config({paths});\n",
       "      require([\"vega-embed\"], displayChart, err => showError(`Error loading script: ${err.message}`));\n",
       "    } else if (typeof vegaEmbed === \"function\") {\n",
       "      displayChart(vegaEmbed);\n",
       "    } else {\n",
       "      loadScript(\"vega\")\n",
       "        .then(() => loadScript(\"vega-lite\"))\n",
       "        .then(() => loadScript(\"vega-embed\"))\n",
       "        .catch(showError)\n",
       "        .then(() => displayChart(vegaEmbed));\n",
       "    }\n",
       "  })({\"config\": {\"view\": {\"continuousWidth\": 400, \"continuousHeight\": 300}}, \"layer\": [{\"data\": {\"name\": \"data-7cc1cc946baca5e4602bc6a96ef225e5\"}, \"mark\": {\"type\": \"point\", \"color\": \"red\"}, \"encoding\": {\"x\": {\"type\": \"quantitative\", \"field\": \"x\"}, \"y\": {\"type\": \"quantitative\", \"field\": \"y\"}}}, {\"data\": {\"name\": \"data-eece1b80502702ec77eb9edde3c4871e\"}, \"mark\": \"line\", \"encoding\": {\"x\": {\"type\": \"quantitative\", \"field\": \"x\"}, \"y\": {\"type\": \"quantitative\", \"field\": \"depth\"}}}], \"height\": 300, \"width\": 800, \"$schema\": \"https://vega.github.io/schema/vega-lite/v4.8.1.json\", \"datasets\": {\"data-7cc1cc946baca5e4602bc6a96ef225e5\": [{\"x\": -1.0, \"f\": -0.9375501037048919, \"y\": -0.8993330693487027}, {\"x\": -0.8947368421052632, \"f\": -0.9269430193055603, \"y\": -0.9059577778250701}, {\"x\": -0.7894736842105263, \"f\": -0.5162012853224549, \"y\": -0.6185320615132137}, {\"x\": -0.6842105263157895, \"f\": -0.5055004059663399, \"y\": -0.5669140554432185}, {\"x\": -0.5789473684210527, \"f\": -0.4947966215799681, \"y\": -0.4702513936085902}, {\"x\": -0.4736842105263158, \"f\": -0.4833573077424508, \"y\": -0.4235826695951167}, {\"x\": -0.368421052631579, \"f\": -0.4706464909233855, \"y\": -0.5304297822306105}, {\"x\": -0.26315789473684215, \"f\": -0.45663680625422415, \"y\": -0.41782378664394093}, {\"x\": -0.1578947368421053, \"f\": -0.4407987610551489, \"y\": -0.39603535325762046}, {\"x\": -0.052631578947368474, \"f\": -0.3524664206406768, \"y\": -0.35176999753831384}, {\"x\": 0.05263157894736836, \"f\": -0.4026122006159473, \"y\": -0.4561775376490371}, {\"x\": 0.1578947368421053, \"f\": -0.3830549872288055, \"y\": -0.40866752924029337}, {\"x\": 0.26315789473684204, \"f\": -0.365417000347554, \"y\": -0.3798970159457449}, {\"x\": 0.36842105263157876, \"f\": -0.7494251165375064, \"y\": -0.7217890241055319}, {\"x\": 0.4736842105263157, \"f\": -0.7340511361232834, \"y\": -0.6980777115535006}, {\"x\": 0.5789473684210527, \"f\": -0.7199079703880376, \"y\": -0.7593819205679582}, {\"x\": 0.6842105263157894, \"f\": -0.7071481214263157, \"y\": -0.7112335218177598}, {\"x\": 0.7894736842105261, \"f\": -0.6952981841236401, \"y\": -0.6966952489641703}, {\"x\": 0.894736842105263, \"f\": -0.6841974532823012, \"y\": -0.691192043863471}, {\"x\": 1.0, \"f\": -0.6737626748690841, \"y\": -0.6359253479862923}], \"data-eece1b80502702ec77eb9edde3c4871e\": [{\"x\": -1.0, \"depth\": -0.9375501037048919}, {\"x\": -0.9797979797979798, \"depth\": -0.9355256318250791}, {\"x\": -0.9595959595959596, \"depth\": -0.9335018443629068}, {\"x\": -0.9393939393939394, \"depth\": -0.9314674611003788}, {\"x\": -0.9191919191919192, \"depth\": -0.9294287682680498}, {\"x\": -0.898989898989899, \"depth\": -0.9273774021736023}, {\"x\": -0.8787878787878788, \"depth\": -0.9253140835504028}, {\"x\": -0.8585858585858586, \"depth\": -0.9232414621351139}, {\"x\": -0.8383838383838383, \"depth\": -0.5211708578408243}, {\"x\": -0.8181818181818181, \"depth\": -0.5191013520744743}, {\"x\": -0.797979797979798, \"depth\": -0.5170572086599132}, {\"x\": -0.7777777777777778, \"depth\": -0.5150243907334497}, {\"x\": -0.7575757575757576, \"depth\": -0.5129841961983987}, {\"x\": -0.7373737373737373, \"depth\": -0.5109255278016329}, {\"x\": -0.7171717171717171, \"depth\": -0.5088613267665765}, {\"x\": -0.696969696969697, \"depth\": -0.5067988507502144}, {\"x\": -0.6767676767676767, \"depth\": -0.5047429798424132}, {\"x\": -0.6565656565656566, \"depth\": -0.502698287254147}, {\"x\": -0.6363636363636364, \"depth\": -0.5006637202368713}, {\"x\": -0.6161616161616161, \"depth\": -0.4986192619559822}, {\"x\": -0.5959595959595959, \"depth\": -0.49655664620397194}, {\"x\": -0.5757575757575757, \"depth\": -0.4944666169629674}, {\"x\": -0.5555555555555556, \"depth\": -0.4923512677867437}, {\"x\": -0.5353535353535352, \"depth\": -0.4901888911203091}, {\"x\": -0.5151515151515151, \"depth\": -0.48798974404686063}, {\"x\": -0.4949494949494949, \"depth\": -0.4857548363962301}, {\"x\": -0.4747474747474747, \"depth\": -0.4834793288306169}, {\"x\": -0.4545454545454545, \"depth\": -0.48116092815546024}, {\"x\": -0.43434343434343425, \"depth\": -0.4787950300819574}, {\"x\": -0.41414141414141414, \"depth\": -0.47636722361631795}, {\"x\": -0.3939393939393939, \"depth\": -0.4738720153506892}, {\"x\": -0.3737373737373737, \"depth\": -0.47132592885655084}, {\"x\": -0.3535353535353535, \"depth\": -0.4687440647105226}, {\"x\": -0.33333333333333326, \"depth\": -0.46611628622232765}, {\"x\": -0.31313131313131304, \"depth\": -0.4634437075393389}, {\"x\": -0.2929292929292928, \"depth\": -0.4607378318240773}, {\"x\": -0.2727272727272727, \"depth\": -0.45797736884390844}, {\"x\": -0.2525252525252525, \"depth\": -0.455147292265686}, {\"x\": -0.23232323232323226, \"depth\": -0.45224058459887045}, {\"x\": -0.21212121212121204, \"depth\": -0.44925401105275636}, {\"x\": -0.19191919191919182, \"depth\": -0.446183210182914}, {\"x\": -0.1717171717171716, \"depth\": -0.44302429113856195}, {\"x\": -0.1515151515151515, \"depth\": -0.43977159332434285}, {\"x\": -0.13131313131313127, \"depth\": -0.36641426353538376}, {\"x\": -0.11111111111111105, \"depth\": -0.3629565538557201}, {\"x\": -0.09090909090909083, \"depth\": -0.35940947981982785}, {\"x\": -0.07070707070707061, \"depth\": -0.35578061172875863}, {\"x\": -0.050505050505050386, \"depth\": -0.3520765158067848}, {\"x\": -0.030303030303030276, \"depth\": -0.41830442943385987}, {\"x\": -0.010101010101010055, \"depth\": -0.4144944322463861}, {\"x\": 0.010101010101010166, \"depth\": -0.4106772522528697}, {\"x\": 0.030303030303030498, \"depth\": -0.40684929605554054}, {\"x\": 0.05050505050505061, \"depth\": -0.4030152560895283}, {\"x\": 0.07070707070707072, \"depth\": -0.3991862290905085}, {\"x\": 0.09090909090909105, \"depth\": -0.39537760469658295}, {\"x\": 0.11111111111111116, \"depth\": -0.39159945824008197}, {\"x\": 0.1313131313131315, \"depth\": -0.38786116952363875}, {\"x\": 0.1515151515151516, \"depth\": -0.38418823035316974}, {\"x\": 0.1717171717171717, \"depth\": -0.3805996271260162}, {\"x\": 0.19191919191919204, \"depth\": -0.3770985419101828}, {\"x\": 0.21212121212121215, \"depth\": -0.37368066940822114}, {\"x\": 0.2323232323232325, \"depth\": -0.37034813963877067}, {\"x\": 0.2525252525252526, \"depth\": -0.36709590332895453}, {\"x\": 0.27272727272727293, \"depth\": -0.3639059876642934}, {\"x\": 0.29292929292929304, \"depth\": -0.3607770894305816}, {\"x\": 0.31313131313131315, \"depth\": -0.7576970465565742}, {\"x\": 0.3333333333333335, \"depth\": -0.7546565242830798}, {\"x\": 0.3535353535353536, \"depth\": -0.7516378915225004}, {\"x\": 0.3737373737373739, \"depth\": -0.7486348397571514}, {\"x\": 0.39393939393939403, \"depth\": -0.7456280005100722}, {\"x\": 0.41414141414141437, \"depth\": -0.742637697132591}, {\"x\": 0.4343434343434345, \"depth\": -0.7396833564685497}, {\"x\": 0.4545454545454546, \"depth\": -0.7367703367852194}, {\"x\": 0.4747474747474749, \"depth\": -0.7339000694198425}, {\"x\": 0.49494949494949503, \"depth\": -0.731078723296492}, {\"x\": 0.5151515151515154, \"depth\": -0.7283149638838485}, {\"x\": 0.5353535353535355, \"depth\": -0.7256080303282846}, {\"x\": 0.5555555555555556, \"depth\": -0.7229424396118959}, {\"x\": 0.5757575757575759, \"depth\": -0.7203148656953067}, {\"x\": 0.595959595959596, \"depth\": -0.7177378620826018}, {\"x\": 0.6161616161616164, \"depth\": -0.7152234146926415}, {\"x\": 0.6363636363636365, \"depth\": -0.7127686905470912}, {\"x\": 0.6565656565656568, \"depth\": -0.7103683693352498}, {\"x\": 0.6767676767676769, \"depth\": -0.7080085073116575}, {\"x\": 0.696969696969697, \"depth\": -0.7056731741943009}, {\"x\": 0.7171717171717173, \"depth\": -0.70337019005561}, {\"x\": 0.7373737373737375, \"depth\": -0.7010841903261333}, {\"x\": 0.7575757575757578, \"depth\": -0.6988242031086159}, {\"x\": 0.7777777777777779, \"depth\": -0.6965824425067213}, {\"x\": 0.7979797979797982, \"depth\": -0.6943641780268537}, {\"x\": 0.8181818181818183, \"depth\": -0.6921798926580962}, {\"x\": 0.8383838383838385, \"depth\": -0.6900272418792405}, {\"x\": 0.8585858585858588, \"depth\": -0.6879089132769887}, {\"x\": 0.8787878787878789, \"depth\": -0.6858224486751503}, {\"x\": 0.8989898989898992, \"depth\": -0.6837641211775414}, {\"x\": 0.9191919191919193, \"depth\": -0.6817342369233241}, {\"x\": 0.9393939393939394, \"depth\": -0.6797121886521591}, {\"x\": 0.9595959595959598, \"depth\": -0.6777058956386455}, {\"x\": 0.9797979797979799, \"depth\": -0.6757265914392007}, {\"x\": 1.0, \"depth\": -0.6737626748690841}]}}, {\"mode\": \"vega-lite\"});\n",
       "</script>"
      ],
      "text/plain": [
       "alt.LayerChart(...)"
      ]
     },
     "execution_count": 4,
     "metadata": {},
     "output_type": "execute_result"
    }
   ],
   "source": [
    "measurements = pd.DataFrame(dict(x=np.linspace(house['x'].min(), house['x'].max(), npoints.value)))\n",
    "f = interp1d(house['x'], house['depth'])\n",
    "measurements['f'] = f(measurements['x'])\n",
    "measurements['y'] = measurements['f'] + bb.rng.normal(0, error_sd.value, size=npoints.value)\n",
    "measurements_chart = (\n",
    "    alt.Chart(measurements)\n",
    "    .mark_point(color='red')\n",
    "    .encode(x='x', y='y'))\n",
    "(measurements_chart + house_chart).properties(width=800, height=300)"
   ]
  },
  {
   "cell_type": "markdown",
   "metadata": {},
   "source": [
    "We can see that there are many wasted measurements in locations where we are reasonably sure the maximum is not located.\n",
    "In addition it is still difficult to be sure where the chimney is.\n",
    "\n",
    "How can we do better?\n",
    "\n",
    "## Bayesian optimisation\n",
    "This is where Bayesian optimisation (BO) comes in.\n",
    "Bayesian optimisation is going to do better than grid (or random) search by choosing where to measure the depth of snow in some sort of *optimal* way.\n",
    "\n",
    "Bayesian optimisation requires:\n",
    "- a *prior on the underlying function* to be optimised (some understanding of houses' skylines and their depths)\n",
    "- a *prior on the measurement error* (some understanding of how good Rudolph is at measuring depth)\n",
    "\n",
    "Using some underlying theory, Bayesian optimisation then iterates around the following loop:\n",
    "- choose the next measurement location so as to minimise the total number of measurements required (the acquisition function)\n",
    "- ask the black-box function for a noisy measurement at that location\n",
    "- update its model of the underlying function and measurement error (computes a posterior given prior and data)\n",
    "\n",
    "Some stopping criterion is used to avoid iterating indefinitely.\n",
    "Bayesian optimisation returns the posterior for the underlying function to use as you see fit.\n",
    "In particular you may wish to obtain a posterior over the location of the maximum of the function.\n",
    "\n",
    "## Optimisation guessing game\n",
    "However, before we try Bayesian optimisation, we will try to optimise a black-box function ourselves.\n",
    "Your task will be to find the maximum of the underlying function using as few function evaluations as possible.\n",
    "\n",
    "Unfortunately we do not have a suitable Bayesian model for house skylines so we will use a Gaussian process prior on functions instead.\n",
    "Some typical functions are shown below to give you an idea what the underlying function might look like."
   ]
  },
  {
   "cell_type": "code",
   "execution_count": 39,
   "metadata": {},
   "outputs": [
    {
     "data": {
      "text/html": [
       "\n",
       "<div id=\"altair-viz-e9436f3270dd4434b59d380728cc50f6\"></div>\n",
       "<script type=\"text/javascript\">\n",
       "  (function(spec, embedOpt){\n",
       "    let outputDiv = document.currentScript.previousElementSibling;\n",
       "    if (outputDiv.id !== \"altair-viz-e9436f3270dd4434b59d380728cc50f6\") {\n",
       "      outputDiv = document.getElementById(\"altair-viz-e9436f3270dd4434b59d380728cc50f6\");\n",
       "    }\n",
       "    const paths = {\n",
       "      \"vega\": \"https://cdn.jsdelivr.net/npm//vega@5?noext\",\n",
       "      \"vega-lib\": \"https://cdn.jsdelivr.net/npm//vega-lib?noext\",\n",
       "      \"vega-lite\": \"https://cdn.jsdelivr.net/npm//vega-lite@4.8.1?noext\",\n",
       "      \"vega-embed\": \"https://cdn.jsdelivr.net/npm//vega-embed@6?noext\",\n",
       "    };\n",
       "\n",
       "    function loadScript(lib) {\n",
       "      return new Promise(function(resolve, reject) {\n",
       "        var s = document.createElement('script');\n",
       "        s.src = paths[lib];\n",
       "        s.async = true;\n",
       "        s.onload = () => resolve(paths[lib]);\n",
       "        s.onerror = () => reject(`Error loading script: ${paths[lib]}`);\n",
       "        document.getElementsByTagName(\"head\")[0].appendChild(s);\n",
       "      });\n",
       "    }\n",
       "\n",
       "    function showError(err) {\n",
       "      outputDiv.innerHTML = `<div class=\"error\" style=\"color:red;\">${err}</div>`;\n",
       "      throw err;\n",
       "    }\n",
       "\n",
       "    function displayChart(vegaEmbed) {\n",
       "      vegaEmbed(outputDiv, spec, embedOpt)\n",
       "        .catch(err => showError(`Javascript Error: ${err.message}<br>This usually means there's a typo in your chart specification. See the javascript console for the full traceback.`));\n",
       "    }\n",
       "\n",
       "    if(typeof define === \"function\" && define.amd) {\n",
       "      requirejs.config({paths});\n",
       "      require([\"vega-embed\"], displayChart, err => showError(`Error loading script: ${err.message}`));\n",
       "    } else if (typeof vegaEmbed === \"function\") {\n",
       "      displayChart(vegaEmbed);\n",
       "    } else {\n",
       "      loadScript(\"vega\")\n",
       "        .then(() => loadScript(\"vega-lite\"))\n",
       "        .then(() => loadScript(\"vega-embed\"))\n",
       "        .catch(showError)\n",
       "        .then(() => displayChart(vegaEmbed));\n",
       "    }\n",
       "  })({\"config\": {\"view\": {\"continuousWidth\": 400, \"continuousHeight\": 300}}, \"data\": {\"name\": \"data-1a6be96a3dbef80d0912198dbfcf0af4\"}, \"mark\": \"line\", \"encoding\": {\"color\": {\"type\": \"nominal\", \"field\": \"sample\"}, \"x\": {\"type\": \"quantitative\", \"field\": \"x\"}, \"y\": {\"type\": \"quantitative\", \"field\": \"f\"}}, \"height\": 300, \"width\": 800, \"$schema\": \"https://vega.github.io/schema/vega-lite/v4.8.1.json\", \"datasets\": {\"data-1a6be96a3dbef80d0912198dbfcf0af4\": [{\"x\": -1.0, \"f\": 2.085695896533185, \"sample\": 0}, {\"x\": -0.9797979797979798, \"f\": 2.0948935611139374, \"sample\": 0}, {\"x\": -0.9595959595959596, \"f\": 2.0827794414537686, \"sample\": 0}, {\"x\": -0.9393939393939394, \"f\": 2.037472089054387, \"sample\": 0}, {\"x\": -0.9191919191919192, \"f\": 1.9630196398461939, \"sample\": 0}, {\"x\": -0.898989898989899, \"f\": 1.86216334874919, \"sample\": 0}, {\"x\": -0.8787878787878788, \"f\": 1.7398251474478053, \"sample\": 0}, {\"x\": -0.8585858585858586, \"f\": 1.6006426045804039, \"sample\": 0}, {\"x\": -0.8383838383838383, \"f\": 1.4492004057899897, \"sample\": 0}, {\"x\": -0.8181818181818181, \"f\": 1.2881191425782963, \"sample\": 0}, {\"x\": -0.797979797979798, \"f\": 1.1272085158871146, \"sample\": 0}, {\"x\": -0.7777777777777778, \"f\": 0.9702601905376841, \"sample\": 0}, {\"x\": -0.7575757575757576, \"f\": 0.827607513769614, \"sample\": 0}, {\"x\": -0.7373737373737373, \"f\": 0.7073775360162552, \"sample\": 0}, {\"x\": -0.7171717171717171, \"f\": 0.6030551129113547, \"sample\": 0}, {\"x\": -0.696969696969697, \"f\": 0.5110814072294828, \"sample\": 0}, {\"x\": -0.6767676767676767, \"f\": 0.4318321936402917, \"sample\": 0}, {\"x\": -0.6565656565656566, \"f\": 0.36832306349561944, \"sample\": 0}, {\"x\": -0.6363636363636364, \"f\": 0.31627387187194417, \"sample\": 0}, {\"x\": -0.6161616161616161, \"f\": 0.26526684385476995, \"sample\": 0}, {\"x\": -0.5959595959595959, \"f\": 0.22060584698036137, \"sample\": 0}, {\"x\": -0.5757575757575757, \"f\": 0.18109233656700663, \"sample\": 0}, {\"x\": -0.5555555555555556, \"f\": 0.14018582462553394, \"sample\": 0}, {\"x\": -0.5353535353535352, \"f\": 0.0934676996253736, \"sample\": 0}, {\"x\": -0.5151515151515151, \"f\": 0.047081313116728876, \"sample\": 0}, {\"x\": -0.4949494949494949, \"f\": -0.0006272343537908099, \"sample\": 0}, {\"x\": -0.4747474747474747, \"f\": -0.04445279502994676, \"sample\": 0}, {\"x\": -0.4545454545454545, \"f\": -0.09066268999292589, \"sample\": 0}, {\"x\": -0.43434343434343425, \"f\": -0.1385360045404306, \"sample\": 0}, {\"x\": -0.41414141414141414, \"f\": -0.18543025431888882, \"sample\": 0}, {\"x\": -0.3939393939393939, \"f\": -0.23502208225759358, \"sample\": 0}, {\"x\": -0.3737373737373737, \"f\": -0.2953009342106212, \"sample\": 0}, {\"x\": -0.3535353535353535, \"f\": -0.36586528648836614, \"sample\": 0}, {\"x\": -0.33333333333333326, \"f\": -0.43908039478307825, \"sample\": 0}, {\"x\": -0.31313131313131304, \"f\": -0.4986458290441904, \"sample\": 0}, {\"x\": -0.2929292929292928, \"f\": -0.537811115850894, \"sample\": 0}, {\"x\": -0.2727272727272727, \"f\": -0.5606024651420632, \"sample\": 0}, {\"x\": -0.2525252525252525, \"f\": -0.5657262660285622, \"sample\": 0}, {\"x\": -0.23232323232323226, \"f\": -0.5539326354291816, \"sample\": 0}, {\"x\": -0.21212121212121204, \"f\": -0.517958441555434, \"sample\": 0}, {\"x\": -0.19191919191919182, \"f\": -0.45853684711337445, \"sample\": 0}, {\"x\": -0.1717171717171716, \"f\": -0.3888439998443375, \"sample\": 0}, {\"x\": -0.1515151515151515, \"f\": -0.3186093082962941, \"sample\": 0}, {\"x\": -0.13131313131313127, \"f\": -0.25744666645780157, \"sample\": 0}, {\"x\": -0.11111111111111105, \"f\": -0.20072054252259106, \"sample\": 0}, {\"x\": -0.09090909090909083, \"f\": -0.15072748045815168, \"sample\": 0}, {\"x\": -0.07070707070707061, \"f\": -0.1142910029797117, \"sample\": 0}, {\"x\": -0.050505050505050386, \"f\": -0.08719386336009885, \"sample\": 0}, {\"x\": -0.030303030303030276, \"f\": -0.06559680571311662, \"sample\": 0}, {\"x\": -0.010101010101010055, \"f\": -0.03950478388692679, \"sample\": 0}, {\"x\": 0.010101010101010166, \"f\": -0.008264438163009024, \"sample\": 0}, {\"x\": 0.030303030303030498, \"f\": 0.013654562132910263, \"sample\": 0}, {\"x\": 0.05050505050505061, \"f\": 0.026578531037050435, \"sample\": 0}, {\"x\": 0.07070707070707072, \"f\": 0.028102773837759037, \"sample\": 0}, {\"x\": 0.09090909090909105, \"f\": 0.01623957386884155, \"sample\": 0}, {\"x\": 0.11111111111111116, \"f\": 0.0007625534627654898, \"sample\": 0}, {\"x\": 0.1313131313131315, \"f\": -0.015873033801456504, \"sample\": 0}, {\"x\": 0.1515151515151516, \"f\": -0.037423399351226856, \"sample\": 0}, {\"x\": 0.1717171717171717, \"f\": -0.06131591578734338, \"sample\": 0}, {\"x\": 0.19191919191919204, \"f\": -0.0782306956786428, \"sample\": 0}, {\"x\": 0.21212121212121215, \"f\": -0.07139365915405829, \"sample\": 0}, {\"x\": 0.2323232323232325, \"f\": -0.03592615094068946, \"sample\": 0}, {\"x\": 0.2525252525252526, \"f\": 0.023280471320717658, \"sample\": 0}, {\"x\": 0.27272727272727293, \"f\": 0.0990530739525393, \"sample\": 0}, {\"x\": 0.29292929292929304, \"f\": 0.1955451672350651, \"sample\": 0}, {\"x\": 0.31313131313131315, \"f\": 0.30572081387580996, \"sample\": 0}, {\"x\": 0.3333333333333335, \"f\": 0.42219319036070463, \"sample\": 0}, {\"x\": 0.3535353535353536, \"f\": 0.5393234282197954, \"sample\": 0}, {\"x\": 0.3737373737373739, \"f\": 0.6485057337850801, \"sample\": 0}, {\"x\": 0.39393939393939403, \"f\": 0.7494162219825102, \"sample\": 0}, {\"x\": 0.41414141414141437, \"f\": 0.8474403518645969, \"sample\": 0}, {\"x\": 0.4343434343434345, \"f\": 0.9495132242923714, \"sample\": 0}, {\"x\": 0.4545454545454546, \"f\": 1.054649362265728, \"sample\": 0}, {\"x\": 0.4747474747474749, \"f\": 1.1626178618116083, \"sample\": 0}, {\"x\": 0.49494949494949503, \"f\": 1.2698300318227815, \"sample\": 0}, {\"x\": 0.5151515151515154, \"f\": 1.3629040138521944, \"sample\": 0}, {\"x\": 0.5353535353535355, \"f\": 1.4444211020608857, \"sample\": 0}, {\"x\": 0.5555555555555556, \"f\": 1.5168741756736517, \"sample\": 0}, {\"x\": 0.5757575757575759, \"f\": 1.5731616914756787, \"sample\": 0}, {\"x\": 0.595959595959596, \"f\": 1.6012676827668975, \"sample\": 0}, {\"x\": 0.6161616161616164, \"f\": 1.609989452630332, \"sample\": 0}, {\"x\": 0.6363636363636365, \"f\": 1.6011712227027373, \"sample\": 0}, {\"x\": 0.6565656565656568, \"f\": 1.581206472567426, \"sample\": 0}, {\"x\": 0.6767676767676769, \"f\": 1.5523123675661192, \"sample\": 0}, {\"x\": 0.696969696969697, \"f\": 1.5081245221536768, \"sample\": 0}, {\"x\": 0.7171717171717173, \"f\": 1.4591115033146187, \"sample\": 0}, {\"x\": 0.7373737373737375, \"f\": 1.4092645861325166, \"sample\": 0}, {\"x\": 0.7575757575757578, \"f\": 1.358919271520603, \"sample\": 0}, {\"x\": 0.7777777777777779, \"f\": 1.3092552990354753, \"sample\": 0}, {\"x\": 0.7979797979797982, \"f\": 1.2652508808852225, \"sample\": 0}, {\"x\": 0.8181818181818183, \"f\": 1.2304669746419659, \"sample\": 0}, {\"x\": 0.8383838383838385, \"f\": 1.1955439491837168, \"sample\": 0}, {\"x\": 0.8585858585858588, \"f\": 1.155727273584942, \"sample\": 0}, {\"x\": 0.8787878787878789, \"f\": 1.1103089567212734, \"sample\": 0}, {\"x\": 0.8989898989898992, \"f\": 1.0646460604807053, \"sample\": 0}, {\"x\": 0.9191919191919193, \"f\": 1.017170454263471, \"sample\": 0}, {\"x\": 0.9393939393939394, \"f\": 0.9603820617335771, \"sample\": 0}, {\"x\": 0.9595959595959598, \"f\": 0.8943113235128506, \"sample\": 0}, {\"x\": 0.9797979797979799, \"f\": 0.8239504444034268, \"sample\": 0}, {\"x\": 1.0, \"f\": 0.7632978095734694, \"sample\": 0}, {\"x\": -1.0, \"f\": -0.559892244811862, \"sample\": 1}, {\"x\": -0.9797979797979798, \"f\": -0.48369468652997144, \"sample\": 1}, {\"x\": -0.9595959595959596, \"f\": -0.42813234182087795, \"sample\": 1}, {\"x\": -0.9393939393939394, \"f\": -0.39481859088947735, \"sample\": 1}, {\"x\": -0.9191919191919192, \"f\": -0.3742256405133384, \"sample\": 1}, {\"x\": -0.898989898989899, \"f\": -0.3537138332816704, \"sample\": 1}, {\"x\": -0.8787878787878788, \"f\": -0.32918542524799665, \"sample\": 1}, {\"x\": -0.8585858585858586, \"f\": -0.30486305418184634, \"sample\": 1}, {\"x\": -0.8383838383838383, \"f\": -0.27874223479755933, \"sample\": 1}, {\"x\": -0.8181818181818181, \"f\": -0.24610368351810577, \"sample\": 1}, {\"x\": -0.797979797979798, \"f\": -0.2043462925479537, \"sample\": 1}, {\"x\": -0.7777777777777778, \"f\": -0.1517558061638019, \"sample\": 1}, {\"x\": -0.7575757575757576, \"f\": -0.08871393990726735, \"sample\": 1}, {\"x\": -0.7373737373737373, \"f\": -0.015752504007403655, \"sample\": 1}, {\"x\": -0.7171717171717171, \"f\": 0.061972925789655284, \"sample\": 1}, {\"x\": -0.696969696969697, \"f\": 0.13926554095311966, \"sample\": 1}, {\"x\": -0.6767676767676767, \"f\": 0.20665204505649454, \"sample\": 1}, {\"x\": -0.6565656565656566, \"f\": 0.257777005359557, \"sample\": 1}, {\"x\": -0.6363636363636364, \"f\": 0.29509009911925405, \"sample\": 1}, {\"x\": -0.6161616161616161, \"f\": 0.3258697893489256, \"sample\": 1}, {\"x\": -0.5959595959595959, \"f\": 0.36365433409208503, \"sample\": 1}, {\"x\": -0.5757575757575757, \"f\": 0.4061923505230263, \"sample\": 1}, {\"x\": -0.5555555555555556, \"f\": 0.45538116380285404, \"sample\": 1}, {\"x\": -0.5353535353535352, \"f\": 0.5162456893637155, \"sample\": 1}, {\"x\": -0.5151515151515151, \"f\": 0.5804523513041858, \"sample\": 1}, {\"x\": -0.4949494949494949, \"f\": 0.6478286543942677, \"sample\": 1}, {\"x\": -0.4747474747474747, \"f\": 0.7107745281620774, \"sample\": 1}, {\"x\": -0.4545454545454545, \"f\": 0.7639183266453505, \"sample\": 1}, {\"x\": -0.43434343434343425, \"f\": 0.8005694619171548, \"sample\": 1}, {\"x\": -0.41414141414141414, \"f\": 0.8279455806371077, \"sample\": 1}, {\"x\": -0.3939393939393939, \"f\": 0.8482756671342205, \"sample\": 1}, {\"x\": -0.3737373737373737, \"f\": 0.8656249462152694, \"sample\": 1}, {\"x\": -0.3535353535353535, \"f\": 0.8808496199875921, \"sample\": 1}, {\"x\": -0.33333333333333326, \"f\": 0.8958626752201345, \"sample\": 1}, {\"x\": -0.31313131313131304, \"f\": 0.9012914278758024, \"sample\": 1}, {\"x\": -0.2929292929292928, \"f\": 0.8881512777013593, \"sample\": 1}, {\"x\": -0.2727272727272727, \"f\": 0.858715816622429, \"sample\": 1}, {\"x\": -0.2525252525252525, \"f\": 0.8180336758564798, \"sample\": 1}, {\"x\": -0.23232323232323226, \"f\": 0.7680142815358343, \"sample\": 1}, {\"x\": -0.21212121212121204, \"f\": 0.710365502284268, \"sample\": 1}, {\"x\": -0.19191919191919182, \"f\": 0.654946116825132, \"sample\": 1}, {\"x\": -0.1717171717171716, \"f\": 0.5970607876927583, \"sample\": 1}, {\"x\": -0.1515151515151515, \"f\": 0.5292513464811989, \"sample\": 1}, {\"x\": -0.13131313131313127, \"f\": 0.4584586881628196, \"sample\": 1}, {\"x\": -0.11111111111111105, \"f\": 0.3899454290613673, \"sample\": 1}, {\"x\": -0.09090909090909083, \"f\": 0.32700782214142937, \"sample\": 1}, {\"x\": -0.07070707070707061, \"f\": 0.26851000227133254, \"sample\": 1}, {\"x\": -0.050505050505050386, \"f\": 0.21862559968559694, \"sample\": 1}, {\"x\": -0.030303030303030276, \"f\": 0.18468575421791192, \"sample\": 1}, {\"x\": -0.010101010101010055, \"f\": 0.1562342974516898, \"sample\": 1}, {\"x\": 0.010101010101010166, \"f\": 0.12641410306878031, \"sample\": 1}, {\"x\": 0.030303030303030498, \"f\": 0.09559397764748932, \"sample\": 1}, {\"x\": 0.05050505050505061, \"f\": 0.07303997486657988, \"sample\": 1}, {\"x\": 0.07070707070707072, \"f\": 0.06197787361480397, \"sample\": 1}, {\"x\": 0.09090909090909105, \"f\": 0.05484855978908861, \"sample\": 1}, {\"x\": 0.11111111111111116, \"f\": 0.04531115381637692, \"sample\": 1}, {\"x\": 0.1313131313131315, \"f\": 0.031891854445915246, \"sample\": 1}, {\"x\": 0.1515151515151516, \"f\": 0.01909307997548323, \"sample\": 1}, {\"x\": 0.1717171717171717, \"f\": -0.0005464669010308736, \"sample\": 1}, {\"x\": 0.19191919191919204, \"f\": -0.027056816120406346, \"sample\": 1}, {\"x\": 0.21212121212121215, \"f\": -0.05525058422956492, \"sample\": 1}, {\"x\": 0.2323232323232325, \"f\": -0.0758772375142943, \"sample\": 1}, {\"x\": 0.2525252525252526, \"f\": -0.08896636695822364, \"sample\": 1}, {\"x\": 0.27272727272727293, \"f\": -0.0978333653730413, \"sample\": 1}, {\"x\": 0.29292929292929304, \"f\": -0.10512221009407297, \"sample\": 1}, {\"x\": 0.31313131313131315, \"f\": -0.11392120321761184, \"sample\": 1}, {\"x\": 0.3333333333333335, \"f\": -0.12976533551079783, \"sample\": 1}, {\"x\": 0.3535353535353536, \"f\": -0.15314441648849444, \"sample\": 1}, {\"x\": 0.3737373737373739, \"f\": -0.18405147870292543, \"sample\": 1}, {\"x\": 0.39393939393939403, \"f\": -0.21913967109014956, \"sample\": 1}, {\"x\": 0.41414141414141437, \"f\": -0.24854388895086021, \"sample\": 1}, {\"x\": 0.4343434343434345, \"f\": -0.27468835117203316, \"sample\": 1}, {\"x\": 0.4545454545454546, \"f\": -0.2973693006956861, \"sample\": 1}, {\"x\": 0.4747474747474749, \"f\": -0.3214131692500266, \"sample\": 1}, {\"x\": 0.49494949494949503, \"f\": -0.35419881373052936, \"sample\": 1}, {\"x\": 0.5151515151515154, \"f\": -0.39730755658764194, \"sample\": 1}, {\"x\": 0.5353535353535355, \"f\": -0.4509261511921778, \"sample\": 1}, {\"x\": 0.5555555555555556, \"f\": -0.5113850385912145, \"sample\": 1}, {\"x\": 0.5757575757575759, \"f\": -0.5630727548344623, \"sample\": 1}, {\"x\": 0.595959595959596, \"f\": -0.598766001813387, \"sample\": 1}, {\"x\": 0.6161616161616164, \"f\": -0.6198769533694422, \"sample\": 1}, {\"x\": 0.6363636363636365, \"f\": -0.6231270228357757, \"sample\": 1}, {\"x\": 0.6565656565656568, \"f\": -0.6058986187452391, \"sample\": 1}, {\"x\": 0.6767676767676769, \"f\": -0.5760183908646989, \"sample\": 1}, {\"x\": 0.696969696969697, \"f\": -0.5410852240904135, \"sample\": 1}, {\"x\": 0.7171717171717173, \"f\": -0.5100577673760935, \"sample\": 1}, {\"x\": 0.7373737373737375, \"f\": -0.4904029152804473, \"sample\": 1}, {\"x\": 0.7575757575757578, \"f\": -0.4877677550362016, \"sample\": 1}, {\"x\": 0.7777777777777779, \"f\": -0.49554839665750594, \"sample\": 1}, {\"x\": 0.7979797979797982, \"f\": -0.5126830864273799, \"sample\": 1}, {\"x\": 0.8181818181818183, \"f\": -0.5334745077472322, \"sample\": 1}, {\"x\": 0.8383838383838385, \"f\": -0.5482749748505426, \"sample\": 1}, {\"x\": 0.8585858585858588, \"f\": -0.558185821960016, \"sample\": 1}, {\"x\": 0.8787878787878789, \"f\": -0.5705830895077105, \"sample\": 1}, {\"x\": 0.8989898989898992, \"f\": -0.5844495327909991, \"sample\": 1}, {\"x\": 0.9191919191919193, \"f\": -0.5970928040451141, \"sample\": 1}, {\"x\": 0.9393939393939394, \"f\": -0.6001267474757513, \"sample\": 1}, {\"x\": 0.9595959595959598, \"f\": -0.5969724497196444, \"sample\": 1}, {\"x\": 0.9797979797979799, \"f\": -0.5973770579486161, \"sample\": 1}, {\"x\": 1.0, \"f\": -0.5986978986370232, \"sample\": 1}, {\"x\": -1.0, \"f\": -2.2984310932822263, \"sample\": 2}, {\"x\": -0.9797979797979798, \"f\": -2.2727639303304135, \"sample\": 2}, {\"x\": -0.9595959595959596, \"f\": -2.2358067578950513, \"sample\": 2}, {\"x\": -0.9393939393939394, \"f\": -2.1908164695479297, \"sample\": 2}, {\"x\": -0.9191919191919192, \"f\": -2.1407540764071156, \"sample\": 2}, {\"x\": -0.898989898989899, \"f\": -2.093364624182843, \"sample\": 2}, {\"x\": -0.8787878787878788, \"f\": -2.049751085077599, \"sample\": 2}, {\"x\": -0.8585858585858586, \"f\": -2.0077711531141604, \"sample\": 2}, {\"x\": -0.8383838383838383, \"f\": -1.9718594398474074, \"sample\": 2}, {\"x\": -0.8181818181818181, \"f\": -1.9387172959849082, \"sample\": 2}, {\"x\": -0.797979797979798, \"f\": -1.902908708994097, \"sample\": 2}, {\"x\": -0.7777777777777778, \"f\": -1.8614840063259166, \"sample\": 2}, {\"x\": -0.7575757575757576, \"f\": -1.8151411884350612, \"sample\": 2}, {\"x\": -0.7373737373737373, \"f\": -1.7562046518580159, \"sample\": 2}, {\"x\": -0.7171717171717171, \"f\": -1.6782941833049638, \"sample\": 2}, {\"x\": -0.696969696969697, \"f\": -1.5939205417409443, \"sample\": 2}, {\"x\": -0.6767676767676767, \"f\": -1.5194102384396748, \"sample\": 2}, {\"x\": -0.6565656565656566, \"f\": -1.4622954164167579, \"sample\": 2}, {\"x\": -0.6363636363636364, \"f\": -1.4243951495272404, \"sample\": 2}, {\"x\": -0.6161616161616161, \"f\": -1.3952165171002082, \"sample\": 2}, {\"x\": -0.5959595959595959, \"f\": -1.3692007802521216, \"sample\": 2}, {\"x\": -0.5757575757575757, \"f\": -1.3496668189017225, \"sample\": 2}, {\"x\": -0.5555555555555556, \"f\": -1.330864646957912, \"sample\": 2}, {\"x\": -0.5353535353535352, \"f\": -1.3124762358714772, \"sample\": 2}, {\"x\": -0.5151515151515151, \"f\": -1.297863967148215, \"sample\": 2}, {\"x\": -0.4949494949494949, \"f\": -1.2895641006270473, \"sample\": 2}, {\"x\": -0.4747474747474747, \"f\": -1.2913626851716273, \"sample\": 2}, {\"x\": -0.4545454545454545, \"f\": -1.2903175349165563, \"sample\": 2}, {\"x\": -0.43434343434343425, \"f\": -1.2857900483005211, \"sample\": 2}, {\"x\": -0.41414141414141414, \"f\": -1.2892789650630798, \"sample\": 2}, {\"x\": -0.3939393939393939, \"f\": -1.306149903064937, \"sample\": 2}, {\"x\": -0.3737373737373737, \"f\": -1.3291420636676792, \"sample\": 2}, {\"x\": -0.3535353535353535, \"f\": -1.353493334539869, \"sample\": 2}, {\"x\": -0.33333333333333326, \"f\": -1.3814907857866896, \"sample\": 2}, {\"x\": -0.31313131313131304, \"f\": -1.417642403918185, \"sample\": 2}, {\"x\": -0.2929292929292928, \"f\": -1.457163970442173, \"sample\": 2}, {\"x\": -0.2727272727272727, \"f\": -1.4925222486321181, \"sample\": 2}, {\"x\": -0.2525252525252525, \"f\": -1.5121276762348967, \"sample\": 2}, {\"x\": -0.23232323232323226, \"f\": -1.518816115463784, \"sample\": 2}, {\"x\": -0.21212121212121204, \"f\": -1.51667923700542, \"sample\": 2}, {\"x\": -0.19191919191919182, \"f\": -1.5126087878004724, \"sample\": 2}, {\"x\": -0.1717171717171716, \"f\": -1.5094043987163273, \"sample\": 2}, {\"x\": -0.1515151515151515, \"f\": -1.5098822797525442, \"sample\": 2}, {\"x\": -0.13131313131313127, \"f\": -1.5064058969186223, \"sample\": 2}, {\"x\": -0.11111111111111105, \"f\": -1.503079099089591, \"sample\": 2}, {\"x\": -0.09090909090909083, \"f\": -1.5069574085422934, \"sample\": 2}, {\"x\": -0.07070707070707061, \"f\": -1.513888679994532, \"sample\": 2}, {\"x\": -0.050505050505050386, \"f\": -1.5201190988028863, \"sample\": 2}, {\"x\": -0.030303030303030276, \"f\": -1.5280228930756423, \"sample\": 2}, {\"x\": -0.010101010101010055, \"f\": -1.539679598795192, \"sample\": 2}, {\"x\": 0.010101010101010166, \"f\": -1.550890414303273, \"sample\": 2}, {\"x\": 0.030303030303030498, \"f\": -1.5600689811549233, \"sample\": 2}, {\"x\": 0.05050505050505061, \"f\": -1.5503275948128574, \"sample\": 2}, {\"x\": 0.07070707070707072, \"f\": -1.513083097367565, \"sample\": 2}, {\"x\": 0.09090909090909105, \"f\": -1.4513917013955395, \"sample\": 2}, {\"x\": 0.11111111111111116, \"f\": -1.3675235215801511, \"sample\": 2}, {\"x\": 0.1313131313131315, \"f\": -1.2645346894293343, \"sample\": 2}, {\"x\": 0.1515151515151516, \"f\": -1.1409461479421823, \"sample\": 2}, {\"x\": 0.1717171717171717, \"f\": -0.9943727684191358, \"sample\": 2}, {\"x\": 0.19191919191919204, \"f\": -0.830061494549464, \"sample\": 2}, {\"x\": 0.21212121212121215, \"f\": -0.6621954661043571, \"sample\": 2}, {\"x\": 0.2323232323232325, \"f\": -0.5097680521542283, \"sample\": 2}, {\"x\": 0.2525252525252526, \"f\": -0.38560108986121977, \"sample\": 2}, {\"x\": 0.27272727272727293, \"f\": -0.27880876829092094, \"sample\": 2}, {\"x\": 0.29292929292929304, \"f\": -0.19002974522164157, \"sample\": 2}, {\"x\": 0.31313131313131315, \"f\": -0.11201876808915076, \"sample\": 2}, {\"x\": 0.3333333333333335, \"f\": -0.04452006709575518, \"sample\": 2}, {\"x\": 0.3535353535353536, \"f\": 0.006167251329107449, \"sample\": 2}, {\"x\": 0.3737373737373739, \"f\": 0.043331581685607176, \"sample\": 2}, {\"x\": 0.39393939393939403, \"f\": 0.07422151826013156, \"sample\": 2}, {\"x\": 0.41414141414141437, \"f\": 0.10599531269656498, \"sample\": 2}, {\"x\": 0.4343434343434345, \"f\": 0.13283754555087582, \"sample\": 2}, {\"x\": 0.4545454545454546, \"f\": 0.16236740427610605, \"sample\": 2}, {\"x\": 0.4747474747474749, \"f\": 0.19708335369657762, \"sample\": 2}, {\"x\": 0.49494949494949503, \"f\": 0.2283405866930932, \"sample\": 2}, {\"x\": 0.5151515151515154, \"f\": 0.2547998196528735, \"sample\": 2}, {\"x\": 0.5353535353535355, \"f\": 0.2822002487056767, \"sample\": 2}, {\"x\": 0.5555555555555556, \"f\": 0.3124730234882255, \"sample\": 2}, {\"x\": 0.5757575757575759, \"f\": 0.3516539904769456, \"sample\": 2}, {\"x\": 0.595959595959596, \"f\": 0.4018278110604654, \"sample\": 2}, {\"x\": 0.6161616161616164, \"f\": 0.45900284645890527, \"sample\": 2}, {\"x\": 0.6363636363636365, \"f\": 0.5159133391881152, \"sample\": 2}, {\"x\": 0.6565656565656568, \"f\": 0.5713796969608402, \"sample\": 2}, {\"x\": 0.6767676767676769, \"f\": 0.6192334132189858, \"sample\": 2}, {\"x\": 0.696969696969697, \"f\": 0.6578542242375863, \"sample\": 2}, {\"x\": 0.7171717171717173, \"f\": 0.6916034983244229, \"sample\": 2}, {\"x\": 0.7373737373737375, \"f\": 0.7126931328147538, \"sample\": 2}, {\"x\": 0.7575757575757578, \"f\": 0.7165870506502093, \"sample\": 2}, {\"x\": 0.7777777777777779, \"f\": 0.7037583186558705, \"sample\": 2}, {\"x\": 0.7979797979797982, \"f\": 0.6772129256351953, \"sample\": 2}, {\"x\": 0.8181818181818183, \"f\": 0.6452013306454214, \"sample\": 2}, {\"x\": 0.8383838383838385, \"f\": 0.6166984548495753, \"sample\": 2}, {\"x\": 0.8585858585858588, \"f\": 0.5953689998922475, \"sample\": 2}, {\"x\": 0.8787878787878789, \"f\": 0.581554237413699, \"sample\": 2}, {\"x\": 0.8989898989898992, \"f\": 0.5662181101123612, \"sample\": 2}, {\"x\": 0.9191919191919193, \"f\": 0.5563943939365487, \"sample\": 2}, {\"x\": 0.9393939393939394, \"f\": 0.5517164795807102, \"sample\": 2}, {\"x\": 0.9595959595959598, \"f\": 0.5506124644158319, \"sample\": 2}, {\"x\": 0.9797979797979799, \"f\": 0.5503260191031598, \"sample\": 2}, {\"x\": 1.0, \"f\": 0.5478538050414851, \"sample\": 2}]}}, {\"mode\": \"vega-lite\"});\n",
       "</script>"
      ],
      "text/plain": [
       "alt.Chart(...)"
      ]
     },
     "execution_count": 39,
     "metadata": {},
     "output_type": "execute_result"
    }
   ],
   "source": [
    "blackbox1 = bb.GPBlackBox(ndim=1)\n",
    "xx = blackbox1.xgrid(npoints=100)[:, 0]\n",
    "prior_samples = pd.concat([\n",
    "    pd.DataFrame(dict(x=xx, f=bb.prior_draw(blackbox1.kernel, xx), sample=s))\n",
    "    for s in range(3)])\n",
    "prior_chart = (\n",
    "    alt.Chart(prior_samples)\n",
    "    .mark_line()\n",
    "    .encode(x='x', y='f', color='sample:N'))\n",
    "prior_chart.properties(width=800, height=300)"
   ]
  },
  {
   "cell_type": "markdown",
   "metadata": {},
   "source": [
    "### A function of one input\n",
    "Now it is your turn.\n",
    "You have to optimise a function of one input with domain `[-1, 1]`.\n",
    "To start you off you already have three evaluations."
   ]
  },
  {
   "cell_type": "code",
   "execution_count": 43,
   "metadata": {},
   "outputs": [
    {
     "data": {
      "text/html": [
       "\n",
       "<div id=\"altair-viz-53e5183109204834a54e25784f0f707e\"></div>\n",
       "<script type=\"text/javascript\">\n",
       "  (function(spec, embedOpt){\n",
       "    let outputDiv = document.currentScript.previousElementSibling;\n",
       "    if (outputDiv.id !== \"altair-viz-53e5183109204834a54e25784f0f707e\") {\n",
       "      outputDiv = document.getElementById(\"altair-viz-53e5183109204834a54e25784f0f707e\");\n",
       "    }\n",
       "    const paths = {\n",
       "      \"vega\": \"https://cdn.jsdelivr.net/npm//vega@5?noext\",\n",
       "      \"vega-lib\": \"https://cdn.jsdelivr.net/npm//vega-lib?noext\",\n",
       "      \"vega-lite\": \"https://cdn.jsdelivr.net/npm//vega-lite@4.8.1?noext\",\n",
       "      \"vega-embed\": \"https://cdn.jsdelivr.net/npm//vega-embed@6?noext\",\n",
       "    };\n",
       "\n",
       "    function loadScript(lib) {\n",
       "      return new Promise(function(resolve, reject) {\n",
       "        var s = document.createElement('script');\n",
       "        s.src = paths[lib];\n",
       "        s.async = true;\n",
       "        s.onload = () => resolve(paths[lib]);\n",
       "        s.onerror = () => reject(`Error loading script: ${paths[lib]}`);\n",
       "        document.getElementsByTagName(\"head\")[0].appendChild(s);\n",
       "      });\n",
       "    }\n",
       "\n",
       "    function showError(err) {\n",
       "      outputDiv.innerHTML = `<div class=\"error\" style=\"color:red;\">${err}</div>`;\n",
       "      throw err;\n",
       "    }\n",
       "\n",
       "    function displayChart(vegaEmbed) {\n",
       "      vegaEmbed(outputDiv, spec, embedOpt)\n",
       "        .catch(err => showError(`Javascript Error: ${err.message}<br>This usually means there's a typo in your chart specification. See the javascript console for the full traceback.`));\n",
       "    }\n",
       "\n",
       "    if(typeof define === \"function\" && define.amd) {\n",
       "      requirejs.config({paths});\n",
       "      require([\"vega-embed\"], displayChart, err => showError(`Error loading script: ${err.message}`));\n",
       "    } else if (typeof vegaEmbed === \"function\") {\n",
       "      displayChart(vegaEmbed);\n",
       "    } else {\n",
       "      loadScript(\"vega\")\n",
       "        .then(() => loadScript(\"vega-lite\"))\n",
       "        .then(() => loadScript(\"vega-embed\"))\n",
       "        .catch(showError)\n",
       "        .then(() => displayChart(vegaEmbed));\n",
       "    }\n",
       "  })({\"config\": {\"view\": {\"continuousWidth\": 400, \"continuousHeight\": 300}}, \"data\": {\"name\": \"data-61433b151ed202e4dc114ea4f85a2d16\"}, \"mark\": {\"type\": \"circle\", \"color\": \"red\", \"size\": 100}, \"encoding\": {\"x\": {\"type\": \"quantitative\", \"field\": \"x0\", \"scale\": {\"domain\": [-1, 1]}}, \"y\": {\"type\": \"quantitative\", \"field\": \"y\"}}, \"height\": 300, \"width\": 800, \"$schema\": \"https://vega.github.io/schema/vega-lite/v4.8.1.json\", \"datasets\": {\"data-61433b151ed202e4dc114ea4f85a2d16\": [{\"x0\": 0.0, \"y\": 0.20307063371816847}, {\"x0\": -0.6, \"y\": 0.1456134553077475}, {\"x0\": 0.6, \"y\": -0.6099111590913747}]}}, {\"mode\": \"vega-lite\"});\n",
       "</script>"
      ],
      "text/plain": [
       "alt.Chart(...)"
      ]
     },
     "execution_count": 43,
     "metadata": {},
     "output_type": "execute_result"
    }
   ],
   "source": [
    "blackbox1 = bb.GPBlackBox(ndim=1)\n",
    "y = blackbox1([-.6])[0][0]\n",
    "y = blackbox1([.6])[0][0]\n",
    "blackbox1.plot_xy().properties(width=800, height=300)"
   ]
  },
  {
   "cell_type": "markdown",
   "metadata": {},
   "source": [
    "Now you should choose which input point (`x0`) to evaluate the function at:"
   ]
  },
  {
   "cell_type": "code",
   "execution_count": 44,
   "metadata": {},
   "outputs": [
    {
     "data": {
      "application/vnd.jupyter.widget-view+json": {
       "model_id": "d820e5dcb56f4b60aa0566555c9ca302",
       "version_major": 2,
       "version_minor": 0
      },
      "text/plain": [
       "FloatSlider(value=0.2, description='x0:', max=1.0, min=-1.0, step=0.01)"
      ]
     },
     "metadata": {},
     "output_type": "display_data"
    }
   ],
   "source": [
    "x0 = widgets.FloatSlider(\n",
    "    value=0.2,\n",
    "    min=bb.DOMAIN_MIN,\n",
    "    max=bb.DOMAIN_MAX,\n",
    "    step=0.01,\n",
    "    description='x0:',\n",
    "    readout_format='.2f',\n",
    ")\n",
    "display(x0)"
   ]
  },
  {
   "cell_type": "markdown",
   "metadata": {},
   "source": [
    "Adjust the slider above and repeatedly execute the following cell to see the evaluations.\n",
    "\n",
    "Evaluate the function and plot all the noisy evaluations `y` so far:"
   ]
  },
  {
   "cell_type": "code",
   "execution_count": 54,
   "metadata": {},
   "outputs": [
    {
     "name": "stdout",
     "output_type": "stream",
     "text": [
      "Evaluated black box at -0.26; result=0.5653256206087114\n"
     ]
    },
    {
     "data": {
      "text/html": [
       "\n",
       "<div id=\"altair-viz-2cc32c44580f467583144eff451f8ceb\"></div>\n",
       "<script type=\"text/javascript\">\n",
       "  (function(spec, embedOpt){\n",
       "    let outputDiv = document.currentScript.previousElementSibling;\n",
       "    if (outputDiv.id !== \"altair-viz-2cc32c44580f467583144eff451f8ceb\") {\n",
       "      outputDiv = document.getElementById(\"altair-viz-2cc32c44580f467583144eff451f8ceb\");\n",
       "    }\n",
       "    const paths = {\n",
       "      \"vega\": \"https://cdn.jsdelivr.net/npm//vega@5?noext\",\n",
       "      \"vega-lib\": \"https://cdn.jsdelivr.net/npm//vega-lib?noext\",\n",
       "      \"vega-lite\": \"https://cdn.jsdelivr.net/npm//vega-lite@4.8.1?noext\",\n",
       "      \"vega-embed\": \"https://cdn.jsdelivr.net/npm//vega-embed@6?noext\",\n",
       "    };\n",
       "\n",
       "    function loadScript(lib) {\n",
       "      return new Promise(function(resolve, reject) {\n",
       "        var s = document.createElement('script');\n",
       "        s.src = paths[lib];\n",
       "        s.async = true;\n",
       "        s.onload = () => resolve(paths[lib]);\n",
       "        s.onerror = () => reject(`Error loading script: ${paths[lib]}`);\n",
       "        document.getElementsByTagName(\"head\")[0].appendChild(s);\n",
       "      });\n",
       "    }\n",
       "\n",
       "    function showError(err) {\n",
       "      outputDiv.innerHTML = `<div class=\"error\" style=\"color:red;\">${err}</div>`;\n",
       "      throw err;\n",
       "    }\n",
       "\n",
       "    function displayChart(vegaEmbed) {\n",
       "      vegaEmbed(outputDiv, spec, embedOpt)\n",
       "        .catch(err => showError(`Javascript Error: ${err.message}<br>This usually means there's a typo in your chart specification. See the javascript console for the full traceback.`));\n",
       "    }\n",
       "\n",
       "    if(typeof define === \"function\" && define.amd) {\n",
       "      requirejs.config({paths});\n",
       "      require([\"vega-embed\"], displayChart, err => showError(`Error loading script: ${err.message}`));\n",
       "    } else if (typeof vegaEmbed === \"function\") {\n",
       "      displayChart(vegaEmbed);\n",
       "    } else {\n",
       "      loadScript(\"vega\")\n",
       "        .then(() => loadScript(\"vega-lite\"))\n",
       "        .then(() => loadScript(\"vega-embed\"))\n",
       "        .catch(showError)\n",
       "        .then(() => displayChart(vegaEmbed));\n",
       "    }\n",
       "  })({\"config\": {\"view\": {\"continuousWidth\": 400, \"continuousHeight\": 300}}, \"data\": {\"name\": \"data-1e1e1e45356563ba051b9324299726a5\"}, \"mark\": {\"type\": \"circle\", \"color\": \"red\", \"size\": 100}, \"encoding\": {\"x\": {\"type\": \"quantitative\", \"field\": \"x0\", \"scale\": {\"domain\": [-1, 1]}}, \"y\": {\"type\": \"quantitative\", \"field\": \"y\"}}, \"height\": 300, \"width\": 800, \"$schema\": \"https://vega.github.io/schema/vega-lite/v4.8.1.json\", \"datasets\": {\"data-1e1e1e45356563ba051b9324299726a5\": [{\"x0\": 0.0, \"y\": 0.20307063371816847}, {\"x0\": -0.6, \"y\": 0.1456134553077475}, {\"x0\": 0.6, \"y\": -0.6099111590913747}, {\"x0\": 0.2, \"y\": -0.21254020793620418}, {\"x0\": -0.33, \"y\": 0.8465873844668853}, {\"x0\": -0.9, \"y\": -0.4227678649829255}, {\"x0\": -0.21, \"y\": 0.7320394346295105}, {\"x0\": -0.41, \"y\": 0.8386008122060572}, {\"x0\": 0.91, \"y\": 0.34109989121585355}, {\"x0\": 1.0, \"y\": 0.9175923015494931}, {\"x0\": 0.95, \"y\": 0.735061238851136}, {\"x0\": -0.5, \"y\": 0.47689923321418703}, {\"x0\": -0.26, \"y\": 0.5653256206087114}]}}, {\"mode\": \"vega-lite\"});\n",
       "</script>"
      ],
      "text/plain": [
       "alt.Chart(...)"
      ]
     },
     "execution_count": 54,
     "metadata": {},
     "output_type": "execute_result"
    }
   ],
   "source": [
    "y = blackbox1([x0.value])[0][0]\n",
    "print(f'Evaluated black box at {x0.value}; result={y}')\n",
    "blackbox1.plot_xy().properties(width=800, height=300)"
   ]
  },
  {
   "cell_type": "markdown",
   "metadata": {},
   "source": [
    "Now go back and choose another point at which to evaluate the black box function.\n",
    "\n",
    "If you have finished evaluating the function at different points and you are confident where the maximum is, you can make a guess before executing the cells below.\n",
    "\n",
    "Show the function as a line and the noisy data we received as evaluations of it:"
   ]
  },
  {
   "cell_type": "code",
   "execution_count": 55,
   "metadata": {},
   "outputs": [
    {
     "data": {
      "text/html": [
       "\n",
       "<div id=\"altair-viz-3a6b2652e2324e06828b9d761cbc9887\"></div>\n",
       "<script type=\"text/javascript\">\n",
       "  (function(spec, embedOpt){\n",
       "    let outputDiv = document.currentScript.previousElementSibling;\n",
       "    if (outputDiv.id !== \"altair-viz-3a6b2652e2324e06828b9d761cbc9887\") {\n",
       "      outputDiv = document.getElementById(\"altair-viz-3a6b2652e2324e06828b9d761cbc9887\");\n",
       "    }\n",
       "    const paths = {\n",
       "      \"vega\": \"https://cdn.jsdelivr.net/npm//vega@5?noext\",\n",
       "      \"vega-lib\": \"https://cdn.jsdelivr.net/npm//vega-lib?noext\",\n",
       "      \"vega-lite\": \"https://cdn.jsdelivr.net/npm//vega-lite@4.8.1?noext\",\n",
       "      \"vega-embed\": \"https://cdn.jsdelivr.net/npm//vega-embed@6?noext\",\n",
       "    };\n",
       "\n",
       "    function loadScript(lib) {\n",
       "      return new Promise(function(resolve, reject) {\n",
       "        var s = document.createElement('script');\n",
       "        s.src = paths[lib];\n",
       "        s.async = true;\n",
       "        s.onload = () => resolve(paths[lib]);\n",
       "        s.onerror = () => reject(`Error loading script: ${paths[lib]}`);\n",
       "        document.getElementsByTagName(\"head\")[0].appendChild(s);\n",
       "      });\n",
       "    }\n",
       "\n",
       "    function showError(err) {\n",
       "      outputDiv.innerHTML = `<div class=\"error\" style=\"color:red;\">${err}</div>`;\n",
       "      throw err;\n",
       "    }\n",
       "\n",
       "    function displayChart(vegaEmbed) {\n",
       "      vegaEmbed(outputDiv, spec, embedOpt)\n",
       "        .catch(err => showError(`Javascript Error: ${err.message}<br>This usually means there's a typo in your chart specification. See the javascript console for the full traceback.`));\n",
       "    }\n",
       "\n",
       "    if(typeof define === \"function\" && define.amd) {\n",
       "      requirejs.config({paths});\n",
       "      require([\"vega-embed\"], displayChart, err => showError(`Error loading script: ${err.message}`));\n",
       "    } else if (typeof vegaEmbed === \"function\") {\n",
       "      displayChart(vegaEmbed);\n",
       "    } else {\n",
       "      loadScript(\"vega\")\n",
       "        .then(() => loadScript(\"vega-lite\"))\n",
       "        .then(() => loadScript(\"vega-embed\"))\n",
       "        .catch(showError)\n",
       "        .then(() => displayChart(vegaEmbed));\n",
       "    }\n",
       "  })({\"config\": {\"view\": {\"continuousWidth\": 400, \"continuousHeight\": 300}}, \"layer\": [{\"data\": {\"name\": \"data-1e1e1e45356563ba051b9324299726a5\"}, \"mark\": {\"type\": \"circle\", \"color\": \"red\", \"size\": 100}, \"encoding\": {\"x\": {\"type\": \"quantitative\", \"field\": \"x0\", \"scale\": {\"domain\": [-1, 1]}}, \"y\": {\"type\": \"quantitative\", \"field\": \"y\"}}}, {\"data\": {\"name\": \"data-223c4841aa45927003d9872d095ece0e\"}, \"mark\": \"line\", \"encoding\": {\"x\": {\"type\": \"quantitative\", \"field\": \"x0\"}, \"y\": {\"type\": \"quantitative\", \"field\": \"f\"}}}], \"height\": 300, \"width\": 800, \"$schema\": \"https://vega.github.io/schema/vega-lite/v4.8.1.json\", \"datasets\": {\"data-1e1e1e45356563ba051b9324299726a5\": [{\"x0\": 0.0, \"y\": 0.20307063371816847}, {\"x0\": -0.6, \"y\": 0.1456134553077475}, {\"x0\": 0.6, \"y\": -0.6099111590913747}, {\"x0\": 0.2, \"y\": -0.21254020793620418}, {\"x0\": -0.33, \"y\": 0.8465873844668853}, {\"x0\": -0.9, \"y\": -0.4227678649829255}, {\"x0\": -0.21, \"y\": 0.7320394346295105}, {\"x0\": -0.41, \"y\": 0.8386008122060572}, {\"x0\": 0.91, \"y\": 0.34109989121585355}, {\"x0\": 1.0, \"y\": 0.9175923015494931}, {\"x0\": 0.95, \"y\": 0.735061238851136}, {\"x0\": -0.5, \"y\": 0.47689923321418703}, {\"x0\": -0.26, \"y\": 0.5653256206087114}], \"data-223c4841aa45927003d9872d095ece0e\": [{\"x0\": -1.0, \"f\": -0.17711868212040702}, {\"x0\": -0.9797979797979798, \"f\": -0.15662877770946151}, {\"x0\": -0.9595959595959596, \"f\": -0.1272808272140422}, {\"x0\": -0.9393939393939394, \"f\": -0.09091936804085665}, {\"x0\": -0.9191919191919192, \"f\": -0.050001173505083485}, {\"x0\": -0.898989898989899, \"f\": -0.015514214821963301}, {\"x0\": -0.8787878787878788, \"f\": 0.0157981295176175}, {\"x0\": -0.8585858585858586, \"f\": 0.052195302294405166}, {\"x0\": -0.8383838383838383, \"f\": 0.09901736501250213}, {\"x0\": -0.8181818181818181, \"f\": 0.16221864484646148}, {\"x0\": -0.797979797979798, \"f\": 0.23315893679245692}, {\"x0\": -0.7777777777777778, \"f\": 0.3040306860535644}, {\"x0\": -0.7575757575757576, \"f\": 0.37281436223558095}, {\"x0\": -0.7373737373737373, \"f\": 0.428955422992768}, {\"x0\": -0.7171717171717171, \"f\": 0.4711643935076433}, {\"x0\": -0.696969696969697, \"f\": 0.502728560898748}, {\"x0\": -0.6767676767676767, \"f\": 0.5130055075371349}, {\"x0\": -0.6565656565656566, \"f\": 0.5163332107397464}, {\"x0\": -0.6363636363636364, \"f\": 0.520875370901571}, {\"x0\": -0.6161616161616161, \"f\": 0.5279056015630006}, {\"x0\": -0.5959595959595959, \"f\": 0.5379773053053488}, {\"x0\": -0.5757575757575757, \"f\": 0.5437888314719133}, {\"x0\": -0.5555555555555556, \"f\": 0.5435141862229644}, {\"x0\": -0.5353535353535352, \"f\": 0.5506612647624823}, {\"x0\": -0.5151515151515151, \"f\": 0.5673626206057467}, {\"x0\": -0.4949494949494949, \"f\": 0.5910978755599428}, {\"x0\": -0.4747474747474747, \"f\": 0.6230065733120942}, {\"x0\": -0.4545454545454545, \"f\": 0.647887644173635}, {\"x0\": -0.43434343434343425, \"f\": 0.6752022938845622}, {\"x0\": -0.41414141414141414, \"f\": 0.6978725978527336}, {\"x0\": -0.3939393939393939, \"f\": 0.7123521653333122}, {\"x0\": -0.3737373737373737, \"f\": 0.7156809346316003}, {\"x0\": -0.3535353535353535, \"f\": 0.7093192055661558}, {\"x0\": -0.33333333333333326, \"f\": 0.6885805643237528}, {\"x0\": -0.31313131313131304, \"f\": 0.6625115127528869}, {\"x0\": -0.2929292929292928, \"f\": 0.6337429278409352}, {\"x0\": -0.2727272727272727, \"f\": 0.594881557951491}, {\"x0\": -0.2525252525252525, \"f\": 0.5436256025578333}, {\"x0\": -0.23232323232323226, \"f\": 0.47468724565539566}, {\"x0\": -0.21212121212121204, \"f\": 0.4105848300451402}, {\"x0\": -0.19191919191919182, \"f\": 0.35008267573989205}, {\"x0\": -0.1717171717171716, \"f\": 0.29376209405368514}, {\"x0\": -0.1515151515151515, \"f\": 0.23663556985230882}, {\"x0\": -0.13131313131313127, \"f\": 0.17757089611963617}, {\"x0\": -0.11111111111111105, \"f\": 0.12424269190534859}, {\"x0\": -0.09090909090909083, \"f\": 0.07725175396040079}, {\"x0\": -0.07070707070707061, \"f\": 0.032020536022090096}, {\"x0\": -0.050505050505050386, \"f\": -0.012082819447682691}, {\"x0\": -0.030303030303030276, \"f\": -0.04940246242875612}, {\"x0\": -0.010101010101010055, \"f\": -0.08321177756109413}, {\"x0\": 0.010101010101010166, \"f\": -0.10706782461072309}, {\"x0\": 0.030303030303030498, \"f\": -0.11964140489759562}, {\"x0\": 0.05050505050505061, \"f\": -0.12445847383130282}, {\"x0\": 0.07070707070707072, \"f\": -0.1315408486048896}, {\"x0\": 0.09090909090909105, \"f\": -0.14187720741392473}, {\"x0\": 0.11111111111111116, \"f\": -0.15256224776175772}, {\"x0\": 0.1313131313131315, \"f\": -0.1697420657442951}, {\"x0\": 0.1515151515151516, \"f\": -0.18730802028959276}, {\"x0\": 0.1717171717171717, \"f\": -0.2097478401182835}, {\"x0\": 0.19191919191919204, \"f\": -0.24990192894281452}, {\"x0\": 0.21212121212121215, \"f\": -0.3052872076463602}, {\"x0\": 0.2323232323232325, \"f\": -0.36060709634131755}, {\"x0\": 0.2525252525252526, \"f\": -0.4115066913939466}, {\"x0\": 0.27272727272727293, \"f\": -0.465911559532137}, {\"x0\": 0.29292929292929304, \"f\": -0.5181980783627863}, {\"x0\": 0.31313131313131315, \"f\": -0.5809492628141866}, {\"x0\": 0.3333333333333335, \"f\": -0.6504337557637639}, {\"x0\": 0.3535353535353536, \"f\": -0.7278723569968231}, {\"x0\": 0.3737373737373739, \"f\": -0.8051754121463426}, {\"x0\": 0.39393939393939403, \"f\": -0.8720797629288414}, {\"x0\": 0.41414141414141437, \"f\": -0.9261852036614278}, {\"x0\": 0.4343434343434345, \"f\": -0.9592449787993895}, {\"x0\": 0.4545454545454546, \"f\": -0.9740737058821798}, {\"x0\": 0.4747474747474749, \"f\": -0.9744412652453063}, {\"x0\": 0.49494949494949503, \"f\": -0.9597152850941981}, {\"x0\": 0.5151515151515154, \"f\": -0.9280929124230558}, {\"x0\": 0.5353535353535355, \"f\": -0.8818264976544753}, {\"x0\": 0.5555555555555556, \"f\": -0.8314612511400625}, {\"x0\": 0.5757575757575759, \"f\": -0.7716192494952367}, {\"x0\": 0.595959595959596, \"f\": -0.7057409249310124}, {\"x0\": 0.6161616161616164, \"f\": -0.6286452437877486}, {\"x0\": 0.6363636363636365, \"f\": -0.544245783692635}, {\"x0\": 0.6565656565656568, \"f\": -0.4690796566688802}, {\"x0\": 0.6767676767676769, \"f\": -0.3871318506288336}, {\"x0\": 0.696969696969697, \"f\": -0.30394214166548794}, {\"x0\": 0.7171717171717173, \"f\": -0.21968514768267233}, {\"x0\": 0.7373737373737375, \"f\": -0.142010990714692}, {\"x0\": 0.7575757575757578, \"f\": -0.07618581177080536}, {\"x0\": 0.7777777777777779, \"f\": -0.013665730586856571}, {\"x0\": 0.7979797979797982, \"f\": 0.04706183716919321}, {\"x0\": 0.8181818181818183, \"f\": 0.09241133267724531}, {\"x0\": 0.8383838383838385, \"f\": 0.13007706786337925}, {\"x0\": 0.8585858585858588, \"f\": 0.16300950788729662}, {\"x0\": 0.8787878787878789, \"f\": 0.19258970715589918}, {\"x0\": 0.8989898989898992, \"f\": 0.21601517709999707}, {\"x0\": 0.9191919191919193, \"f\": 0.2455499962888128}, {\"x0\": 0.9393939393939394, \"f\": 0.29231731144717565}, {\"x0\": 0.9595959595959598, \"f\": 0.3321562816241028}, {\"x0\": 0.9797979797979799, \"f\": 0.3782530794173402}, {\"x0\": 1.0, \"f\": 0.43578489381041063}]}}, {\"mode\": \"vega-lite\"});\n",
       "</script>"
      ],
      "text/plain": [
       "alt.LayerChart(...)"
      ]
     },
     "execution_count": 55,
     "metadata": {},
     "output_type": "execute_result"
    }
   ],
   "source": [
    "f1 = blackbox1.sample_f(100)\n",
    "chart1f = (\n",
    "    alt.Chart(f1)\n",
    "    .mark_line()\n",
    "    .encode(x='x0', y='f'))\n",
    "chart1y = blackbox1.plot_xy()\n",
    "chart1 = alt.layer(chart1y, chart1f)\n",
    "chart1.properties(width=800, height=300)"
   ]
  },
  {
   "cell_type": "markdown",
   "metadata": {},
   "source": [
    "### Bayesian optimisation for 1-dimensional input\n",
    "Now we will try Bayesian optimisation using the [Trieste](https://secondmind-labs.github.io/trieste/) package which uses [GPflow](https://gpflow.readthedocs.io/en/master/) for Gaussian process regression.\n",
    "This section is based on the Trieste tutorial."
   ]
  },
  {
   "cell_type": "code",
   "execution_count": 56,
   "metadata": {},
   "outputs": [],
   "source": [
    "model1 = gpflow.models.GPR((f1['x0'].to_numpy().reshape((-1, 1)), f1['f'].to_numpy().reshape((-1, 1))),\n",
    "                           kernel=gpflow.kernels.Matern52(lengthscales=.4),\n",
    "                           noise_variance=1.1e-6)\n",
    "\n",
    "def blackbox_bo1(x):\n",
    "    mean, var = model1.predict_y(tf.reshape(x, (-1, 1)))\n",
    "    return - bb.rng.normal(loc=mean, scale=np.sqrt(blackbox1.noise_variance))"
   ]
  },
  {
   "cell_type": "markdown",
   "metadata": {},
   "source": [
    "#### Initial sample over search space"
   ]
  },
  {
   "cell_type": "code",
   "execution_count": 58,
   "metadata": {},
   "outputs": [],
   "source": [
    "observer = mk_observer(blackbox_bo1, OBJECTIVE)\n",
    "lower_bound = tf.cast([bb.DOMAIN_MIN], gpflow.default_float())\n",
    "upper_bound = tf.cast([bb.DOMAIN_MAX], gpflow.default_float())\n",
    "search_space = trieste.space.Box(lower_bound, upper_bound)\n",
    "\n",
    "num_initial_points = 5\n",
    "initial_query_points = search_space.sample(num_initial_points)\n",
    "initial_data = observer(initial_query_points)"
   ]
  },
  {
   "cell_type": "markdown",
   "metadata": {},
   "source": [
    "#### Model the objective function"
   ]
  },
  {
   "cell_type": "code",
   "execution_count": 59,
   "metadata": {},
   "outputs": [
    {
     "name": "stdout",
     "output_type": "stream",
     "text": [
      "╒═════════════════════════╤═══════════╤══════════════════╤═════════╤═════════════╤═════════╤═════════╤═════════════════════╕\n",
      "│ name                    │ class     │ transform        │ prior   │ trainable   │ shape   │ dtype   │ value               │\n",
      "╞═════════════════════════╪═══════════╪══════════════════╪═════════╪═════════════╪═════════╪═════════╪═════════════════════╡\n",
      "│ GPR.kernel.variance     │ Parameter │ Softplus         │         │ True        │ ()      │ float64 │ 1.0                 │\n",
      "├─────────────────────────┼───────────┼──────────────────┼─────────┼─────────────┼─────────┼─────────┼─────────────────────┤\n",
      "│ GPR.kernel.lengthscales │ Parameter │ Softplus         │         │ False       │ (1,)    │ float64 │ [0.40000001]        │\n",
      "├─────────────────────────┼───────────┼──────────────────┼─────────┼─────────────┼─────────┼─────────┼─────────────────────┤\n",
      "│ GPR.likelihood.variance │ Parameter │ Softplus + Shift │         │ False       │ ()      │ float64 │ 0.16000000000000003 │\n",
      "╘═════════════════════════╧═══════════╧══════════════════╧═════════╧═════════════╧═════════╧═════════╧═════════════════════╛\n"
     ]
    }
   ],
   "source": [
    "kernel = gpflow.kernels.Matern52(lengthscales=0.4 * tf.ones(1,))\n",
    "objective_model = gpflow.models.GPR(astuple(initial_data[OBJECTIVE]),\n",
    "                                    kernel=kernel,\n",
    "                                    noise_variance=blackbox1.noise_variance)\n",
    "set_trainable(objective_model.kernel.lengthscales, False)\n",
    "set_trainable(objective_model.likelihood, False)\n",
    "print_summary(objective_model)"
   ]
  },
  {
   "cell_type": "code",
   "execution_count": 60,
   "metadata": {},
   "outputs": [],
   "source": [
    "model = {OBJECTIVE: trieste.models.create_model_interface(\n",
    "    {\n",
    "        \"model\": objective_model,\n",
    "        \"optimizer\": gpflow.optimizers.Scipy(),\n",
    "        \"optimizer_args\": {\"options\": dict(maxiter=100)},\n",
    "    }\n",
    ")}"
   ]
  },
  {
   "cell_type": "markdown",
   "metadata": {},
   "source": [
    "#### Optimisation loop"
   ]
  },
  {
   "cell_type": "code",
   "execution_count": 61,
   "metadata": {},
   "outputs": [],
   "source": [
    "bo = trieste.bayesian_optimizer.BayesianOptimizer(observer, search_space)\n",
    "result: OptimizationResult = bo.optimize(15, initial_data, model)\n",
    "if result.error is not None:\n",
    "    raise result.error\n",
    "dataset = result.datasets[OBJECTIVE]"
   ]
  },
  {
   "cell_type": "markdown",
   "metadata": {},
   "source": [
    "#### Explore results\n",
    "First use the optimiser's model to predict the underlying function, `f`, with uncertainty."
   ]
  },
  {
   "cell_type": "code",
   "execution_count": 62,
   "metadata": {},
   "outputs": [],
   "source": [
    "mean, var = model[OBJECTIVE].model.predict_f(f1['x0'].to_numpy().reshape((-1, 1)))\n",
    "bo_f1 = pd.DataFrame(dict(x0=f1['x0'],\n",
    "                          f=- mean.numpy()[:, 0],\n",
    "                          sd=np.sqrt(var.numpy()[:, 0])))"
   ]
  },
  {
   "cell_type": "markdown",
   "metadata": {},
   "source": [
    "Next retrieve the evaluations the optimiser received from the black box."
   ]
  },
  {
   "cell_type": "code",
   "execution_count": 63,
   "metadata": {},
   "outputs": [],
   "source": [
    "observations = pd.DataFrame(dict(x0=dataset.query_points.numpy()[:, 0],\n",
    "                                 y=- dataset.observations.numpy()[:, 0]))"
   ]
  },
  {
   "cell_type": "markdown",
   "metadata": {},
   "source": [
    "Now plot the optimiser's estimate of the underlying function in green (with error bars +/- two standard deviations),\n",
    "the black box evaluations in red and the true underlying function in blue."
   ]
  },
  {
   "cell_type": "code",
   "execution_count": 64,
   "metadata": {},
   "outputs": [
    {
     "data": {
      "text/html": [
       "\n",
       "<div id=\"altair-viz-28c9879ca130430780e53f425c40cf02\"></div>\n",
       "<script type=\"text/javascript\">\n",
       "  (function(spec, embedOpt){\n",
       "    let outputDiv = document.currentScript.previousElementSibling;\n",
       "    if (outputDiv.id !== \"altair-viz-28c9879ca130430780e53f425c40cf02\") {\n",
       "      outputDiv = document.getElementById(\"altair-viz-28c9879ca130430780e53f425c40cf02\");\n",
       "    }\n",
       "    const paths = {\n",
       "      \"vega\": \"https://cdn.jsdelivr.net/npm//vega@5?noext\",\n",
       "      \"vega-lib\": \"https://cdn.jsdelivr.net/npm//vega-lib?noext\",\n",
       "      \"vega-lite\": \"https://cdn.jsdelivr.net/npm//vega-lite@4.8.1?noext\",\n",
       "      \"vega-embed\": \"https://cdn.jsdelivr.net/npm//vega-embed@6?noext\",\n",
       "    };\n",
       "\n",
       "    function loadScript(lib) {\n",
       "      return new Promise(function(resolve, reject) {\n",
       "        var s = document.createElement('script');\n",
       "        s.src = paths[lib];\n",
       "        s.async = true;\n",
       "        s.onload = () => resolve(paths[lib]);\n",
       "        s.onerror = () => reject(`Error loading script: ${paths[lib]}`);\n",
       "        document.getElementsByTagName(\"head\")[0].appendChild(s);\n",
       "      });\n",
       "    }\n",
       "\n",
       "    function showError(err) {\n",
       "      outputDiv.innerHTML = `<div class=\"error\" style=\"color:red;\">${err}</div>`;\n",
       "      throw err;\n",
       "    }\n",
       "\n",
       "    function displayChart(vegaEmbed) {\n",
       "      vegaEmbed(outputDiv, spec, embedOpt)\n",
       "        .catch(err => showError(`Javascript Error: ${err.message}<br>This usually means there's a typo in your chart specification. See the javascript console for the full traceback.`));\n",
       "    }\n",
       "\n",
       "    if(typeof define === \"function\" && define.amd) {\n",
       "      requirejs.config({paths});\n",
       "      require([\"vega-embed\"], displayChart, err => showError(`Error loading script: ${err.message}`));\n",
       "    } else if (typeof vegaEmbed === \"function\") {\n",
       "      displayChart(vegaEmbed);\n",
       "    } else {\n",
       "      loadScript(\"vega\")\n",
       "        .then(() => loadScript(\"vega-lite\"))\n",
       "        .then(() => loadScript(\"vega-embed\"))\n",
       "        .catch(showError)\n",
       "        .then(() => displayChart(vegaEmbed));\n",
       "    }\n",
       "  })({\"config\": {\"view\": {\"continuousWidth\": 400, \"continuousHeight\": 300}}, \"layer\": [{\"data\": {\"name\": \"data-43e071ce14b7d6139d2e36b13ed0dd7a\"}, \"mark\": {\"type\": \"circle\", \"color\": \"red\", \"size\": 60}, \"encoding\": {\"x\": {\"type\": \"quantitative\", \"field\": \"x0\"}, \"y\": {\"type\": \"quantitative\", \"field\": \"y\"}}}, {\"data\": {\"name\": \"data-c08bceb19e262d598be086e370ba5cbd\"}, \"mark\": {\"type\": \"errorbar\", \"color\": \"green\"}, \"encoding\": {\"x\": {\"type\": \"quantitative\", \"field\": \"x0\"}, \"y\": {\"type\": \"quantitative\", \"field\": \"fmin\"}, \"y2\": {\"field\": \"fmax\"}}}, {\"data\": {\"name\": \"data-cb306c2eb17071822ec136937b86c082\"}, \"mark\": {\"type\": \"line\", \"color\": \"green\"}, \"encoding\": {\"x\": {\"type\": \"quantitative\", \"field\": \"x0\"}, \"y\": {\"type\": \"quantitative\", \"field\": \"f\"}}}, {\"data\": {\"name\": \"data-223c4841aa45927003d9872d095ece0e\"}, \"mark\": \"line\", \"encoding\": {\"x\": {\"type\": \"quantitative\", \"field\": \"x0\"}, \"y\": {\"type\": \"quantitative\", \"field\": \"f\"}}}], \"height\": 300, \"width\": 800, \"$schema\": \"https://vega.github.io/schema/vega-lite/v4.8.1.json\", \"datasets\": {\"data-43e071ce14b7d6139d2e36b13ed0dd7a\": [{\"x0\": 0.6336795419364853, \"y\": -0.2677628442134782}, {\"x0\": 0.6013258086508908, \"y\": -1.3775593716074517}, {\"x0\": 0.04161129788589557, \"y\": 0.4676961075337281}, {\"x0\": -0.2343392294021327, \"y\": 0.4773702945110959}, {\"x0\": 0.8572371880632961, \"y\": -0.037633291264012325}, {\"x0\": -0.7574393479007226, \"y\": 0.4742156464988528}, {\"x0\": -0.43501122655402424, \"y\": 0.4392542313356307}, {\"x0\": -0.3727649019531578, \"y\": 0.21239540406417878}, {\"x0\": -0.6307913548717746, \"y\": 0.37268297249910387}, {\"x0\": -0.22646770138178196, \"y\": -0.32041695212708315}, {\"x0\": -0.7516612278165046, \"y\": -0.060798975520776455}, {\"x0\": -0.543868427867956, \"y\": 0.8361599169212286}, {\"x0\": -0.5463142543426027, \"y\": 0.7361636986825123}, {\"x0\": -0.5465363789059224, \"y\": 0.08540177816074185}, {\"x0\": -0.5461664766996992, \"y\": -0.3522402678353901}, {\"x0\": -0.540235712546678, \"y\": 0.6181609184280591}, {\"x0\": -0.5403243799535937, \"y\": 0.6960441726548259}, {\"x0\": -0.5399393030779609, \"y\": 0.5243625622402983}, {\"x0\": -0.5396355048833186, \"y\": 0.147775734887581}, {\"x0\": -0.5403954769330657, \"y\": 0.5716188421174052}], \"data-c08bceb19e262d598be086e370ba5cbd\": [{\"x0\": -1.0, \"f\": 0.134593313030013, \"sd\": 0.27922500914609794, \"fmin\": -0.4238567052621829, \"fmax\": 0.6930433313222089}, {\"x0\": -0.9797979797979798, \"f\": 0.1439540007126741, \"sd\": 0.27198730598616655, \"fmin\": -0.400020611259659, \"fmax\": 0.6879286126850073}, {\"x0\": -0.9595959595959596, \"f\": 0.15377644878954905, \"sd\": 0.2642989087362244, \"fmin\": -0.3748213686828998, \"fmax\": 0.6823742662619978}, {\"x0\": -0.9393939393939394, \"f\": 0.1640548865664896, \"sd\": 0.2561806806161493, \"fmin\": -0.348306474665809, \"fmax\": 0.6764162477987882}, {\"x0\": -0.9191919191919192, \"f\": 0.1747776692981196, \"sd\": 0.24766412985374242, \"fmin\": -0.32055059040936523, \"fmax\": 0.6701059290056044}, {\"x0\": -0.898989898989899, \"f\": 0.18592620790788025, \"sd\": 0.238792354524329, \"fmin\": -0.29165850114077774, \"fmax\": 0.6635109169565383}, {\"x0\": -0.8787878787878788, \"f\": 0.1974737568565466, \"sd\": 0.229620576657038, \"fmin\": -0.2617673964575294, \"fmax\": 0.6567149101706227}, {\"x0\": -0.8585858585858586, \"f\": 0.20938404513815256, \"sd\": 0.22021602528296794, \"fmin\": -0.2310480054277833, \"fmax\": 0.6498160957040884}, {\"x0\": -0.8383838383838383, \"f\": 0.22160973424840225, \"sd\": 0.2106568720318108, \"fmin\": -0.19970400981521935, \"fmax\": 0.6429234783120239}, {\"x0\": -0.8181818181818181, \"f\": 0.2340906858318573, \"sd\": 0.20102988868065153, \"fmin\": -0.16796909152944575, \"fmax\": 0.6361504631931604}, {\"x0\": -0.797979797979798, \"f\": 0.2467520205915779, \"sd\": 0.1914265200106361, \"fmin\": -0.1361010194296943, \"fmax\": 0.62960506061285}, {\"x0\": -0.7777777777777778, \"f\": 0.2595019489655663, \"sd\": 0.18193720349814455, \"fmin\": -0.10437245803072281, \"fmax\": 0.6233763559618554}, {\"x0\": -0.7575757575757576, \"f\": 0.2722293530723483, \"sd\": 0.17264408988904204, \"fmin\": -0.07305882670573577, \"fmax\": 0.6175175328504323}, {\"x0\": -0.7373737373737373, \"f\": 0.28480101313817974, \"sd\": 0.16361300681889054, \"fmin\": -0.04242500049960135, \"fmax\": 0.6120270267759609}, {\"x0\": -0.7171717171717171, \"f\": 0.2970581236945505, \"sd\": 0.154890203064325, \"fmin\": -0.012722282434099508, \"fmax\": 0.6068385298232004}, {\"x0\": -0.696969696969697, \"f\": 0.3088170396923955, \"sd\": 0.1465146996159816, \"fmin\": 0.015787640460432295, \"fmax\": 0.6018464389243587}, {\"x0\": -0.6767676767676767, \"f\": 0.31987533072934105, \"sd\": 0.13853930569612866, \"fmin\": 0.04279671933708373, \"fmax\": 0.5969539421215984}, {\"x0\": -0.6565656565656566, \"f\": 0.3300186095194414, \"sd\": 0.13105102755578157, \"fmin\": 0.06791655440787825, \"fmax\": 0.5921206646310045}, {\"x0\": -0.6363636363636364, \"f\": 0.339027888156919, \"sd\": 0.12418677395912067, \"fmin\": 0.09065434023867763, \"fmax\": 0.5874014360751603}, {\"x0\": -0.6161616161616161, \"f\": 0.3466878673948744, \"sd\": 0.11813943164771289, \"fmin\": 0.11040900409944862, \"fmax\": 0.5829667306903001}, {\"x0\": -0.5959595959595959, \"f\": 0.3527963305108247, \"sd\": 0.1131489650244103, \"fmin\": 0.1264984004620041, \"fmax\": 0.5790942605596453}, {\"x0\": -0.5757575757575757, \"f\": 0.35717418261237466, \"sd\": 0.10947531183889475, \"fmin\": 0.13822355893458516, \"fmax\": 0.5761248062901642}, {\"x0\": -0.5555555555555556, \"f\": 0.3596770473491534, \"sd\": 0.107347664506849, \"fmin\": 0.1449817183354554, \"fmax\": 0.5743723763628514}, {\"x0\": -0.5353535353535352, \"f\": 0.36020972036463395, \"sd\": 0.10689456757533992, \"fmin\": 0.1464205852139541, \"fmax\": 0.5739988555153138}, {\"x0\": -0.5151515151515151, \"f\": 0.3587442160285373, \"sd\": 0.10808115489578274, \"fmin\": 0.1425819062369718, \"fmax\": 0.5749065258201027}, {\"x0\": -0.4949494949494949, \"f\": 0.3553296498994818, \"sd\": 0.11070497495195117, \"fmin\": 0.13391969999557946, \"fmax\": 0.5767395998033842}, {\"x0\": -0.4747474747474747, \"f\": 0.350079684942165, \"sd\": 0.11445958204205695, \"fmin\": 0.12116052085805112, \"fmax\": 0.578998849026279}, {\"x0\": -0.4545454545454545, \"f\": 0.3431567114174835, \"sd\": 0.11901042158020153, \"fmin\": 0.10513586825708043, \"fmax\": 0.5811775545778866}, {\"x0\": -0.43434343434343425, \"f\": 0.334759407077053, \"sd\": 0.12405049934181027, \"fmin\": 0.08665840839343245, \"fmax\": 0.5828604057606736}, {\"x0\": -0.41414141414141414, \"f\": 0.3251131567331922, \"sd\": 0.1293282036502896, \"fmin\": 0.06645674943261298, \"fmax\": 0.5837695640337714}, {\"x0\": -0.3939393939393939, \"f\": 0.31446111048594116, \"sd\": 0.13465458703403888, \"fmin\": 0.045151936417863414, \"fmax\": 0.5837702845540189}, {\"x0\": -0.3737373737373737, \"f\": 0.3030528919199616, \"sd\": 0.13990151775913126, \"fmin\": 0.023249856401699076, \"fmax\": 0.5828559274382241}, {\"x0\": -0.3535353535353535, \"f\": 0.29113316501267, \"sd\": 0.14499374833413683, \"fmin\": 0.0011456683443963334, \"fmax\": 0.5811206616809437}, {\"x0\": -0.33333333333333326, \"f\": 0.27893232361683523, \"sd\": 0.14989882839755728, \"fmin\": -0.02086533317827932, \"fmax\": 0.5787299804119498}, {\"x0\": -0.31313131313131304, \"f\": 0.2666612618250996, \"sd\": 0.15462031357902392, \"fmin\": -0.04257936533294826, \"fmax\": 0.5759018889831474}, {\"x0\": -0.2929292929292928, \"f\": 0.2545077581803421, \"sd\": 0.15919106607492445, \"fmin\": -0.06387437396950679, \"fmax\": 0.572889890330191}, {\"x0\": -0.2727272727272727, \"f\": 0.242632661129141, \"sd\": 0.1636638355117972, \"fmin\": -0.08469500989445339, \"fmax\": 0.5699603321527353}, {\"x0\": -0.2525252525252525, \"f\": 0.23116554047071172, \"sd\": 0.16809896596230364, \"fmin\": -0.10503239145389556, \"fmax\": 0.567363472395319}, {\"x0\": -0.23232323232323226, \"f\": 0.22019953429034556, \"sd\": 0.17254981170950368, \"fmin\": -0.1249000891286618, \"fmax\": 0.5652991577093529}, {\"x0\": -0.21212121212121204, \"f\": 0.20978490750758788, \"sd\": 0.17704731095693946, \"fmin\": -0.14430971440629103, \"fmax\": 0.5638795294214668}, {\"x0\": -0.19191919191919182, \"f\": 0.19992075883818683, \"sd\": 0.18159005700714748, \"fmin\": -0.16325935517610812, \"fmax\": 0.5631008728524818}, {\"x0\": -0.1717171717171716, \"f\": 0.1905551341180495, \"sd\": 0.18614973281322814, \"fmin\": -0.18174433150840677, \"fmax\": 0.5628545997445058}, {\"x0\": -0.1515151515151515, \"f\": 0.18159402434030017, \"sd\": 0.19068399603909936, \"fmin\": -0.19977396773789854, \"fmax\": 0.5629620164184989}, {\"x0\": -0.13131313131313127, \"f\": 0.17291003497904986, \"sd\": 0.19514866044757256, \"fmin\": -0.21738728591609527, \"fmax\": 0.563207355874195}, {\"x0\": -0.11111111111111105, \"f\": 0.16434997602955478, \"sd\": 0.1995074538484043, \"fmin\": -0.2346649316672538, \"fmax\": 0.5633648837263634}, {\"x0\": -0.09090909090909083, \"f\": 0.15574170643576737, \"sd\": 0.20373871290443388, \"fmin\": -0.25173571937310035, \"fmax\": 0.5632191322446352}, {\"x0\": -0.07070707070707061, \"f\": 0.14690055190087872, \"sd\": 0.20783882814133847, \"fmin\": -0.26877710438179825, \"fmax\": 0.5625782081835556}, {\"x0\": -0.050505050505050386, \"f\": 0.13763560826140553, \"sd\": 0.21182251312789876, \"fmin\": -0.286009417994392, \"fmax\": 0.561280634517203}, {\"x0\": -0.030303030303030276, \"f\": 0.12775624425086848, \"sd\": 0.21572010145267226, \"fmin\": -0.30368395865447606, \"fmax\": 0.559196447156213}, {\"x0\": -0.010101010101010055, \"f\": 0.11707912767796737, \"sd\": 0.219572156117015, \"fmin\": -0.32206518455606264, \"fmax\": 0.5562234399119974}, {\"x0\": 0.010101010101010166, \"f\": 0.10543611807661482, \"sd\": 0.22342177560080356, \"fmin\": -0.34140743312499233, \"fmax\": 0.5522796692782219}, {\"x0\": 0.030303030303030498, \"f\": 0.0926833972247958, \"sd\": 0.22730513123948315, \"fmin\": -0.3619268652541705, \"fmax\": 0.5472936597037621}, {\"x0\": 0.05050505050505061, \"f\": 0.07871224327062988, \"sd\": 0.23124096097982816, \"fmin\": -0.38376967868902645, \"fmax\": 0.5411941652302862}, {\"x0\": 0.07070707070707072, \"f\": 0.06346044040240797, \"sd\": 0.23522078218675066, \"fmin\": -0.4069811239710933, \"fmax\": 0.5339020047759093}, {\"x0\": 0.09090909090909105, \"f\": 0.04691427754443611, \"sd\": 0.23920689422464944, \"fmin\": -0.43149951090486277, \"fmax\": 0.5253280659937349}, {\"x0\": 0.11111111111111116, \"f\": 0.02909982689549135, \"sd\": 0.24313901602371815, \"fmin\": -0.45717820515194496, \"fmax\": 0.5153778589429276}, {\"x0\": 0.1313131313131315, \"f\": 0.010074363510278938, \"sd\": 0.2469421270692963, \"fmin\": -0.48380989062831364, \"fmax\": 0.5039586176488715}, {\"x0\": 0.1515151515151516, \"f\": -0.010080315370749923, \"sd\": 0.25053353695390373, \"fmin\": -0.5111473892785574, \"fmax\": 0.49098675853705753}, {\"x0\": 0.1717171717171717, \"f\": -0.03126297897444983, \"sd\": 0.25382877533068865, \"fmin\": -0.5389205296358272, \"fmax\": 0.47639457168692745}, {\"x0\": 0.19191919191919204, \"f\": -0.0533567341319593, \"sd\": 0.25674617832921054, \"fmin\": -0.5668490907903804, \"fmax\": 0.4601356225264618}, {\"x0\": 0.21212121212121215, \"f\": -0.07623171479043696, \"sd\": 0.2592102485360793, \"fmin\": -0.5946522118625956, \"fmax\": 0.4421887822817217}, {\"x0\": 0.2323232323232325, \"f\": -0.09974689416045847, \"sd\": 0.26115398427235076, \"fmin\": -0.62205486270516, \"fmax\": 0.42256107438424306}, {\"x0\": 0.2525252525252526, \"f\": -0.12375119839514931, \"sd\": 0.2625204243027461, \"fmin\": -0.6487920470006414, \"fmax\": 0.40128965021034285}, {\"x0\": 0.27272727272727293, \"f\": -0.1480840810279966, \"sd\": 0.2632636575862127, \"fmin\": -0.674611396200422, \"fmax\": 0.3784432341444287}, {\"x0\": 0.29292929292929304, \"f\": -0.17257570298771213, \"sd\": 0.26334952396174216, \"fmin\": -0.6992747509111965, \"fmax\": 0.3541233449357722}, {\"x0\": 0.31313131313131315, \"f\": -0.1970468535515477, \"sd\": 0.26275619525369087, \"fmin\": -0.7225592440589295, \"fmax\": 0.328465536955834}, {\"x0\": 0.3333333333333335, \"f\": -0.22130874290388125, \"sd\": 0.2614747858950066, \"fmin\": -0.7442583146938945, \"fmax\": 0.301640828886132}, {\"x0\": 0.3535353535353536, \"f\": -0.24516279696239884, \"sd\": 0.25951010161886834, \"fmin\": -0.7641830002001355, \"fmax\": 0.27385740627533783}, {\"x0\": 0.3737373737373739, \"f\": -0.26840058986275556, \"sd\": 0.256881594126014, \"fmin\": -0.7821637781147837, \"fmax\": 0.2453625983892725}, {\"x0\": 0.39393939393939403, \"f\": -0.29080405911437796, \"sd\": 0.2536245461231806, \"fmin\": -0.7980531513607392, \"fmax\": 0.2164450331319832}, {\"x0\": 0.41414141414141437, \"f\": -0.31214616323589006, \"sd\": 0.2497914596812594, \"fmin\": -0.8117290825984089, \"fmax\": 0.18743675612662875}, {\"x0\": 0.4343434343434345, \"f\": -0.33219216205645, \"sd\": 0.2454535544850599, \"fmin\": -0.8230992710265699, \"fmax\": 0.15871494691366977}, {\"x0\": 0.4545454545454546, \"f\": -0.3507017263732425, \"sd\": 0.24070219295781076, \"fmin\": -0.832106112288864, \"fmax\": 0.13070265954237903}, {\"x0\": 0.4747474747474749, \"f\": -0.36743211697732847, \"sd\": 0.23564992863726092, \"fmin\": -0.8387319742518503, \"fmax\": 0.10386774029719337}, {\"x0\": 0.49494949494949503, \"f\": -0.3821427140548596, \"sd\": 0.23043071947394428, \"fmin\": -0.8430041530027481, \"fmax\": 0.07871872489302895}, {\"x0\": 0.5151515151515154, \"f\": -0.3946012276738194, \"sd\": 0.22519866901071847, \"fmin\": -0.8449985656952563, \"fmax\": 0.055796110347617556}, {\"x0\": 0.5353535353535355, \"f\": -0.40459197971638344, \"sd\": 0.22012449261649703, \"fmin\": -0.8448409649493775, \"fmax\": 0.03565700551661061}, {\"x0\": 0.5555555555555556, \"f\": -0.41192671868074293, \"sd\": 0.21538883289218844, \"fmin\": -0.8427043844651199, \"fmax\": 0.01885094710363394}, {\"x0\": 0.5757575757575759, \"f\": -0.4164585129800136, \"sd\": 0.21117169710176634, \"fmin\": -0.8388019071835462, \"fmax\": 0.005884881223519101}, {\"x0\": 0.595959595959596, \"f\": -0.41809936773088124, \"sd\": 0.20763780978897622, \"fmin\": -0.8333749873088336, \"fmax\": -0.0028237481529287956}, {\"x0\": 0.6161616161616164, \"f\": -0.41684219789993093, \"sd\": 0.2049186716083649, \"fmin\": -0.8266795411166608, \"fmax\": -0.007004854683201112}, {\"x0\": 0.6363636363636365, \"f\": -0.41277945987611414, \"sd\": 0.20309518669905086, \"fmin\": -0.8189698332742159, \"fmax\": -0.006589086478012429}, {\"x0\": 0.6565656565656568, \"f\": -0.40609055228724056, \"sd\": 0.2021899807401432, \"fmin\": -0.810470513767527, \"fmax\": -0.001710590806954182}, {\"x0\": 0.6767676767676769, \"f\": -0.397013451282759, \"sd\": 0.2021722590637321, \"fmin\": -0.8013579694102232, \"fmax\": 0.007331066844705192}, {\"x0\": 0.696969696969697, \"f\": -0.3858247499370531, \"sd\": 0.2029740528655245, \"fmin\": -0.7917728556681021, \"fmax\": 0.02012335579399588}, {\"x0\": 0.7171717171717173, \"f\": -0.37282500439740324, \"sd\": 0.20450926109106055, \"fmin\": -0.7818435265795243, \"fmax\": 0.036193517784717855}, {\"x0\": 0.7373737373737375, \"f\": -0.3583269016980781, \"sd\": 0.20669025190446305, \"fmin\": -0.7717074055070042, \"fmax\": 0.05505360211084798}, {\"x0\": 0.7575757575757578, \"f\": -0.34264558080241725, \"sd\": 0.20943997205245543, \"fmin\": -0.761525524907328, \"fmax\": 0.07623436330249361}, {\"x0\": 0.7777777777777779, \"f\": -0.32609055618511984, \"sd\": 0.21269863695021465, \"fmin\": -0.7514878300855492, \"fmax\": 0.09930671771530947}, {\"x0\": 0.7979797979797982, \"f\": -0.3089587503302229, \"sd\": 0.2164249998988566, \"fmin\": -0.7418087501279361, \"fmax\": 0.1238912494674903}, {\"x0\": 0.8181818181818183, \"f\": -0.29152818428205995, \"sd\": 0.22059284045630626, \"fmin\": -0.7327138651946725, \"fmax\": 0.14965749663055256}, {\"x0\": 0.8383838383838385, \"f\": -0.2740519049306651, \"sd\": 0.22518369605670913, \"fmin\": -0.7244192970440834, \"fmax\": 0.17631548718275314}, {\"x0\": 0.8585858585858588, \"f\": -0.25675174482345026, \"sd\": 0.23017707132930693, \"fmin\": -0.7171058874820642, \"fmax\": 0.2036023978351636}, {\"x0\": 0.8787878787878789, \"f\": -0.23981170711485963, \"sd\": 0.2355396477232438, \"fmin\": -0.7108910025613472, \"fmax\": 0.23126758833162794}, {\"x0\": 0.8989898989898992, \"f\": -0.2233744748909434, \"sd\": 0.24121876990481061, \"fmin\": -0.7058120147005646, \"fmax\": 0.2590630649186778}, {\"x0\": 0.9191919191919193, \"f\": -0.20754583815513583, \"sd\": 0.2471459821706412, \"fmin\": -0.7018378024964183, \"fmax\": 0.2867461261861466}, {\"x0\": 0.9393939393939394, \"f\": -0.19240112320212363, \"sd\": 0.2532438684655607, \"fmin\": -0.698888860133245, \"fmax\": 0.3140866137289977}, {\"x0\": 0.9595959595959598, \"f\": -0.1779907206119976, \"sd\": 0.25943225023030503, \"fmin\": -0.6968552210726077, \"fmax\": 0.34087377984861245}, {\"x0\": 0.9797979797979799, \"f\": -0.16434475563960513, \"sd\": 0.26563318496562655, \"fmin\": -0.6956111255708582, \"fmax\": 0.36692161429164794}, {\"x0\": 1.0, \"f\": -0.15147702372447097, \"sd\": 0.2717746179168853, \"fmin\": -0.6950262595582415, \"fmax\": 0.3920722121092996}], \"data-cb306c2eb17071822ec136937b86c082\": [{\"x0\": -1.0, \"f\": 0.134593313030013, \"sd\": 0.27922500914609794}, {\"x0\": -0.9797979797979798, \"f\": 0.1439540007126741, \"sd\": 0.27198730598616655}, {\"x0\": -0.9595959595959596, \"f\": 0.15377644878954905, \"sd\": 0.2642989087362244}, {\"x0\": -0.9393939393939394, \"f\": 0.1640548865664896, \"sd\": 0.2561806806161493}, {\"x0\": -0.9191919191919192, \"f\": 0.1747776692981196, \"sd\": 0.24766412985374242}, {\"x0\": -0.898989898989899, \"f\": 0.18592620790788025, \"sd\": 0.238792354524329}, {\"x0\": -0.8787878787878788, \"f\": 0.1974737568565466, \"sd\": 0.229620576657038}, {\"x0\": -0.8585858585858586, \"f\": 0.20938404513815256, \"sd\": 0.22021602528296794}, {\"x0\": -0.8383838383838383, \"f\": 0.22160973424840225, \"sd\": 0.2106568720318108}, {\"x0\": -0.8181818181818181, \"f\": 0.2340906858318573, \"sd\": 0.20102988868065153}, {\"x0\": -0.797979797979798, \"f\": 0.2467520205915779, \"sd\": 0.1914265200106361}, {\"x0\": -0.7777777777777778, \"f\": 0.2595019489655663, \"sd\": 0.18193720349814455}, {\"x0\": -0.7575757575757576, \"f\": 0.2722293530723483, \"sd\": 0.17264408988904204}, {\"x0\": -0.7373737373737373, \"f\": 0.28480101313817974, \"sd\": 0.16361300681889054}, {\"x0\": -0.7171717171717171, \"f\": 0.2970581236945505, \"sd\": 0.154890203064325}, {\"x0\": -0.696969696969697, \"f\": 0.3088170396923955, \"sd\": 0.1465146996159816}, {\"x0\": -0.6767676767676767, \"f\": 0.31987533072934105, \"sd\": 0.13853930569612866}, {\"x0\": -0.6565656565656566, \"f\": 0.3300186095194414, \"sd\": 0.13105102755578157}, {\"x0\": -0.6363636363636364, \"f\": 0.339027888156919, \"sd\": 0.12418677395912067}, {\"x0\": -0.6161616161616161, \"f\": 0.3466878673948744, \"sd\": 0.11813943164771289}, {\"x0\": -0.5959595959595959, \"f\": 0.3527963305108247, \"sd\": 0.1131489650244103}, {\"x0\": -0.5757575757575757, \"f\": 0.35717418261237466, \"sd\": 0.10947531183889475}, {\"x0\": -0.5555555555555556, \"f\": 0.3596770473491534, \"sd\": 0.107347664506849}, {\"x0\": -0.5353535353535352, \"f\": 0.36020972036463395, \"sd\": 0.10689456757533992}, {\"x0\": -0.5151515151515151, \"f\": 0.3587442160285373, \"sd\": 0.10808115489578274}, {\"x0\": -0.4949494949494949, \"f\": 0.3553296498994818, \"sd\": 0.11070497495195117}, {\"x0\": -0.4747474747474747, \"f\": 0.350079684942165, \"sd\": 0.11445958204205695}, {\"x0\": -0.4545454545454545, \"f\": 0.3431567114174835, \"sd\": 0.11901042158020153}, {\"x0\": -0.43434343434343425, \"f\": 0.334759407077053, \"sd\": 0.12405049934181027}, {\"x0\": -0.41414141414141414, \"f\": 0.3251131567331922, \"sd\": 0.1293282036502896}, {\"x0\": -0.3939393939393939, \"f\": 0.31446111048594116, \"sd\": 0.13465458703403888}, {\"x0\": -0.3737373737373737, \"f\": 0.3030528919199616, \"sd\": 0.13990151775913126}, {\"x0\": -0.3535353535353535, \"f\": 0.29113316501267, \"sd\": 0.14499374833413683}, {\"x0\": -0.33333333333333326, \"f\": 0.27893232361683523, \"sd\": 0.14989882839755728}, {\"x0\": -0.31313131313131304, \"f\": 0.2666612618250996, \"sd\": 0.15462031357902392}, {\"x0\": -0.2929292929292928, \"f\": 0.2545077581803421, \"sd\": 0.15919106607492445}, {\"x0\": -0.2727272727272727, \"f\": 0.242632661129141, \"sd\": 0.1636638355117972}, {\"x0\": -0.2525252525252525, \"f\": 0.23116554047071172, \"sd\": 0.16809896596230364}, {\"x0\": -0.23232323232323226, \"f\": 0.22019953429034556, \"sd\": 0.17254981170950368}, {\"x0\": -0.21212121212121204, \"f\": 0.20978490750758788, \"sd\": 0.17704731095693946}, {\"x0\": -0.19191919191919182, \"f\": 0.19992075883818683, \"sd\": 0.18159005700714748}, {\"x0\": -0.1717171717171716, \"f\": 0.1905551341180495, \"sd\": 0.18614973281322814}, {\"x0\": -0.1515151515151515, \"f\": 0.18159402434030017, \"sd\": 0.19068399603909936}, {\"x0\": -0.13131313131313127, \"f\": 0.17291003497904986, \"sd\": 0.19514866044757256}, {\"x0\": -0.11111111111111105, \"f\": 0.16434997602955478, \"sd\": 0.1995074538484043}, {\"x0\": -0.09090909090909083, \"f\": 0.15574170643576737, \"sd\": 0.20373871290443388}, {\"x0\": -0.07070707070707061, \"f\": 0.14690055190087872, \"sd\": 0.20783882814133847}, {\"x0\": -0.050505050505050386, \"f\": 0.13763560826140553, \"sd\": 0.21182251312789876}, {\"x0\": -0.030303030303030276, \"f\": 0.12775624425086848, \"sd\": 0.21572010145267226}, {\"x0\": -0.010101010101010055, \"f\": 0.11707912767796737, \"sd\": 0.219572156117015}, {\"x0\": 0.010101010101010166, \"f\": 0.10543611807661482, \"sd\": 0.22342177560080356}, {\"x0\": 0.030303030303030498, \"f\": 0.0926833972247958, \"sd\": 0.22730513123948315}, {\"x0\": 0.05050505050505061, \"f\": 0.07871224327062988, \"sd\": 0.23124096097982816}, {\"x0\": 0.07070707070707072, \"f\": 0.06346044040240797, \"sd\": 0.23522078218675066}, {\"x0\": 0.09090909090909105, \"f\": 0.04691427754443611, \"sd\": 0.23920689422464944}, {\"x0\": 0.11111111111111116, \"f\": 0.02909982689549135, \"sd\": 0.24313901602371815}, {\"x0\": 0.1313131313131315, \"f\": 0.010074363510278938, \"sd\": 0.2469421270692963}, {\"x0\": 0.1515151515151516, \"f\": -0.010080315370749923, \"sd\": 0.25053353695390373}, {\"x0\": 0.1717171717171717, \"f\": -0.03126297897444983, \"sd\": 0.25382877533068865}, {\"x0\": 0.19191919191919204, \"f\": -0.0533567341319593, \"sd\": 0.25674617832921054}, {\"x0\": 0.21212121212121215, \"f\": -0.07623171479043696, \"sd\": 0.2592102485360793}, {\"x0\": 0.2323232323232325, \"f\": -0.09974689416045847, \"sd\": 0.26115398427235076}, {\"x0\": 0.2525252525252526, \"f\": -0.12375119839514931, \"sd\": 0.2625204243027461}, {\"x0\": 0.27272727272727293, \"f\": -0.1480840810279966, \"sd\": 0.2632636575862127}, {\"x0\": 0.29292929292929304, \"f\": -0.17257570298771213, \"sd\": 0.26334952396174216}, {\"x0\": 0.31313131313131315, \"f\": -0.1970468535515477, \"sd\": 0.26275619525369087}, {\"x0\": 0.3333333333333335, \"f\": -0.22130874290388125, \"sd\": 0.2614747858950066}, {\"x0\": 0.3535353535353536, \"f\": -0.24516279696239884, \"sd\": 0.25951010161886834}, {\"x0\": 0.3737373737373739, \"f\": -0.26840058986275556, \"sd\": 0.256881594126014}, {\"x0\": 0.39393939393939403, \"f\": -0.29080405911437796, \"sd\": 0.2536245461231806}, {\"x0\": 0.41414141414141437, \"f\": -0.31214616323589006, \"sd\": 0.2497914596812594}, {\"x0\": 0.4343434343434345, \"f\": -0.33219216205645, \"sd\": 0.2454535544850599}, {\"x0\": 0.4545454545454546, \"f\": -0.3507017263732425, \"sd\": 0.24070219295781076}, {\"x0\": 0.4747474747474749, \"f\": -0.36743211697732847, \"sd\": 0.23564992863726092}, {\"x0\": 0.49494949494949503, \"f\": -0.3821427140548596, \"sd\": 0.23043071947394428}, {\"x0\": 0.5151515151515154, \"f\": -0.3946012276738194, \"sd\": 0.22519866901071847}, {\"x0\": 0.5353535353535355, \"f\": -0.40459197971638344, \"sd\": 0.22012449261649703}, {\"x0\": 0.5555555555555556, \"f\": -0.41192671868074293, \"sd\": 0.21538883289218844}, {\"x0\": 0.5757575757575759, \"f\": -0.4164585129800136, \"sd\": 0.21117169710176634}, {\"x0\": 0.595959595959596, \"f\": -0.41809936773088124, \"sd\": 0.20763780978897622}, {\"x0\": 0.6161616161616164, \"f\": -0.41684219789993093, \"sd\": 0.2049186716083649}, {\"x0\": 0.6363636363636365, \"f\": -0.41277945987611414, \"sd\": 0.20309518669905086}, {\"x0\": 0.6565656565656568, \"f\": -0.40609055228724056, \"sd\": 0.2021899807401432}, {\"x0\": 0.6767676767676769, \"f\": -0.397013451282759, \"sd\": 0.2021722590637321}, {\"x0\": 0.696969696969697, \"f\": -0.3858247499370531, \"sd\": 0.2029740528655245}, {\"x0\": 0.7171717171717173, \"f\": -0.37282500439740324, \"sd\": 0.20450926109106055}, {\"x0\": 0.7373737373737375, \"f\": -0.3583269016980781, \"sd\": 0.20669025190446305}, {\"x0\": 0.7575757575757578, \"f\": -0.34264558080241725, \"sd\": 0.20943997205245543}, {\"x0\": 0.7777777777777779, \"f\": -0.32609055618511984, \"sd\": 0.21269863695021465}, {\"x0\": 0.7979797979797982, \"f\": -0.3089587503302229, \"sd\": 0.2164249998988566}, {\"x0\": 0.8181818181818183, \"f\": -0.29152818428205995, \"sd\": 0.22059284045630626}, {\"x0\": 0.8383838383838385, \"f\": -0.2740519049306651, \"sd\": 0.22518369605670913}, {\"x0\": 0.8585858585858588, \"f\": -0.25675174482345026, \"sd\": 0.23017707132930693}, {\"x0\": 0.8787878787878789, \"f\": -0.23981170711485963, \"sd\": 0.2355396477232438}, {\"x0\": 0.8989898989898992, \"f\": -0.2233744748909434, \"sd\": 0.24121876990481061}, {\"x0\": 0.9191919191919193, \"f\": -0.20754583815513583, \"sd\": 0.2471459821706412}, {\"x0\": 0.9393939393939394, \"f\": -0.19240112320212363, \"sd\": 0.2532438684655607}, {\"x0\": 0.9595959595959598, \"f\": -0.1779907206119976, \"sd\": 0.25943225023030503}, {\"x0\": 0.9797979797979799, \"f\": -0.16434475563960513, \"sd\": 0.26563318496562655}, {\"x0\": 1.0, \"f\": -0.15147702372447097, \"sd\": 0.2717746179168853}], \"data-223c4841aa45927003d9872d095ece0e\": [{\"x0\": -1.0, \"f\": -0.17711868212040702}, {\"x0\": -0.9797979797979798, \"f\": -0.15662877770946151}, {\"x0\": -0.9595959595959596, \"f\": -0.1272808272140422}, {\"x0\": -0.9393939393939394, \"f\": -0.09091936804085665}, {\"x0\": -0.9191919191919192, \"f\": -0.050001173505083485}, {\"x0\": -0.898989898989899, \"f\": -0.015514214821963301}, {\"x0\": -0.8787878787878788, \"f\": 0.0157981295176175}, {\"x0\": -0.8585858585858586, \"f\": 0.052195302294405166}, {\"x0\": -0.8383838383838383, \"f\": 0.09901736501250213}, {\"x0\": -0.8181818181818181, \"f\": 0.16221864484646148}, {\"x0\": -0.797979797979798, \"f\": 0.23315893679245692}, {\"x0\": -0.7777777777777778, \"f\": 0.3040306860535644}, {\"x0\": -0.7575757575757576, \"f\": 0.37281436223558095}, {\"x0\": -0.7373737373737373, \"f\": 0.428955422992768}, {\"x0\": -0.7171717171717171, \"f\": 0.4711643935076433}, {\"x0\": -0.696969696969697, \"f\": 0.502728560898748}, {\"x0\": -0.6767676767676767, \"f\": 0.5130055075371349}, {\"x0\": -0.6565656565656566, \"f\": 0.5163332107397464}, {\"x0\": -0.6363636363636364, \"f\": 0.520875370901571}, {\"x0\": -0.6161616161616161, \"f\": 0.5279056015630006}, {\"x0\": -0.5959595959595959, \"f\": 0.5379773053053488}, {\"x0\": -0.5757575757575757, \"f\": 0.5437888314719133}, {\"x0\": -0.5555555555555556, \"f\": 0.5435141862229644}, {\"x0\": -0.5353535353535352, \"f\": 0.5506612647624823}, {\"x0\": -0.5151515151515151, \"f\": 0.5673626206057467}, {\"x0\": -0.4949494949494949, \"f\": 0.5910978755599428}, {\"x0\": -0.4747474747474747, \"f\": 0.6230065733120942}, {\"x0\": -0.4545454545454545, \"f\": 0.647887644173635}, {\"x0\": -0.43434343434343425, \"f\": 0.6752022938845622}, {\"x0\": -0.41414141414141414, \"f\": 0.6978725978527336}, {\"x0\": -0.3939393939393939, \"f\": 0.7123521653333122}, {\"x0\": -0.3737373737373737, \"f\": 0.7156809346316003}, {\"x0\": -0.3535353535353535, \"f\": 0.7093192055661558}, {\"x0\": -0.33333333333333326, \"f\": 0.6885805643237528}, {\"x0\": -0.31313131313131304, \"f\": 0.6625115127528869}, {\"x0\": -0.2929292929292928, \"f\": 0.6337429278409352}, {\"x0\": -0.2727272727272727, \"f\": 0.594881557951491}, {\"x0\": -0.2525252525252525, \"f\": 0.5436256025578333}, {\"x0\": -0.23232323232323226, \"f\": 0.47468724565539566}, {\"x0\": -0.21212121212121204, \"f\": 0.4105848300451402}, {\"x0\": -0.19191919191919182, \"f\": 0.35008267573989205}, {\"x0\": -0.1717171717171716, \"f\": 0.29376209405368514}, {\"x0\": -0.1515151515151515, \"f\": 0.23663556985230882}, {\"x0\": -0.13131313131313127, \"f\": 0.17757089611963617}, {\"x0\": -0.11111111111111105, \"f\": 0.12424269190534859}, {\"x0\": -0.09090909090909083, \"f\": 0.07725175396040079}, {\"x0\": -0.07070707070707061, \"f\": 0.032020536022090096}, {\"x0\": -0.050505050505050386, \"f\": -0.012082819447682691}, {\"x0\": -0.030303030303030276, \"f\": -0.04940246242875612}, {\"x0\": -0.010101010101010055, \"f\": -0.08321177756109413}, {\"x0\": 0.010101010101010166, \"f\": -0.10706782461072309}, {\"x0\": 0.030303030303030498, \"f\": -0.11964140489759562}, {\"x0\": 0.05050505050505061, \"f\": -0.12445847383130282}, {\"x0\": 0.07070707070707072, \"f\": -0.1315408486048896}, {\"x0\": 0.09090909090909105, \"f\": -0.14187720741392473}, {\"x0\": 0.11111111111111116, \"f\": -0.15256224776175772}, {\"x0\": 0.1313131313131315, \"f\": -0.1697420657442951}, {\"x0\": 0.1515151515151516, \"f\": -0.18730802028959276}, {\"x0\": 0.1717171717171717, \"f\": -0.2097478401182835}, {\"x0\": 0.19191919191919204, \"f\": -0.24990192894281452}, {\"x0\": 0.21212121212121215, \"f\": -0.3052872076463602}, {\"x0\": 0.2323232323232325, \"f\": -0.36060709634131755}, {\"x0\": 0.2525252525252526, \"f\": -0.4115066913939466}, {\"x0\": 0.27272727272727293, \"f\": -0.465911559532137}, {\"x0\": 0.29292929292929304, \"f\": -0.5181980783627863}, {\"x0\": 0.31313131313131315, \"f\": -0.5809492628141866}, {\"x0\": 0.3333333333333335, \"f\": -0.6504337557637639}, {\"x0\": 0.3535353535353536, \"f\": -0.7278723569968231}, {\"x0\": 0.3737373737373739, \"f\": -0.8051754121463426}, {\"x0\": 0.39393939393939403, \"f\": -0.8720797629288414}, {\"x0\": 0.41414141414141437, \"f\": -0.9261852036614278}, {\"x0\": 0.4343434343434345, \"f\": -0.9592449787993895}, {\"x0\": 0.4545454545454546, \"f\": -0.9740737058821798}, {\"x0\": 0.4747474747474749, \"f\": -0.9744412652453063}, {\"x0\": 0.49494949494949503, \"f\": -0.9597152850941981}, {\"x0\": 0.5151515151515154, \"f\": -0.9280929124230558}, {\"x0\": 0.5353535353535355, \"f\": -0.8818264976544753}, {\"x0\": 0.5555555555555556, \"f\": -0.8314612511400625}, {\"x0\": 0.5757575757575759, \"f\": -0.7716192494952367}, {\"x0\": 0.595959595959596, \"f\": -0.7057409249310124}, {\"x0\": 0.6161616161616164, \"f\": -0.6286452437877486}, {\"x0\": 0.6363636363636365, \"f\": -0.544245783692635}, {\"x0\": 0.6565656565656568, \"f\": -0.4690796566688802}, {\"x0\": 0.6767676767676769, \"f\": -0.3871318506288336}, {\"x0\": 0.696969696969697, \"f\": -0.30394214166548794}, {\"x0\": 0.7171717171717173, \"f\": -0.21968514768267233}, {\"x0\": 0.7373737373737375, \"f\": -0.142010990714692}, {\"x0\": 0.7575757575757578, \"f\": -0.07618581177080536}, {\"x0\": 0.7777777777777779, \"f\": -0.013665730586856571}, {\"x0\": 0.7979797979797982, \"f\": 0.04706183716919321}, {\"x0\": 0.8181818181818183, \"f\": 0.09241133267724531}, {\"x0\": 0.8383838383838385, \"f\": 0.13007706786337925}, {\"x0\": 0.8585858585858588, \"f\": 0.16300950788729662}, {\"x0\": 0.8787878787878789, \"f\": 0.19258970715589918}, {\"x0\": 0.8989898989898992, \"f\": 0.21601517709999707}, {\"x0\": 0.9191919191919193, \"f\": 0.2455499962888128}, {\"x0\": 0.9393939393939394, \"f\": 0.29231731144717565}, {\"x0\": 0.9595959595959598, \"f\": 0.3321562816241028}, {\"x0\": 0.9797979797979799, \"f\": 0.3782530794173402}, {\"x0\": 1.0, \"f\": 0.43578489381041063}]}}, {\"mode\": \"vega-lite\"});\n",
       "</script>"
      ],
      "text/plain": [
       "alt.LayerChart(...)"
      ]
     },
     "execution_count": 64,
     "metadata": {},
     "output_type": "execute_result"
    }
   ],
   "source": [
    "chart_bo_f1 = (\n",
    "    alt.Chart(bo_f1)\n",
    "    .mark_line(color='green')\n",
    "    .encode(x='x0:Q', y='f:Q'))\n",
    "chart_bo_ferror = (\n",
    "    alt.Chart(bo_f1.assign(fmin=bo_f1['f'] - 2 * bo_f1['sd'], fmax=bo_f1['f'] + 2 * bo_f1['sd']))\n",
    "    .mark_errorbar(color='green')\n",
    "    .encode(x=\"x0:Q\", y=\"fmin:Q\", y2=\"fmax:Q\"))\n",
    "chart_obs = (\n",
    "    alt.Chart(observations)\n",
    "    .mark_circle(color='red', size=60)\n",
    "    .encode(x='x0:Q', y='y:Q'))\n",
    "(chart_obs + chart_bo_ferror + chart_bo_f1 + chart1f).properties(width=800, height=300)"
   ]
  },
  {
   "cell_type": "markdown",
   "metadata": {},
   "source": [
    "### 2-dimensional input\n",
    "If you wish, you can try the same optimisation problem but for a function of two variables."
   ]
  },
  {
   "cell_type": "code",
   "execution_count": null,
   "metadata": {},
   "outputs": [],
   "source": [
    "blackbox2 = bb.GPBlackBox(ndim=2)\n",
    "x0 = widgets.FloatSlider(\n",
    "    value=0.5,\n",
    "    min=bb.DOMAIN_MIN,\n",
    "    max=bb.DOMAIN_MAX,\n",
    "    step=0.01,\n",
    "    description='x0:',\n",
    "    readout_format='.2f',\n",
    ")\n",
    "x1 = widgets.FloatSlider(\n",
    "    value=0.5,\n",
    "    min=bb.DOMAIN_MIN,\n",
    "    max=bb.DOMAIN_MAX,\n",
    "    step=0.01,\n",
    "    description='x1:',\n",
    "    readout_format='.2f',\n",
    ")\n",
    "w = widgets.Box([x0, x1])"
   ]
  },
  {
   "cell_type": "markdown",
   "metadata": {},
   "source": [
    "Choose which input point (x0, x1) to evaluate the function at:"
   ]
  },
  {
   "cell_type": "code",
   "execution_count": null,
   "metadata": {},
   "outputs": [],
   "source": [
    "display(w)"
   ]
  },
  {
   "cell_type": "markdown",
   "metadata": {},
   "source": [
    "Evaluate the function and plot all the evaluations so far:"
   ]
  },
  {
   "cell_type": "code",
   "execution_count": null,
   "metadata": {},
   "outputs": [],
   "source": [
    "y = blackbox2([x0.value, x1.value])[0][0]\n",
    "print(f'Evaluated black box at ({x0.value}, {x1.value}); result={y}')\n",
    "blackbox2.plot_xy()"
   ]
  },
  {
   "cell_type": "markdown",
   "metadata": {},
   "source": [
    "If you have finished evaluating the function at different points and you are confident where the maximum is, you can make a guess before executing the cells below.\n",
    "\n",
    "Now show the underlying function f (without noise) as a heatmap and the noisy data we received as evaluations of it:"
   ]
  },
  {
   "cell_type": "code",
   "execution_count": null,
   "metadata": {},
   "outputs": [],
   "source": [
    "f2 = blackbox2.sample_f(51)\n",
    "chart2f = (\n",
    "    alt.Chart(f2)\n",
    "    .mark_square(size=60)\n",
    "    .encode(x=alt.X('x0:Q', scale=alt.Scale(domain=bb.DOMAIN)),\n",
    "            y=alt.Y('x1:Q', scale=alt.Scale(domain=bb.DOMAIN)),\n",
    "            color=alt.Color('f:Q', scale=alt.Scale(scheme=bb.COLOURSCHEME, domainMid=0))))\n",
    "chart2y = blackbox2.plot_xy()\n",
    "chart2 = alt.layer(chart2f, chart2y)\n",
    "chart2.properties(width=800, height=300)"
   ]
  },
  {
   "cell_type": "code",
   "execution_count": null,
   "metadata": {},
   "outputs": [],
   "source": []
  }
 ],
 "metadata": {
  "kernelspec": {
   "display_name": "Python 3",
   "language": "python",
   "name": "python3"
  },
  "language_info": {
   "codemirror_mode": {
    "name": "ipython",
    "version": 3
   },
   "file_extension": ".py",
   "mimetype": "text/x-python",
   "name": "python",
   "nbconvert_exporter": "python",
   "pygments_lexer": "ipython3",
   "version": "3.8.5"
  }
 },
 "nbformat": 4,
 "nbformat_minor": 4
}
